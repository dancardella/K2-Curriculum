{
 "cells": [
  {
   "cell_type": "code",
   "execution_count": 3,
   "metadata": {
    "collapsed": true
   },
   "outputs": [],
   "source": [
    "# Save your consumer key, consumer secret, access token, and access secret here.\n",
    "# Don't share these secrets with others!  If you're building code for Twitter which many people will share,\n",
    "# you should encrypt this information.  \n",
    "# It's also possible to generate access tokens and secrets from within an app.\n",
    "\n",
    "con_key = 'EtFDsNInHC9QutiLrpyMXqGqZ'\n",
    "con_secret = 'bRShKMijal6liURtG1jsNEyV7R9O2pgzHcqaYono9EKmaalAug'\n",
    "acc_token = '135922766-o6jioIhgKWPidpf2jnTypkQQ14ET6BMR6RDsRgkA'\n",
    "acc_secret = 'MhvgDjCpD7vKe7aGtBaXmQIPfWgcIwWoIKFNHafllLHSp'"
   ]
  },
  {
   "cell_type": "code",
   "execution_count": 4,
   "metadata": {
    "collapsed": false
   },
   "outputs": [],
   "source": [
    "#Use tweepy.OAuthHandler to create an authentication using the given key and secret\n",
    "auth = tweepy.OAuthHandler(consumer_key=con_key, consumer_secret=con_secret)\n",
    "auth.set_access_token(acc_token, acc_secret)\n",
    "\n",
    "#Connect to the Twitter API using the authentication\n",
    "api = tweepy.API(auth)"
   ]
  },
  {
   "cell_type": "code",
   "execution_count": 5,
   "metadata": {
    "collapsed": false
   },
   "outputs": [
    {
     "ename": "TweepError",
     "evalue": "Failed to send request: EOF occurred in violation of protocol (_ssl.c:590)",
     "output_type": "error",
     "traceback": [
      "\u001b[0;31m---------------------------------------------------------------------------\u001b[0m",
      "\u001b[0;31mTweepError\u001b[0m                                Traceback (most recent call last)",
      "\u001b[0;32m<ipython-input-5-87fc89caf457>\u001b[0m in \u001b[0;36m<module>\u001b[0;34m()\u001b[0m\n\u001b[1;32m      2\u001b[0m \u001b[0;31m#Our example finds recent tweets using the hashtag #datascience\u001b[0m\u001b[0;34m\u001b[0m\u001b[0;34m\u001b[0m\u001b[0m\n\u001b[1;32m      3\u001b[0m \u001b[0;34m\u001b[0m\u001b[0m\n\u001b[0;32m----> 4\u001b[0;31m \u001b[0msteelers_tweet_list\u001b[0m \u001b[0;34m=\u001b[0m \u001b[0mapi\u001b[0m\u001b[0;34m.\u001b[0m\u001b[0msearch\u001b[0m\u001b[0;34m(\u001b[0m\u001b[0mq\u001b[0m\u001b[0;34m=\u001b[0m\u001b[0;34m'#%23Steelers'\u001b[0m\u001b[0;34m)\u001b[0m \u001b[0;31m#%23 is used to specify '#'\u001b[0m\u001b[0;34m\u001b[0m\u001b[0m\n\u001b[0m\u001b[1;32m      5\u001b[0m \u001b[0;31m# , geocode= \"41.00, -80.40, 5mi\"\u001b[0m\u001b[0;34m\u001b[0m\u001b[0;34m\u001b[0m\u001b[0m\n",
      "\u001b[0;32m/Users/dancardella/Library/Enthought/Canopy_64bit/User/lib/python2.7/site-packages/tweepy/binder.pyc\u001b[0m in \u001b[0;36m_call\u001b[0;34m(*args, **kwargs)\u001b[0m\n\u001b[1;32m    243\u001b[0m             \u001b[0;32mreturn\u001b[0m \u001b[0mmethod\u001b[0m\u001b[0;34m\u001b[0m\u001b[0m\n\u001b[1;32m    244\u001b[0m         \u001b[0;32melse\u001b[0m\u001b[0;34m:\u001b[0m\u001b[0;34m\u001b[0m\u001b[0m\n\u001b[0;32m--> 245\u001b[0;31m             \u001b[0;32mreturn\u001b[0m \u001b[0mmethod\u001b[0m\u001b[0;34m.\u001b[0m\u001b[0mexecute\u001b[0m\u001b[0;34m(\u001b[0m\u001b[0;34m)\u001b[0m\u001b[0;34m\u001b[0m\u001b[0m\n\u001b[0m\u001b[1;32m    246\u001b[0m \u001b[0;34m\u001b[0m\u001b[0m\n\u001b[1;32m    247\u001b[0m     \u001b[0;31m# Set pagination mode\u001b[0m\u001b[0;34m\u001b[0m\u001b[0;34m\u001b[0m\u001b[0m\n",
      "\u001b[0;32m/Users/dancardella/Library/Enthought/Canopy_64bit/User/lib/python2.7/site-packages/tweepy/binder.pyc\u001b[0m in \u001b[0;36mexecute\u001b[0;34m(self)\u001b[0m\n\u001b[1;32m    187\u001b[0m                                                 proxies=self.api.proxy)\n\u001b[1;32m    188\u001b[0m                 \u001b[0;32mexcept\u001b[0m \u001b[0mException\u001b[0m \u001b[0;32mas\u001b[0m \u001b[0me\u001b[0m\u001b[0;34m:\u001b[0m\u001b[0;34m\u001b[0m\u001b[0m\n\u001b[0;32m--> 189\u001b[0;31m                     \u001b[0;32mraise\u001b[0m \u001b[0mTweepError\u001b[0m\u001b[0;34m(\u001b[0m\u001b[0;34m'Failed to send request: %s'\u001b[0m \u001b[0;34m%\u001b[0m \u001b[0me\u001b[0m\u001b[0;34m)\u001b[0m\u001b[0;34m\u001b[0m\u001b[0m\n\u001b[0m\u001b[1;32m    190\u001b[0m                 \u001b[0mrem_calls\u001b[0m \u001b[0;34m=\u001b[0m \u001b[0mresp\u001b[0m\u001b[0;34m.\u001b[0m\u001b[0mheaders\u001b[0m\u001b[0;34m.\u001b[0m\u001b[0mget\u001b[0m\u001b[0;34m(\u001b[0m\u001b[0;34m'x-rate-limit-remaining'\u001b[0m\u001b[0;34m)\u001b[0m\u001b[0;34m\u001b[0m\u001b[0m\n\u001b[1;32m    191\u001b[0m                 \u001b[0;32mif\u001b[0m \u001b[0mrem_calls\u001b[0m \u001b[0;32mis\u001b[0m \u001b[0;32mnot\u001b[0m \u001b[0mNone\u001b[0m\u001b[0;34m:\u001b[0m\u001b[0;34m\u001b[0m\u001b[0m\n",
      "\u001b[0;31mTweepError\u001b[0m: Failed to send request: EOF occurred in violation of protocol (_ssl.c:590)"
     ]
    }
   ],
   "source": [
    "#Use the REST API for a static search\n",
    "#Our example finds recent tweets using the hashtag #datascience\n",
    "\n",
    "steelers_tweet_list = api.search(q='#%23Steelers') #%23 is used to specify '#'\n",
    "# , geocode= \"41.00, -80.40, 5mi\""
   ]
  },
  {
   "cell_type": "code",
   "execution_count": null,
   "metadata": {
    "collapsed": false
   },
   "outputs": [],
   "source": [
    "# :( Sentiment\n",
    "steelers_tweet_list[0]"
   ]
  },
  {
   "cell_type": "code",
   "execution_count": 6,
   "metadata": {
    "collapsed": false
   },
   "outputs": [
    {
     "data": {
      "text/plain": [
       "Status(contributors=None, truncated=False, text=u'smooney9 You sure did! The 12 Days of Steelers Giveaways will start in mid-December! Stay tuned...#Steelers', is_quote_status=False, in_reply_to_status_id=None, id=803314399003942912, favorite_count=0, _api=<tweepy.api.API object at 0x104b3af90>, author=User(follow_request_sent=False, has_extended_profile=False, profile_use_background_image=True, _json={u'follow_request_sent': False, u'has_extended_profile': False, u'profile_use_background_image': True, u'default_profile_image': False, u'id': 801122507252109312, u'profile_background_image_url_https': None, u'verified': False, u'translator_type': u'none', u'profile_text_color': u'333333', u'profile_image_url_https': u'https://pbs.twimg.com/profile_images/801127182386855936/MRzntr73_normal.jpg', u'profile_sidebar_fill_color': u'DDEEF6', u'entities': {u'description': {u'urls': []}}, u'followers_count': 10, u'profile_sidebar_border_color': u'C0DEED', u'id_str': u'801122507252109312', u'profile_background_color': u'F5F8FA', u'listed_count': 0, u'is_translation_enabled': False, u'utc_offset': None, u'statuses_count': 743, u'description': u'Steelers Fan Page - Every other team bows before us! #Blitzburgh', u'friends_count': 122, u'location': u'', u'profile_link_color': u'1DA1F2', u'profile_image_url': u'http://pbs.twimg.com/profile_images/801127182386855936/MRzntr73_normal.jpg', u'following': False, u'geo_enabled': False, u'profile_banner_url': u'https://pbs.twimg.com/profile_banners/801122507252109312/1479838652', u'profile_background_image_url': None, u'screen_name': u'SteelersAlways1', u'lang': u'en', u'profile_background_tile': False, u'favourites_count': 0, u'name': u'Elijah Steelers', u'notifications': False, u'url': None, u'created_at': u'Tue Nov 22 17:57:44 +0000 2016', u'contributors_enabled': False, u'time_zone': None, u'protected': False, u'default_profile': True, u'is_translator': False}, time_zone=None, id=801122507252109312, description=u'Steelers Fan Page - Every other team bows before us! #Blitzburgh', _api=<tweepy.api.API object at 0x104b3af90>, verified=False, profile_text_color=u'333333', profile_image_url_https=u'https://pbs.twimg.com/profile_images/801127182386855936/MRzntr73_normal.jpg', profile_sidebar_fill_color=u'DDEEF6', is_translator=False, geo_enabled=False, entities={u'description': {u'urls': []}}, followers_count=10, protected=False, id_str=u'801122507252109312', default_profile_image=False, listed_count=0, lang=u'en', utc_offset=None, statuses_count=743, profile_background_color=u'F5F8FA', friends_count=122, profile_link_color=u'1DA1F2', profile_image_url=u'http://pbs.twimg.com/profile_images/801127182386855936/MRzntr73_normal.jpg', notifications=False, default_profile=True, profile_background_image_url_https=None, profile_banner_url=u'https://pbs.twimg.com/profile_banners/801122507252109312/1479838652', profile_background_image_url=None, name=u'Elijah Steelers', is_translation_enabled=False, profile_background_tile=False, favourites_count=0, screen_name=u'SteelersAlways1', url=None, created_at=datetime.datetime(2016, 11, 22, 17, 57, 44), contributors_enabled=False, location=u'', profile_sidebar_border_color=u'C0DEED', translator_type=u'none', following=False), _json={u'contributors': None, u'truncated': False, u'text': u'smooney9 You sure did! The 12 Days of Steelers Giveaways will start in mid-December! Stay tuned...#Steelers', u'is_quote_status': False, u'in_reply_to_status_id': None, u'id': 803314399003942912, u'favorite_count': 0, u'entities': {u'symbols': [], u'user_mentions': [], u'hashtags': [{u'indices': [98, 107], u'text': u'Steelers'}], u'urls': []}, u'retweeted': False, u'coordinates': None, u'source': u'<a href=\"http://ifttt.com\" rel=\"nofollow\">IFTTT</a>', u'in_reply_to_screen_name': None, u'in_reply_to_user_id': None, u'retweet_count': 0, u'id_str': u'803314399003942912', u'favorited': False, u'user': {u'follow_request_sent': False, u'has_extended_profile': False, u'profile_use_background_image': True, u'default_profile_image': False, u'id': 801122507252109312, u'profile_background_image_url_https': None, u'verified': False, u'translator_type': u'none', u'profile_text_color': u'333333', u'profile_image_url_https': u'https://pbs.twimg.com/profile_images/801127182386855936/MRzntr73_normal.jpg', u'profile_sidebar_fill_color': u'DDEEF6', u'entities': {u'description': {u'urls': []}}, u'followers_count': 10, u'profile_sidebar_border_color': u'C0DEED', u'id_str': u'801122507252109312', u'profile_background_color': u'F5F8FA', u'listed_count': 0, u'is_translation_enabled': False, u'utc_offset': None, u'statuses_count': 743, u'description': u'Steelers Fan Page - Every other team bows before us! #Blitzburgh', u'friends_count': 122, u'location': u'', u'profile_link_color': u'1DA1F2', u'profile_image_url': u'http://pbs.twimg.com/profile_images/801127182386855936/MRzntr73_normal.jpg', u'following': False, u'geo_enabled': False, u'profile_banner_url': u'https://pbs.twimg.com/profile_banners/801122507252109312/1479838652', u'profile_background_image_url': None, u'screen_name': u'SteelersAlways1', u'lang': u'en', u'profile_background_tile': False, u'favourites_count': 0, u'name': u'Elijah Steelers', u'notifications': False, u'url': None, u'created_at': u'Tue Nov 22 17:57:44 +0000 2016', u'contributors_enabled': False, u'time_zone': None, u'protected': False, u'default_profile': True, u'is_translator': False}, u'geo': None, u'in_reply_to_user_id_str': None, u'lang': u'en', u'created_at': u'Mon Nov 28 19:07:32 +0000 2016', u'in_reply_to_status_id_str': None, u'place': None, u'metadata': {u'iso_language_code': u'en', u'result_type': u'recent'}}, coordinates=None, entities={u'symbols': [], u'user_mentions': [], u'hashtags': [{u'indices': [98, 107], u'text': u'Steelers'}], u'urls': []}, in_reply_to_screen_name=None, id_str=u'803314399003942912', retweet_count=0, in_reply_to_user_id=None, favorited=False, source_url=u'http://ifttt.com', user=User(follow_request_sent=False, has_extended_profile=False, profile_use_background_image=True, _json={u'follow_request_sent': False, u'has_extended_profile': False, u'profile_use_background_image': True, u'default_profile_image': False, u'id': 801122507252109312, u'profile_background_image_url_https': None, u'verified': False, u'translator_type': u'none', u'profile_text_color': u'333333', u'profile_image_url_https': u'https://pbs.twimg.com/profile_images/801127182386855936/MRzntr73_normal.jpg', u'profile_sidebar_fill_color': u'DDEEF6', u'entities': {u'description': {u'urls': []}}, u'followers_count': 10, u'profile_sidebar_border_color': u'C0DEED', u'id_str': u'801122507252109312', u'profile_background_color': u'F5F8FA', u'listed_count': 0, u'is_translation_enabled': False, u'utc_offset': None, u'statuses_count': 743, u'description': u'Steelers Fan Page - Every other team bows before us! #Blitzburgh', u'friends_count': 122, u'location': u'', u'profile_link_color': u'1DA1F2', u'profile_image_url': u'http://pbs.twimg.com/profile_images/801127182386855936/MRzntr73_normal.jpg', u'following': False, u'geo_enabled': False, u'profile_banner_url': u'https://pbs.twimg.com/profile_banners/801122507252109312/1479838652', u'profile_background_image_url': None, u'screen_name': u'SteelersAlways1', u'lang': u'en', u'profile_background_tile': False, u'favourites_count': 0, u'name': u'Elijah Steelers', u'notifications': False, u'url': None, u'created_at': u'Tue Nov 22 17:57:44 +0000 2016', u'contributors_enabled': False, u'time_zone': None, u'protected': False, u'default_profile': True, u'is_translator': False}, time_zone=None, id=801122507252109312, description=u'Steelers Fan Page - Every other team bows before us! #Blitzburgh', _api=<tweepy.api.API object at 0x104b3af90>, verified=False, profile_text_color=u'333333', profile_image_url_https=u'https://pbs.twimg.com/profile_images/801127182386855936/MRzntr73_normal.jpg', profile_sidebar_fill_color=u'DDEEF6', is_translator=False, geo_enabled=False, entities={u'description': {u'urls': []}}, followers_count=10, protected=False, id_str=u'801122507252109312', default_profile_image=False, listed_count=0, lang=u'en', utc_offset=None, statuses_count=743, profile_background_color=u'F5F8FA', friends_count=122, profile_link_color=u'1DA1F2', profile_image_url=u'http://pbs.twimg.com/profile_images/801127182386855936/MRzntr73_normal.jpg', notifications=False, default_profile=True, profile_background_image_url_https=None, profile_banner_url=u'https://pbs.twimg.com/profile_banners/801122507252109312/1479838652', profile_background_image_url=None, name=u'Elijah Steelers', is_translation_enabled=False, profile_background_tile=False, favourites_count=0, screen_name=u'SteelersAlways1', url=None, created_at=datetime.datetime(2016, 11, 22, 17, 57, 44), contributors_enabled=False, location=u'', profile_sidebar_border_color=u'C0DEED', translator_type=u'none', following=False), geo=None, in_reply_to_user_id_str=None, lang=u'en', created_at=datetime.datetime(2016, 11, 28, 19, 7, 32), in_reply_to_status_id_str=None, place=None, source=u'IFTTT', retweeted=False, metadata={u'iso_language_code': u'en', u'result_type': u'recent'})"
      ]
     },
     "execution_count": 6,
     "metadata": {},
     "output_type": "execute_result"
    }
   ],
   "source": [
    "# :) Sentiment\n",
    "tweet_list[0]"
   ]
  },
  {
   "cell_type": "code",
   "execution_count": 17,
   "metadata": {
    "collapsed": false
   },
   "outputs": [
    {
     "ename": "IndexError",
     "evalue": "list index out of range",
     "output_type": "error",
     "traceback": [
      "\u001b[0;31m---------------------------------------------------------------------------\u001b[0m",
      "\u001b[0;31mIndexError\u001b[0m                                Traceback (most recent call last)",
      "\u001b[0;32m<ipython-input-17-467272f720a3>\u001b[0m in \u001b[0;36m<module>\u001b[0;34m()\u001b[0m\n\u001b[1;32m      1\u001b[0m \u001b[0;31m#We can use the dir command to view a list of the attributes of each tweet\u001b[0m\u001b[0;34m\u001b[0m\u001b[0;34m\u001b[0m\u001b[0m\n\u001b[1;32m      2\u001b[0m \u001b[0;34m\u001b[0m\u001b[0m\n\u001b[0;32m----> 3\u001b[0;31m \u001b[0mdir\u001b[0m\u001b[0;34m(\u001b[0m\u001b[0mtweet_list\u001b[0m\u001b[0;34m[\u001b[0m\u001b[0;36m0\u001b[0m\u001b[0;34m]\u001b[0m\u001b[0;34m)\u001b[0m\u001b[0;34m\u001b[0m\u001b[0m\n\u001b[0m",
      "\u001b[0;31mIndexError\u001b[0m: list index out of range"
     ]
    }
   ],
   "source": [
    "#We can use the dir command to view a list of the attributes of each tweet\n",
    "\n",
    "dir(tweet_list[0])"
   ]
  },
  {
   "cell_type": "code",
   "execution_count": 7,
   "metadata": {
    "collapsed": false
   },
   "outputs": [
    {
     "data": {
      "text/plain": [
       "[]"
      ]
     },
     "execution_count": 7,
     "metadata": {},
     "output_type": "execute_result"
    }
   ],
   "source": [
    "#Let's display the text of each tweet we found.\n",
    "[tweet.text for tweet in tweet_list]"
   ]
  },
  {
   "cell_type": "code",
   "execution_count": 4,
   "metadata": {
    "collapsed": false
   },
   "outputs": [],
   "source": [
    "#We create a subclass of tweepy.StreamListener to add a response to on_status\n",
    "\n",
    "class PrintingStreamListener(tweepy.StreamListener):\n",
    "\n",
    "    def on_status(self, status):\n",
    "        print(status.text)\n",
    "        \n",
    "    #disconnect the stream if we receive an error message indicating we are overloading Twitter\n",
    "    \n",
    "    def on_error(self, status_code):\n",
    "        if status_code == 420:\n",
    "            #returning False in on_data disconnects the stream\n",
    "            return False"
   ]
  },
  {
   "cell_type": "code",
   "execution_count": 5,
   "metadata": {
    "collapsed": false
   },
   "outputs": [],
   "source": [
    "#We create and authenticate an instance of our new ```PrintingStreamListener``` class\n",
    "\n",
    "my_stream_listener = PrintingStreamListener()\n",
    "my_stream = tweepy.Stream(auth = api.auth, listener=my_stream_listener)"
   ]
  },
  {
   "cell_type": "code",
   "execution_count": null,
   "metadata": {
    "collapsed": false
   },
   "outputs": [
    {
     "name": "stdout",
     "output_type": "stream",
     "text": [
      "RT @NFL: The very FIRST sack of James Harrison’s career!\n",
      "\n",
      "Now… He’s the @Steelers’ all-time leader. https://t.co/swWTQfnXWg\n",
      "#Steelers #SteelerNation #GoSteelers Hargrave Practices, Assures Hand Injury Is Mi.. #BlackAndYellow #GoSteelers https://t.co/M1UOwatHly\n",
      "@ihatejohncronce @ArmandoSalguero  and Larry Seiple saved their ASSES BIG TIMES in the playoffs to beat the Steelers with a fake punt\n",
      "Cyber Monday sale Antonio Brown STEELERS autograph 8x10 https://t.co/8G0rb51Z81 @eBay\n",
      "I'm wondering which #Steelers lineman has the responsibility of blocking Jason-Pierre Paul? As difficult a task as one can have.\n",
      "Ok Steelers game done and dusted on to the next one.\n",
      "RT @FanSided: The #Dolphins are talented, the #Steelers are dangerous and Jared Goff showed potential, says @WilliamsonNFL: https://t.co/6L…\n",
      "THE STEELERS ARE A GOOD TEAM?? https://t.co/qiQY00iRow\n",
      "RT @JFowlerESPN: Sacks could be hard to come by in Giants-Steelers. Manning sacked 13 times, tied for league low. Roethlisberger right behi…\n",
      "RT @Steel_Curtain4: Video: Time Machine -- Steelers vs. Giants '12 #Steelers https://t.co/xNFGR3E0Nw https://t.co/kdQDdP1kkq\n",
      "RT @Steel_Curtain4: Steelers currently rank 8th in the AFC. #Steelers\n",
      "RT @seangentille: Starting today, I work for the Pittsburgh Post-Gazette.\n",
      "\n",
      "Here is an explanation.\n",
      "https://t.co/DHLkUDc55p https://t.co/yET…\n",
      "RT @steelers_fanly: Steelers News: Le’Veon Bell, Antonio Brown, James Harrison #Steelers  https://t.co/bHi0hkGbhK https://t.co/ZoiYrv2TXs\n",
      "RT @Steel_Curtain4: Christmas Day has the potential to be very pleasant or very somber. It will all depend on how the Steelers-Ravens game…\n",
      "RT @Steel_Curtain4: Steelers are listed as 5.5-point favorites against the Giants. #Steelers\n",
      "RT @steelers: What does a Thanksgiving victory look like from field-level? Let us show you. 👇 https://t.co/UPEeY28ax0\n",
      "RT @NO_TATS_B: THE STEELERS ARE A GOOD TEAM?? https://t.co/qiQY00iRow\n",
      "STEELERS GOT WASHED BY THE EAGLES HAVE LOST TO THE RAVENS COWBOYS NEEDED TO BEAT BROWNS AND COLTS TO GET TO .500 BUT THEY GOOD WE SUCK LOL\n",
      "RT @Steel_Curtain4: Thankful! #Steelers https://t.co/sSb5KlM0f7\n",
      "NFL Week 13 early odds: Steelers open as big favorites over 8-3 Giants - https://t.co/mwakGXheh8… https://t.co/5qKaLgraus\n",
      "Make great things happen today #Steelers https://t.co/XxR2kcPvll\n",
      "#RT #Follow NFL Week 13 early odds: Steelers open as big favorites over 8-3 Giants - https://t.co/paKD0X0u0E… https://t.co/PPf0sPDjMb\n",
      "NFL Week 13 early odds: Steelers open as big favorites over 8-3 Giants - https://t.co/DmtkfUJ84c… https://t.co/ttrwNEkGg2\n",
      "NFL Week 13 early odds: Steelers open as big favorites over 8-3 Giants - https://t.co/GV44by2Hqr… https://t.co/aLoO97pg4a\n",
      "NFL Week 13 early odds: Steelers open as big favorites over 8-3 Giants - https://t.co/Awnrvznpbp… https://t.co/WnbxQwjmZm\n",
      "RT @Steel_Curtain4: Ben and Deebo before the Colts game! #Steelers https://t.co/cWicWDzN6l\n",
      "Steelers rookie CB Artie Burns looking forward to going up against Giants receivers https://t.co/JAVsHUB8k7 https://t.co/iRLYVfl0ev\n",
      "#RT #Follow NFL Week 13 early odds: Steelers open as big favorites over 8-3 Giants - https://t.co/HQgFS460tS… https://t.co/rU8yQW4dz4\n",
      "NFL Week 13 early odds: Steelers open as big favorites over 8-3 Giants - https://t.co/MHxPtr8uR7… https://t.co/ocfBFHtPtz\n",
      "@ihatejohncronce @ArmandoSalguero Packers 60s, Cowboys, Dolphins, Steelers, Raiders 70's\n",
      "#RT #Follow NFL Week 13 early odds: Steelers open as big favorites over 8-3 Giants - https://t.co/LoLab5UXrj… https://t.co/nFW4nNNbCw\n",
      "NFL Week 13 early odds: Steelers open as big favorites over 8-3 Giants - https://t.co/fPsQ5UeQte… https://t.co/bkvm6ldA7X\n",
      "NFL Week 13 early odds: Steelers open as big favorites over 8-3 Giants - https://t.co/lbRQBCK7Pc… https://t.co/Uv0Q1WUWDw\n",
      "RT @NO_TATS_B: THE STEELERS ARE A GOOD TEAM?? https://t.co/qiQY00iRow\n",
      "Lol the steelers were under 500 beat the browns &amp; Andrew Luck-less Colts and now niggas scared of them\n",
      "Cincinnati Bengals vs Pittsburgh Steelers Tickets 12/18/16 (Cincinnati) https://t.co/QUCzAsvZQ2 #Pittsburgh #Steelers #Football\n",
      "#RT #Follow NFL Week 13 early odds: Steelers open as big favorites over 8-3 Giants - https://t.co/LKGVwthTUp… https://t.co/zrskDOB6TF\n",
      "RT @NO_TATS_B: STEELERS GOT WASHED BY THE EAGLES HAVE LOST TO THE RAVENS COWBOYS NEEDED TO BEAT BROWNS AND COLTS TO GET TO .500 BUT THEY GO…\n",
      "RT @NFL: .@L_Bell26 bounces to the outside...\n",
      "\n",
      "Touchdown @steelers! #PITvsIND https://t.co/2jIsrMaQd1\n",
      "RT @NO_TATS_B: STEELERS GOT WASHED BY THE EAGLES HAVE LOST TO THE RAVENS COWBOYS NEEDED TO BEAT BROWNS AND COLTS TO GET TO .500 BUT THEY GO…\n",
      "RT @Steel_Curtain4: Ron Cook: Steelers have a reason to feel good today #Steelers https://t.co/haeR8m16qV\n",
      "RT @Steel_Curtain4: Best Duo in the NFL! #Steelers https://t.co/IZOuEftqf3\n",
      "How to watch Bengals vs. Steelers: Live stream, TV channel, game time How to watch Steelers vs. Bengals. https://t.co/na5VTyPwHp\n",
      "2016 Panini Donruss Elite Antonio Brown Purple SP #25/25 Steelers https://t.co/zKuHAFJNzS #Pittsburgh #Steelers #Football\n",
      "1959 Topps #176 Tom Tracy PSA 6 EX-Mint RC Rookie Steelers  https://t.co/Z8Haai3Lsc #Pittsburgh #Steelers #Football\n",
      "NEW NFL STEELERS MADDOX #8 Football Jersey ADULT (L) TAG $74.95 NOW ONLY $12.90 https://t.co/1yhUqwKNyt #Pittsburgh #Steelers #Football\n",
      "ORIGINAL 1970 APBA FOOTBALL  PITTSBURGH STEELERS TEAM SET (34) CARDS UNUSED  https://t.co/1LD4If6Tax #Pittsburgh #Steelers #Football\n",
      "1988 Topps FB Cards: Pittsburgh Steelers https://t.co/Umw1TjRJdY #Pittsburgh #Steelers #Football\n",
      "Pittsburgh Steelers Riddle NFL Mini Football Helmet 80 Seasons Rare https://t.co/kIOx0JisEu #Pittsburgh #Steelers #Football\n",
      "1982 Topps Football 1981 Pittsburgh Steelers Team Leaders #202 N MINT https://t.co/eJ15UUUUX2 #Pittsburgh #Steelers #Football\n",
      "Stunning Vintage 1976 PITTSBURGH STEELERS Thermo-Serv Handled Mug w/ Helmet LK https://t.co/rOanmCiWpS #Pittsburgh #Steelers #Football\n",
      "Pittsburgh Steelers Zip Up Jacket Sz Large https://t.co/kW7D1Jvce0 #Pittsburgh #Steelers #Football\n",
      "2014 Panini National Treasures Antonio Brown Jersey SSP #4/5 Rare Steelers https://t.co/d4k5UUuc7N #Pittsburgh #Steelers #Football\n",
      "Pittsburgh Steelers Fabric NFL wall banner https://t.co/5EyamiQK9C #Pittsburgh #Steelers #Football\n",
      "**Lot of 5** FRANCO HARRIS 1990 90 Pro Set \"MVP Collectible\" #9 - Steelers https://t.co/KIrPGEtEO3 #Pittsburgh #Steelers #Football\n",
      "2016 Panini National ANTONIO BROWN Patch 10/10 Single STEELERS Gold VIP https://t.co/yW3COa4jly #Pittsburgh #Steelers #Football\n",
      "RT @Steel_Curtain4: BOOMIN! #Steelers https://t.co/5IUMDhpuwd\n",
      "@MarcSantos5 its my 2 favorite teams but Steelers need to take this L and just win out after\n",
      "RT @Steel_Curtain4: Big Ben has a 23/7 TD/INT ratio this season so far. #Steelers\n",
      "Steelers definitely not better than the Giants https://t.co/dgaGEN0yJt\n",
      "The Giants are quite playing good football...let them beat the Steelers and that Sunday night game against the Cowboys will be interesting\n",
      "RT @NO_TATS_B: STEELERS GOT WASHED BY THE EAGLES HAVE LOST TO THE RAVENS COWBOYS NEEDED TO BEAT BROWNS AND COLTS TO GET TO .500 BUT THEY GO…\n",
      "I Will Not Tolerate Steelers Slander On My TL\n",
      "#Steelers #SteelerNation #Forum Will Beckham Jr Pick a Fight With Burns? #GoSteelers https://t.co/Pc415dOeVQ\n",
      "Their defense garbage Ben not even playing that good https://t.co/DvAnSyvHdw\n",
      "Yes they are lol and their gonna beat em this week https://t.co/NvGg2pTUUA\n",
      "RT @NFLNow: Top @NFLfantasy Performers of Week 12\n",
      "\n",
      "3. @AntonioBrown [@steelers]\n",
      "2. @MarkIngram22 [@Saints]\n",
      "1: ➡️… \n",
      "A year later, Pittsburgh #steelers are in exact same spot https://t.co/XxNDbiPArx\n",
      "Steelers bolster depth, sign former WVU RB Dreamius Smith to practice squad https://t.co/cof22dGhRZ\n",
      "Steelers bolster depth, sign former WVU RB Dreamius Smith to practice squad https://t.co/1No8SdF320\n",
      "T.Y. Hilton exits game vs. Steelers... https://t.co/vyEMBOj3ML #Craftbeer, #Indy\n",
      "Coach, I'm going to Giants vs Steelers Sunday. Any possible way you could fly me from Indy to Pittsburgh? https://t.co/jYHTKDffsN\n",
      "No team should ever overlook the Steelers...thought yom https://t.co/KD4O35lhp8\n",
      "@smb922 they beat the Steelers on Sunday, that Sunday night game against the Cowboys will be really interesting\n",
      "RT @xGjr_: Their defense garbage Ben not even playing that good https://t.co/DvAnSyvHdw\n",
      "Somebody, Push me on a #dick, please !  Let's have a chat -   https://t.co/D2G8SblVOT https://t.co/AcOhBLz63B\n",
      "RT @LWOS_Steelers: Steelers defensive youth movement \n",
      "https://t.co/dCjZ2tBYBP\n",
      "RT @ArtForYinz: 11x14\" Pittsburgh Steelers Myron Cope &amp; Terrible Towel Drawing Pr… by ArtForYinz via @Etsy #CyberMonday #art #NFL... https:…\n",
      "Lot #Steelers 2013 Rookie Auto Relic Markus Wheaton Strata, Spectra 5/5 Rc Pitt https://t.co/dlQxS4nnFZ #NFL\n",
      "RT @NO_TATS_B: STEELERS GOT WASHED BY THE EAGLES HAVE LOST TO THE RAVENS COWBOYS NEEDED TO BEAT BROWNS AND COLTS TO GET TO .500 BUT THEY GO…\n",
      "@LedyardNFLDraft Yeah I'm going to give that a crack this year. I'm so happy the Steelers got Hargrave. He was my late season draft crush.\n",
      "Browns are going to beat the Steelers In week 16, said it here first!\n",
      "RT @SOAR12steps: ADDICTION RESOURCES https://t.co/FxGaNUqOet 4Mums&amp;kids https://t.co/ZWsUsk8JeR #Steelers #dante #ilovemygirlfund #Colts #C…\n",
      "Finally healthy, TE Ladarius Green becoming a threat for the #Steelers: https://t.co/aVBEgQ2WkU https://t.co/8AyNmJtF5I\n",
      "@sportsmediaLM Sean McDermott - DC/Carolina; Harold Goodwin - OC/Cardinals; Teryl Austin - DC/Det; Keith Butler - DC/Steelers.\n",
      "@dick_nixon did you ever make amends with Don Meredith after he besmirched your character during the Steelers-Washington game?\n",
      "RT @FanSided: The #Dolphins are talented, the #Steelers are dangerous and Jared Goff showed potential, says @WilliamsonNFL: https://t.co/6L…\n",
      "Road map for #Steelers making the playoffs https://t.co/k1LLI3WM8F\n",
      "#Bengals #WhoDey #LetsRoar #Tickets Cincinnati Bengals vs Pittsburgh Steelers Tickets 12/18/16 (Cincinnati) https://t.co/knPwcHWtVb\n",
      "Good offense* https://t.co/Cj9JwpJRuq\n",
      "Good luck! \n",
      "\n",
      "Mineo's, Peppi's, Sheetz https://t.co/Y9SjtYOCB1\n",
      "RT @NFLNow: Top @NFLfantasy Performers of Week 12\n",
      "\n",
      "3. @AntonioBrown [@steelers]\n",
      "2. @MarkIngram22 [@Saints]\n",
      "1: ➡️… \n",
      "RT @SteelersUnite: And it is a marvelous looking tree! #SNUproud https://t.co/8KJ2FX05LE\n",
      "#SSRugbytv Kobelco Steelers must be laughing and sigh of relief that @Sprinboks paid for #Alistair &amp; #Proudfoot to come back to South Africa\n",
      "Steelers bolster depth, sign former WVU RB Dreamius Smith to practice squad https://t.co/Ov2xvbAIum https://t.co/FU5BAjpIxe\n",
      "#Tickets #Events Cincinnati Bengals vs Pittsburgh Steelers Tickets 12/18/16 (Cincinnati) https://t.co/OkE9D4Kd64… https://t.co/4as1rwFRYe\n",
      "#GiftIdeas  Cincinnati Bengals vs Pittsburgh Steelers Tickets 12/18/16 (Cincinnati) https://t.co/o0yNuM2YlO… https://t.co/a2PETxIkmR\n",
      "#Tickets #Events 2 Pittsburgh Steelers vs Baltimore Ravens 12/25/16 (Pittsburgh) https://t.co/3EQQ1gQfWo #Christmas #Gifts\n",
      "#GiftIdeas  2 Pittsburgh Steelers vs Baltimore Ravens 12/25/16 (Pittsburgh) https://t.co/GaiyYNV6R2 #ChristmasPresents\n",
      ".@steelers @MarkKaboly \"It was all a Dreamius, I used to read Word Up Magazinius\"\n",
      "Great American Products Pittsburgh #Steelers Glass Beverage Pitcher https://t.co/gv65Ufogfi #eBay #Auction\n",
      "Great American Products Pittsburgh #Steelers Glass Beverage Pitcher https://t.co/gqz7N1Vw4K #Bestseller #Buy https://t.co/maQjBmB5U6\n",
      "TIX https://t.co/pvgy1Q4DCb 2-Pittsburgh Steelers vs Baltimore #Ravens #Tickets https://t.co/EiZUYFyyb9 #NFL… https://t.co/mGtBNHgyE3\n",
      "Steelers 11-5\n",
      "https://t.co/WovTgKgiKI 2-Pittsburgh #Steelers vs Baltimore Ravens #Tickets https://t.co/QBijLtV9Ts\n",
      "RT @JFowlerESPN: Ben Roethlisberger was in sweats for Steelers practice Monday. Giants week is on. https://t.co/uUwNw4CJMQ\n",
      "TIX https://t.co/WovTgKxTCg PITTSBURGH #Steelers VS. BALTIMORE RAVENS 12/25/16 - 2 SEATS, GREAT… https://t.co/hPkTNNJVS6 #Tickets #Deal\n",
      "#Steelers fans Take a look at this NFL Pillow Pet, the perfect gift https://t.co/knwMkrexgs\n",
      "To the #Steelers fans, if he came cheap and clean of his issues, would you sign Josh Gordon?\n",
      "@steelers! You're No. 7 in the #NFL category with a score of 36.93. https://t.co/gHsRBvTCmR\n",
      "RT @steelcityundrgr: Road map for #Steelers making the playoffs https://t.co/k1LLI3WM8F\n",
      "RT @NFL: The very FIRST sack of James Harrison’s career!\n",
      "\n",
      "Now… He’s the @Steelers’ all-time leader. https://t.co/swWTQfnXWg\n",
      "Steelers Javon Hargrave (hand) participates in Monday's practice #TerribleTowel  https://t.co/KnnDsIri0C https://t.co/dtCSgznTcG\n",
      "When the Steelers win the Super Bowl this year &gt;&gt;&gt;&gt;&gt;&gt;\n",
      "RT @ModelRocknSport: Cyber Monday sale Antonio Brown STEELERS autograph 8x10 https://t.co/8G0rb51Z81 @eBay\n",
      "RT \" Steelers bolster depth, sign former WVU RB Dreamius Smith to practice squad https://t.co/aTz2MeHogp \"… https://t.co/CROPK2cIaT\n",
      "@officialEIHL Steelers don't respect match official\n",
      "RT @Crosbythegoat: Can our OL get some credit yet? https://t.co/o6uE9irR9p\n",
      "RT \" #Steelers Steelers bolster depth, sign former WVU RB Dreamius Smith to practice squad https://t.co/nPsgUAIdhF… https://t.co/ldTIsnbiJB\n",
      "#NFL #Football Pittsburgh #Steelers (large black) Antonio Brown #84 #Jersey https://t.co/PeAUlPaVbE #Buzz\n",
      "Enforcer Mike Mitchell making his presence felt in middle of Steelers defense https://t.co/YaTNrKgTTW https://t.co/j6Tuyajb79\n",
      "@art_stapleton how about when Antonio Brown does it for the Steelers?\n",
      "Pittsburgh #Steelers Retro #84 Antonio Brown #Jersey https://t.co/UibCjODlDC #Collectible #Buzz https://t.co/x8JxaUjx1s\n",
      "#NFL #Cards PITTSBURGH #Steelers 5 CARD AUTO JERSEY LOT BRISTER LIPPS BELL WHEATON STEWART https://t.co/bpcaFvTVl0 #Card #Football\n",
      "2016 Panini Donruss #3 Jack Ham Pittsburgh #Steelers All-Time Gridiron Kings https://t.co/gaomj6GBKD https://t.co/tfa1UxEcLy\n",
      "NFL 1993 Pinnacle [No. 354] Chuck Noll Pittsburgh Steelers Hall of Fame Card  https://t.co/SBfnzCgeLj #Pittsburgh #Steelers #Football\n",
      "ORIGINAL 1969 APBA FOOTBALL PITTSBURGH STEELERS TEAM SET (34) CARDS UNUSED  https://t.co/yc5Rw7MRiz #Pittsburgh #Steelers #Football\n",
      "1975 McDONALD'S QUARTERBACKS TERRY BRADSHAW STEELERS HOF PSA 8 F2335134-869 https://t.co/IEwNLd1zfR #Pittsburgh #Steelers #Football\n",
      "Pittsburgh Steelers 16 oz. Swirl Straw Acrylic Clear Plastic Tumbler BPA-free https://t.co/p2g18C19LB #Pittsburgh #Steelers #Football\n",
      "Pittsburgh Steelers Snowflake Patter LED Light Up Knit Hat NFL Soft-Comfortable  https://t.co/mIovXDmKqX #Pittsburgh #Steelers #Football\n",
      "Autographed Le'Veon Bell Steelers 20x24Photo Fanatics Authentic COA Item#5649337 https://t.co/CI8912zhc8 #Pittsburgh #Steelers #Football\n",
      "2012 Crown Royale Rookie Signatures Purple #24 David DeCastro 14/25 Steelers https://t.co/XPPyJacLmS #Pittsburgh #Steelers #Football\n",
      "2013 Topps Five Star Markus Wheaton Auto 2 CLR jersey RC SP #14/25 Steelers https://t.co/FIPimWk3ue #Pittsburgh #Steelers #Football\n",
      "2013 Totally Certified #231 Le'Veon Bell Rookie RC Steelers https://t.co/BUsgFQ98Tc #Pittsburgh #Steelers #Football\n",
      "1983 STEELERS POLICE JACK LAMBERT STEELERS HOF PSA 10 F2344528-385 https://t.co/I9kU09kAyD #Pittsburgh #Steelers #Football\n",
      "Bubby Brister Signed Autograph with Provenance~football card Steelers QB https://t.co/IqngeDICn9 #Pittsburgh #Steelers #Football\n",
      "NFL souvenir Fine Pewter shot glass Superbowl XL Pittsburgh Steelers Champions https://t.co/3VF4nK83q5 #Pittsburgh #Steelers #Football\n",
      "Louis Lipps Signed Autograph with Provenance~football card Steelers wide https://t.co/JRzimwwmuh #Pittsburgh #Steelers #Football\n",
      "1975 Topps #526 AFC Champs Bradshaw/Harris STEELERS EX-MT *433 https://t.co/Ah0dyO0zWg #Pittsburgh #Steelers #Football\n",
      "LYNN SWANN 8X10 COLOR PHOTO PITTSBURGH STEELERS FOOTBALL MAGAZINE PHOTO 8X10 https://t.co/gcizq6NZwp #Pittsburgh #Steelers #Football\n",
      "Pittsburgh Steelers Shield Reflector Decal / Auto Sticker *Free Shipping https://t.co/jb0Xx2Tx0V #Pittsburgh #Steelers #Football\n",
      "Reebok NFL Pittsburgh STEELERS black short  sleeve t-shirt Youth Medium 10/12 https://t.co/zWhxLJyR3S #Pittsburgh #Steelers #Football\n",
      "Girls size 12-14 Pittsburgh Steelers 7 Jersey big Ben Roethlisberger lot USED https://t.co/dKm0WNP1Hf #Pittsburgh #Steelers #Football\n",
      "Pittsburgh Steelers License Plate Clock NFL Football #1 Fan License Tin Sign. https://t.co/tIBn9YYBbS #Pittsburgh #Steelers #Football\n",
      "2015 Topps Chrome DAVID COBB #'d /50 RC Pulsar Parallel Refractor Steelers  https://t.co/xIi9rxdBqH #Pittsburgh #Steelers #Football\n",
      "Pittsburgh Steelers Neoprene Bottle Jersey Cooler NFL https://t.co/phQdavReOF #Pittsburgh #Steelers #Football\n",
      "@steelers hop on that https://t.co/8ric6aB1bW\n",
      "Much like the Steelers, Giants struggled early to get pressure on QB, but now have 11 in last 2 games; 5.5 from JPP \n",
      "\n",
      "#SteelersNation\n",
      "RT @steelers_fanly: Steelers Javon Hargrave (hand) participates in Monday's practice #TerribleTowel  https://t.co/KnnDsIri0C https://t.co/d…\n",
      "RT @NO_TATS_B: STEELERS GOT WASHED BY THE EAGLES HAVE LOST TO THE RAVENS COWBOYS NEEDED TO BEAT BROWNS AND COLTS TO GET TO .500 BUT THEY GO…\n",
      "@BraxtonHale @kamjberry I hate the steelers but don't sleep on them with the three playmakers they have\n",
      "Beat the Steelers, Bills and chargers in the winning streak. But I'm cool with being lowkey though   https://t.co/YQ4A5eJVuN\n",
      "Steelers vs Redskins Injury Report https://t.co/f4bghvsQPx\n",
      "@UKGiantsHQ I think thatbim going to take the Steelers or Lions\n",
      "For @FanRagSports: Finally healthy, TE Ladarius Green becoming a threat for Steelers - https://t.co/0XKSqbWaXJ #NFL\n",
      "RT @mvp86hinesward: Anyone interested in going to the Steelers/Ravens Game on Christmas Day? More to come...\n",
      "@smooney9 You sure did! The 12 Days of Steelers Giveaways will start in mid-December! Stay tuned...\n",
      "RT @steelcityundrgr: Road map for #Steelers making the playoffs https://t.co/k1LLI3WM8F\n",
      "#Steelers fans Take a look at this NFL Pillow Pet, the perfect gift https://t.co/jvGHsAvoal #steelers\n",
      "Everybody handles things differently. Terry Bradshaw #quote #RT #steelers\n",
      "\"wait. the pittsburgh steelers are in pennsylvania?\" -alexander mounts\n",
      "#Bengals #WhoDey #LetsRoar #Tickets Cincinnati Bengals vs Pittsburgh Steelers Tickets 12/18/16 (Cincinnati) https://t.co/2SfLBuo2C0\n",
      "SteelersUnite smooney9 You sure did! The 12 Days of Steelers Giveaways will start in mid-December! Stay tuned... #PittSteelers\n",
      "smooney9 You sure did! The 12 Days of Steelers Giveaways will start in mid-December! Stay tuned...#Steelers\n",
      "@Chris_Liss I'm still surprised. Not like the Steelers are consistently great. They're very up and down, just like the Giants.\n",
      "@SchaefDick *looks up the steelers current standings \n",
      "\n",
      "*laughs😂😂\n",
      "Boys like you, my figure? !  I'm there-   https://t.co/Je1Cm56Syo https://t.co/TuZHqq6n1z\n",
      "@AndrewSiciliano 1 issue Giants aren't winning out. At Steelers, vs Cowboys, vs Lions, @ Eagles @ redskins. Bet on them to win out Andrew?\n",
      "RT @HannahBailey311: \"wait. the pittsburgh steelers are in pennsylvania?\" -alexander mounts\n",
      "@OmarKelly I'm not completely bought in but people seem to forget that Miami derailed the steelers, the chargers, and the bills.\n",
      "RT @TheRealJeffRuby: What a division. The Ravens have no offense. The Steelers have no defense. The Bengals have no answers and the Browns…\n",
      "@Half_N_Half5 @TheDenColumbia spent thanksgiving in Indiana watching the Steelers beat the Colts #DENSGIVING\n",
      "2015 Topps Definitive Le'Veon Bell 2 CLR jersey SSP #10/10 Rare Steelers https://t.co/MRKR2G4E4b https://t.co/UlVwmthSSV\n",
      "RT @C_AdamskiTrib: Former WVU RB said: \"This is a blessing... this is one of the teams I always looked up to and admired from afar.\" https:…\n",
      "One of my coworkers bought me some steelers shades lol. I ain't took em off since."
     ]
    }
   ],
   "source": [
    "# Now, we're ready to start streaming!  We'll look for recent tweets which use the word \"data\".\n",
    "# You can pause the display of tweets by interrupting the Python kernel.\n",
    "\n",
    "nov27afternoon_trump = my_stream.filter(track=['Steelers'], languages=[\"en\"])\n",
    "#nov27afternoon_trump.filter(locations= [41.00, -80.40, 39.50, -79.00])\n",
    "#(W 80°13'00\"--W 79°46'00\"/N 40°39'00\"--N 40°13'00\")\n"
   ]
  },
  {
   "cell_type": "code",
   "execution_count": null,
   "metadata": {
    "collapsed": true
   },
   "outputs": [],
   "source": [
    "# Even if you pause the display of tweets, your stream is still connected to Twitter!\n",
    "# To disconnect (for example, if you want to change which words you are searching for), \n",
    "# use the disconnect() function.\n",
    "\n",
    "my_stream.disconnect()"
   ]
  },
  {
   "cell_type": "code",
   "execution_count": null,
   "metadata": {
    "collapsed": true
   },
   "outputs": [],
   "source": [
    "nov27afternoon_trump"
   ]
  }
 ],
 "metadata": {
  "kernelspec": {
   "display_name": "Python 2",
   "language": "python",
   "name": "python2"
  },
  "language_info": {
   "codemirror_mode": {
    "name": "ipython",
    "version": 2
   },
   "file_extension": ".py",
   "mimetype": "text/x-python",
   "name": "python",
   "nbconvert_exporter": "python",
   "pygments_lexer": "ipython2",
   "version": "2.7.10"
  }
 },
 "nbformat": 4,
 "nbformat_minor": 0
}
