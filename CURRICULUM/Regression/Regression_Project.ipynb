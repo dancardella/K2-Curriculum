{
 "cells": [
  {
   "cell_type": "code",
   "execution_count": 10,
   "metadata": {
    "collapsed": true
   },
   "outputs": [],
   "source": [
    "import sqlite3\n",
    "import pandas as pd\n",
    "import numpy as np\n",
    "import matplotlib.pyplot as plt"
   ]
  },
  {
   "cell_type": "markdown",
   "metadata": {},
   "source": [
    "The following notebook asseses statistical arbitrage behavior relative to particular long-short reversion investments.\n",
    "\n",
    "Commentary associated with the analysis can be found here:\n",
    "https://github.com/dancardella/K2-Curriculum/blob/master/CURRICULUM/Regression/Regression_Assignment.md         "
   ]
  },
  {
   "cell_type": "code",
   "execution_count": null,
   "metadata": {
    "collapsed": false
   },
   "outputs": [],
   "source": [
    "db = sqlite3.connect(\"prices_csv.sqlite\")\n",
    "fundamentals = pd.read_sql_query(\"SELECT * FROM Fundamental_Factors\", db)"
   ]
  },
  {
   "cell_type": "code",
   "execution_count": null,
   "metadata": {
    "collapsed": true
   },
   "outputs": [],
   "source": [
    "db = sqlite3.connect(\"prices_csv.sqlite\")\n",
    "stats1 = pd.read_sql_query(\"SELECT * FROM stats1\", db)"
   ]
  },
  {
   "cell_type": "code",
   "execution_count": null,
   "metadata": {
    "collapsed": false
   },
   "outputs": [],
   "source": [
    "stats1.head()\n",
    "stats1.columns\n",
    "days_diff = stats1['Days_diff']\n",
    "del(stats1['Days_diff'])\n",
    "stats1.rename(columns={'Transaction_Price':'Price', 'Transaction_Volume':'Volume',\n",
    "       'Transaction_$' : 'Amount', 'Comp':'Short'}, inplace = True)"
   ]
  },
  {
   "cell_type": "code",
   "execution_count": null,
   "metadata": {
    "collapsed": true
   },
   "outputs": [],
   "source": [
    "db = sqlite3.connect(\"prices_csv.sqlite\")\n",
    "stats2 = pd.read_sql_query(\"SELECT * FROM stats2\", db)"
   ]
  },
  {
   "cell_type": "code",
   "execution_count": null,
   "metadata": {
    "collapsed": true
   },
   "outputs": [],
   "source": [
    "db = sqlite3.connect(\"prices_csv.sqlite\")\n",
    "stats3 = pd.read_sql_query(\"SELECT * FROM stats3\", db)"
   ]
  },
  {
   "cell_type": "code",
   "execution_count": null,
   "metadata": {
    "collapsed": false
   },
   "outputs": [],
   "source": [
    "stats3.columns\n",
    "stats3_correlation = stats3['Correlation']\n",
    "del stats3['Correlation']\n",
    "stats3.head()"
   ]
  },
  {
   "cell_type": "code",
   "execution_count": null,
   "metadata": {
    "collapsed": false
   },
   "outputs": [],
   "source": [
    "# Re-indexing Stats\n",
    "cum_vol_and_prices = pd.concat([prices_ratio,cum_vol], axis =1)\n",
    "stats_combined = pd.concat([stats1,stats2, stats3])\n",
    "del(stats_combined['Day Prior'])\n",
    "stats_combined = stats_combined.reindex_axis(['Stock', 'Date', 'Price', 'Volume', 'Amount', 'Short', 'Adj_Date',\n",
    "       'Week_day', 'Day_Prior', 'Recent_Date', 'Day_Prior_Deal_Ratio'], axis=1)"
   ]
  },
  {
   "cell_type": "code",
   "execution_count": null,
   "metadata": {
    "collapsed": false
   },
   "outputs": [],
   "source": [
    "# Setting a few values\n",
    "stats_combined.loc['PE', 'Price'] = '21.37'\n",
    "stats_combined.loc['PE', 'Amount']= '438.08'\n",
    "stats_combined.loc['PE','Day_Prior_Deal_Ratio'] = '0.94767184'\n",
    "\n",
    "stats_combined.loc['SRC', 'Price'] = '11.50'\n",
    "stats_combined.loc['SRC', 'Amount']= '34.5'\n",
    "stats_combined.loc['SRC','Day_Prior_Deal_Ratio'] = '1.003'"
   ]
  },
  {
   "cell_type": "code",
   "execution_count": null,
   "metadata": {
    "collapsed": true
   },
   "outputs": [],
   "source": [
    "stats_combined = pd.read_csv(\"combined_stats.csv\")"
   ]
  },
  {
   "cell_type": "code",
   "execution_count": null,
   "metadata": {
    "collapsed": true
   },
   "outputs": [],
   "source": [
    "db = sqlite3.connect(\"prices_csv.sqlite\")\n",
    "stats_combined.to_sql('stats_combined2', db)"
   ]
  },
  {
   "cell_type": "code",
   "execution_count": null,
   "metadata": {
    "collapsed": false
   },
   "outputs": [],
   "source": [
    "stats_combined.index = stats_combined['Stock']\n",
    "del(stats_combined['Stock'])\n",
    "stats_combined"
   ]
  },
  {
   "cell_type": "code",
   "execution_count": 6,
   "metadata": {
    "collapsed": false
   },
   "outputs": [],
   "source": [
    "import pandas as pd\n",
    "fundamentals = pd.read_csv(\"Regression_Project_Fundamental_Factors.csv\")\n",
    "\n",
    "fundamentals.index = fundamentals['Company']\n",
    "del(fundamentals['Company'])"
   ]
  },
  {
   "cell_type": "code",
   "execution_count": null,
   "metadata": {
    "collapsed": true
   },
   "outputs": [],
   "source": [
    "db = sqlite3.connect(\"prices_csv.sqlite\")\n",
    "fundamentals.to_sql('fundamentals', db)"
   ]
  },
  {
   "cell_type": "code",
   "execution_count": null,
   "metadata": {
    "collapsed": false
   },
   "outputs": [],
   "source": [
    "for i, j in added_mcaps.items():\n",
    "    fundamentals.loc[i, 'market_cap'] = j\n",
    "for i, j in added_ebitdas.items():\n",
    "    fundamentals.loc[i, 'ebitda '] = j    "
   ]
  },
  {
   "cell_type": "code",
   "execution_count": null,
   "metadata": {
    "collapsed": true
   },
   "outputs": [],
   "source": [
    "dpdr=stats_combined['Day_Prior_Deal_Ratio']"
   ]
  },
  {
   "cell_type": "code",
   "execution_count": null,
   "metadata": {
    "collapsed": false
   },
   "outputs": [],
   "source": [
    "fundamentals['pricing_ratio'] = dpdr"
   ]
  },
  {
   "cell_type": "code",
   "execution_count": null,
   "metadata": {
    "collapsed": true
   },
   "outputs": [],
   "source": [
    "db = sqlite3.connect(\"prices_csv.sqlite\")\n",
    "cum_vol_prices1 = pd.read_sql_query(\"SELECT * FROM cum_vol_and_comps1\", db)"
   ]
  },
  {
   "cell_type": "code",
   "execution_count": null,
   "metadata": {
    "collapsed": false
   },
   "outputs": [],
   "source": [
    "db = sqlite3.connect(\"prices_csv.sqlite\")\n",
    "cum_vol_prices2 = pd.read_sql_query(\"SELECT * FROM cum_vol_and_comps2\", db)"
   ]
  },
  {
   "cell_type": "code",
   "execution_count": null,
   "metadata": {
    "collapsed": true
   },
   "outputs": [],
   "source": [
    "db = sqlite3.connect(\"prices_csv.sqlite\")\n",
    "cum_vol_prices3 = pd.read_sql_query(\"SELECT * FROM cum_vol_and_prices3\", db)"
   ]
  },
  {
   "cell_type": "code",
   "execution_count": null,
   "metadata": {
    "collapsed": false
   },
   "outputs": [],
   "source": [
    "cum_vol_prices1.to_csv(\"cum_vol_prices1.csv\")\n",
    "cum_vol_prices2.to_csv(\"cum_vol_prices2.csv\")\n",
    "cum_vol_prices3.to_csv(\"cum_vol_prices3.csv\")"
   ]
  },
  {
   "cell_type": "code",
   "execution_count": null,
   "metadata": {
    "collapsed": true
   },
   "outputs": [],
   "source": [
    "db = sqlite3.connect(\"prices_csv.sqlite\")\n",
    "fundamentals = pd.read_sql_query(\"SELECT * FROM fundamentals\", db)"
   ]
  },
  {
   "cell_type": "code",
   "execution_count": 608,
   "metadata": {
    "collapsed": false
   },
   "outputs": [
    {
     "data": {
      "text/html": [
       "<div>\n",
       "<table border=\"1\" class=\"dataframe\">\n",
       "  <thead>\n",
       "    <tr style=\"text-align: right;\">\n",
       "      <th></th>\n",
       "      <th>ADMS</th>\n",
       "      <th>ADPT</th>\n",
       "      <th>AKS</th>\n",
       "      <th>AM</th>\n",
       "      <th>AR</th>\n",
       "      <th>ASC</th>\n",
       "      <th>BNCN</th>\n",
       "      <th>CARA</th>\n",
       "      <th>COG</th>\n",
       "      <th>CPE</th>\n",
       "      <th>...</th>\n",
       "      <th>SRC</th>\n",
       "      <th>STKL</th>\n",
       "      <th>SWN</th>\n",
       "      <th>SYRG</th>\n",
       "      <th>TRVN</th>\n",
       "      <th>TTI</th>\n",
       "      <th>TTOO</th>\n",
       "      <th>TXMD</th>\n",
       "      <th>WGP</th>\n",
       "      <th>ZGNX</th>\n",
       "    </tr>\n",
       "    <tr>\n",
       "      <th>Vol_index</th>\n",
       "      <th></th>\n",
       "      <th></th>\n",
       "      <th></th>\n",
       "      <th></th>\n",
       "      <th></th>\n",
       "      <th></th>\n",
       "      <th></th>\n",
       "      <th></th>\n",
       "      <th></th>\n",
       "      <th></th>\n",
       "      <th></th>\n",
       "      <th></th>\n",
       "      <th></th>\n",
       "      <th></th>\n",
       "      <th></th>\n",
       "      <th></th>\n",
       "      <th></th>\n",
       "      <th></th>\n",
       "      <th></th>\n",
       "      <th></th>\n",
       "      <th></th>\n",
       "    </tr>\n",
       "  </thead>\n",
       "  <tbody>\n",
       "    <tr>\n",
       "      <th>0.0</th>\n",
       "      <td>0.76</td>\n",
       "      <td>0.85</td>\n",
       "      <td>0.90</td>\n",
       "      <td>0.86</td>\n",
       "      <td>0.99</td>\n",
       "      <td>0.87</td>\n",
       "      <td>1</td>\n",
       "      <td>1.03</td>\n",
       "      <td>0.97</td>\n",
       "      <td>1.018</td>\n",
       "      <td>...</td>\n",
       "      <td>0.96</td>\n",
       "      <td>1.05</td>\n",
       "      <td>0.91</td>\n",
       "      <td>1.02</td>\n",
       "      <td>1.13</td>\n",
       "      <td>0.88</td>\n",
       "      <td>1.07</td>\n",
       "      <td>1.06</td>\n",
       "      <td>0.88</td>\n",
       "      <td>1.01</td>\n",
       "    </tr>\n",
       "    <tr>\n",
       "      <th>0.1</th>\n",
       "      <td>0.76</td>\n",
       "      <td>0.85</td>\n",
       "      <td>0.90</td>\n",
       "      <td>0.86</td>\n",
       "      <td>0.99</td>\n",
       "      <td>0.87</td>\n",
       "      <td>1</td>\n",
       "      <td>1.03</td>\n",
       "      <td>0.97</td>\n",
       "      <td>1.018</td>\n",
       "      <td>...</td>\n",
       "      <td>0.96</td>\n",
       "      <td>1.05</td>\n",
       "      <td>0.91</td>\n",
       "      <td>1.02</td>\n",
       "      <td>1.13</td>\n",
       "      <td>0.88</td>\n",
       "      <td>1.07</td>\n",
       "      <td>1.06</td>\n",
       "      <td>0.88</td>\n",
       "      <td>1.01</td>\n",
       "    </tr>\n",
       "    <tr>\n",
       "      <th>0.2</th>\n",
       "      <td>0.76</td>\n",
       "      <td>0.85</td>\n",
       "      <td>0.90</td>\n",
       "      <td>0.86</td>\n",
       "      <td>0.99</td>\n",
       "      <td>0.87</td>\n",
       "      <td>1</td>\n",
       "      <td>1.03</td>\n",
       "      <td>0.97</td>\n",
       "      <td>1.018</td>\n",
       "      <td>...</td>\n",
       "      <td>0.96</td>\n",
       "      <td>1.05</td>\n",
       "      <td>0.91</td>\n",
       "      <td>1.02</td>\n",
       "      <td>1.13</td>\n",
       "      <td>0.88</td>\n",
       "      <td>0.96</td>\n",
       "      <td>1.06</td>\n",
       "      <td>0.88</td>\n",
       "      <td>0.93</td>\n",
       "    </tr>\n",
       "    <tr>\n",
       "      <th>0.3</th>\n",
       "      <td>0.76</td>\n",
       "      <td>0.85</td>\n",
       "      <td>0.90</td>\n",
       "      <td>0.86</td>\n",
       "      <td>0.99</td>\n",
       "      <td>0.87</td>\n",
       "      <td>1</td>\n",
       "      <td>1.03</td>\n",
       "      <td>0.97</td>\n",
       "      <td>1.018</td>\n",
       "      <td>...</td>\n",
       "      <td>0.96</td>\n",
       "      <td>1.06</td>\n",
       "      <td>0.91</td>\n",
       "      <td>1.06</td>\n",
       "      <td>1.13</td>\n",
       "      <td>0.88</td>\n",
       "      <td>0.89</td>\n",
       "      <td>1.06</td>\n",
       "      <td>0.88</td>\n",
       "      <td>0.93</td>\n",
       "    </tr>\n",
       "    <tr>\n",
       "      <th>0.4</th>\n",
       "      <td>0.76</td>\n",
       "      <td>0.85</td>\n",
       "      <td>0.90</td>\n",
       "      <td>0.86</td>\n",
       "      <td>0.99</td>\n",
       "      <td>0.87</td>\n",
       "      <td>1</td>\n",
       "      <td>1.03</td>\n",
       "      <td>0.97</td>\n",
       "      <td>1.018</td>\n",
       "      <td>...</td>\n",
       "      <td>0.96</td>\n",
       "      <td>1.06</td>\n",
       "      <td>0.91</td>\n",
       "      <td>1.06</td>\n",
       "      <td>1.13</td>\n",
       "      <td>0.88</td>\n",
       "      <td>0.89</td>\n",
       "      <td>1.06</td>\n",
       "      <td>0.88</td>\n",
       "      <td>0.93</td>\n",
       "    </tr>\n",
       "  </tbody>\n",
       "</table>\n",
       "<p>5 rows × 56 columns</p>\n",
       "</div>"
      ],
      "text/plain": [
       "           ADMS  ADPT   AKS    AM    AR   ASC BNCN  CARA   COG    CPE  ...   \\\n",
       "Vol_index                                                              ...    \n",
       "0.0        0.76  0.85  0.90  0.86  0.99  0.87    1  1.03  0.97  1.018  ...    \n",
       "0.1        0.76  0.85  0.90  0.86  0.99  0.87    1  1.03  0.97  1.018  ...    \n",
       "0.2        0.76  0.85  0.90  0.86  0.99  0.87    1  1.03  0.97  1.018  ...    \n",
       "0.3        0.76  0.85  0.90  0.86  0.99  0.87    1  1.03  0.97  1.018  ...    \n",
       "0.4        0.76  0.85  0.90  0.86  0.99  0.87    1  1.03  0.97  1.018  ...    \n",
       "\n",
       "            SRC  STKL   SWN  SYRG  TRVN   TTI  TTOO  TXMD   WGP  ZGNX  \n",
       "Vol_index                                                              \n",
       "0.0        0.96  1.05  0.91  1.02  1.13  0.88  1.07  1.06  0.88  1.01  \n",
       "0.1        0.96  1.05  0.91  1.02  1.13  0.88  1.07  1.06  0.88  1.01  \n",
       "0.2        0.96  1.05  0.91  1.02  1.13  0.88  0.96  1.06  0.88  0.93  \n",
       "0.3        0.96  1.06  0.91  1.06  1.13  0.88  0.89  1.06  0.88  0.93  \n",
       "0.4        0.96  1.06  0.91  1.06  1.13  0.88  0.89  1.06  0.88  0.93  \n",
       "\n",
       "[5 rows x 56 columns]"
      ]
     },
     "execution_count": 608,
     "metadata": {},
     "output_type": "execute_result"
    }
   ],
   "source": [
    "spread_ratios = pd.read_csv(\"spread_ratios.csv\")\n",
    "spread_ratios.replace('', np.nan, inplace=True)\n",
    "spread_ratios.replace(' ', np.nan, inplace=True)\n",
    "spread_ratios.index= spread_ratios['Vol_index']\n",
    "del(spread_ratios['Vol_index'])\n",
    "spread_ratios2 = spread_ratios.T.sort_index()\n",
    "spread_ratios= spread_ratios2.T\n",
    "spread_ratios.head()"
   ]
  },
  {
   "cell_type": "code",
   "execution_count": 609,
   "metadata": {
    "collapsed": false
   },
   "outputs": [],
   "source": [
    "for i in spread_ratios.index:\n",
    "    for col in spread_ratios.columns:\n",
    "        try:\n",
    "            tmp = float(spread_ratios.ix[i][col])\n",
    "        except Exception:\n",
    "            print(i, col)"
   ]
  },
  {
   "cell_type": "code",
   "execution_count": 610,
   "metadata": {
    "collapsed": false
   },
   "outputs": [],
   "source": [
    "for col in spread_ratios.columns:\n",
    "    spread_ratios[col]= spread_ratios[col].astype('float')    "
   ]
  },
  {
   "cell_type": "code",
   "execution_count": null,
   "metadata": {
    "collapsed": false
   },
   "outputs": [],
   "source": [
    "spread_ratios.mean(axis=1)"
   ]
  },
  {
   "cell_type": "code",
   "execution_count": null,
   "metadata": {
    "collapsed": false
   },
   "outputs": [],
   "source": [
    "#  GRAPHING spread_ratios MEAN VALUES \n",
    "import matplotlib.pyplot as plt\n",
    "%matplotlib inline\n",
    "plt.plot(spread_ratios.mean(axis=1))"
   ]
  },
  {
   "cell_type": "code",
   "execution_count": null,
   "metadata": {
    "collapsed": true
   },
   "outputs": [],
   "source": [
    "db = sqlite3.connect(\"prices_csv.sqlite\")\n",
    "prices = pd.read_sql_query(\"SELECT * FROM prices\", db)"
   ]
  },
  {
   "cell_type": "code",
   "execution_count": null,
   "metadata": {
    "collapsed": false
   },
   "outputs": [],
   "source": [
    "prices.head()\n",
    "prices.index=prices['Date']\n",
    "del(prices['index'])"
   ]
  },
  {
   "cell_type": "code",
   "execution_count": null,
   "metadata": {
    "collapsed": true
   },
   "outputs": [],
   "source": [
    "# ADDED A FEW COMPANIES\n",
    "prices_added = pd.read_csv('prices_added.csv')"
   ]
  },
  {
   "cell_type": "code",
   "execution_count": null,
   "metadata": {
    "collapsed": false
   },
   "outputs": [],
   "source": [
    "prices_added = prices_added.T\n",
    "prices_added_no_date = prices_added.T\n",
    "prices_added_t = prices_added_no_date.T              \n",
    "prices_added_t.head()\n",
    "prices_added_t.index = prices.index\n",
    "del prices_added_t['Date']\n",
    "prices_added_t.index"
   ]
  },
  {
   "cell_type": "code",
   "execution_count": null,
   "metadata": {
    "collapsed": false
   },
   "outputs": [],
   "source": [
    "combined = pd.concat([prices,prices_added_t], axis =1)\n",
    "combined= combined[:235]\n",
    "combined.head()"
   ]
  },
  {
   "cell_type": "code",
   "execution_count": null,
   "metadata": {
    "collapsed": false
   },
   "outputs": [],
   "source": [
    "db = sqlite3.connect(\"prices_csv.sqlite\")\n",
    "prices = pd.read_sql_query(\"SELECT * FROM prices3\", db)"
   ]
  },
  {
   "cell_type": "code",
   "execution_count": null,
   "metadata": {
    "collapsed": false
   },
   "outputs": [],
   "source": [
    "db = sqlite3.connect(\"prices_csv.sqlite\")\n",
    "prices3.to_sql('prices3.csv', db)"
   ]
  },
  {
   "cell_type": "code",
   "execution_count": null,
   "metadata": {
    "collapsed": false
   },
   "outputs": [],
   "source": [
    "pricess.to_csv('prices2.csv')\n",
    "prices3.to_csv('prices3.csv')"
   ]
  },
  {
   "cell_type": "code",
   "execution_count": null,
   "metadata": {
    "collapsed": false
   },
   "outputs": [],
   "source": [
    "# Ran Correlations in R (using 'cor' function) and uploading here\n",
    "cor1= pd.read_csv('prices1_correlations.csv')\n",
    "cor2= pd.read_csv('prices2_correlations.csv')\n",
    "cor3= pd.read_csv('prices3_correlations.csv')"
   ]
  },
  {
   "cell_type": "code",
   "execution_count": null,
   "metadata": {
    "collapsed": false
   },
   "outputs": [],
   "source": [
    "cor1.index = cor1['Unnamed: 0']\n",
    "del(cor1['Unnamed: 0'])\n",
    "cor1.head()"
   ]
  },
  {
   "cell_type": "code",
   "execution_count": null,
   "metadata": {
    "collapsed": true
   },
   "outputs": [],
   "source": [
    "db = sqlite3.connect(\"prices_csv.sqlite\")\n",
    "\n",
    "stats1= pd.read_sql_query(\"SELECT * FROM stats1\", db)\n",
    "stats2 = pd.read_sql_query(\"SELECT * FROM stats2\", db)\n",
    "stats3 = pd.read_sql_query(\"SELECT * FROM stats3\", db)"
   ]
  },
  {
   "cell_type": "code",
   "execution_count": null,
   "metadata": {
    "collapsed": false
   },
   "outputs": [],
   "source": [
    "stats1.index= stats1['Stock']\n",
    "del (stats1['Stock'])"
   ]
  },
  {
   "cell_type": "code",
   "execution_count": null,
   "metadata": {
    "collapsed": false
   },
   "outputs": [],
   "source": [
    "stats1.head()\n",
    "#stats1['Comp']"
   ]
  },
  {
   "cell_type": "code",
   "execution_count": null,
   "metadata": {
    "collapsed": false
   },
   "outputs": [],
   "source": [
    "comp_bucket1 = {}\n",
    "for i in stats1.index:\n",
    "    comp1 = stats1.loc[i,'Comp']   \n",
    "    comp_bucket1[i] = cor1.loc[i, comp1]\n",
    "comp_bucket1"
   ]
  },
  {
   "cell_type": "code",
   "execution_count": null,
   "metadata": {
    "collapsed": false
   },
   "outputs": [],
   "source": [
    "combined_correlation = {**comp_bucket1, **comp_bucket2, **comp_bucket3}"
   ]
  },
  {
   "cell_type": "code",
   "execution_count": null,
   "metadata": {
    "collapsed": false
   },
   "outputs": [],
   "source": [
    "comp_df = pd.DataFrame.from_dict(combined_correlation, orient=\"index\")"
   ]
  },
  {
   "cell_type": "code",
   "execution_count": null,
   "metadata": {
    "collapsed": false
   },
   "outputs": [],
   "source": [
    "spread_ratios.head()"
   ]
  },
  {
   "cell_type": "code",
   "execution_count": null,
   "metadata": {
    "collapsed": true
   },
   "outputs": [],
   "source": [
    "fundamentals['Comp_Cor'] = comp_df[0]"
   ]
  },
  {
   "cell_type": "code",
   "execution_count": null,
   "metadata": {
    "collapsed": false
   },
   "outputs": [],
   "source": [
    "db = sqlite3.connect(\"prices_csv.sqlite\")\n",
    "fundamentals.to_sql('fundamentals_', db)\n",
    "fundamentals.head()"
   ]
  },
  {
   "cell_type": "code",
   "execution_count": 8,
   "metadata": {
    "collapsed": false
   },
   "outputs": [],
   "source": [
    "db = sqlite3.connect(\"prices_csv.sqlite\")\n",
    "#fundamentals.to_sql('Fundamental_Factors', db)\n",
    "fundamentals = pd.read_sql_query(\"SELECT * FROM fundamentals_\", db)"
   ]
  },
  {
   "cell_type": "code",
   "execution_count": 13,
   "metadata": {
    "collapsed": false
   },
   "outputs": [],
   "source": [
    "fundamentals.index= fundamentals['Company']\n",
    "del(fundamentals['Company'])"
   ]
  },
  {
   "cell_type": "code",
   "execution_count": null,
   "metadata": {
    "collapsed": false
   },
   "outputs": [],
   "source": [
    "Day_Prio_DR = pd.read_csv('Day_Prio_DR.csv')"
   ]
  },
  {
   "cell_type": "code",
   "execution_count": null,
   "metadata": {
    "collapsed": false
   },
   "outputs": [],
   "source": [
    "Day_Prio_DR.index= Day_Prio_DR['Stock']\n",
    "del (Day_Prio_DR['Stock'])"
   ]
  },
  {
   "cell_type": "code",
   "execution_count": null,
   "metadata": {
    "collapsed": true
   },
   "outputs": [],
   "source": [
    "fundamentals['Company']= Day_Prio_DR"
   ]
  },
  {
   "cell_type": "code",
   "execution_count": null,
   "metadata": {
    "collapsed": false
   },
   "outputs": [],
   "source": [
    "fundamentals = fundamentals.rename(columns={'Day_Prior_DR': 'day_prior_dr'})\n",
    "fundamentals = fundamentals.rename(columns={'Comp_Cor': 'comp_cor'})"
   ]
  },
  {
   "cell_type": "code",
   "execution_count": null,
   "metadata": {
    "collapsed": true
   },
   "outputs": [],
   "source": [
    "db = sqlite3.connect(\"prices_csv.sqlite\")\n",
    "spread_ratios.to_sql('spread_ratios', db)"
   ]
  },
  {
   "cell_type": "code",
   "execution_count": null,
   "metadata": {
    "collapsed": false
   },
   "outputs": [],
   "source": [
    "spread_ratios.head()"
   ]
  },
  {
   "cell_type": "code",
   "execution_count": null,
   "metadata": {
    "collapsed": false
   },
   "outputs": [],
   "source": [
    "ror = (spread_ratios.loc[spread_ratios.index == 3.8].divide(spread_ratios.loc[spread_ratios.index == 5.1].values)-1)*100\n",
    "ror.mean(axis=1)"
   ]
  },
  {
   "cell_type": "code",
   "execution_count": null,
   "metadata": {
    "collapsed": false
   },
   "outputs": [],
   "source": [
    "fundamentals['ror'] = ror.T\n",
    "fundamentals.head()"
   ]
  },
  {
   "cell_type": "code",
   "execution_count": null,
   "metadata": {
    "collapsed": false
   },
   "outputs": [],
   "source": [
    "from pandas.tools.plotting import scatter_matrix\n",
    "scatter_matrix(fundamentals, figsize=[20,20])\n",
    "\n",
    "#plt.savefig(\"Scatter_Matrix.png\")"
   ]
  },
  {
   "cell_type": "code",
   "execution_count": null,
   "metadata": {
    "collapsed": false
   },
   "outputs": [],
   "source": [
    "import seaborn as sns\n",
    "fun_correlation= fundamentals_masked.corr()\n",
    "plt.figure(figsize=(10,10))\n",
    "sns.heatmap(fun_correlation,vmax=1, square =True, annot= True, cmap=\"viridis\")\n",
    "plt.title(\"Correlation\")\n",
    "\n",
    "plt.savefig(\"Feature_Correlation.png\")"
   ]
  },
  {
   "cell_type": "code",
   "execution_count": 539,
   "metadata": {
    "collapsed": false
   },
   "outputs": [
    {
     "data": {
      "text/html": [
       "<div>\n",
       "<table border=\"1\" class=\"dataframe\">\n",
       "  <thead>\n",
       "    <tr style=\"text-align: right;\">\n",
       "      <th>Company</th>\n",
       "      <th>AKS</th>\n",
       "      <th>AM</th>\n",
       "      <th>AR</th>\n",
       "      <th>COG</th>\n",
       "      <th>CPE</th>\n",
       "      <th>DVN</th>\n",
       "      <th>EQT</th>\n",
       "      <th>ESV</th>\n",
       "      <th>FLXN</th>\n",
       "      <th>FOXF</th>\n",
       "      <th>GPOR</th>\n",
       "      <th>MTDR</th>\n",
       "      <th>NDRM</th>\n",
       "      <th>O</th>\n",
       "      <th>QEP</th>\n",
       "      <th>QTWO</th>\n",
       "      <th>SWN</th>\n",
       "      <th>WGP</th>\n",
       "    </tr>\n",
       "    <tr>\n",
       "      <th>Vol_index</th>\n",
       "      <th></th>\n",
       "      <th></th>\n",
       "      <th></th>\n",
       "      <th></th>\n",
       "      <th></th>\n",
       "      <th></th>\n",
       "      <th></th>\n",
       "      <th></th>\n",
       "      <th></th>\n",
       "      <th></th>\n",
       "      <th></th>\n",
       "      <th></th>\n",
       "      <th></th>\n",
       "      <th></th>\n",
       "      <th></th>\n",
       "      <th></th>\n",
       "      <th></th>\n",
       "      <th></th>\n",
       "    </tr>\n",
       "  </thead>\n",
       "  <tbody>\n",
       "    <tr>\n",
       "      <th>0.0</th>\n",
       "      <td>0.9</td>\n",
       "      <td>0.86</td>\n",
       "      <td>0.99</td>\n",
       "      <td>0.97</td>\n",
       "      <td>1.018</td>\n",
       "      <td>1.01</td>\n",
       "      <td>0.96</td>\n",
       "      <td>NaN</td>\n",
       "      <td>0.9</td>\n",
       "      <td>0.91</td>\n",
       "      <td>0.93</td>\n",
       "      <td>1.03</td>\n",
       "      <td>0.96</td>\n",
       "      <td>0.98</td>\n",
       "      <td>0.82</td>\n",
       "      <td>1.07</td>\n",
       "      <td>0.91</td>\n",
       "      <td>0.88</td>\n",
       "    </tr>\n",
       "    <tr>\n",
       "      <th>0.1</th>\n",
       "      <td>0.9</td>\n",
       "      <td>0.86</td>\n",
       "      <td>0.99</td>\n",
       "      <td>0.97</td>\n",
       "      <td>1.018</td>\n",
       "      <td>1.01</td>\n",
       "      <td>0.96</td>\n",
       "      <td>NaN</td>\n",
       "      <td>0.9</td>\n",
       "      <td>0.91</td>\n",
       "      <td>0.93</td>\n",
       "      <td>1.03</td>\n",
       "      <td>0.96</td>\n",
       "      <td>0.98</td>\n",
       "      <td>0.82</td>\n",
       "      <td>1.07</td>\n",
       "      <td>0.91</td>\n",
       "      <td>0.88</td>\n",
       "    </tr>\n",
       "    <tr>\n",
       "      <th>0.2</th>\n",
       "      <td>0.9</td>\n",
       "      <td>0.86</td>\n",
       "      <td>0.99</td>\n",
       "      <td>0.97</td>\n",
       "      <td>1.018</td>\n",
       "      <td>1.01</td>\n",
       "      <td>0.96</td>\n",
       "      <td>NaN</td>\n",
       "      <td>0.9</td>\n",
       "      <td>0.91</td>\n",
       "      <td>0.93</td>\n",
       "      <td>1.03</td>\n",
       "      <td>0.96</td>\n",
       "      <td>0.98</td>\n",
       "      <td>0.82</td>\n",
       "      <td>1.07</td>\n",
       "      <td>0.91</td>\n",
       "      <td>0.88</td>\n",
       "    </tr>\n",
       "    <tr>\n",
       "      <th>0.3</th>\n",
       "      <td>0.9</td>\n",
       "      <td>0.86</td>\n",
       "      <td>0.99</td>\n",
       "      <td>0.97</td>\n",
       "      <td>1.018</td>\n",
       "      <td>1.01</td>\n",
       "      <td>0.96</td>\n",
       "      <td>NaN</td>\n",
       "      <td>0.9</td>\n",
       "      <td>0.91</td>\n",
       "      <td>0.93</td>\n",
       "      <td>1.03</td>\n",
       "      <td>0.96</td>\n",
       "      <td>0.98</td>\n",
       "      <td>0.82</td>\n",
       "      <td>1.07</td>\n",
       "      <td>0.91</td>\n",
       "      <td>0.88</td>\n",
       "    </tr>\n",
       "    <tr>\n",
       "      <th>0.4</th>\n",
       "      <td>0.9</td>\n",
       "      <td>0.86</td>\n",
       "      <td>0.99</td>\n",
       "      <td>0.97</td>\n",
       "      <td>1.018</td>\n",
       "      <td>1.01</td>\n",
       "      <td>0.96</td>\n",
       "      <td>NaN</td>\n",
       "      <td>0.9</td>\n",
       "      <td>0.91</td>\n",
       "      <td>0.93</td>\n",
       "      <td>1.03</td>\n",
       "      <td>0.96</td>\n",
       "      <td>0.98</td>\n",
       "      <td>0.82</td>\n",
       "      <td>1.07</td>\n",
       "      <td>0.91</td>\n",
       "      <td>0.88</td>\n",
       "    </tr>\n",
       "  </tbody>\n",
       "</table>\n",
       "</div>"
      ],
      "text/plain": [
       "Company    AKS    AM    AR   COG    CPE   DVN   EQT  ESV  FLXN  FOXF  GPOR  \\\n",
       "Vol_index                                                                    \n",
       "0.0        0.9  0.86  0.99  0.97  1.018  1.01  0.96  NaN   0.9  0.91  0.93   \n",
       "0.1        0.9  0.86  0.99  0.97  1.018  1.01  0.96  NaN   0.9  0.91  0.93   \n",
       "0.2        0.9  0.86  0.99  0.97  1.018  1.01  0.96  NaN   0.9  0.91  0.93   \n",
       "0.3        0.9  0.86  0.99  0.97  1.018  1.01  0.96  NaN   0.9  0.91  0.93   \n",
       "0.4        0.9  0.86  0.99  0.97  1.018  1.01  0.96  NaN   0.9  0.91  0.93   \n",
       "\n",
       "Company    MTDR  NDRM     O   QEP  QTWO   SWN   WGP  \n",
       "Vol_index                                            \n",
       "0.0        1.03  0.96  0.98  0.82  1.07  0.91  0.88  \n",
       "0.1        1.03  0.96  0.98  0.82  1.07  0.91  0.88  \n",
       "0.2        1.03  0.96  0.98  0.82  1.07  0.91  0.88  \n",
       "0.3        1.03  0.96  0.98  0.82  1.07  0.91  0.88  \n",
       "0.4        1.03  0.96  0.98  0.82  1.07  0.91  0.88  "
      ]
     },
     "execution_count": 539,
     "metadata": {},
     "output_type": "execute_result"
    }
   ],
   "source": [
    "spread_ratios_masked= spread_ratios.T.loc[fundamentals_masked.index.tolist(), :]\n",
    "spread_ratios_masked= spread_ratios_masked.T\n",
    "spread_ratios_masked.head()"
   ]
  },
  {
   "cell_type": "code",
   "execution_count": null,
   "metadata": {
    "collapsed": true
   },
   "outputs": [],
   "source": [
    "#normalized_spread_to_six =(spread_to_six_mean-spread_to_six_mean.mean())/spread_to_six_mean_std\n",
    "plt.plot(normalized_spread_to_six)"
   ]
  },
  {
   "cell_type": "code",
   "execution_count": 535,
   "metadata": {
    "collapsed": false
   },
   "outputs": [
    {
     "data": {
      "text/plain": [
       "<matplotlib.text.Text at 0x1206b58d0>"
      ]
     },
     "execution_count": 535,
     "metadata": {},
     "output_type": "execute_result"
    },
    {
     "data": {
      "image/png": "[encoded data removed]",
      "text/plain": [
       "<matplotlib.figure.Figure at 0x12065f358>"
      ]
     },
     "metadata": {},
     "output_type": "display_data"
    }
   ],
   "source": [
    "plt.plot(spread_ratios.mean(axis=1))\n",
    "plt.xlabel(\"Normalized Volume Time\")\n",
    "plt.ylabel(\"Stat Arb Spread\")\n",
    "\n",
    "#plt.savefig(\"Mean_Spread_Ratio.png\")"
   ]
  },
  {
   "cell_type": "code",
   "execution_count": null,
   "metadata": {
    "collapsed": true
   },
   "outputs": [],
   "source": [
    "spread_to_six= spread_ratios[:6.0]\n",
    "spread_to_six_mean= spread_to_six.mean(axis=1)\n",
    "spread_to_six_mean_std= spread_to_six_mean.std()"
   ]
  },
  {
   "cell_type": "code",
   "execution_count": 783,
   "metadata": {
    "collapsed": false
   },
   "outputs": [],
   "source": [
    "max_ratio = spread_ratios[setup:unwind].max(axis=0)\n",
    "max_ratio[max_ratio>1] =1\n",
    "ror_window_t= ror_window.T\n",
    "setup_ratio_series = setup_ratio[setup]\n",
    "\n",
    "maxed_out_ror = (1/setup_ratio_series[max_ratio==1]-1)*100\n",
    "maxed_out_ror = pd.DataFrame(maxed_out_ror)\n",
    "\n",
    "ror_window_t.loc[maxed_out_ror.index] = maxed_out_ror"
   ]
  },
  {
   "cell_type": "code",
   "execution_count": 638,
   "metadata": {
    "collapsed": false
   },
   "outputs": [],
   "source": [
    "setup= 2.0\n",
    "unwind= 6.0\n",
    "\n",
    "setup_ratio= spread_ratios[setup:setup].T\n",
    "fundamentals['setup_ratio'] = setup_ratio"
   ]
  },
  {
   "cell_type": "code",
   "execution_count": 786,
   "metadata": {
    "collapsed": false
   },
   "outputs": [
    {
     "data": {
      "text/html": [
       "<div>\n",
       "<table border=\"1\" class=\"dataframe\">\n",
       "  <thead>\n",
       "    <tr style=\"text-align: right;\">\n",
       "      <th></th>\n",
       "      <th>ADMS</th>\n",
       "      <th>ADPT</th>\n",
       "      <th>AKS</th>\n",
       "      <th>AM</th>\n",
       "      <th>AR</th>\n",
       "      <th>ASC</th>\n",
       "      <th>BNCN</th>\n",
       "      <th>CARA</th>\n",
       "      <th>COG</th>\n",
       "      <th>CPE</th>\n",
       "      <th>...</th>\n",
       "      <th>SRC</th>\n",
       "      <th>STKL</th>\n",
       "      <th>SWN</th>\n",
       "      <th>SYRG</th>\n",
       "      <th>TRVN</th>\n",
       "      <th>TTI</th>\n",
       "      <th>TTOO</th>\n",
       "      <th>TXMD</th>\n",
       "      <th>WGP</th>\n",
       "      <th>ZGNX</th>\n",
       "    </tr>\n",
       "    <tr>\n",
       "      <th>Vol_index</th>\n",
       "      <th></th>\n",
       "      <th></th>\n",
       "      <th></th>\n",
       "      <th></th>\n",
       "      <th></th>\n",
       "      <th></th>\n",
       "      <th></th>\n",
       "      <th></th>\n",
       "      <th></th>\n",
       "      <th></th>\n",
       "      <th></th>\n",
       "      <th></th>\n",
       "      <th></th>\n",
       "      <th></th>\n",
       "      <th></th>\n",
       "      <th></th>\n",
       "      <th></th>\n",
       "      <th></th>\n",
       "      <th></th>\n",
       "      <th></th>\n",
       "      <th></th>\n",
       "    </tr>\n",
       "  </thead>\n",
       "  <tbody>\n",
       "    <tr>\n",
       "      <th>6.0</th>\n",
       "      <td>14.473684</td>\n",
       "      <td>-25.581395</td>\n",
       "      <td>6.666667</td>\n",
       "      <td>9.859155</td>\n",
       "      <td>1.010101</td>\n",
       "      <td>20.481928</td>\n",
       "      <td>-2.912621</td>\n",
       "      <td>-17.355372</td>\n",
       "      <td>3.092784</td>\n",
       "      <td>-2.248289</td>\n",
       "      <td>...</td>\n",
       "      <td>4.166667</td>\n",
       "      <td>14.942529</td>\n",
       "      <td>9.89011</td>\n",
       "      <td>-7.216495</td>\n",
       "      <td>-3.278689</td>\n",
       "      <td>2.040816</td>\n",
       "      <td>20.481928</td>\n",
       "      <td>-16.666667</td>\n",
       "      <td>1.010101</td>\n",
       "      <td>0.0</td>\n",
       "    </tr>\n",
       "  </tbody>\n",
       "</table>\n",
       "<p>1 rows × 56 columns</p>\n",
       "</div>"
      ],
      "text/plain": [
       "                ADMS       ADPT       AKS        AM        AR        ASC  \\\n",
       "Vol_index                                                                  \n",
       "6.0        14.473684 -25.581395  6.666667  9.859155  1.010101  20.481928   \n",
       "\n",
       "               BNCN       CARA       COG       CPE  ...        SRC       STKL  \\\n",
       "Vol_index                                           ...                         \n",
       "6.0       -2.912621 -17.355372  3.092784 -2.248289  ...   4.166667  14.942529   \n",
       "\n",
       "               SWN      SYRG      TRVN       TTI       TTOO       TXMD  \\\n",
       "Vol_index                                                                \n",
       "6.0        9.89011 -7.216495 -3.278689  2.040816  20.481928 -16.666667   \n",
       "\n",
       "                WGP  ZGNX  \n",
       "Vol_index                  \n",
       "6.0        1.010101   0.0  \n",
       "\n",
       "[1 rows x 56 columns]"
      ]
     },
     "execution_count": 786,
     "metadata": {},
     "output_type": "execute_result"
    }
   ],
   "source": [
    "def vol_window(setup, unwind):\n",
    "    ror_window = (spread_ratios.loc[spread_ratios.index == unwind].divide(spread_ratios.loc[spread_ratios.index == setup].values)-1)*100\n",
    "    max_ratio = spread_ratios[setup:unwind].max(axis=0)\n",
    "    max_ratio[max_ratio>1] =1\n",
    "    ror_window_t= ror_window.T\n",
    "    setup_ratio_series = setup_ratio[setup]\n",
    "\n",
    "    maxed_out_ror = (1/setup_ratio_series[max_ratio==1]-1)*100\n",
    "    maxed_out_ror = pd.DataFrame(maxed_out_ror)\n",
    "\n",
    "    ror_window_t.loc[maxed_out_ror.index] = maxed_out_ror    \n",
    "    ror_window= ror_window_t.T\n",
    "    return (ror_window)\n",
    "\n",
    "ror_window= vol_window(setup, unwind)      "
   ]
  },
  {
   "cell_type": "code",
   "execution_count": 820,
   "metadata": {
    "collapsed": false
   },
   "outputs": [
    {
     "data": {
      "text/plain": [
       "Vol_index\n",
       "6.0    99.133087\n",
       "dtype: float64"
      ]
     },
     "execution_count": 820,
     "metadata": {},
     "output_type": "execute_result"
    }
   ],
   "source": [
    "len(ror_window.T)\n",
    "ror_window.T.sum()"
   ]
  },
  {
   "cell_type": "code",
   "execution_count": null,
   "metadata": {
    "collapsed": false
   },
   "outputs": [],
   "source": [
    "#setup_ratio= spread_ratios[setup:setup].T\n",
    "fundamentals['setup_ratio'] = setup_ratio"
   ]
  },
  {
   "cell_type": "code",
   "execution_count": 827,
   "metadata": {
    "collapsed": false
   },
   "outputs": [
    {
     "data": {
      "text/html": [
       "<div>\n",
       "<table border=\"1\" class=\"dataframe\">\n",
       "  <thead>\n",
       "    <tr style=\"text-align: right;\">\n",
       "      <th></th>\n",
       "      <th>ADMS</th>\n",
       "      <th>ADPT</th>\n",
       "      <th>AKS</th>\n",
       "      <th>AM</th>\n",
       "      <th>AR</th>\n",
       "      <th>ASC</th>\n",
       "      <th>BNCN</th>\n",
       "      <th>CARA</th>\n",
       "      <th>COG</th>\n",
       "      <th>CPE</th>\n",
       "      <th>...</th>\n",
       "      <th>SRC</th>\n",
       "      <th>STKL</th>\n",
       "      <th>SWN</th>\n",
       "      <th>SYRG</th>\n",
       "      <th>TRVN</th>\n",
       "      <th>TTI</th>\n",
       "      <th>TTOO</th>\n",
       "      <th>TXMD</th>\n",
       "      <th>WGP</th>\n",
       "      <th>ZGNX</th>\n",
       "    </tr>\n",
       "    <tr>\n",
       "      <th>Vol_index</th>\n",
       "      <th></th>\n",
       "      <th></th>\n",
       "      <th></th>\n",
       "      <th></th>\n",
       "      <th></th>\n",
       "      <th></th>\n",
       "      <th></th>\n",
       "      <th></th>\n",
       "      <th></th>\n",
       "      <th></th>\n",
       "      <th></th>\n",
       "      <th></th>\n",
       "      <th></th>\n",
       "      <th></th>\n",
       "      <th></th>\n",
       "      <th></th>\n",
       "      <th></th>\n",
       "      <th></th>\n",
       "      <th></th>\n",
       "      <th></th>\n",
       "      <th></th>\n",
       "    </tr>\n",
       "  </thead>\n",
       "  <tbody>\n",
       "    <tr>\n",
       "      <th>6.0</th>\n",
       "      <td>14.473684</td>\n",
       "      <td>-25.581395</td>\n",
       "      <td>6.666667</td>\n",
       "      <td>9.859155</td>\n",
       "      <td>1.010101</td>\n",
       "      <td>20.481928</td>\n",
       "      <td>-2.912621</td>\n",
       "      <td>-17.355372</td>\n",
       "      <td>3.092784</td>\n",
       "      <td>-2.248289</td>\n",
       "      <td>...</td>\n",
       "      <td>4.166667</td>\n",
       "      <td>14.942529</td>\n",
       "      <td>9.89011</td>\n",
       "      <td>-7.216495</td>\n",
       "      <td>-3.278689</td>\n",
       "      <td>2.040816</td>\n",
       "      <td>20.481928</td>\n",
       "      <td>-16.666667</td>\n",
       "      <td>1.010101</td>\n",
       "      <td>0.0</td>\n",
       "    </tr>\n",
       "  </tbody>\n",
       "</table>\n",
       "<p>1 rows × 56 columns</p>\n",
       "</div>"
      ],
      "text/plain": [
       "                ADMS       ADPT       AKS        AM        AR        ASC  \\\n",
       "Vol_index                                                                  \n",
       "6.0        14.473684 -25.581395  6.666667  9.859155  1.010101  20.481928   \n",
       "\n",
       "               BNCN       CARA       COG       CPE  ...        SRC       STKL  \\\n",
       "Vol_index                                           ...                         \n",
       "6.0       -2.912621 -17.355372  3.092784 -2.248289  ...   4.166667  14.942529   \n",
       "\n",
       "               SWN      SYRG      TRVN       TTI       TTOO       TXMD  \\\n",
       "Vol_index                                                                \n",
       "6.0        9.89011 -7.216495 -3.278689  2.040816  20.481928 -16.666667   \n",
       "\n",
       "                WGP  ZGNX  \n",
       "Vol_index                  \n",
       "6.0        1.010101   0.0  \n",
       "\n",
       "[1 rows x 56 columns]"
      ]
     },
     "execution_count": 827,
     "metadata": {},
     "output_type": "execute_result"
    }
   ],
   "source": [
    "ror_window\n",
    "#fundamentals.head()"
   ]
  },
  {
   "cell_type": "code",
   "execution_count": 798,
   "metadata": {
    "collapsed": false
   },
   "outputs": [],
   "source": [
    "# SETTING ror_window\n",
    "fundamentals['ror'] = ror_window.T\n",
    "#fundamentals.to_csv('fundamentals.csv')\n",
    "#fundamentals_masked.to_csv('fundamentals_masked.csv')"
   ]
  },
  {
   "cell_type": "code",
   "execution_count": 829,
   "metadata": {
    "collapsed": false
   },
   "outputs": [
    {
     "data": {
      "text/plain": [
       "20"
      ]
     },
     "execution_count": 829,
     "metadata": {},
     "output_type": "execute_result"
    }
   ],
   "source": [
    "def fun_masking(market_cap,editda,day_prior_dr,comp_cor): \n",
    "    fundamentals_masked = fundamentals[fundamentals['comp_cor']>comp_cor]\n",
    "    fundamentals_masked = fundamentals_masked[fundamentals_masked['ror'] !=0]\n",
    "    fundamentals_masked = fundamentals_masked[fundamentals_masked['market_cap'] >market_cap]\n",
    "    fundamentals_masked = fundamentals_masked[fundamentals_masked['editda'] >editda]\n",
    "    fundamentals_masked = fundamentals_masked[fundamentals_masked['day_prior_dr'] <day_prior_dr]    \n",
    "    return (fundamentals_masked)\n",
    "fundamentals_masked= fun_masking(market_cap=.3,editda=-2,day_prior_dr=1,comp_cor=.7)\n",
    "len(fundamentals_masked)"
   ]
  },
  {
   "cell_type": "code",
   "execution_count": 830,
   "metadata": {
    "collapsed": false
   },
   "outputs": [],
   "source": [
    "import statsmodels.api as sm\n",
    "lm = sm.OLS.from_formula('ror ~ editda+day_prior_dr+comp_cor+setup_ratio', fundamentals_masked)\n",
    "result = lm.fit()"
   ]
  },
  {
   "cell_type": "code",
   "execution_count": 831,
   "metadata": {
    "collapsed": false
   },
   "outputs": [
    {
     "name": "stdout",
     "output_type": "stream",
     "text": [
      "                            OLS Regression Results                            \n",
      "==============================================================================\n",
      "Dep. Variable:                    ror   R-squared:                       0.653\n",
      "Model:                            OLS   Adj. R-squared:                  0.554\n",
      "Method:                 Least Squares   F-statistic:                     6.585\n",
      "Date:                Mon, 17 Apr 2017   Prob (F-statistic):            0.00338\n",
      "Time:                        20:02:18   Log-Likelihood:                -56.169\n",
      "No. Observations:                  19   AIC:                             122.3\n",
      "Df Residuals:                      14   BIC:                             127.1\n",
      "Df Model:                           4                                         \n",
      "Covariance Type:            nonrobust                                         \n",
      "================================================================================\n",
      "                   coef    std err          t      P>|t|      [95.0% Conf. Int.]\n",
      "--------------------------------------------------------------------------------\n",
      "Intercept       60.7553     43.532      1.396      0.185       -32.612   154.123\n",
      "editda           2.2619      2.350      0.962      0.352        -2.779     7.303\n",
      "day_prior_dr     5.0077     40.997      0.122      0.905       -82.922    92.937\n",
      "comp_cor        -4.2603     20.281     -0.210      0.837       -47.759    39.238\n",
      "setup_ratio    -63.1719     13.622     -4.638      0.000       -92.388   -33.956\n",
      "==============================================================================\n",
      "Omnibus:                        7.185   Durbin-Watson:                   2.508\n",
      "Prob(Omnibus):                  0.028   Jarque-Bera (JB):                4.513\n",
      "Skew:                          -1.075   Prob(JB):                        0.105\n",
      "Kurtosis:                       4.039   Cond. No.                         89.6\n",
      "==============================================================================\n",
      "\n",
      "Warnings:\n",
      "[1] Standard Errors assume that the covariance matrix of the errors is correctly specified.\n"
     ]
    },
    {
     "name": "stderr",
     "output_type": "stream",
     "text": [
      "/Users/anaconda/lib/python3.5/site-packages/scipy/stats/stats.py:1327: UserWarning: kurtosistest only valid for n>=20 ... continuing anyway, n=19\n",
      "  \"anyway, n=%i\" % int(n))\n"
     ]
    }
   ],
   "source": [
    "# Not the best R^2 but about as expected...only day_prior_dr coeeficient statistically significant. \n",
    "# Conclusion: Try another model\n",
    "print (result.summary())"
   ]
  },
  {
   "cell_type": "code",
   "execution_count": 832,
   "metadata": {
    "collapsed": false
   },
   "outputs": [
    {
     "data": {
      "text/plain": [
       "<matplotlib.axes._subplots.AxesSubplot at 0x121603a20>"
      ]
     },
     "execution_count": 832,
     "metadata": {},
     "output_type": "execute_result"
    },
    {
     "data": {
      "image/png": "[encoded data removed]",
      "text/plain": [
       "<matplotlib.figure.Figure at 0x1215f52b0>"
      ]
     },
     "metadata": {},
     "output_type": "display_data"
    }
   ],
   "source": [
    "# Concern here with this trend ... I've got work to do here\n",
    "fitted_values = pd.Series(result.fittedvalues, name=\"Fitted Values\")\n",
    "residuals = pd.Series(result.resid, name=\"Residuals\")\n",
    "sns.regplot(fitted_values, residuals, fit_reg=False)"
   ]
  },
  {
   "cell_type": "code",
   "execution_count": 802,
   "metadata": {
    "collapsed": false
   },
   "outputs": [
    {
     "data": {
      "text/plain": [
       "Company\n",
       "RLGT   -21.180680\n",
       "NDRM   -16.372633\n",
       "CARA   -16.278967\n",
       "FLXN    -8.131588\n",
       "CPE     -3.717675\n",
       "AR       0.193043\n",
       "O        0.217656\n",
       "COG      0.782646\n",
       "WGP      0.827213\n",
       "PE       1.167014\n",
       "GNCA     1.311310\n",
       "MTDR     1.534783\n",
       "GPOR     1.753017\n",
       "EQT      2.917448\n",
       "SABR     3.956013\n",
       "SWN      5.247539\n",
       "DVN      5.468997\n",
       "AKS      5.819781\n",
       "QTWO     7.221060\n",
       "FOXF     8.447537\n",
       "QEP      8.830123\n",
       "HES      9.687249\n",
       "ASC     12.560038\n",
       "AM      20.617811\n",
       "Name: Fitted Values, dtype: float64"
      ]
     },
     "execution_count": 802,
     "metadata": {},
     "output_type": "execute_result"
    }
   ],
   "source": [
    "fitted_values.sort_values()"
   ]
  },
  {
   "cell_type": "code",
   "execution_count": 803,
   "metadata": {
    "collapsed": false
   },
   "outputs": [
    {
     "data": {
      "text/plain": [
       "<matplotlib.axes._subplots.AxesSubplot at 0x120b8ff28>"
      ]
     },
     "execution_count": 803,
     "metadata": {},
     "output_type": "execute_result"
    },
    {
     "data": {
      "image/png": "[encoded data removed]",
      "text/plain": [
       "<matplotlib.figure.Figure at 0x121c81780>"
      ]
     },
     "metadata": {},
     "output_type": "display_data"
    }
   ],
   "source": [
    "# At least one leverage point\n",
    "from statsmodels.stats.outliers_influence import OLSInfluence\n",
    "leverage = pd.Series(OLSInfluence(result).influence, name = \"Leverage\")\n",
    "sns.regplot(leverage, residuals,  fit_reg=False)"
   ]
  },
  {
   "cell_type": "markdown",
   "metadata": {},
   "source": [
    "Next Steps:\n",
    "    1. Investigate the patter within the Residuals vs Fitted Values plot to determine explore model improvements\n",
    "    2. Add additional observations (n)\n",
    "    3. Refine Feature Selection dropping the non-statistically significant terms and adding others\n",
    "    4. Detail Comments within this Notebook"
   ]
  }
 ],
 "metadata": {
  "anaconda-cloud": {},
  "kernelspec": {
   "display_name": "Python [conda root]",
   "language": "python",
   "name": "conda-root-py"
  },
  "language_info": {
   "codemirror_mode": {
    "name": "ipython",
    "version": 3
   },
   "file_extension": ".py",
   "mimetype": "text/x-python",
   "name": "python",
   "nbconvert_exporter": "python",
   "pygments_lexer": "ipython3",
   "version": "3.5.2"
  }
 },
 "nbformat": 4,
 "nbformat_minor": 1
}
