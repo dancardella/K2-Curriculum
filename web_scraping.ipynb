{
 "cells": [
  {
   "cell_type": "code",
   "execution_count": 1,
   "metadata": {
    "collapsed": true
   },
   "outputs": [],
   "source": [
    "import requests\n",
    "from bs4 import BeautifulSoup"
   ]
  },
  {
   "cell_type": "code",
   "execution_count": 3,
   "metadata": {
    "collapsed": false
   },
   "outputs": [],
   "source": [
    "page = requests.get(\"http://forecast.weather.gov/MapClick.php?lat=40.7142&lon=-74.0059#.WFXP_KIrLow\")\n",
    "soup = BeautifulSoup(page.content, 'html.parser')"
   ]
  },
  {
   "cell_type": "code",
   "execution_count": 43,
   "metadata": {
    "collapsed": false
   },
   "outputs": [
    {
     "data": {
      "text/plain": [
       "<div class=\"panel panel-default\" id=\"seven-day-forecast\">\n",
       "<div class=\"panel-heading\">\n",
       "<b>Extended Forecast for</b>\n",
       "<h2 class=\"panel-title\">\n",
       "\t    \t    New York NY\t</h2>\n",
       "</div>\n",
       "<div class=\"panel-body\" id=\"seven-day-forecast-body\">\n",
       "<div id=\"seven-day-forecast-container\"><ul class=\"list-unstyled\" id=\"seven-day-forecast-list\"><li class=\"forecast-tombstone\">\n",
       "<div class=\"tombstone-container\">\n",
       "<p class=\"period-name\">Tonight<br><br/></br></p>\n",
       "<p><img alt=\"Tonight: Patchy drizzle and fog with a chance of light rain, mainly after 9pm.  Cloudy, with a temperature rising to around 47 by 5am. Wind chill values between 30 and 35. South wind 8 to 15 mph. \" class=\"forecast-icon\" src=\"DualImage.php?i=nra&amp;j=nra&amp;ip=20&amp;jp=50\" title=\"Tonight: Patchy drizzle and fog with a chance of light rain, mainly after 9pm.  Cloudy, with a temperature rising to around 47 by 5am. Wind chill values between 30 and 35. South wind 8 to 15 mph. \"/></p><p class=\"short-desc\">Chance Light<br>Rain and<br>Patchy Fog</br></br></p><p class=\"temp temp-low\">Low: 37 °F<span style=\"color: #000000; font-weight:normal;\">⇑</span></p></div></li><li class=\"forecast-tombstone\">\n",
       "<div class=\"tombstone-container\">\n",
       "<p class=\"period-name\">Sunday<br><br/></br></p>\n",
       "<p><img alt=\"Sunday: Rain, mainly before 5pm.  Patchy fog before 10am. Temperature rising to near 55 by 11am, then falling to around 45 during the remainder of the day. Southwest wind 16 to 18 mph becoming northwest in the afternoon. Winds could gust as high as 28 mph.  Chance of precipitation is 80%. New precipitation amounts between a quarter and half of an inch possible. \" class=\"forecast-icon\" src=\"newimages/medium/ra80.png\" title=\"Sunday: Rain, mainly before 5pm.  Patchy fog before 10am. Temperature rising to near 55 by 11am, then falling to around 45 during the remainder of the day. Southwest wind 16 to 18 mph becoming northwest in the afternoon. Winds could gust as high as 28 mph.  Chance of precipitation is 80%. New precipitation amounts between a quarter and half of an inch possible. \"/></p><p class=\"short-desc\">Rain and<br>Patchy Fog</br></p><p class=\"temp temp-high\">High: 55 °F<span style=\"color: #000000; font-weight:normal;\">⇓</span></p></div></li><li class=\"forecast-tombstone\">\n",
       "<div class=\"tombstone-container\">\n",
       "<p class=\"period-name\">Sunday<br>Night</br></p>\n",
       "<p><img alt=\"Sunday Night: Cloudy, then gradually becoming partly cloudy, with a low around 25. Wind chill values between 15 and 20. Northwest wind 11 to 16 mph. \" class=\"forecast-icon\" src=\"newimages/medium/nbkn.png\" title=\"Sunday Night: Cloudy, then gradually becoming partly cloudy, with a low around 25. Wind chill values between 15 and 20. Northwest wind 11 to 16 mph. \"/></p><p class=\"short-desc\">Decreasing<br>Clouds</br></p><p class=\"temp temp-low\">Low: 25 °F</p></div></li><li class=\"forecast-tombstone\">\n",
       "<div class=\"tombstone-container\">\n",
       "<p class=\"period-name\">Monday<br><br/></br></p>\n",
       "<p><img alt=\"Monday: Sunny, with a high near 32. Wind chill values between 15 and 25. North wind 8 to 10 mph. \" class=\"forecast-icon\" src=\"newimages/medium/few.png\" title=\"Monday: Sunny, with a high near 32. Wind chill values between 15 and 25. North wind 8 to 10 mph. \"/></p><p class=\"short-desc\">Sunny</p><p class=\"temp temp-high\">High: 32 °F</p></div></li><li class=\"forecast-tombstone\">\n",
       "<div class=\"tombstone-container\">\n",
       "<p class=\"period-name\">Monday<br>Night</br></p>\n",
       "<p><img alt=\"Monday Night: Partly cloudy, with a low around 24. North wind 3 to 7 mph. \" class=\"forecast-icon\" src=\"newimages/medium/nsct.png\" title=\"Monday Night: Partly cloudy, with a low around 24. North wind 3 to 7 mph. \"/></p><p class=\"short-desc\">Partly Cloudy</p><p class=\"temp temp-low\">Low: 24 °F</p></div></li><li class=\"forecast-tombstone\">\n",
       "<div class=\"tombstone-container\">\n",
       "<p class=\"period-name\">Tuesday<br><br/></br></p>\n",
       "<p><img alt=\"Tuesday: Mostly sunny, with a high near 36.\" class=\"forecast-icon\" src=\"newimages/medium/sct.png\" title=\"Tuesday: Mostly sunny, with a high near 36.\"/></p><p class=\"short-desc\">Mostly Sunny</p><p class=\"temp temp-high\">High: 36 °F</p></div></li><li class=\"forecast-tombstone\">\n",
       "<div class=\"tombstone-container\">\n",
       "<p class=\"period-name\">Tuesday<br>Night</br></p>\n",
       "<p><img alt=\"Tuesday Night: Partly cloudy, with a low around 29.\" class=\"forecast-icon\" src=\"newimages/medium/nsct.png\" title=\"Tuesday Night: Partly cloudy, with a low around 29.\"/></p><p class=\"short-desc\">Partly Cloudy</p><p class=\"temp temp-low\">Low: 29 °F</p></div></li><li class=\"forecast-tombstone\">\n",
       "<div class=\"tombstone-container\">\n",
       "<p class=\"period-name\">Wednesday<br><br/></br></p>\n",
       "<p><img alt=\"Wednesday: Mostly sunny, with a high near 45.\" class=\"forecast-icon\" src=\"newimages/medium/sct.png\" title=\"Wednesday: Mostly sunny, with a high near 45.\"/></p><p class=\"short-desc\">Mostly Sunny</p><p class=\"temp temp-high\">High: 45 °F</p></div></li><li class=\"forecast-tombstone\">\n",
       "<div class=\"tombstone-container\">\n",
       "<p class=\"period-name\">Wednesday<br>Night</br></p>\n",
       "<p><img alt=\"Wednesday Night: Mostly cloudy, with a low around 34.\" class=\"forecast-icon\" src=\"newimages/medium/nbkn.png\" title=\"Wednesday Night: Mostly cloudy, with a low around 34.\"/></p><p class=\"short-desc\">Mostly Cloudy</p><p class=\"temp temp-low\">Low: 34 °F</p></div></li></ul></div>\n",
       "<script type=\"text/javascript\">\n",
       "// equalize forecast heights\n",
       "$(function () {\n",
       "\tvar maxh = 0;\n",
       "\t$(\".forecast-tombstone .short-desc\").each(function () {\n",
       "\t\tvar h = $(this).height();\n",
       "\t\tif (h > maxh) { maxh = h; }\n",
       "\t});\n",
       "\t$(\".forecast-tombstone .short-desc\").height(maxh);\n",
       "});\n",
       "</script> </div>\n",
       "</div>"
      ]
     },
     "execution_count": 43,
     "metadata": {},
     "output_type": "execute_result"
    }
   ],
   "source": [
    "seven_day = soup.find(id=\"seven-day-forecast\")\n",
    "seven_day"
   ]
  },
  {
   "cell_type": "code",
   "execution_count": 13,
   "metadata": {
    "collapsed": false
   },
   "outputs": [
    {
     "data": {
      "text/plain": [
       "'Tonight'"
      ]
     },
     "execution_count": 13,
     "metadata": {},
     "output_type": "execute_result"
    }
   ],
   "source": [
    "all_forecasts = seven_day.find_all(class_= \"tombstone-container\")\n",
    "today = all_forecasts[0]\n",
    "period = today.find(class_ =\"period-name\").get_text()\n",
    "period"
   ]
  },
  {
   "cell_type": "code",
   "execution_count": 15,
   "metadata": {
    "collapsed": false
   },
   "outputs": [
    {
     "data": {
      "text/plain": [
       "'Chance LightRain andPatchy Fog'"
      ]
     },
     "execution_count": 15,
     "metadata": {},
     "output_type": "execute_result"
    }
   ],
   "source": [
    "short_desc = today.find(class_ =\"short-desc\").get_text()\n",
    "short_desc"
   ]
  },
  {
   "cell_type": "code",
   "execution_count": 16,
   "metadata": {
    "collapsed": false
   },
   "outputs": [
    {
     "data": {
      "text/plain": [
       "'Low: 37 °F⇑'"
      ]
     },
     "execution_count": 16,
     "metadata": {},
     "output_type": "execute_result"
    }
   ],
   "source": [
    "temp = today.find(class_ =\"temp temp-low\").get_text()\n",
    "temp"
   ]
  },
  {
   "cell_type": "code",
   "execution_count": 21,
   "metadata": {
    "collapsed": false
   },
   "outputs": [
    {
     "data": {
      "text/plain": [
       "['Low: 37 °F⇑',\n",
       " 'High: 55 °F⇓',\n",
       " 'Low: 25 °F',\n",
       " 'High: 32 °F',\n",
       " 'Low: 24 °F',\n",
       " 'High: 36 °F',\n",
       " 'Low: 29 °F',\n",
       " 'High: 45 °F',\n",
       " 'Low: 34 °F']"
      ]
     },
     "execution_count": 21,
     "metadata": {},
     "output_type": "execute_result"
    }
   ],
   "source": [
    "temps = [t.get_text() for t in seven_day.select (\".tombstone-container .temp\")]\n",
    "temps"
   ]
  },
  {
   "cell_type": "code",
   "execution_count": 33,
   "metadata": {
    "collapsed": false
   },
   "outputs": [
    {
     "data": {
      "text/plain": [
       "37"
      ]
     },
     "execution_count": 33,
     "metadata": {},
     "output_type": "execute_result"
    }
   ],
   "source": [
    "import re\n",
    "\n",
    "\n",
    "int(re.findall(\"[\\d]+\", temp)[0])"
   ]
  },
  {
   "cell_type": "code",
   "execution_count": 39,
   "metadata": {
    "collapsed": false
   },
   "outputs": [
    {
     "data": {
      "text/plain": [
       "[37, 55, 25, 32, 24, 36, 29, 45, 34]"
      ]
     },
     "execution_count": 39,
     "metadata": {},
     "output_type": "execute_result"
    }
   ],
   "source": [
    "num_temps =[(lambda x: int(re.findall(\"[\\d]+\", x)[0])) (t.get_text()) for t in seven_day.select (\".tombstone-container .temp\")]\n",
    "num_temps"
   ]
  },
  {
   "cell_type": "code",
   "execution_count": 45,
   "metadata": {
    "collapsed": false
   },
   "outputs": [
    {
     "data": {
      "text/plain": [
       "['Tonight',\n",
       " 'Sunday',\n",
       " 'SundayNight',\n",
       " 'Monday',\n",
       " 'MondayNight',\n",
       " 'Tuesday',\n",
       " 'TuesdayNight',\n",
       " 'Wednesday',\n",
       " 'WednesdayNight']"
      ]
     },
     "execution_count": 45,
     "metadata": {},
     "output_type": "execute_result"
    }
   ],
   "source": [
    "periods = [pt.get_text() for pt in seven_day.select(\".tombstone-container .period-name\")]\n",
    "periods"
   ]
  },
  {
   "cell_type": "code",
   "execution_count": 59,
   "metadata": {
    "collapsed": false
   },
   "outputs": [
    {
     "name": "stdout",
     "output_type": "stream",
     "text": [
      "{'Sunday': {'Temperature': 55}, 'MondayNight': {'Temperature': 24}, 'TuesdayNight': {'Temperature': 29}, 'WednesdayNight': {'Temperature': 34}, 'Tuesday': {'Temperature': 36}, 'Monday': {'Temperature': 32}, 'SundayNight': {'Temperature': 25}, 'Wednesday': {'Temperature': 45}, 'Tonight': {'Temperature': 37}}\n"
     ]
    }
   ],
   "source": [
    "weather = {}\n",
    "\n",
    "for i in range(len(periods)):\n",
    "    weather[periods[i]] = {}\n",
    "    weather[periods[i]]['Temperature'] = num_temps[i]\n",
    "#    weather[period[i]]\n",
    "\n",
    "print(weather)"
   ]
  }
 ],
 "metadata": {
  "kernelspec": {
   "display_name": "Python 3",
   "language": "python",
   "name": "python3"
  },
  "language_info": {
   "codemirror_mode": {
    "name": "ipython",
    "version": 3
   },
   "file_extension": ".py",
   "mimetype": "text/x-python",
   "name": "python",
   "nbconvert_exporter": "python",
   "pygments_lexer": "ipython3",
   "version": "3.5.2"
  }
 },
 "nbformat": 4,
 "nbformat_minor": 0
}
