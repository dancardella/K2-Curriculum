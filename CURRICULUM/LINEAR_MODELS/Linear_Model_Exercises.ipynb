{
 "cells": [
  {
   "cell_type": "markdown",
   "metadata": {},
   "source": [
    "# Linear Model Selection"
   ]
  },
  {
   "cell_type": "markdown",
   "metadata": {},
   "source": [
    "## Question\n",
    "\n",
    "In this exercise, we will predict the number of applications received using the other variables in the `College` data set."
   ]
  },
  {
   "cell_type": "markdown",
   "metadata": {},
   "source": [
    "1. Split the data set into a training and a test set.\n",
    "2. Fit a linear model using least squares on the training set, and report the test error obtained.\n",
    "3. Fit a ridge regression model on the training set, with $\\alpha$ chosen by cross-validation. Report the test error obtained.\n",
    "4. Fit a lasso model on the training set, with $\\alpha$ chosen by cross-validation. Report the test error obtained, along with the number of non-zero coefficient estimates.\n",
    "5. Fit a PCR model on the training set, with M chosen by cross-validation. Report the test error obtained, along with the value of M selected by cross-validation.\n",
    "6. Fit a PLS model on the training set, with M chosen by cross-validation. Report the test error obtained, along with the value of M selected by cross-validation.\n",
    "7. Comment on the results obtained. How accurately can we predict the number of college applications received? Is there much difference among the test errors resulting from these five approaches?"
   ]
  },
  {
   "cell_type": "code",
   "execution_count": 20,
   "metadata": {
    "collapsed": false
   },
   "outputs": [],
   "source": [
    "import pandas as pd\n",
    "import numpy as np\n",
    "import statsmodels.formula.api as smf\n",
    "import itertools\n",
    "\n",
    "from sklearn.linear_model import LinearRegression, RidgeCV, LassoCV\n",
    "\n",
    "from sklearn.preprocessing import scale\n",
    "from sklearn.decomposition import PCA\n",
    "from sklearn.model_selection import cross_val_score\n",
    "\n",
    "import matplotlib.pyplot as plt\n",
    "% matplotlib inline\n",
    "import seaborn as sns\n",
    "\n",
    "from sklearn.model_selection import train_test_split\n",
    "from sklearn import datasets\n",
    "from sklearn.metrics import confusion_matrix\n",
    "from sklearn.metrics import precision_recall_fscore_support\n",
    "from sklearn.metrics import log_loss\n",
    "\n",
    "from pylab import rcParams\n",
    "rcParams['figure.figsize']= 10,5"
   ]
  },
  {
   "cell_type": "code",
   "execution_count": 7,
   "metadata": {
    "collapsed": false
   },
   "outputs": [],
   "source": [
    "colleges= pd.read_csv(\"College (1).csv\", index_col =0)"
   ]
  },
  {
   "cell_type": "code",
   "execution_count": 8,
   "metadata": {
    "collapsed": false
   },
   "outputs": [
    {
     "name": "stdout",
     "output_type": "stream",
     "text": [
      "(777, 18)\n",
      "<class 'pandas.core.frame.DataFrame'>\n",
      "Index: 777 entries, Abilene Christian University to York College of Pennsylvania\n",
      "Data columns (total 18 columns):\n",
      "Private        777 non-null object\n",
      "Apps           777 non-null int64\n",
      "Accept         777 non-null int64\n",
      "Enroll         777 non-null int64\n",
      "Top10perc      777 non-null int64\n",
      "Top25perc      777 non-null int64\n",
      "F.Undergrad    777 non-null int64\n",
      "P.Undergrad    777 non-null int64\n",
      "Outstate       777 non-null int64\n",
      "Room.Board     777 non-null int64\n",
      "Books          777 non-null int64\n",
      "Personal       777 non-null int64\n",
      "PhD            777 non-null int64\n",
      "Terminal       777 non-null int64\n",
      "S.F.Ratio      777 non-null float64\n",
      "perc.alumni    777 non-null int64\n",
      "Expend         777 non-null int64\n",
      "Grad.Rate      777 non-null int64\n",
      "dtypes: float64(1), int64(16), object(1)\n",
      "memory usage: 115.3+ KB\n",
      "None\n"
     ]
    },
    {
     "data": {
      "text/html": [
       "<div>\n",
       "<table border=\"1\" class=\"dataframe\">\n",
       "  <thead>\n",
       "    <tr style=\"text-align: right;\">\n",
       "      <th></th>\n",
       "      <th>Apps</th>\n",
       "      <th>Accept</th>\n",
       "      <th>Enroll</th>\n",
       "      <th>Top10perc</th>\n",
       "      <th>Top25perc</th>\n",
       "      <th>F.Undergrad</th>\n",
       "      <th>P.Undergrad</th>\n",
       "      <th>Outstate</th>\n",
       "      <th>Room.Board</th>\n",
       "      <th>Books</th>\n",
       "      <th>Personal</th>\n",
       "      <th>PhD</th>\n",
       "      <th>Terminal</th>\n",
       "      <th>S.F.Ratio</th>\n",
       "      <th>perc.alumni</th>\n",
       "      <th>Expend</th>\n",
       "      <th>Grad.Rate</th>\n",
       "      <th>Private01</th>\n",
       "    </tr>\n",
       "  </thead>\n",
       "  <tbody>\n",
       "    <tr>\n",
       "      <th>Abilene Christian University</th>\n",
       "      <td>1660</td>\n",
       "      <td>1232</td>\n",
       "      <td>721</td>\n",
       "      <td>23</td>\n",
       "      <td>52</td>\n",
       "      <td>2885</td>\n",
       "      <td>537</td>\n",
       "      <td>7440</td>\n",
       "      <td>3300</td>\n",
       "      <td>450</td>\n",
       "      <td>2200</td>\n",
       "      <td>70</td>\n",
       "      <td>78</td>\n",
       "      <td>18.1</td>\n",
       "      <td>12</td>\n",
       "      <td>7041</td>\n",
       "      <td>60</td>\n",
       "      <td>1</td>\n",
       "    </tr>\n",
       "    <tr>\n",
       "      <th>Adelphi University</th>\n",
       "      <td>2186</td>\n",
       "      <td>1924</td>\n",
       "      <td>512</td>\n",
       "      <td>16</td>\n",
       "      <td>29</td>\n",
       "      <td>2683</td>\n",
       "      <td>1227</td>\n",
       "      <td>12280</td>\n",
       "      <td>6450</td>\n",
       "      <td>750</td>\n",
       "      <td>1500</td>\n",
       "      <td>29</td>\n",
       "      <td>30</td>\n",
       "      <td>12.2</td>\n",
       "      <td>16</td>\n",
       "      <td>10527</td>\n",
       "      <td>56</td>\n",
       "      <td>1</td>\n",
       "    </tr>\n",
       "    <tr>\n",
       "      <th>Adrian College</th>\n",
       "      <td>1428</td>\n",
       "      <td>1097</td>\n",
       "      <td>336</td>\n",
       "      <td>22</td>\n",
       "      <td>50</td>\n",
       "      <td>1036</td>\n",
       "      <td>99</td>\n",
       "      <td>11250</td>\n",
       "      <td>3750</td>\n",
       "      <td>400</td>\n",
       "      <td>1165</td>\n",
       "      <td>53</td>\n",
       "      <td>66</td>\n",
       "      <td>12.9</td>\n",
       "      <td>30</td>\n",
       "      <td>8735</td>\n",
       "      <td>54</td>\n",
       "      <td>1</td>\n",
       "    </tr>\n",
       "    <tr>\n",
       "      <th>Agnes Scott College</th>\n",
       "      <td>417</td>\n",
       "      <td>349</td>\n",
       "      <td>137</td>\n",
       "      <td>60</td>\n",
       "      <td>89</td>\n",
       "      <td>510</td>\n",
       "      <td>63</td>\n",
       "      <td>12960</td>\n",
       "      <td>5450</td>\n",
       "      <td>450</td>\n",
       "      <td>875</td>\n",
       "      <td>92</td>\n",
       "      <td>97</td>\n",
       "      <td>7.7</td>\n",
       "      <td>37</td>\n",
       "      <td>19016</td>\n",
       "      <td>59</td>\n",
       "      <td>1</td>\n",
       "    </tr>\n",
       "    <tr>\n",
       "      <th>Alaska Pacific University</th>\n",
       "      <td>193</td>\n",
       "      <td>146</td>\n",
       "      <td>55</td>\n",
       "      <td>16</td>\n",
       "      <td>44</td>\n",
       "      <td>249</td>\n",
       "      <td>869</td>\n",
       "      <td>7560</td>\n",
       "      <td>4120</td>\n",
       "      <td>800</td>\n",
       "      <td>1500</td>\n",
       "      <td>76</td>\n",
       "      <td>72</td>\n",
       "      <td>11.9</td>\n",
       "      <td>2</td>\n",
       "      <td>10922</td>\n",
       "      <td>15</td>\n",
       "      <td>1</td>\n",
       "    </tr>\n",
       "  </tbody>\n",
       "</table>\n",
       "</div>"
      ],
      "text/plain": [
       "                              Apps  Accept  Enroll  Top10perc  Top25perc  \\\n",
       "Abilene Christian University  1660    1232     721         23         52   \n",
       "Adelphi University            2186    1924     512         16         29   \n",
       "Adrian College                1428    1097     336         22         50   \n",
       "Agnes Scott College            417     349     137         60         89   \n",
       "Alaska Pacific University      193     146      55         16         44   \n",
       "\n",
       "                              F.Undergrad  P.Undergrad  Outstate  Room.Board  \\\n",
       "Abilene Christian University         2885          537      7440        3300   \n",
       "Adelphi University                   2683         1227     12280        6450   \n",
       "Adrian College                       1036           99     11250        3750   \n",
       "Agnes Scott College                   510           63     12960        5450   \n",
       "Alaska Pacific University             249          869      7560        4120   \n",
       "\n",
       "                              Books  Personal  PhD  Terminal  S.F.Ratio  \\\n",
       "Abilene Christian University    450      2200   70        78       18.1   \n",
       "Adelphi University              750      1500   29        30       12.2   \n",
       "Adrian College                  400      1165   53        66       12.9   \n",
       "Agnes Scott College             450       875   92        97        7.7   \n",
       "Alaska Pacific University       800      1500   76        72       11.9   \n",
       "\n",
       "                              perc.alumni  Expend  Grad.Rate  Private01  \n",
       "Abilene Christian University           12    7041         60          1  \n",
       "Adelphi University                     16   10527         56          1  \n",
       "Adrian College                         30    8735         54          1  \n",
       "Agnes Scott College                    37   19016         59          1  \n",
       "Alaska Pacific University               2   10922         15          1  "
      ]
     },
     "execution_count": 8,
     "metadata": {},
     "output_type": "execute_result"
    }
   ],
   "source": [
    "print(colleges.shape)\n",
    "print(colleges.info())\n",
    "colleges['Private01'] = np.where(colleges['Private'] == \"Yes\", 1, 0)\n",
    "colleges= colleges.drop('Private', 1)\n",
    "colleges.head()"
   ]
  },
  {
   "cell_type": "code",
   "execution_count": 9,
   "metadata": {
    "collapsed": false
   },
   "outputs": [
    {
     "data": {
      "text/plain": [
       "Index(['Apps', 'Accept', 'Enroll', 'Top10perc', 'Top25perc', 'F.Undergrad',\n",
       "       'P.Undergrad', 'Outstate', 'Room.Board', 'Books', 'Personal', 'PhD',\n",
       "       'Terminal', 'S.F.Ratio', 'perc.alumni', 'Expend', 'Grad.Rate',\n",
       "       'Private01'],\n",
       "      dtype='object')"
      ]
     },
     "execution_count": 9,
     "metadata": {},
     "output_type": "execute_result"
    }
   ],
   "source": [
    "colleges.columns"
   ]
  },
  {
   "cell_type": "code",
   "execution_count": 10,
   "metadata": {
    "collapsed": false
   },
   "outputs": [
    {
     "data": {
      "text/html": [
       "<div>\n",
       "<table border=\"1\" class=\"dataframe\">\n",
       "  <thead>\n",
       "    <tr style=\"text-align: right;\">\n",
       "      <th></th>\n",
       "      <th>Apps</th>\n",
       "      <th>Accept</th>\n",
       "      <th>Enroll</th>\n",
       "      <th>Top10perc</th>\n",
       "      <th>Top25perc</th>\n",
       "      <th>F.Undergrad</th>\n",
       "      <th>P.Undergrad</th>\n",
       "      <th>Outstate</th>\n",
       "      <th>Room.Board</th>\n",
       "      <th>Books</th>\n",
       "      <th>Personal</th>\n",
       "      <th>PhD</th>\n",
       "      <th>Terminal</th>\n",
       "      <th>S.F.Ratio</th>\n",
       "      <th>perc.alumni</th>\n",
       "      <th>Expend</th>\n",
       "      <th>Grad.Rate</th>\n",
       "      <th>Private01</th>\n",
       "    </tr>\n",
       "  </thead>\n",
       "  <tbody>\n",
       "    <tr>\n",
       "      <th>count</th>\n",
       "      <td>777.000000</td>\n",
       "      <td>777.000000</td>\n",
       "      <td>777.000000</td>\n",
       "      <td>777.000000</td>\n",
       "      <td>777.000000</td>\n",
       "      <td>777.000000</td>\n",
       "      <td>777.000000</td>\n",
       "      <td>777.000000</td>\n",
       "      <td>777.000000</td>\n",
       "      <td>777.000000</td>\n",
       "      <td>777.000000</td>\n",
       "      <td>777.000000</td>\n",
       "      <td>777.000000</td>\n",
       "      <td>777.000000</td>\n",
       "      <td>777.000000</td>\n",
       "      <td>777.000000</td>\n",
       "      <td>777.00000</td>\n",
       "      <td>777.000000</td>\n",
       "    </tr>\n",
       "    <tr>\n",
       "      <th>mean</th>\n",
       "      <td>3001.638353</td>\n",
       "      <td>2018.804376</td>\n",
       "      <td>779.972973</td>\n",
       "      <td>27.558559</td>\n",
       "      <td>55.796654</td>\n",
       "      <td>3699.907336</td>\n",
       "      <td>855.298584</td>\n",
       "      <td>10440.669241</td>\n",
       "      <td>4357.526384</td>\n",
       "      <td>549.380952</td>\n",
       "      <td>1340.642214</td>\n",
       "      <td>72.660232</td>\n",
       "      <td>79.702703</td>\n",
       "      <td>14.089704</td>\n",
       "      <td>22.743887</td>\n",
       "      <td>9660.171171</td>\n",
       "      <td>65.46332</td>\n",
       "      <td>0.727156</td>\n",
       "    </tr>\n",
       "    <tr>\n",
       "      <th>std</th>\n",
       "      <td>3870.201484</td>\n",
       "      <td>2451.113971</td>\n",
       "      <td>929.176190</td>\n",
       "      <td>17.640364</td>\n",
       "      <td>19.804778</td>\n",
       "      <td>4850.420531</td>\n",
       "      <td>1522.431887</td>\n",
       "      <td>4023.016484</td>\n",
       "      <td>1096.696416</td>\n",
       "      <td>165.105360</td>\n",
       "      <td>677.071454</td>\n",
       "      <td>16.328155</td>\n",
       "      <td>14.722359</td>\n",
       "      <td>3.958349</td>\n",
       "      <td>12.391801</td>\n",
       "      <td>5221.768440</td>\n",
       "      <td>17.17771</td>\n",
       "      <td>0.445708</td>\n",
       "    </tr>\n",
       "    <tr>\n",
       "      <th>min</th>\n",
       "      <td>81.000000</td>\n",
       "      <td>72.000000</td>\n",
       "      <td>35.000000</td>\n",
       "      <td>1.000000</td>\n",
       "      <td>9.000000</td>\n",
       "      <td>139.000000</td>\n",
       "      <td>1.000000</td>\n",
       "      <td>2340.000000</td>\n",
       "      <td>1780.000000</td>\n",
       "      <td>96.000000</td>\n",
       "      <td>250.000000</td>\n",
       "      <td>8.000000</td>\n",
       "      <td>24.000000</td>\n",
       "      <td>2.500000</td>\n",
       "      <td>0.000000</td>\n",
       "      <td>3186.000000</td>\n",
       "      <td>10.00000</td>\n",
       "      <td>0.000000</td>\n",
       "    </tr>\n",
       "    <tr>\n",
       "      <th>25%</th>\n",
       "      <td>776.000000</td>\n",
       "      <td>604.000000</td>\n",
       "      <td>242.000000</td>\n",
       "      <td>15.000000</td>\n",
       "      <td>41.000000</td>\n",
       "      <td>992.000000</td>\n",
       "      <td>95.000000</td>\n",
       "      <td>7320.000000</td>\n",
       "      <td>3597.000000</td>\n",
       "      <td>470.000000</td>\n",
       "      <td>850.000000</td>\n",
       "      <td>62.000000</td>\n",
       "      <td>71.000000</td>\n",
       "      <td>11.500000</td>\n",
       "      <td>13.000000</td>\n",
       "      <td>6751.000000</td>\n",
       "      <td>53.00000</td>\n",
       "      <td>0.000000</td>\n",
       "    </tr>\n",
       "    <tr>\n",
       "      <th>50%</th>\n",
       "      <td>1558.000000</td>\n",
       "      <td>1110.000000</td>\n",
       "      <td>434.000000</td>\n",
       "      <td>23.000000</td>\n",
       "      <td>54.000000</td>\n",
       "      <td>1707.000000</td>\n",
       "      <td>353.000000</td>\n",
       "      <td>9990.000000</td>\n",
       "      <td>4200.000000</td>\n",
       "      <td>500.000000</td>\n",
       "      <td>1200.000000</td>\n",
       "      <td>75.000000</td>\n",
       "      <td>82.000000</td>\n",
       "      <td>13.600000</td>\n",
       "      <td>21.000000</td>\n",
       "      <td>8377.000000</td>\n",
       "      <td>65.00000</td>\n",
       "      <td>1.000000</td>\n",
       "    </tr>\n",
       "    <tr>\n",
       "      <th>75%</th>\n",
       "      <td>3624.000000</td>\n",
       "      <td>2424.000000</td>\n",
       "      <td>902.000000</td>\n",
       "      <td>35.000000</td>\n",
       "      <td>69.000000</td>\n",
       "      <td>4005.000000</td>\n",
       "      <td>967.000000</td>\n",
       "      <td>12925.000000</td>\n",
       "      <td>5050.000000</td>\n",
       "      <td>600.000000</td>\n",
       "      <td>1700.000000</td>\n",
       "      <td>85.000000</td>\n",
       "      <td>92.000000</td>\n",
       "      <td>16.500000</td>\n",
       "      <td>31.000000</td>\n",
       "      <td>10830.000000</td>\n",
       "      <td>78.00000</td>\n",
       "      <td>1.000000</td>\n",
       "    </tr>\n",
       "    <tr>\n",
       "      <th>max</th>\n",
       "      <td>48094.000000</td>\n",
       "      <td>26330.000000</td>\n",
       "      <td>6392.000000</td>\n",
       "      <td>96.000000</td>\n",
       "      <td>100.000000</td>\n",
       "      <td>31643.000000</td>\n",
       "      <td>21836.000000</td>\n",
       "      <td>21700.000000</td>\n",
       "      <td>8124.000000</td>\n",
       "      <td>2340.000000</td>\n",
       "      <td>6800.000000</td>\n",
       "      <td>103.000000</td>\n",
       "      <td>100.000000</td>\n",
       "      <td>39.800000</td>\n",
       "      <td>64.000000</td>\n",
       "      <td>56233.000000</td>\n",
       "      <td>118.00000</td>\n",
       "      <td>1.000000</td>\n",
       "    </tr>\n",
       "  </tbody>\n",
       "</table>\n",
       "</div>"
      ],
      "text/plain": [
       "               Apps        Accept       Enroll   Top10perc   Top25perc  \\\n",
       "count    777.000000    777.000000   777.000000  777.000000  777.000000   \n",
       "mean    3001.638353   2018.804376   779.972973   27.558559   55.796654   \n",
       "std     3870.201484   2451.113971   929.176190   17.640364   19.804778   \n",
       "min       81.000000     72.000000    35.000000    1.000000    9.000000   \n",
       "25%      776.000000    604.000000   242.000000   15.000000   41.000000   \n",
       "50%     1558.000000   1110.000000   434.000000   23.000000   54.000000   \n",
       "75%     3624.000000   2424.000000   902.000000   35.000000   69.000000   \n",
       "max    48094.000000  26330.000000  6392.000000   96.000000  100.000000   \n",
       "\n",
       "        F.Undergrad   P.Undergrad      Outstate   Room.Board        Books  \\\n",
       "count    777.000000    777.000000    777.000000   777.000000   777.000000   \n",
       "mean    3699.907336    855.298584  10440.669241  4357.526384   549.380952   \n",
       "std     4850.420531   1522.431887   4023.016484  1096.696416   165.105360   \n",
       "min      139.000000      1.000000   2340.000000  1780.000000    96.000000   \n",
       "25%      992.000000     95.000000   7320.000000  3597.000000   470.000000   \n",
       "50%     1707.000000    353.000000   9990.000000  4200.000000   500.000000   \n",
       "75%     4005.000000    967.000000  12925.000000  5050.000000   600.000000   \n",
       "max    31643.000000  21836.000000  21700.000000  8124.000000  2340.000000   \n",
       "\n",
       "          Personal         PhD    Terminal   S.F.Ratio  perc.alumni  \\\n",
       "count   777.000000  777.000000  777.000000  777.000000   777.000000   \n",
       "mean   1340.642214   72.660232   79.702703   14.089704    22.743887   \n",
       "std     677.071454   16.328155   14.722359    3.958349    12.391801   \n",
       "min     250.000000    8.000000   24.000000    2.500000     0.000000   \n",
       "25%     850.000000   62.000000   71.000000   11.500000    13.000000   \n",
       "50%    1200.000000   75.000000   82.000000   13.600000    21.000000   \n",
       "75%    1700.000000   85.000000   92.000000   16.500000    31.000000   \n",
       "max    6800.000000  103.000000  100.000000   39.800000    64.000000   \n",
       "\n",
       "             Expend  Grad.Rate   Private01  \n",
       "count    777.000000  777.00000  777.000000  \n",
       "mean    9660.171171   65.46332    0.727156  \n",
       "std     5221.768440   17.17771    0.445708  \n",
       "min     3186.000000   10.00000    0.000000  \n",
       "25%     6751.000000   53.00000    0.000000  \n",
       "50%     8377.000000   65.00000    1.000000  \n",
       "75%    10830.000000   78.00000    1.000000  \n",
       "max    56233.000000  118.00000    1.000000  "
      ]
     },
     "execution_count": 10,
     "metadata": {},
     "output_type": "execute_result"
    }
   ],
   "source": [
    "colleges.describe()"
   ]
  },
  {
   "cell_type": "code",
   "execution_count": 106,
   "metadata": {
    "collapsed": false
   },
   "outputs": [],
   "source": [
    "train, test = train_test_split(colleges, test_size= .5, random_state=0)"
   ]
  },
  {
   "cell_type": "code",
   "execution_count": 111,
   "metadata": {
    "collapsed": false
   },
   "outputs": [],
   "source": [
    "train_x= train.drop('Apps', 1)\n",
    "test_x= test.drop('Apps', 1)\n",
    "train_y= train['Apps']\n",
    "test_y= test['Apps']"
   ]
  },
  {
   "cell_type": "code",
   "execution_count": 112,
   "metadata": {
    "collapsed": false
   },
   "outputs": [
    {
     "data": {
      "text/plain": [
       "389"
      ]
     },
     "execution_count": 112,
     "metadata": {},
     "output_type": "execute_result"
    }
   ],
   "source": [
    "len(test_y)"
   ]
  },
  {
   "cell_type": "code",
   "execution_count": 13,
   "metadata": {
    "collapsed": false
   },
   "outputs": [
    {
     "data": {
      "text/html": [
       "<div>\n",
       "<table border=\"1\" class=\"dataframe\">\n",
       "  <thead>\n",
       "    <tr style=\"text-align: right;\">\n",
       "      <th></th>\n",
       "      <th>Apps</th>\n",
       "      <th>Accept</th>\n",
       "      <th>Enroll</th>\n",
       "      <th>Top10perc</th>\n",
       "      <th>Top25perc</th>\n",
       "      <th>F.Undergrad</th>\n",
       "      <th>P.Undergrad</th>\n",
       "      <th>Outstate</th>\n",
       "      <th>Room.Board</th>\n",
       "      <th>Books</th>\n",
       "      <th>Personal</th>\n",
       "      <th>PhD</th>\n",
       "      <th>Terminal</th>\n",
       "      <th>S.F.Ratio</th>\n",
       "      <th>perc.alumni</th>\n",
       "      <th>Expend</th>\n",
       "      <th>Grad.Rate</th>\n",
       "      <th>Private01</th>\n",
       "    </tr>\n",
       "  </thead>\n",
       "  <tbody>\n",
       "    <tr>\n",
       "      <th>Apps</th>\n",
       "      <td>1.000000</td>\n",
       "      <td>0.943451</td>\n",
       "      <td>0.846822</td>\n",
       "      <td>0.338834</td>\n",
       "      <td>0.351640</td>\n",
       "      <td>0.814491</td>\n",
       "      <td>0.398264</td>\n",
       "      <td>0.050159</td>\n",
       "      <td>0.164939</td>\n",
       "      <td>0.132559</td>\n",
       "      <td>0.178731</td>\n",
       "      <td>0.390697</td>\n",
       "      <td>0.369491</td>\n",
       "      <td>0.095633</td>\n",
       "      <td>-0.090226</td>\n",
       "      <td>0.259592</td>\n",
       "      <td>0.146755</td>\n",
       "      <td>-0.432095</td>\n",
       "    </tr>\n",
       "    <tr>\n",
       "      <th>Accept</th>\n",
       "      <td>0.943451</td>\n",
       "      <td>1.000000</td>\n",
       "      <td>0.911637</td>\n",
       "      <td>0.192447</td>\n",
       "      <td>0.247476</td>\n",
       "      <td>0.874223</td>\n",
       "      <td>0.441271</td>\n",
       "      <td>-0.025755</td>\n",
       "      <td>0.090899</td>\n",
       "      <td>0.113525</td>\n",
       "      <td>0.200989</td>\n",
       "      <td>0.355758</td>\n",
       "      <td>0.337583</td>\n",
       "      <td>0.176229</td>\n",
       "      <td>-0.159990</td>\n",
       "      <td>0.124717</td>\n",
       "      <td>0.067313</td>\n",
       "      <td>-0.475252</td>\n",
       "    </tr>\n",
       "    <tr>\n",
       "      <th>Enroll</th>\n",
       "      <td>0.846822</td>\n",
       "      <td>0.911637</td>\n",
       "      <td>1.000000</td>\n",
       "      <td>0.181294</td>\n",
       "      <td>0.226745</td>\n",
       "      <td>0.964640</td>\n",
       "      <td>0.513069</td>\n",
       "      <td>-0.155477</td>\n",
       "      <td>-0.040232</td>\n",
       "      <td>0.112711</td>\n",
       "      <td>0.280929</td>\n",
       "      <td>0.331469</td>\n",
       "      <td>0.308274</td>\n",
       "      <td>0.237271</td>\n",
       "      <td>-0.180794</td>\n",
       "      <td>0.064169</td>\n",
       "      <td>-0.022341</td>\n",
       "      <td>-0.567908</td>\n",
       "    </tr>\n",
       "    <tr>\n",
       "      <th>Top10perc</th>\n",
       "      <td>0.338834</td>\n",
       "      <td>0.192447</td>\n",
       "      <td>0.181294</td>\n",
       "      <td>1.000000</td>\n",
       "      <td>0.891995</td>\n",
       "      <td>0.141289</td>\n",
       "      <td>-0.105356</td>\n",
       "      <td>0.562331</td>\n",
       "      <td>0.371480</td>\n",
       "      <td>0.118858</td>\n",
       "      <td>-0.093316</td>\n",
       "      <td>0.531828</td>\n",
       "      <td>0.491135</td>\n",
       "      <td>-0.384875</td>\n",
       "      <td>0.455485</td>\n",
       "      <td>0.660913</td>\n",
       "      <td>0.494989</td>\n",
       "      <td>0.164132</td>\n",
       "    </tr>\n",
       "    <tr>\n",
       "      <th>Top25perc</th>\n",
       "      <td>0.351640</td>\n",
       "      <td>0.247476</td>\n",
       "      <td>0.226745</td>\n",
       "      <td>0.891995</td>\n",
       "      <td>1.000000</td>\n",
       "      <td>0.199445</td>\n",
       "      <td>-0.053577</td>\n",
       "      <td>0.489394</td>\n",
       "      <td>0.331490</td>\n",
       "      <td>0.115527</td>\n",
       "      <td>-0.080810</td>\n",
       "      <td>0.545862</td>\n",
       "      <td>0.524749</td>\n",
       "      <td>-0.294629</td>\n",
       "      <td>0.417864</td>\n",
       "      <td>0.527447</td>\n",
       "      <td>0.477281</td>\n",
       "      <td>0.095752</td>\n",
       "    </tr>\n",
       "    <tr>\n",
       "      <th>F.Undergrad</th>\n",
       "      <td>0.814491</td>\n",
       "      <td>0.874223</td>\n",
       "      <td>0.964640</td>\n",
       "      <td>0.141289</td>\n",
       "      <td>0.199445</td>\n",
       "      <td>1.000000</td>\n",
       "      <td>0.570512</td>\n",
       "      <td>-0.215742</td>\n",
       "      <td>-0.068890</td>\n",
       "      <td>0.115550</td>\n",
       "      <td>0.317200</td>\n",
       "      <td>0.318337</td>\n",
       "      <td>0.300019</td>\n",
       "      <td>0.279703</td>\n",
       "      <td>-0.229462</td>\n",
       "      <td>0.018652</td>\n",
       "      <td>-0.078773</td>\n",
       "      <td>-0.615561</td>\n",
       "    </tr>\n",
       "    <tr>\n",
       "      <th>P.Undergrad</th>\n",
       "      <td>0.398264</td>\n",
       "      <td>0.441271</td>\n",
       "      <td>0.513069</td>\n",
       "      <td>-0.105356</td>\n",
       "      <td>-0.053577</td>\n",
       "      <td>0.570512</td>\n",
       "      <td>1.000000</td>\n",
       "      <td>-0.253512</td>\n",
       "      <td>-0.061326</td>\n",
       "      <td>0.081200</td>\n",
       "      <td>0.319882</td>\n",
       "      <td>0.149114</td>\n",
       "      <td>0.141904</td>\n",
       "      <td>0.232531</td>\n",
       "      <td>-0.280792</td>\n",
       "      <td>-0.083568</td>\n",
       "      <td>-0.257001</td>\n",
       "      <td>-0.452088</td>\n",
       "    </tr>\n",
       "    <tr>\n",
       "      <th>Outstate</th>\n",
       "      <td>0.050159</td>\n",
       "      <td>-0.025755</td>\n",
       "      <td>-0.155477</td>\n",
       "      <td>0.562331</td>\n",
       "      <td>0.489394</td>\n",
       "      <td>-0.215742</td>\n",
       "      <td>-0.253512</td>\n",
       "      <td>1.000000</td>\n",
       "      <td>0.654256</td>\n",
       "      <td>0.038855</td>\n",
       "      <td>-0.299087</td>\n",
       "      <td>0.382982</td>\n",
       "      <td>0.407983</td>\n",
       "      <td>-0.554821</td>\n",
       "      <td>0.566262</td>\n",
       "      <td>0.672779</td>\n",
       "      <td>0.571290</td>\n",
       "      <td>0.552650</td>\n",
       "    </tr>\n",
       "    <tr>\n",
       "      <th>Room.Board</th>\n",
       "      <td>0.164939</td>\n",
       "      <td>0.090899</td>\n",
       "      <td>-0.040232</td>\n",
       "      <td>0.371480</td>\n",
       "      <td>0.331490</td>\n",
       "      <td>-0.068890</td>\n",
       "      <td>-0.061326</td>\n",
       "      <td>0.654256</td>\n",
       "      <td>1.000000</td>\n",
       "      <td>0.127963</td>\n",
       "      <td>-0.199428</td>\n",
       "      <td>0.329202</td>\n",
       "      <td>0.374540</td>\n",
       "      <td>-0.362628</td>\n",
       "      <td>0.272363</td>\n",
       "      <td>0.501739</td>\n",
       "      <td>0.424942</td>\n",
       "      <td>0.340532</td>\n",
       "    </tr>\n",
       "    <tr>\n",
       "      <th>Books</th>\n",
       "      <td>0.132559</td>\n",
       "      <td>0.113525</td>\n",
       "      <td>0.112711</td>\n",
       "      <td>0.118858</td>\n",
       "      <td>0.115527</td>\n",
       "      <td>0.115550</td>\n",
       "      <td>0.081200</td>\n",
       "      <td>0.038855</td>\n",
       "      <td>0.127963</td>\n",
       "      <td>1.000000</td>\n",
       "      <td>0.179295</td>\n",
       "      <td>0.026906</td>\n",
       "      <td>0.099955</td>\n",
       "      <td>-0.031929</td>\n",
       "      <td>-0.040208</td>\n",
       "      <td>0.112409</td>\n",
       "      <td>0.001061</td>\n",
       "      <td>-0.018549</td>\n",
       "    </tr>\n",
       "    <tr>\n",
       "      <th>Personal</th>\n",
       "      <td>0.178731</td>\n",
       "      <td>0.200989</td>\n",
       "      <td>0.280929</td>\n",
       "      <td>-0.093316</td>\n",
       "      <td>-0.080810</td>\n",
       "      <td>0.317200</td>\n",
       "      <td>0.319882</td>\n",
       "      <td>-0.299087</td>\n",
       "      <td>-0.199428</td>\n",
       "      <td>0.179295</td>\n",
       "      <td>1.000000</td>\n",
       "      <td>-0.010936</td>\n",
       "      <td>-0.030613</td>\n",
       "      <td>0.136345</td>\n",
       "      <td>-0.285968</td>\n",
       "      <td>-0.097892</td>\n",
       "      <td>-0.269344</td>\n",
       "      <td>-0.304485</td>\n",
       "    </tr>\n",
       "    <tr>\n",
       "      <th>PhD</th>\n",
       "      <td>0.390697</td>\n",
       "      <td>0.355758</td>\n",
       "      <td>0.331469</td>\n",
       "      <td>0.531828</td>\n",
       "      <td>0.545862</td>\n",
       "      <td>0.318337</td>\n",
       "      <td>0.149114</td>\n",
       "      <td>0.382982</td>\n",
       "      <td>0.329202</td>\n",
       "      <td>0.026906</td>\n",
       "      <td>-0.010936</td>\n",
       "      <td>1.000000</td>\n",
       "      <td>0.849587</td>\n",
       "      <td>-0.130530</td>\n",
       "      <td>0.249009</td>\n",
       "      <td>0.432762</td>\n",
       "      <td>0.305038</td>\n",
       "      <td>-0.156714</td>\n",
       "    </tr>\n",
       "    <tr>\n",
       "      <th>Terminal</th>\n",
       "      <td>0.369491</td>\n",
       "      <td>0.337583</td>\n",
       "      <td>0.308274</td>\n",
       "      <td>0.491135</td>\n",
       "      <td>0.524749</td>\n",
       "      <td>0.300019</td>\n",
       "      <td>0.141904</td>\n",
       "      <td>0.407983</td>\n",
       "      <td>0.374540</td>\n",
       "      <td>0.099955</td>\n",
       "      <td>-0.030613</td>\n",
       "      <td>0.849587</td>\n",
       "      <td>1.000000</td>\n",
       "      <td>-0.160104</td>\n",
       "      <td>0.267130</td>\n",
       "      <td>0.438799</td>\n",
       "      <td>0.289527</td>\n",
       "      <td>-0.129620</td>\n",
       "    </tr>\n",
       "    <tr>\n",
       "      <th>S.F.Ratio</th>\n",
       "      <td>0.095633</td>\n",
       "      <td>0.176229</td>\n",
       "      <td>0.237271</td>\n",
       "      <td>-0.384875</td>\n",
       "      <td>-0.294629</td>\n",
       "      <td>0.279703</td>\n",
       "      <td>0.232531</td>\n",
       "      <td>-0.554821</td>\n",
       "      <td>-0.362628</td>\n",
       "      <td>-0.031929</td>\n",
       "      <td>0.136345</td>\n",
       "      <td>-0.130530</td>\n",
       "      <td>-0.160104</td>\n",
       "      <td>1.000000</td>\n",
       "      <td>-0.402929</td>\n",
       "      <td>-0.583832</td>\n",
       "      <td>-0.306710</td>\n",
       "      <td>-0.472205</td>\n",
       "    </tr>\n",
       "    <tr>\n",
       "      <th>perc.alumni</th>\n",
       "      <td>-0.090226</td>\n",
       "      <td>-0.159990</td>\n",
       "      <td>-0.180794</td>\n",
       "      <td>0.455485</td>\n",
       "      <td>0.417864</td>\n",
       "      <td>-0.229462</td>\n",
       "      <td>-0.280792</td>\n",
       "      <td>0.566262</td>\n",
       "      <td>0.272363</td>\n",
       "      <td>-0.040208</td>\n",
       "      <td>-0.285968</td>\n",
       "      <td>0.249009</td>\n",
       "      <td>0.267130</td>\n",
       "      <td>-0.402929</td>\n",
       "      <td>1.000000</td>\n",
       "      <td>0.417712</td>\n",
       "      <td>0.490898</td>\n",
       "      <td>0.414775</td>\n",
       "    </tr>\n",
       "    <tr>\n",
       "      <th>Expend</th>\n",
       "      <td>0.259592</td>\n",
       "      <td>0.124717</td>\n",
       "      <td>0.064169</td>\n",
       "      <td>0.660913</td>\n",
       "      <td>0.527447</td>\n",
       "      <td>0.018652</td>\n",
       "      <td>-0.083568</td>\n",
       "      <td>0.672779</td>\n",
       "      <td>0.501739</td>\n",
       "      <td>0.112409</td>\n",
       "      <td>-0.097892</td>\n",
       "      <td>0.432762</td>\n",
       "      <td>0.438799</td>\n",
       "      <td>-0.583832</td>\n",
       "      <td>0.417712</td>\n",
       "      <td>1.000000</td>\n",
       "      <td>0.390343</td>\n",
       "      <td>0.258461</td>\n",
       "    </tr>\n",
       "    <tr>\n",
       "      <th>Grad.Rate</th>\n",
       "      <td>0.146755</td>\n",
       "      <td>0.067313</td>\n",
       "      <td>-0.022341</td>\n",
       "      <td>0.494989</td>\n",
       "      <td>0.477281</td>\n",
       "      <td>-0.078773</td>\n",
       "      <td>-0.257001</td>\n",
       "      <td>0.571290</td>\n",
       "      <td>0.424942</td>\n",
       "      <td>0.001061</td>\n",
       "      <td>-0.269344</td>\n",
       "      <td>0.305038</td>\n",
       "      <td>0.289527</td>\n",
       "      <td>-0.306710</td>\n",
       "      <td>0.490898</td>\n",
       "      <td>0.390343</td>\n",
       "      <td>1.000000</td>\n",
       "      <td>0.336162</td>\n",
       "    </tr>\n",
       "    <tr>\n",
       "      <th>Private01</th>\n",
       "      <td>-0.432095</td>\n",
       "      <td>-0.475252</td>\n",
       "      <td>-0.567908</td>\n",
       "      <td>0.164132</td>\n",
       "      <td>0.095752</td>\n",
       "      <td>-0.615561</td>\n",
       "      <td>-0.452088</td>\n",
       "      <td>0.552650</td>\n",
       "      <td>0.340532</td>\n",
       "      <td>-0.018549</td>\n",
       "      <td>-0.304485</td>\n",
       "      <td>-0.156714</td>\n",
       "      <td>-0.129620</td>\n",
       "      <td>-0.472205</td>\n",
       "      <td>0.414775</td>\n",
       "      <td>0.258461</td>\n",
       "      <td>0.336162</td>\n",
       "      <td>1.000000</td>\n",
       "    </tr>\n",
       "  </tbody>\n",
       "</table>\n",
       "</div>"
      ],
      "text/plain": [
       "                 Apps    Accept    Enroll  Top10perc  Top25perc  F.Undergrad  \\\n",
       "Apps         1.000000  0.943451  0.846822   0.338834   0.351640     0.814491   \n",
       "Accept       0.943451  1.000000  0.911637   0.192447   0.247476     0.874223   \n",
       "Enroll       0.846822  0.911637  1.000000   0.181294   0.226745     0.964640   \n",
       "Top10perc    0.338834  0.192447  0.181294   1.000000   0.891995     0.141289   \n",
       "Top25perc    0.351640  0.247476  0.226745   0.891995   1.000000     0.199445   \n",
       "F.Undergrad  0.814491  0.874223  0.964640   0.141289   0.199445     1.000000   \n",
       "P.Undergrad  0.398264  0.441271  0.513069  -0.105356  -0.053577     0.570512   \n",
       "Outstate     0.050159 -0.025755 -0.155477   0.562331   0.489394    -0.215742   \n",
       "Room.Board   0.164939  0.090899 -0.040232   0.371480   0.331490    -0.068890   \n",
       "Books        0.132559  0.113525  0.112711   0.118858   0.115527     0.115550   \n",
       "Personal     0.178731  0.200989  0.280929  -0.093316  -0.080810     0.317200   \n",
       "PhD          0.390697  0.355758  0.331469   0.531828   0.545862     0.318337   \n",
       "Terminal     0.369491  0.337583  0.308274   0.491135   0.524749     0.300019   \n",
       "S.F.Ratio    0.095633  0.176229  0.237271  -0.384875  -0.294629     0.279703   \n",
       "perc.alumni -0.090226 -0.159990 -0.180794   0.455485   0.417864    -0.229462   \n",
       "Expend       0.259592  0.124717  0.064169   0.660913   0.527447     0.018652   \n",
       "Grad.Rate    0.146755  0.067313 -0.022341   0.494989   0.477281    -0.078773   \n",
       "Private01   -0.432095 -0.475252 -0.567908   0.164132   0.095752    -0.615561   \n",
       "\n",
       "             P.Undergrad  Outstate  Room.Board     Books  Personal       PhD  \\\n",
       "Apps            0.398264  0.050159    0.164939  0.132559  0.178731  0.390697   \n",
       "Accept          0.441271 -0.025755    0.090899  0.113525  0.200989  0.355758   \n",
       "Enroll          0.513069 -0.155477   -0.040232  0.112711  0.280929  0.331469   \n",
       "Top10perc      -0.105356  0.562331    0.371480  0.118858 -0.093316  0.531828   \n",
       "Top25perc      -0.053577  0.489394    0.331490  0.115527 -0.080810  0.545862   \n",
       "F.Undergrad     0.570512 -0.215742   -0.068890  0.115550  0.317200  0.318337   \n",
       "P.Undergrad     1.000000 -0.253512   -0.061326  0.081200  0.319882  0.149114   \n",
       "Outstate       -0.253512  1.000000    0.654256  0.038855 -0.299087  0.382982   \n",
       "Room.Board     -0.061326  0.654256    1.000000  0.127963 -0.199428  0.329202   \n",
       "Books           0.081200  0.038855    0.127963  1.000000  0.179295  0.026906   \n",
       "Personal        0.319882 -0.299087   -0.199428  0.179295  1.000000 -0.010936   \n",
       "PhD             0.149114  0.382982    0.329202  0.026906 -0.010936  1.000000   \n",
       "Terminal        0.141904  0.407983    0.374540  0.099955 -0.030613  0.849587   \n",
       "S.F.Ratio       0.232531 -0.554821   -0.362628 -0.031929  0.136345 -0.130530   \n",
       "perc.alumni    -0.280792  0.566262    0.272363 -0.040208 -0.285968  0.249009   \n",
       "Expend         -0.083568  0.672779    0.501739  0.112409 -0.097892  0.432762   \n",
       "Grad.Rate      -0.257001  0.571290    0.424942  0.001061 -0.269344  0.305038   \n",
       "Private01      -0.452088  0.552650    0.340532 -0.018549 -0.304485 -0.156714   \n",
       "\n",
       "             Terminal  S.F.Ratio  perc.alumni    Expend  Grad.Rate  Private01  \n",
       "Apps         0.369491   0.095633    -0.090226  0.259592   0.146755  -0.432095  \n",
       "Accept       0.337583   0.176229    -0.159990  0.124717   0.067313  -0.475252  \n",
       "Enroll       0.308274   0.237271    -0.180794  0.064169  -0.022341  -0.567908  \n",
       "Top10perc    0.491135  -0.384875     0.455485  0.660913   0.494989   0.164132  \n",
       "Top25perc    0.524749  -0.294629     0.417864  0.527447   0.477281   0.095752  \n",
       "F.Undergrad  0.300019   0.279703    -0.229462  0.018652  -0.078773  -0.615561  \n",
       "P.Undergrad  0.141904   0.232531    -0.280792 -0.083568  -0.257001  -0.452088  \n",
       "Outstate     0.407983  -0.554821     0.566262  0.672779   0.571290   0.552650  \n",
       "Room.Board   0.374540  -0.362628     0.272363  0.501739   0.424942   0.340532  \n",
       "Books        0.099955  -0.031929    -0.040208  0.112409   0.001061  -0.018549  \n",
       "Personal    -0.030613   0.136345    -0.285968 -0.097892  -0.269344  -0.304485  \n",
       "PhD          0.849587  -0.130530     0.249009  0.432762   0.305038  -0.156714  \n",
       "Terminal     1.000000  -0.160104     0.267130  0.438799   0.289527  -0.129620  \n",
       "S.F.Ratio   -0.160104   1.000000    -0.402929 -0.583832  -0.306710  -0.472205  \n",
       "perc.alumni  0.267130  -0.402929     1.000000  0.417712   0.490898   0.414775  \n",
       "Expend       0.438799  -0.583832     0.417712  1.000000   0.390343   0.258461  \n",
       "Grad.Rate    0.289527  -0.306710     0.490898  0.390343   1.000000   0.336162  \n",
       "Private01   -0.129620  -0.472205     0.414775  0.258461   0.336162   1.000000  "
      ]
     },
     "execution_count": 13,
     "metadata": {},
     "output_type": "execute_result"
    }
   ],
   "source": [
    "colleges.corr()"
   ]
  },
  {
   "cell_type": "code",
   "execution_count": 14,
   "metadata": {
    "collapsed": false
   },
   "outputs": [
    {
     "data": {
      "text/html": [
       "<table class=\"simpletable\">\n",
       "<caption>OLS Regression Results</caption>\n",
       "<tr>\n",
       "  <th>Dep. Variable:</th>          <td>Apps</td>       <th>  R-squared:         </th> <td>   0.920</td> \n",
       "</tr>\n",
       "<tr>\n",
       "  <th>Model:</th>                   <td>OLS</td>       <th>  Adj. R-squared:    </th> <td>   0.918</td> \n",
       "</tr>\n",
       "<tr>\n",
       "  <th>Method:</th>             <td>Least Squares</td>  <th>  F-statistic:       </th> <td>   485.2</td> \n",
       "</tr>\n",
       "<tr>\n",
       "  <th>Date:</th>             <td>Sun, 26 Mar 2017</td> <th>  Prob (F-statistic):</th> <td>1.36e-201</td>\n",
       "</tr>\n",
       "<tr>\n",
       "  <th>Time:</th>                 <td>18:54:33</td>     <th>  Log-Likelihood:    </th> <td> -3267.3</td> \n",
       "</tr>\n",
       "<tr>\n",
       "  <th>No. Observations:</th>      <td>   388</td>      <th>  AIC:               </th> <td>   6555.</td> \n",
       "</tr>\n",
       "<tr>\n",
       "  <th>Df Residuals:</th>          <td>   378</td>      <th>  BIC:               </th> <td>   6594.</td> \n",
       "</tr>\n",
       "<tr>\n",
       "  <th>Df Model:</th>              <td>     9</td>      <th>                     </th>     <td> </td>    \n",
       "</tr>\n",
       "<tr>\n",
       "  <th>Covariance Type:</th>      <td>nonrobust</td>    <th>                     </th>     <td> </td>    \n",
       "</tr>\n",
       "</table>\n",
       "<table class=\"simpletable\">\n",
       "<tr>\n",
       "      <td></td>         <th>coef</th>     <th>std err</th>      <th>t</th>      <th>P>|t|</th> <th>[95.0% Conf. Int.]</th> \n",
       "</tr>\n",
       "<tr>\n",
       "  <th>Intercept</th> <td> -289.5551</td> <td>  381.218</td> <td>   -0.760</td> <td> 0.448</td> <td>-1039.129   460.019</td>\n",
       "</tr>\n",
       "<tr>\n",
       "  <th>Accept</th>    <td>    1.3236</td> <td>    0.064</td> <td>   20.626</td> <td> 0.000</td> <td>    1.197     1.450</td>\n",
       "</tr>\n",
       "<tr>\n",
       "  <th>Enroll</th>    <td>    0.2305</td> <td>    0.159</td> <td>    1.446</td> <td> 0.149</td> <td>   -0.083     0.544</td>\n",
       "</tr>\n",
       "<tr>\n",
       "  <th>Top10perc</th> <td>   52.6062</td> <td>    8.179</td> <td>    6.432</td> <td> 0.000</td> <td>   36.524    68.688</td>\n",
       "</tr>\n",
       "<tr>\n",
       "  <th>Top25perc</th> <td>  -20.0757</td> <td>    6.733</td> <td>   -2.982</td> <td> 0.003</td> <td>  -33.314    -6.837</td>\n",
       "</tr>\n",
       "<tr>\n",
       "  <th>Expend</th>    <td>    0.0513</td> <td>    0.017</td> <td>    3.052</td> <td> 0.002</td> <td>    0.018     0.084</td>\n",
       "</tr>\n",
       "<tr>\n",
       "  <th>Books</th>     <td>    0.0767</td> <td>    0.327</td> <td>    0.235</td> <td> 0.815</td> <td>   -0.566     0.719</td>\n",
       "</tr>\n",
       "<tr>\n",
       "  <th>Personal</th>  <td>   -0.0009</td> <td>    0.085</td> <td>   -0.011</td> <td> 0.991</td> <td>   -0.168     0.167</td>\n",
       "</tr>\n",
       "<tr>\n",
       "  <th>PhD</th>       <td>   -4.9089</td> <td>    7.812</td> <td>   -0.628</td> <td> 0.530</td> <td>  -20.270    10.452</td>\n",
       "</tr>\n",
       "<tr>\n",
       "  <th>Terminal</th>  <td>   -0.4844</td> <td>    8.427</td> <td>   -0.057</td> <td> 0.954</td> <td>  -17.054    16.085</td>\n",
       "</tr>\n",
       "</table>\n",
       "<table class=\"simpletable\">\n",
       "<tr>\n",
       "  <th>Omnibus:</th>       <td>214.524</td> <th>  Durbin-Watson:     </th> <td>   2.014</td>\n",
       "</tr>\n",
       "<tr>\n",
       "  <th>Prob(Omnibus):</th> <td> 0.000</td>  <th>  Jarque-Bera (JB):  </th> <td>2080.575</td>\n",
       "</tr>\n",
       "<tr>\n",
       "  <th>Skew:</th>          <td> 2.155</td>  <th>  Prob(JB):          </th> <td>    0.00</td>\n",
       "</tr>\n",
       "<tr>\n",
       "  <th>Kurtosis:</th>      <td>13.493</td>  <th>  Cond. No.          </th> <td>7.59e+04</td>\n",
       "</tr>\n",
       "</table>"
      ],
      "text/plain": [
       "<class 'statsmodels.iolib.summary.Summary'>\n",
       "\"\"\"\n",
       "                            OLS Regression Results                            \n",
       "==============================================================================\n",
       "Dep. Variable:                   Apps   R-squared:                       0.920\n",
       "Model:                            OLS   Adj. R-squared:                  0.918\n",
       "Method:                 Least Squares   F-statistic:                     485.2\n",
       "Date:                Sun, 26 Mar 2017   Prob (F-statistic):          1.36e-201\n",
       "Time:                        18:54:33   Log-Likelihood:                -3267.3\n",
       "No. Observations:                 388   AIC:                             6555.\n",
       "Df Residuals:                     378   BIC:                             6594.\n",
       "Df Model:                           9                                         \n",
       "Covariance Type:            nonrobust                                         \n",
       "==============================================================================\n",
       "                 coef    std err          t      P>|t|      [95.0% Conf. Int.]\n",
       "------------------------------------------------------------------------------\n",
       "Intercept   -289.5551    381.218     -0.760      0.448     -1039.129   460.019\n",
       "Accept         1.3236      0.064     20.626      0.000         1.197     1.450\n",
       "Enroll         0.2305      0.159      1.446      0.149        -0.083     0.544\n",
       "Top10perc     52.6062      8.179      6.432      0.000        36.524    68.688\n",
       "Top25perc    -20.0757      6.733     -2.982      0.003       -33.314    -6.837\n",
       "Expend         0.0513      0.017      3.052      0.002         0.018     0.084\n",
       "Books          0.0767      0.327      0.235      0.815        -0.566     0.719\n",
       "Personal      -0.0009      0.085     -0.011      0.991        -0.168     0.167\n",
       "PhD           -4.9089      7.812     -0.628      0.530       -20.270    10.452\n",
       "Terminal      -0.4844      8.427     -0.057      0.954       -17.054    16.085\n",
       "==============================================================================\n",
       "Omnibus:                      214.524   Durbin-Watson:                   2.014\n",
       "Prob(Omnibus):                  0.000   Jarque-Bera (JB):             2080.575\n",
       "Skew:                           2.155   Prob(JB):                         0.00\n",
       "Kurtosis:                      13.493   Cond. No.                     7.59e+04\n",
       "==============================================================================\n",
       "\n",
       "Warnings:\n",
       "[1] Standard Errors assume that the covariance matrix of the errors is correctly specified.\n",
       "[2] The condition number is large, 7.59e+04. This might indicate that there are\n",
       "strong multicollinearity or other numerical problems.\n",
       "\"\"\""
      ]
     },
     "execution_count": 14,
     "metadata": {},
     "output_type": "execute_result"
    }
   ],
   "source": [
    "# Removed Factors >>> +S.F.Ratio+perc.alumni+Grad.Rate+Private01+F.Undergrad+P.Undergrad+Outstate\n",
    "lm = smf.ols(\"Apps ~ Accept+Enroll+Top10perc+Top25perc+Expend+Books+Personal+PhD+Terminal\", data = train).fit()\n",
    "lm.summary()"
   ]
  },
  {
   "cell_type": "code",
   "execution_count": 132,
   "metadata": {
    "collapsed": false
   },
   "outputs": [
    {
     "data": {
      "text/plain": [
       "1260390.8426038101"
      ]
     },
     "execution_count": 132,
     "metadata": {},
     "output_type": "execute_result"
    }
   ],
   "source": [
    "from sklearn.metrics import mean_squared_error\n",
    "from sklearn.decomposition import PCA\n",
    "\n",
    "\n",
    "lr = LinearRegression()\n",
    "lr.fit(train_x, train_y)\n",
    "\n",
    "mean_squared_error(test_y, lr.predict(test_x))"
   ]
  },
  {
   "cell_type": "code",
   "execution_count": 158,
   "metadata": {
    "collapsed": false
   },
   "outputs": [
    {
     "data": {
      "text/plain": [
       "sklearn.linear_model.base.LinearRegression"
      ]
     },
     "execution_count": 158,
     "metadata": {},
     "output_type": "execute_result"
    }
   ],
   "source": [
    "type(lr)"
   ]
  },
  {
   "cell_type": "code",
   "execution_count": 26,
   "metadata": {
    "collapsed": false
   },
   "outputs": [
    {
     "data": {
      "text/plain": [
       "1257064.5140894572"
      ]
     },
     "execution_count": 26,
     "metadata": {},
     "output_type": "execute_result"
    }
   ],
   "source": [
    "import numpy as np\n",
    "grid = 10**np.linspace(-2,4,100)\n",
    "\n",
    "rr_college = RidgeCV(alphas=grid)\n",
    "rr_college = rr_college.fit(train_x, train_y)\n",
    "\n",
    "mean_squared_error(test_y, rr_college.predict(test_x))"
   ]
  },
  {
   "cell_type": "code",
   "execution_count": 27,
   "metadata": {
    "collapsed": false
   },
   "outputs": [
    {
     "data": {
      "text/plain": [
       "1246052.2511365062"
      ]
     },
     "execution_count": 27,
     "metadata": {},
     "output_type": "execute_result"
    }
   ],
   "source": [
    "lr_college = LassoCV(alphas=grid)\n",
    "lr_college = lr_college.fit(train_x, train_y)\n",
    "\n",
    "mean_squared_error(test_y, lr_college.predict(test_x))"
   ]
  },
  {
   "cell_type": "code",
   "execution_count": 113,
   "metadata": {
    "collapsed": false
   },
   "outputs": [],
   "source": [
    "from sklearn.model_selection import cross_val_score\n",
    "pca= PCA()\n",
    "pc_train_x= pca.fit_transform(scale(train_x))\n",
    "pc_test_x= pca.fit_transform(scale(test_x))\n",
    "\n",
    "MSE= []\n",
    "pcr_college = LinearRegression()\n",
    "MSE.append(np.mean(-1 *cross_val_score(pcr_college,\n",
    "                                      np.ones((len(pc_train_x), 1)),\n",
    "                                       train_y,\n",
    "                                       cv=10,\n",
    "                                       scoring= \"neg_mean_squared_error\")))\n",
    "for i in range(1, len(train_x.columns)):\n",
    "    MSE_temp = -1 *cross_val_score(pcr_college,\n",
    "                                      pc_train_x[:,:i],\n",
    "                                       train_y,\n",
    "                                       cv=10,\n",
    "                                       scoring= \"neg_mean_squared_error\")\n",
    "    MSE_temp= np.mean(MSE_temp)\n",
    "    MSE.append(MSE_temp)    "
   ]
  },
  {
   "cell_type": "code",
   "execution_count": 34,
   "metadata": {
    "collapsed": false
   },
   "outputs": [
    {
     "data": {
      "image/png": "[encoded data removed]",
      "text/plain": [
       "<matplotlib.figure.Figure at 0x11ba04710>"
      ]
     },
     "metadata": {},
     "output_type": "display_data"
    }
   ],
   "source": [
    "plt.plot(MSE)\n",
    "plt.show()"
   ]
  },
  {
   "cell_type": "code",
   "execution_count": 101,
   "metadata": {
    "collapsed": false
   },
   "outputs": [
    {
     "data": {
      "text/plain": [
       "1246052.2511365062"
      ]
     },
     "execution_count": 101,
     "metadata": {},
     "output_type": "execute_result"
    }
   ],
   "source": [
    "from sklearn.cross_decomposition import PLSRegression\n",
    "pls_college = PLSRegression(n_components =10)\n",
    "pls_college.fit(scale(train_x), train_y) \n",
    "mean_squared_error(test_y, lr_college.predict(test_x))"
   ]
  },
  {
   "cell_type": "code",
   "execution_count": 114,
   "metadata": {
    "collapsed": false
   },
   "outputs": [
    {
     "data": {
      "text/plain": [
       "7393519.7843770441"
      ]
     },
     "execution_count": 114,
     "metadata": {},
     "output_type": "execute_result"
    }
   ],
   "source": [
    "# Not certain why this is blowing up \n",
    "pcr_college.fit(pc_train_x[:,0:9], train_y)\n",
    "mean_squared_error(test_y, pcr_college.predict(pc_test_x[:,0:9]))\n",
    "#len(pc_test_x)"
   ]
  },
  {
   "cell_type": "code",
   "execution_count": 157,
   "metadata": {
    "collapsed": false
   },
   "outputs": [
    {
     "data": {
      "text/plain": [
       "numpy.ndarray"
      ]
     },
     "execution_count": 157,
     "metadata": {},
     "output_type": "execute_result"
    }
   ],
   "source": [
    "type(pc_test_x)"
   ]
  },
  {
   "cell_type": "code",
   "execution_count": 133,
   "metadata": {
    "collapsed": false
   },
   "outputs": [
    {
     "name": "stdout",
     "output_type": "stream",
     "text": [
      "(389, 17)\n",
      "(389,)\n"
     ]
    }
   ],
   "source": [
    "print(test_x.shape)\n",
    "print(test_y.shape)"
   ]
  },
  {
   "cell_type": "code",
   "execution_count": 135,
   "metadata": {
    "collapsed": false
   },
   "outputs": [
    {
     "data": {
      "text/plain": [
       "(0.9143027241482764,\n",
       " 0.91452888993957882,\n",
       " 0.91527764255196786,\n",
       " 0.4972952174358955,\n",
       " 0.90880120301051459)"
      ]
     },
     "execution_count": 135,
     "metadata": {},
     "output_type": "execute_result"
    }
   ],
   "source": [
    "(lr.score(test_x, test_y),\n",
    "rr_college.score(test_x, test_y),\n",
    "lr_college.score(test_x, test_y),\n",
    "pcr_college.score(pc_test_x[:,0:9], test_y),\n",
    "pls_college.score(scale(test_x), test_y))"
   ]
  },
  {
   "cell_type": "markdown",
   "metadata": {},
   "source": [
    "## Question\n",
    "\n",
    "We have seen that as a number of features used in a model increases, the training error will necessarily decrease, but the test error may not. We will now explore this in a simulated data set."
   ]
  },
  {
   "cell_type": "markdown",
   "metadata": {},
   "source": [
    "1. Generate a data set with $p = 20$ features, $n = 1000$ observations, and an associated quantitative response vector generated according to the model $$Y = X\\beta + \\epsilon$$ where β has some elements that are exactly equal to zero.\n",
    "2. Split your data set into a training set containing 100 observations and a test set containing 900 observations.\n",
    "3. Perform best subset selection on the training set, and plot the training set MSE associated with the best model of each size.\n",
    "4. Plot the test MSE associated with the best model of each size.\n",
    "5. For which model size does the test set MSE take on its minimum value? Comment on your results. It it takes on its minimum value for a model containing only an intercept or a model containing all the features, then play around with the way that you are generating the data in (1) until you come up with a scenario in which the test MSE is minimized for an intermediate model size.\n",
    "6. How does the model at which the test set MSE is minimized compare to the true model used to generate the data ? Comment on the coefficient values.\n",
    "7. Create a plot displaying $$\\sqrt{\\sum_{j=1}^p(\\beta_j - \\hat{\\beta}_j^r)^2}$$ for a range of values of r where $\\hat{\\beta}_j^r$ is the jth coefficient estimate for the best model containing r coefficients. Comment on what you observe. How does this compare to the test MSE plot from (4)?"
   ]
  },
  {
   "cell_type": "code",
   "execution_count": 58,
   "metadata": {
    "collapsed": false
   },
   "outputs": [],
   "source": [
    "import random\n",
    "np.random.seed(3)\n",
    "n= np.random.randn(1000, 20)\n",
    "b= np.random.randn(20)\n",
    "\n",
    "b[3] = 0\n",
    "b[5] = 0\n",
    "b[7] = 0\n",
    "b[9] = 0\n",
    "b[11] = 0\n",
    "\n",
    "eps = np.random.randn(1000)\n",
    "\n",
    "y = np.matmul(x,b) +eps"
   ]
  },
  {
   "cell_type": "code",
   "execution_count": 142,
   "metadata": {
    "collapsed": true
   },
   "outputs": [],
   "source": [
    "train, test = train_test_split(np.column_stack((x,y)), test_size=900, random_state= 0)\n",
    "\n",
    "train_x = train[:,:19]\n",
    "test_x = test[:,:19]\n",
    "train_y = train[:,20]\n",
    "test_y = test[:,20]"
   ]
  },
  {
   "cell_type": "code",
   "execution_count": 172,
   "metadata": {
    "collapsed": false
   },
   "outputs": [],
   "source": [
    "# package, module import object, function\n",
    "from sklearn.feature_selection import SelectKBest, f_regression \n",
    "lm=  LinearRegression()\n",
    "MSE = []\n",
    "\n",
    "for i in range(1,20):\n",
    "    temp = SelectKBest(f_regression, k=i)\n",
    "    temp = temp.fit_transform(train_x, train_y)\n",
    "    temp_ln = lm.fit(temp, train_y)\n",
    "    MSE.append(mean_squared_error(train_y, temp_ln.predict(temp)))\n",
    "\n",
    "lm_full= lm.fit(train_x, train_y)    \n",
    "MSE.append(mean_squared_error(train_y, temp_ln.predict(temp)))\n"
   ]
  },
  {
   "cell_type": "code",
   "execution_count": 173,
   "metadata": {
    "collapsed": false
   },
   "outputs": [
    {
     "name": "stdout",
     "output_type": "stream",
     "text": [
      "[[-0.67524937 -0.61858503 -1.07314986 ...,  1.04637732 -0.24785199\n",
      "   0.96709746]\n",
      " [ 0.68322351  0.3252358  -0.04154044 ...,  2.03457678  1.51062896\n",
      "  -0.27887595]\n",
      " [ 0.40440389 -0.72313522 -2.41126132 ..., -0.32817967 -1.97286997\n",
      "  -1.29249961]\n",
      " ..., \n",
      " [-0.89060204  0.24882628 -2.10149198 ...,  0.71415894 -1.13646275\n",
      "   1.63605149]\n",
      " [ 0.73950591 -1.59695448 -0.24861658 ..., -2.36677935 -1.93858506\n",
      "   0.9225504 ]\n",
      " [ 0.5772154  -1.42406158  0.30741513 ...,  0.12605033 -0.13269715\n",
      "  -0.76885304]]\n"
     ]
    }
   ],
   "source": [
    "#temp\n",
    "print(temp)\n",
    "#type(temp))"
   ]
  },
  {
   "cell_type": "code",
   "execution_count": 159,
   "metadata": {
    "collapsed": false
   },
   "outputs": [
    {
     "name": "stdout",
     "output_type": "stream",
     "text": [
      "[6.5988563645308895, 4.7034899011276279, 3.3981267608850887, 2.7078746954356934, 2.2089390014137602, 2.1114721941679035, 1.8699539899957245, 1.8699299506899913, 1.7839166883601676, 1.781424970314639, 1.7754774299878133, 1.7424045588478101, 1.7389681102850836, 1.687818017099491, 1.1527732520317053, 1.1525558699111487, 1.1409858894040779, 0.88367369111440075, 0.88359063538599036, 0.88359063538599036]\n"
     ]
    }
   ],
   "source": [
    "print(MSE)"
   ]
  },
  {
   "cell_type": "code",
   "execution_count": 66,
   "metadata": {
    "collapsed": false
   },
   "outputs": [
    {
     "data": {
      "image/png": "[encoded data removed]",
      "text/plain": [
       "<matplotlib.figure.Figure at 0x11c48a668>"
      ]
     },
     "metadata": {},
     "output_type": "display_data"
    }
   ],
   "source": [
    "plt.plot(MSE)\n",
    "plt.show()"
   ]
  },
  {
   "cell_type": "code",
   "execution_count": 174,
   "metadata": {
    "collapsed": false
   },
   "outputs": [],
   "source": [
    "lm = LinearRegression()\n",
    "\n",
    "features= []\n",
    "coef = []\n",
    "MSE = []\n",
    "\n",
    "for i in range(1,20):\n",
    "        temp = SelectKBest(f_regression, k=i)\n",
    "        temp = temp.fit(train_x, train_y)\n",
    "        temp_lm = lm.fit(train_x[:, temp.get_support()], train_y)\n",
    "        features.append(temp.get_support(indices=True))\n",
    "        coef.append(temp_lm.coef_)\n",
    "        MSE.append(mean_squared_error(test_y, temp_lm.predict(test_x[:, temp.get_support()])))\n",
    "\n",
    "lm_full= lm.fit(train_x, train_y)    \n",
    "MSE.append(mean_squared_error(test_y, temp_ln.predict(test_x)))\n",
    "coef.append(lm_full.coef_)\n",
    "features.append(np.arange(0,21))        \n",
    "    "
   ]
  },
  {
   "cell_type": "code",
   "execution_count": 180,
   "metadata": {
    "collapsed": false
   },
   "outputs": [
    {
     "data": {
      "text/plain": [
       "array([ True,  True,  True,  True,  True,  True,  True,  True,  True,\n",
       "        True,  True,  True,  True,  True,  True,  True,  True,  True,  True], dtype=bool)"
      ]
     },
     "execution_count": 180,
     "metadata": {},
     "output_type": "execute_result"
    }
   ],
   "source": [
    "temp.get_support()"
   ]
  },
  {
   "cell_type": "code",
   "execution_count": 76,
   "metadata": {
    "collapsed": false
   },
   "outputs": [
    {
     "data": {
      "image/png": "[encoded data removed]",
      "text/plain": [
       "<matplotlib.figure.Figure at 0x11c4920b8>"
      ]
     },
     "metadata": {},
     "output_type": "display_data"
    }
   ],
   "source": [
    "plt.plot(MSE)\n",
    "plt.show()"
   ]
  },
  {
   "cell_type": "markdown",
   "metadata": {},
   "source": [
    "## Question\n",
    "\n",
    "We will now try to predict per capita crime rate in the `Boston` data set."
   ]
  },
  {
   "cell_type": "markdown",
   "metadata": {},
   "source": [
    "1. Try out some of the regression methods explored in this chapter, such as best subset selection, the lasso, ridge regression and PCR. Present and discuss results for the approaches that you consider.\n",
    "2. Propose a model (or set of models) that seem to perform well on this data set, and justify your answer. Make sure that you are evaluating model performance using validation set error, cross-validation, or some other reasonable alternative, as opposed to using training error.\n",
    "3. Does your chosen model involve all of the features in the data set ? Why or why not ?"
   ]
  },
  {
   "cell_type": "code",
   "execution_count": 81,
   "metadata": {
    "collapsed": false
   },
   "outputs": [],
   "source": [
    "boston = pd.read_csv(\"Boston (3).csv\", index_col= 0)\n",
    "train, test = train_test_split(boston, test_size=.2, random_state= 0)\n",
    "\n",
    "\n",
    "train_x = train.drop('crim', axis=1)\n",
    "test_x = test.drop('crim', axis=1)\n",
    "train_y = train['crim']\n",
    "test_y = test['crim']"
   ]
  },
  {
   "cell_type": "code",
   "execution_count": 86,
   "metadata": {
    "collapsed": false
   },
   "outputs": [],
   "source": [
    "lm = LinearRegression()\n",
    "\n",
    "MSE= []\n",
    "for i in range(1, len(train_x.columns)):\n",
    "        temp = SelectKBest(f_regression, k=i)\n",
    "        temp = temp.fit(train_x, train_y)\n",
    "        temp_lm = lm.fit(train_x.iloc[:, temp.get_support()], train_y)\n",
    "        MSE.append(mean_squared_error(test_y, temp_lm.predict(test_x.iloc[:, temp.get_support()])))\n",
    "\n",
    "lm_full= lm.fit(train_x, train_y)    \n",
    "MSE.append(mean_squared_error(test_y, temp_lm.predict(test_x)))    "
   ]
  },
  {
   "cell_type": "code",
   "execution_count": 87,
   "metadata": {
    "collapsed": false
   },
   "outputs": [
    {
     "data": {
      "image/png": "[encoded data removed]",
      "text/plain": [
       "<matplotlib.figure.Figure at 0x11b1e7908>"
      ]
     },
     "metadata": {},
     "output_type": "display_data"
    }
   ],
   "source": [
    "plt.plot(MSE)\n",
    "plt.show()"
   ]
  },
  {
   "cell_type": "code",
   "execution_count": 89,
   "metadata": {
    "collapsed": false
   },
   "outputs": [
    {
     "data": {
      "text/plain": [
       "10"
      ]
     },
     "execution_count": 89,
     "metadata": {},
     "output_type": "execute_result"
    }
   ],
   "source": [
    "MSE.index(min(MSE))"
   ]
  },
  {
   "cell_type": "code",
   "execution_count": 90,
   "metadata": {
    "collapsed": false
   },
   "outputs": [
    {
     "data": {
      "text/plain": [
       "59.571530672273674"
      ]
     },
     "execution_count": 90,
     "metadata": {},
     "output_type": "execute_result"
    }
   ],
   "source": [
    "min(MSE)"
   ]
  },
  {
   "cell_type": "code",
   "execution_count": 91,
   "metadata": {
    "collapsed": false
   },
   "outputs": [
    {
     "name": "stdout",
     "output_type": "stream",
     "text": [
      "61.2757940854\n",
      "61.2757940854\n"
     ]
    }
   ],
   "source": [
    "lr = LassoCV(alphas=grid)\n",
    "lr.fit(train_x, train_y)\n",
    "\n",
    "print(mean_squared_error(test_y, lr.predict(test_x)))\n",
    "\n",
    "rr = LassoCV(alphas=grid)\n",
    "rr.fit(train_x, train_y)\n",
    "\n",
    "print(mean_squared_error(test_y, rr.predict(test_x)))"
   ]
  },
  {
   "cell_type": "code",
   "execution_count": 92,
   "metadata": {
    "collapsed": true
   },
   "outputs": [],
   "source": [
    "pca= PCA()\n",
    "pc_train_x= pca.fit_transform(scale(train_x))\n",
    "pc_test_x= pca.fit_transform(scale(train_x))\n",
    "\n",
    "MSE= []\n",
    "pcr = LinearRegression()\n",
    "MSE.append(np.mean(-1 *cross_val_score(pcr,\n",
    "                                      np.ones((len(pc_train_x), 1)),\n",
    "                                       train_y,\n",
    "                                       cv=10,\n",
    "                                       scoring= \"neg_mean_squared_error\")))\n",
    "for i in range(1, len(train_x.columns)):\n",
    "    MSE_temp = -1 *cross_val_score(pcr,\n",
    "                                      pc_train_x[:,:i],\n",
    "                                       train_y,\n",
    "                                       cv=10,\n",
    "                                       scoring= \"neg_mean_squared_error\")\n",
    "    MSE_temp= np.mean(MSE_temp)\n",
    "    MSE.append(MSE_temp)    "
   ]
  },
  {
   "cell_type": "code",
   "execution_count": 93,
   "metadata": {
    "collapsed": false
   },
   "outputs": [
    {
     "data": {
      "text/plain": [
       "[<matplotlib.lines.Line2D at 0x11b1e4128>]"
      ]
     },
     "execution_count": 93,
     "metadata": {},
     "output_type": "execute_result"
    },
    {
     "data": {
      "image/png": "[encoded data removed]",
      "text/plain": [
       "<matplotlib.figure.Figure at 0x11ba65f60>"
      ]
     },
     "metadata": {},
     "output_type": "display_data"
    }
   ],
   "source": [
    "plt.plot(MSE)"
   ]
  },
  {
   "cell_type": "code",
   "execution_count": 94,
   "metadata": {
    "collapsed": false
   },
   "outputs": [
    {
     "data": {
      "text/plain": [
       "12"
      ]
     },
     "execution_count": 94,
     "metadata": {},
     "output_type": "execute_result"
    }
   ],
   "source": [
    "MSE.index(min(MSE))"
   ]
  },
  {
   "cell_type": "code",
   "execution_count": 95,
   "metadata": {
    "collapsed": false
   },
   "outputs": [
    {
     "data": {
      "text/plain": [
       "40.243260875379306"
      ]
     },
     "execution_count": 95,
     "metadata": {},
     "output_type": "execute_result"
    }
   ],
   "source": [
    "min(MSE)"
   ]
  }
 ],
 "metadata": {
  "anaconda-cloud": {},
  "kernelspec": {
   "display_name": "Python [conda root]",
   "language": "python",
   "name": "conda-root-py"
  },
  "language_info": {
   "codemirror_mode": {
    "name": "ipython",
    "version": 3
   },
   "file_extension": ".py",
   "mimetype": "text/x-python",
   "name": "python",
   "nbconvert_exporter": "python",
   "pygments_lexer": "ipython3",
   "version": "3.5.2"
  }
 },
 "nbformat": 4,
 "nbformat_minor": 2
}
