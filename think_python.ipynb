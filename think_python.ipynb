{
 "cells": [
  {
   "cell_type": "markdown",
   "metadata": {},
   "source": [
    "THINK PYTHON \n",
    "\n",
    "Chapter 1\n",
    "1. In a print statement, what happens if you leave out one of the parentheses, or both?\n",
    "2. If you are trying to print a string, what happens if you leave out one of the quotation marks,\n",
    "or both?\n",
    "3. You can use a minus sign to make a negative number like -2. What happens if you put a plus\n",
    "sign before a number? What about 2++2?\n",
    "8 Chapter 1. The way of the program\n",
    "4. In math notation, leading zeros are ok, as in 02. What happens if you try this in Python?\n",
    "5. What happens if you have two values with no operator between them?"
   ]
  },
  {
   "cell_type": "code",
   "execution_count": 5,
   "metadata": {
    "collapsed": false
   },
   "outputs": [
    {
     "ename": "SyntaxError",
     "evalue": "unexpected EOF while parsing (<ipython-input-5-bc9be2bb9216>, line 2)",
     "output_type": "error",
     "traceback": [
      "\u001b[0;36m  File \u001b[0;32m\"<ipython-input-5-bc9be2bb9216>\"\u001b[0;36m, line \u001b[0;32m2\u001b[0m\n\u001b[0;31m    print (\"I'm a sentenece missing a parenthesis\"\u001b[0m\n\u001b[0m                                                  ^\u001b[0m\n\u001b[0;31mSyntaxError\u001b[0m\u001b[0;31m:\u001b[0m unexpected EOF while parsing\n"
     ]
    }
   ],
   "source": [
    "#1\n",
    "print (\"I'm a sentenece missing a parenthesis\""
   ]
  },
  {
   "cell_type": "code",
   "execution_count": 6,
   "metadata": {
    "collapsed": false
   },
   "outputs": [
    {
     "ename": "SyntaxError",
     "evalue": "EOL while scanning string literal (<ipython-input-6-de918eff7867>, line 2)",
     "output_type": "error",
     "traceback": [
      "\u001b[0;36m  File \u001b[0;32m\"<ipython-input-6-de918eff7867>\"\u001b[0;36m, line \u001b[0;32m2\u001b[0m\n\u001b[0;31m    print (\"I'm a sentenece missing a quote)\u001b[0m\n\u001b[0m                                            ^\u001b[0m\n\u001b[0;31mSyntaxError\u001b[0m\u001b[0;31m:\u001b[0m EOL while scanning string literal\n"
     ]
    }
   ],
   "source": [
    "#2\n",
    "print (\"I'm a sentenece missing a quote)"
   ]
  },
  {
   "cell_type": "code",
   "execution_count": 9,
   "metadata": {
    "collapsed": false
   },
   "outputs": [
    {
     "data": {
      "text/plain": [
       "2"
      ]
     },
     "execution_count": 9,
     "metadata": {},
     "output_type": "execute_result"
    }
   ],
   "source": [
    "+2\n"
   ]
  },
  {
   "cell_type": "code",
   "execution_count": 10,
   "metadata": {
    "collapsed": false
   },
   "outputs": [
    {
     "data": {
      "text/plain": [
       "4"
      ]
     },
     "execution_count": 10,
     "metadata": {},
     "output_type": "execute_result"
    }
   ],
   "source": [
    "2++2"
   ]
  },
  {
   "cell_type": "code",
   "execution_count": 11,
   "metadata": {
    "collapsed": false
   },
   "outputs": [
    {
     "ename": "SyntaxError",
     "evalue": "invalid token (<ipython-input-11-72b2ac90f7f3>, line 1)",
     "output_type": "error",
     "traceback": [
      "\u001b[0;36m  File \u001b[0;32m\"<ipython-input-11-72b2ac90f7f3>\"\u001b[0;36m, line \u001b[0;32m1\u001b[0m\n\u001b[0;31m    02\u001b[0m\n\u001b[0m     ^\u001b[0m\n\u001b[0;31mSyntaxError\u001b[0m\u001b[0;31m:\u001b[0m invalid token\n"
     ]
    }
   ],
   "source": [
    "02"
   ]
  },
  {
   "cell_type": "code",
   "execution_count": 12,
   "metadata": {
    "collapsed": false
   },
   "outputs": [
    {
     "ename": "SyntaxError",
     "evalue": "invalid syntax (<ipython-input-12-847cf70929d6>, line 1)",
     "output_type": "error",
     "traceback": [
      "\u001b[0;36m  File \u001b[0;32m\"<ipython-input-12-847cf70929d6>\"\u001b[0;36m, line \u001b[0;32m1\u001b[0m\n\u001b[0;31m    2 3\u001b[0m\n\u001b[0m      ^\u001b[0m\n\u001b[0;31mSyntaxError\u001b[0m\u001b[0;31m:\u001b[0m invalid syntax\n"
     ]
    }
   ],
   "source": [
    "2 3"
   ]
  },
  {
   "cell_type": "markdown",
   "metadata": {},
   "source": [
    "We’ve seen that n = 42 is legal. What about 42 = n?\n",
    "• How about x=y=1 ✶?\n",
    "• In some languages every statement ends with a semi-colon, ;. What happens if you put a\n",
    "semi-colon at the end of a Python statement?\n",
    "• What if you put a period at the end of a statement?\n",
    "• In math notation you can multiply x and y like this: xy. What happens if you try that in\n",
    "Python?"
   ]
  },
  {
   "cell_type": "code",
   "execution_count": 13,
   "metadata": {
    "collapsed": false
   },
   "outputs": [
    {
     "ename": "SyntaxError",
     "evalue": "can't assign to literal (<ipython-input-13-600427bfcdb2>, line 1)",
     "output_type": "error",
     "traceback": [
      "\u001b[0;36m  File \u001b[0;32m\"<ipython-input-13-600427bfcdb2>\"\u001b[0;36m, line \u001b[0;32m1\u001b[0m\n\u001b[0;31m    42 = n\u001b[0m\n\u001b[0m          ^\u001b[0m\n\u001b[0;31mSyntaxError\u001b[0m\u001b[0;31m:\u001b[0m can't assign to literal\n"
     ]
    }
   ],
   "source": [
    "42 = n"
   ]
  },
  {
   "cell_type": "code",
   "execution_count": 14,
   "metadata": {
    "collapsed": true
   },
   "outputs": [],
   "source": [
    " x=y=1"
   ]
  },
  {
   "cell_type": "code",
   "execution_count": 15,
   "metadata": {
    "collapsed": true
   },
   "outputs": [],
   "source": [
    " x=y=1;"
   ]
  },
  {
   "cell_type": "code",
   "execution_count": 16,
   "metadata": {
    "collapsed": true
   },
   "outputs": [],
   "source": [
    " x=y=1."
   ]
  },
  {
   "cell_type": "code",
   "execution_count": 17,
   "metadata": {
    "collapsed": false
   },
   "outputs": [
    {
     "ename": "NameError",
     "evalue": "name 'xy' is not defined",
     "output_type": "error",
     "traceback": [
      "\u001b[0;31m---------------------------------------------------------------------------\u001b[0m",
      "\u001b[0;31mNameError\u001b[0m                                 Traceback (most recent call last)",
      "\u001b[0;32m<ipython-input-17-603702191eb5>\u001b[0m in \u001b[0;36m<module>\u001b[0;34m()\u001b[0m\n\u001b[0;32m----> 1\u001b[0;31m \u001b[0mxy\u001b[0m\u001b[0;34m\u001b[0m\u001b[0m\n\u001b[0m",
      "\u001b[0;31mNameError\u001b[0m: name 'xy' is not defined"
     ]
    }
   ],
   "source": [
    "xy"
   ]
  },
  {
   "cell_type": "markdown",
   "metadata": {},
   "source": [
    "Exercise 3.1. Write a function named right justify that takes a string named s as a parameter\n",
    "and prints the string with enough leading spaces so that the last letter of the string is in column 70\n",
    "of the display.\n",
    "\n",
    "Hint: Use string concatenation and repetition. Also, Python provides a built-in function called len\n",
    "that returns the length of a string"
   ]
  },
  {
   "cell_type": "code",
   "execution_count": 20,
   "metadata": {
    "collapsed": false
   },
   "outputs": [
    {
     "name": "stdout",
     "output_type": "stream",
     "text": [
      "                                                                 monty\n"
     ]
    }
   ],
   "source": [
    "def right_justify(s):\n",
    "    \n",
    "    length_of_spaces = 70-len(s)\n",
    "    spaces = (\" \" * length_of_spaces)\n",
    "    print(spaces+s)         \n",
    "    \n",
    "right_justify (\"monty\")    \n",
    "    "
   ]
  },
  {
   "cell_type": "markdown",
   "metadata": {},
   "source": [
    " Write a function called square that takes a parameter named t, which is a turtle. It\n",
    "should use the turtle to draw a square.\n",
    "Write a function call that passes bob as an argument to square, and then run the\n",
    "program again."
   ]
  },
  {
   "cell_type": "code",
   "execution_count": null,
   "metadata": {
    "collapsed": false
   },
   "outputs": [],
   "source": [
    "# REVISIT THIS EXERCISE AND FIX BUG\n",
    "import turtle\n",
    "\n",
    "def square (t):\n",
    "\n",
    "    turtle.mainloop()\n",
    "    for i in range(4):\n",
    "        t.fd(100)\n",
    "        t.lt(90)\n",
    "        \n",
    "square (turtle.Turtle)   \n",
    "\n"
   ]
  },
  {
   "cell_type": "code",
   "execution_count": 2,
   "metadata": {
    "collapsed": false
   },
   "outputs": [
    {
     "ename": "NameError",
     "evalue": "name 'square' is not defined",
     "output_type": "error",
     "traceback": [
      "\u001b[0;31m---------------------------------------------------------------------------\u001b[0m",
      "\u001b[0;31mNameError\u001b[0m                                 Traceback (most recent call last)",
      "\u001b[0;32m<ipython-input-2-c7c59673f4b1>\u001b[0m in \u001b[0;36m<module>\u001b[0;34m()\u001b[0m\n\u001b[1;32m      1\u001b[0m \u001b[0;32mimport\u001b[0m \u001b[0mturtle\u001b[0m\u001b[0;34m\u001b[0m\u001b[0m\n\u001b[1;32m      2\u001b[0m \u001b[0mbob\u001b[0m \u001b[0;34m=\u001b[0m \u001b[0mturtle\u001b[0m\u001b[0;34m.\u001b[0m\u001b[0mTurtle\u001b[0m\u001b[0;34m(\u001b[0m\u001b[0;34m)\u001b[0m\u001b[0;34m\u001b[0m\u001b[0m\n\u001b[0;32m----> 3\u001b[0;31m \u001b[0msquare\u001b[0m \u001b[0;34m(\u001b[0m\u001b[0mbob\u001b[0m\u001b[0;34m)\u001b[0m\u001b[0;34m\u001b[0m\u001b[0m\n\u001b[0m",
      "\u001b[0;31mNameError\u001b[0m: name 'square' is not defined"
     ]
    }
   ],
   "source": [
    "import turtle\n",
    "bob = turtle.Turtle()\n",
    "square (bob) "
   ]
  },
  {
   "cell_type": "markdown",
   "metadata": {
    "collapsed": true
   },
   "source": [
    "Write a script that reads the current time and converts it to a time of day in hours, minutes, and\n",
    "seconds, plus the number of days since the epoch."
   ]
  },
  {
   "cell_type": "code",
   "execution_count": 49,
   "metadata": {
    "collapsed": false
   },
   "outputs": [
    {
     "name": "stdout",
     "output_type": "stream",
     "text": [
      "2016-12-02 11:05:44.000732\n"
     ]
    },
    {
     "data": {
      "text/plain": [
       "17137.670648158914"
      ]
     },
     "execution_count": 49,
     "metadata": {},
     "output_type": "execute_result"
    }
   ],
   "source": [
    "# Extract the time from the output to complete the problem\n",
    "import time\n",
    "from datetime import datetime\n",
    "now = datetime.now()\n",
    "print(now)\n",
    "\n",
    "time.time()/3600/24\n",
    "\n",
    "# ROUGH CHECK ON YRS SINCE EPOCH\n",
    "# 47*365 = 17155"
   ]
  },
  {
   "cell_type": "markdown",
   "metadata": {},
   "source": [
    "Question\n",
    "Exercise 6.1. Draw a stack diagram for the following program. What does the program print?\n",
    "\n",
    "Answer\n",
    "Without running it, I think the output is: '8100'\n",
    "Return to complete the stack diagram"
   ]
  },
  {
   "cell_type": "markdown",
   "metadata": {},
   "source": [
    "\n",
    "Copy the loop from Section 7.5 and encapsulate it in a function called ♠②sqrt that\n",
    "takes ❛ as a parameter, chooses a reasonable value of ①, and returns an estimate of the square root of\n",
    "❛.\n",
    "To test it, write a function named t❡st❴sq✉❛r❡❴r♦♦t that prints a table like this:\n",
    "a\t\t msqrt(a)\t\t math.sqrt(a)\t\t diff\n",
    "0 \t\t 2.5 \t\t 0.0 \t\t -2.5\n",
    "1 \t\t 2.6 \t\t 1.0 \t\t -1.6"
   ]
  },
  {
   "cell_type": "code",
   "execution_count": 90,
   "metadata": {
    "collapsed": false
   },
   "outputs": [
    {
     "name": "stdout",
     "output_type": "stream",
     "text": [
      "a\t\t msqrt(a)\t\t math.sqrt(a)\t\t diff\n",
      "0 \t\t 2.5 \t\t 0.0 \t\t -2.5\n",
      "1 \t\t 2.6 \t\t 1.0 \t\t -1.6\n",
      "2 \t\t 2.7 \t\t 1.4142135623730951 \t\t -1.285786437626905\n",
      "3 \t\t 2.8 \t\t 1.7320508075688772 \t\t -1.0679491924311226\n",
      "4 \t\t 2.9 \t\t 2.0 \t\t -0.8999999999999999\n",
      "5 \t\t 3.0 \t\t 2.23606797749979 \t\t -0.7639320225002102\n",
      "6 \t\t 3.1 \t\t 2.449489742783178 \t\t -0.6505102572168222\n",
      "7 \t\t 3.2 \t\t 2.6457513110645907 \t\t -0.5542486889354095\n",
      "8 \t\t 3.3 \t\t 2.8284271247461903 \t\t -0.47157287525380953\n"
     ]
    }
   ],
   "source": [
    "template = '%.2f'\n",
    "import math\n",
    "def my_sqrt(a):\n",
    "    x= 5\n",
    "    y = (x + a/x) /2\n",
    "    return y\n",
    "#my_sqrt(49)\n",
    "\n",
    "def test_my_sqrt():\n",
    "    print (\"a\\t\\t\", \"msqrt(a)\\t\\t\", \"math.sqrt(a)\\t\\t\", \"diff\")\n",
    "    for i in range (9):\n",
    "        my_sqrt_answer = my_sqrt(i)\n",
    "        built_in_answer = math.sqrt(i)\n",
    "#        print month, \"\\t\\t\", payment, \"\\t\\t\", template % (interest),\"\\t\\t\", template % (balance)\n",
    "        print (i, \"\\t\\t\", str(my_sqrt_answer), \"\\t\\t\", str(built_in_answer), \"\\t\\t\", str(built_in_answer-my_sqrt_answer))\n",
    "        \n",
    "test_my_sqrt()        \n",
    "    "
   ]
  },
  {
   "cell_type": "markdown",
   "metadata": {},
   "source": [
    "Exercise 8.1. Read the documentation of the string method"
   ]
  },
  {
   "cell_type": "markdown",
   "metadata": {},
   "source": [
    "Exercise 9.1. Write a program that reads ✇♦r❞s✳t①t and prints only the words with more than 20\n",
    "characters (not counting whitespace)."
   ]
  },
  {
   "cell_type": "code",
   "execution_count": 13,
   "metadata": {
    "collapsed": false
   },
   "outputs": [
    {
     "name": "stdout",
     "output_type": "stream",
     "text": [
      "113808\n",
      "<class 'pandas.core.frame.DataFrame'>\n"
     ]
    },
    {
     "data": {
      "text/plain": [
       "['aa']"
      ]
     },
     "execution_count": 13,
     "metadata": {},
     "output_type": "execute_result"
    }
   ],
   "source": [
    "# WIP\n",
    "\n",
    "import pandas as pd\n",
    "#(for Python 3+ use 'import urllib.request' and urllib.request.urlretrieve)\n",
    "# urllib.request.urlretrieve(\"http://thinkpython2.com/code/words.txt\", \"words.txt\")\n",
    "#import urllib.request  # the lib that handles the url stuff\n",
    "#target_url = \"http://greenteapress.com/thinkpython2/code/words.txt\"\n",
    "#words = urllib.request.urlretrieve(\"http://thinkpython2.com/code/words.txt\", \"words.txt\")\n",
    "## ABOVE CODE GENERATES A TUPLE AND ATTEMPTS TO CAST TO LIST UNSUCCESFUL\n",
    "#<class 'tuple'>\n",
    "#['words.txt', <http.client.HTTPMessage object at 0x115190208>]\n",
    "\n",
    "words = pd.read_csv(\"words.csv\")\n",
    "#with open(\"words.csv\",encoding = \"ISO-8859-1\") as words:\n",
    "words_abbreviated_list = words[:100]\n",
    "print(len(words))\n",
    "print(type(words))\n",
    "#words_list =list(words)\n",
    "#print(type(words)\n",
    "#print(words_list)\n",
    "\n",
    "bucket = list()\n",
    "for word in words_abbreviated_list:\n",
    "    if len(word) > 10:\n",
    "        print(word)\n",
    "    bucket.append(word)\n",
    "bucket[:]\n",
    "        \n",
    "        "
   ]
  }
 ],
 "metadata": {
  "kernelspec": {
   "display_name": "Python 3",
   "language": "python",
   "name": "python3"
  },
  "language_info": {
   "codemirror_mode": {
    "name": "ipython",
    "version": 3
   },
   "file_extension": ".py",
   "mimetype": "text/x-python",
   "name": "python",
   "nbconvert_exporter": "python",
   "pygments_lexer": "ipython3",
   "version": "3.5.2"
  }
 },
 "nbformat": 4,
 "nbformat_minor": 0
}
