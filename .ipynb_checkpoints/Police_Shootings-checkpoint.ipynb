{
 "cells": [
  {
   "cell_type": "markdown",
   "metadata": {},
   "source": [
    "Police Killings\n",
    "The Guardian launched “The Counted,” an impressive interactive database of Americans killed by police since the start of the year. It started in 2015, but you can check the recent stats for 2016. We will explore the data by race, income and state.\n",
    "Assignment\n",
    "\n",
    "Import the data and examine the head and columns\n",
    "Get the total counts for each racial grouping\n",
    "Find the relative % for each racial grouping\n",
    "How do the killings compare with the overall US breakdown of population by race?"
   ]
  },
  {
   "cell_type": "code",
   "execution_count": 4,
   "metadata": {
    "collapsed": false
   },
   "outputs": [
    {
     "data": {
      "text/html": [
       "<div>\n",
       "<table border=\"1\" class=\"dataframe\">\n",
       "  <thead>\n",
       "    <tr style=\"text-align: right;\">\n",
       "      <th></th>\n",
       "      <th>name</th>\n",
       "      <th>age</th>\n",
       "      <th>gender</th>\n",
       "      <th>raceethnicity</th>\n",
       "      <th>month</th>\n",
       "      <th>day</th>\n",
       "      <th>year</th>\n",
       "      <th>streetaddress</th>\n",
       "      <th>city</th>\n",
       "      <th>state</th>\n",
       "      <th>...</th>\n",
       "      <th>share_hispanic</th>\n",
       "      <th>p_income</th>\n",
       "      <th>h_income</th>\n",
       "      <th>county_income</th>\n",
       "      <th>comp_income</th>\n",
       "      <th>county_bucket</th>\n",
       "      <th>nat_bucket</th>\n",
       "      <th>pov</th>\n",
       "      <th>urate</th>\n",
       "      <th>college</th>\n",
       "    </tr>\n",
       "  </thead>\n",
       "  <tbody>\n",
       "    <tr>\n",
       "      <th>0</th>\n",
       "      <td>A'donte Washington</td>\n",
       "      <td>16</td>\n",
       "      <td>Male</td>\n",
       "      <td>Black</td>\n",
       "      <td>February</td>\n",
       "      <td>23</td>\n",
       "      <td>2015</td>\n",
       "      <td>Clearview Ln</td>\n",
       "      <td>Millbrook</td>\n",
       "      <td>AL</td>\n",
       "      <td>...</td>\n",
       "      <td>5.6</td>\n",
       "      <td>28375</td>\n",
       "      <td>51367.0</td>\n",
       "      <td>54766</td>\n",
       "      <td>0.937936</td>\n",
       "      <td>3.0</td>\n",
       "      <td>3.0</td>\n",
       "      <td>14.1</td>\n",
       "      <td>0.097686</td>\n",
       "      <td>0.168510</td>\n",
       "    </tr>\n",
       "    <tr>\n",
       "      <th>1</th>\n",
       "      <td>Aaron Rutledge</td>\n",
       "      <td>27</td>\n",
       "      <td>Male</td>\n",
       "      <td>White</td>\n",
       "      <td>April</td>\n",
       "      <td>2</td>\n",
       "      <td>2015</td>\n",
       "      <td>300 block Iris Park Dr</td>\n",
       "      <td>Pineville</td>\n",
       "      <td>LA</td>\n",
       "      <td>...</td>\n",
       "      <td>0.5</td>\n",
       "      <td>14678</td>\n",
       "      <td>27972.0</td>\n",
       "      <td>40930</td>\n",
       "      <td>0.683411</td>\n",
       "      <td>2.0</td>\n",
       "      <td>1.0</td>\n",
       "      <td>28.8</td>\n",
       "      <td>0.065724</td>\n",
       "      <td>0.111402</td>\n",
       "    </tr>\n",
       "    <tr>\n",
       "      <th>2</th>\n",
       "      <td>Aaron Siler</td>\n",
       "      <td>26</td>\n",
       "      <td>Male</td>\n",
       "      <td>White</td>\n",
       "      <td>March</td>\n",
       "      <td>14</td>\n",
       "      <td>2015</td>\n",
       "      <td>22nd Ave and 56th St</td>\n",
       "      <td>Kenosha</td>\n",
       "      <td>WI</td>\n",
       "      <td>...</td>\n",
       "      <td>16.8</td>\n",
       "      <td>25286</td>\n",
       "      <td>45365.0</td>\n",
       "      <td>54930</td>\n",
       "      <td>0.825869</td>\n",
       "      <td>2.0</td>\n",
       "      <td>3.0</td>\n",
       "      <td>14.6</td>\n",
       "      <td>0.166293</td>\n",
       "      <td>0.147312</td>\n",
       "    </tr>\n",
       "    <tr>\n",
       "      <th>3</th>\n",
       "      <td>Aaron Valdez</td>\n",
       "      <td>25</td>\n",
       "      <td>Male</td>\n",
       "      <td>Hispanic/Latino</td>\n",
       "      <td>March</td>\n",
       "      <td>11</td>\n",
       "      <td>2015</td>\n",
       "      <td>3000 Seminole Ave</td>\n",
       "      <td>South Gate</td>\n",
       "      <td>CA</td>\n",
       "      <td>...</td>\n",
       "      <td>98.8</td>\n",
       "      <td>17194</td>\n",
       "      <td>48295.0</td>\n",
       "      <td>55909</td>\n",
       "      <td>0.863814</td>\n",
       "      <td>3.0</td>\n",
       "      <td>3.0</td>\n",
       "      <td>11.7</td>\n",
       "      <td>0.124827</td>\n",
       "      <td>0.050133</td>\n",
       "    </tr>\n",
       "    <tr>\n",
       "      <th>4</th>\n",
       "      <td>Adam Jovicic</td>\n",
       "      <td>29</td>\n",
       "      <td>Male</td>\n",
       "      <td>White</td>\n",
       "      <td>March</td>\n",
       "      <td>19</td>\n",
       "      <td>2015</td>\n",
       "      <td>364 Hiwood Ave</td>\n",
       "      <td>Munroe Falls</td>\n",
       "      <td>OH</td>\n",
       "      <td>...</td>\n",
       "      <td>1.7</td>\n",
       "      <td>33954</td>\n",
       "      <td>68785.0</td>\n",
       "      <td>49669</td>\n",
       "      <td>1.384868</td>\n",
       "      <td>5.0</td>\n",
       "      <td>4.0</td>\n",
       "      <td>1.9</td>\n",
       "      <td>0.063550</td>\n",
       "      <td>0.403954</td>\n",
       "    </tr>\n",
       "  </tbody>\n",
       "</table>\n",
       "<p>5 rows × 34 columns</p>\n",
       "</div>"
      ],
      "text/plain": [
       "                 name age gender    raceethnicity     month  day  year  \\\n",
       "0  A'donte Washington  16   Male            Black  February   23  2015   \n",
       "1      Aaron Rutledge  27   Male            White     April    2  2015   \n",
       "2         Aaron Siler  26   Male            White     March   14  2015   \n",
       "3        Aaron Valdez  25   Male  Hispanic/Latino     March   11  2015   \n",
       "4        Adam Jovicic  29   Male            White     March   19  2015   \n",
       "\n",
       "            streetaddress          city state    ...     share_hispanic  \\\n",
       "0            Clearview Ln     Millbrook    AL    ...                5.6   \n",
       "1  300 block Iris Park Dr     Pineville    LA    ...                0.5   \n",
       "2    22nd Ave and 56th St       Kenosha    WI    ...               16.8   \n",
       "3       3000 Seminole Ave    South Gate    CA    ...               98.8   \n",
       "4          364 Hiwood Ave  Munroe Falls    OH    ...                1.7   \n",
       "\n",
       "   p_income  h_income  county_income  comp_income  county_bucket  nat_bucket  \\\n",
       "0     28375   51367.0          54766     0.937936            3.0         3.0   \n",
       "1     14678   27972.0          40930     0.683411            2.0         1.0   \n",
       "2     25286   45365.0          54930     0.825869            2.0         3.0   \n",
       "3     17194   48295.0          55909     0.863814            3.0         3.0   \n",
       "4     33954   68785.0          49669     1.384868            5.0         4.0   \n",
       "\n",
       "    pov     urate   college  \n",
       "0  14.1  0.097686  0.168510  \n",
       "1  28.8  0.065724  0.111402  \n",
       "2  14.6  0.166293  0.147312  \n",
       "3  11.7  0.124827  0.050133  \n",
       "4   1.9  0.063550  0.403954  \n",
       "\n",
       "[5 rows x 34 columns]"
      ]
     },
     "execution_count": 4,
     "metadata": {},
     "output_type": "execute_result"
    }
   ],
   "source": [
    "import pandas as pd\n",
    "import numpy as np\n",
    "\n",
    "newdata = pd.read_csv(\"https://raw.githubusercontent.com/k2datascience/ds-foundations/master/code/police_killings.csv\", sep = \",\")\n",
    "newdata.head()\n",
    "#newdata.()\n"
   ]
  },
  {
   "cell_type": "code",
   "execution_count": 20,
   "metadata": {
    "collapsed": false
   },
   "outputs": [
    {
     "data": {
      "text/plain": [
       "(467, 34)"
      ]
     },
     "execution_count": 20,
     "metadata": {},
     "output_type": "execute_result"
    }
   ],
   "source": [
    "newdata.shape"
   ]
  },
  {
   "cell_type": "code",
   "execution_count": 150,
   "metadata": {
    "collapsed": false
   },
   "outputs": [
    {
     "data": {
      "text/plain": [
       "name                     object\n",
       "age                      object\n",
       "gender                   object\n",
       "raceethnicity            object\n",
       "month                    object\n",
       "day                       int64\n",
       "year                      int64\n",
       "streetaddress            object\n",
       "city                     object\n",
       "state                    object\n",
       "latitude                float64\n",
       "longitude               float64\n",
       "state_fp                  int64\n",
       "county_fp                 int64\n",
       "tract_ce                  int64\n",
       "geo_id                    int64\n",
       "county_id                 int64\n",
       "namelsad                 object\n",
       "lawenforcementagency     object\n",
       "cause                    object\n",
       "armed                    object\n",
       "pop                       int64\n",
       "share_white              object\n",
       "share_black              object\n",
       "share_hispanic           object\n",
       "p_income                 object\n",
       "h_income                float64\n",
       "county_income             int64\n",
       "comp_income             float64\n",
       "county_bucket           float64\n",
       "nat_bucket              float64\n",
       "pov                      object\n",
       "urate                   float64\n",
       "college                 float64\n",
       "dtype: object"
      ]
     },
     "execution_count": 150,
     "metadata": {},
     "output_type": "execute_result"
    }
   ],
   "source": [
    "newdata.columns\n",
    "headers = newdata[:1]\n",
    "data = newdata[1:]\n",
    "newdata.dtypes"
   ]
  },
  {
   "cell_type": "code",
   "execution_count": 66,
   "metadata": {
    "collapsed": false,
    "scrolled": false
   },
   "outputs": [
    {
     "name": "stdout",
     "output_type": "stream",
     "text": [
      "<pandas.core.groupby.DataFrameGroupBy object at 0x11627b4e0>\n"
     ]
    },
    {
     "data": {
      "text/plain": [
       "raceethnicity\n",
       "Asian/Pacific Islander     10\n",
       "Black                     135\n",
       "Hispanic/Latino            67\n",
       "Native American             4\n",
       "Unknown                    15\n",
       "White                     236\n",
       "Name: name, dtype: int64"
      ]
     },
     "execution_count": 66,
     "metadata": {},
     "output_type": "execute_result"
    }
   ],
   "source": [
    "# Subgrouped and calling .count to determine number of instances of each ethnicity\n",
    "data_subset= newdata.groupby('raceethnicity')\n",
    "print(data_subset)\n",
    "\n",
    "count = data_subset.count()['name']\n",
    "sum_count = data_subset.count()['name'].sum()\n",
    "count"
   ]
  },
  {
   "cell_type": "code",
   "execution_count": 98,
   "metadata": {
    "collapsed": false
   },
   "outputs": [],
   "source": [
    "# Calculating relative %\n",
    "percent_by_ethnicity = count / sum_count *100\n",
    "#percent_by_ethnicity= DataFrame(percent_by_ethnicity).set_index('raceethnicity')\n"
   ]
  },
  {
   "cell_type": "code",
   "execution_count": 85,
   "metadata": {
    "collapsed": false
   },
   "outputs": [
    {
     "name": "stdout",
     "output_type": "stream",
     "text": [
      "Shooting incidence factor by US ethnicity group: \n",
      "\n",
      "Asian/Pacific Islander 0.455601621942\n",
      "Black 2.36950187805\n",
      "Hispanic/Latino 0.88017761196\n",
      "Native American 1.22361578464\n",
      "Unknown 1.69052180773\n",
      "White 0.793333310923\n"
     ]
    }
   ],
   "source": [
    "# US Census Stats- Wikipedia. Took a liberty or two in aggregating a subgroup for the purpose of the exercise\n",
    "US_population = '''Non-Hispanic White\t196,817,552\t63.7 %\n",
    "Non-Hispanic Black\t37,685,848\t12.2 %\n",
    "Non-Hispanic Asian\t14,465,124\t4.7 %\n",
    "Non-Hispanic American Indian or Alaska Native\t2,247,098\t0.7 %\n",
    "Non-Hispanic Native Hawaiian or other Pacific Islander\t481,576\t0.2 %\n",
    "Non-Hispanic some other race\t604,265\t0.2 %\n",
    "Non-Hispanic two or more races\t5,966,481\t1.9 %\n",
    "Hispanic or Latino\t50,477,594\t16.3 %\n",
    "Total\t308,745,538\t100.0%'''\n",
    "\n",
    "US_population_dict  = {'White': 63.7,\n",
    "'Black': 12.2,\n",
    "'Asian/Pacific Islander': 4.7,\n",
    "'Native American': 0.7,\n",
    "'Unknown': 1.9, \n",
    "'Hispanic/Latino':16.3}\n",
    "\n",
    "print (\"Shooting incidence factor by US ethnicity group: \\n\")\n",
    "for eth in percent_by_ethnicity.index:\n",
    "    print(eth, percent_by_ethnicity[eth]/(US_population_dict[eth]))\n"
   ]
  },
  {
   "cell_type": "markdown",
   "metadata": {},
   "source": [
    "Assignment\n",
    "Graph the killings by race using a bar chart. Make sure to label the graph and axes\n",
    "Graph the killings by \"p_income\" using a histogram with different bin amounts (remember to remove any \"-\" values)\n",
    "Calculate the median \"p_income\""
   ]
  },
  {
   "cell_type": "code",
   "execution_count": 218,
   "metadata": {
    "collapsed": false
   },
   "outputs": [
    {
     "data": {
      "text/plain": [
       "Index(['Asian/Pacific Islander', 'Black', 'Hispanic/Latino', 'Native American',\n",
       "       'Unknown', 'White'],\n",
       "      dtype='object', name='raceethnicity')"
      ]
     },
     "execution_count": 218,
     "metadata": {},
     "output_type": "execute_result"
    }
   ],
   "source": [
    "percent_by_ethnicity_df['name'].index\n"
   ]
  },
  {
   "cell_type": "code",
   "execution_count": 241,
   "metadata": {
    "collapsed": false
   },
   "outputs": [
    {
     "name": "stderr",
     "output_type": "stream",
     "text": [
      "/Users/dancardella/anaconda/envs/py3k/lib/python3.5/site-packages/ipykernel/__main__.py:9: FutureWarning: order is deprecated, use sort_values(...)\n"
     ]
    },
    {
     "data": {
      "text/plain": [
       "<matplotlib.text.Text at 0x11c0c2470>"
      ]
     },
     "execution_count": 241,
     "metadata": {},
     "output_type": "execute_result"
    },
    {
     "data": {
      "image/png": "[encoded data removed]",
      "text/plain": [
       "<matplotlib.figure.Figure at 0x11b0a2e10>"
      ]
     },
     "metadata": {},
     "output_type": "display_data"
    }
   ],
   "source": [
    "import matplotlib.pyplot as plt\n",
    "%matplotlib inline\n",
    "\n",
    "# Recast percent_by_ethnicity as a df but didn't correct the errors indicated below\n",
    "percent_by_ethnicity_df = pd.DataFrame(data = percent_by_ethnicity, index =percent_by_ethnicity.index)\n",
    "shooting_ethnicity= percent_by_ethnicity_df['name']\n",
    "shooting_ethnicity= shooting_ethnicity.order()\n",
    "index = np.arange(len(shooting_ethnicity))\n",
    "#index = percent_by_ethnicity_df['name'].index\n",
    "#indexlabels = np.array(['Asian/Pacific Islander', 'Black', 'Hispanic/Latino', 'Native American', 'Unknown', 'White'])\n",
    "\n",
    "plt.bar(index, shooting_ethnicity)\n",
    "#plt.xticks(index, indexlabels)\n",
    "plt.xlabel('Ethnicity (still working on getting labels to show)')\n",
    "plt.ylabel('Percent')\n",
    "plt.title(\"Ethnicity Shootings by Percent\")\n",
    "\n",
    "#percent_by_ethnicity_df"
   ]
  },
  {
   "cell_type": "markdown",
   "metadata": {},
   "source": [
    "# POSSIBLE FUNCTIONS TO CALL ON GROUPBY OBJECTS\n",
    "#gb.agg        gb.boxplot    gb.cummin     gb.describe   gb.filter     gb.get_group  gb.height     gb.last       gb.median     gb.ngroups    gb.plot       gb.rank       gb.std        gb.transform\n",
    "#gb.aggregate  gb.count      gb.cumprod    gb.dtype      gb.first      gb.groups     gb.hist       gb.max        gb.min        gb.nth        gb.prod       gb.resample   gb.sum        gb.var\n",
    "#gb.apply      gb.cummax     gb.cumsum     gb.fillna     gb.gender     gb.head       gb.indices\n",
    "\n",
    "#p_income_subset= newdata.groupby('p_income', bins= [])\n"
   ]
  },
  {
   "cell_type": "code",
   "execution_count": 187,
   "metadata": {
    "collapsed": false,
    "scrolled": false
   },
   "outputs": [
    {
     "name": "stderr",
     "output_type": "stream",
     "text": [
      "/Users/dancardella/anaconda/envs/py3k/lib/python3.5/site-packages/ipykernel/__main__.py:8: SettingWithCopyWarning: \n",
      "A value is trying to be set on a copy of a slice from a DataFrame\n",
      "\n",
      "See the caveats in the documentation: http://pandas.pydata.org/pandas-docs/stable/indexing.html#indexing-view-versus-copy\n"
     ]
    },
    {
     "data": {
      "text/plain": [
       "22348.0"
      ]
     },
     "execution_count": 187,
     "metadata": {},
     "output_type": "execute_result"
    }
   ],
   "source": [
    "# Revising string columns of p_income to float (and checking/Nan amending if '-' exists)\n",
    "pd.set_option('display.max_columns', None)\n",
    "pd.set_option('display.max_row', None)\n",
    "\n",
    "for i in range(len(newdata['p_income'])):\n",
    "    if newdata['p_income'][i] ==\"-\":\n",
    "        newdata['p_income'][i] = \"Nan\"\n",
    "    newdata['p_income'][i]=float(newdata['p_income'][i])\n",
    "    \n",
    "newdata['p_income'].median()"
   ]
  },
  {
   "cell_type": "code",
   "execution_count": 191,
   "metadata": {
    "collapsed": false
   },
   "outputs": [
    {
     "data": {
      "text/plain": [
       "<matplotlib.text.Text at 0x11af015f8>"
      ]
     },
     "execution_count": 191,
     "metadata": {},
     "output_type": "execute_result"
    },
    {
     "data": {
      "image/png": "[encoded data removed]",
      "text/plain": [
       "<matplotlib.figure.Figure at 0x11ab42a20>"
      ]
     },
     "metadata": {},
     "output_type": "display_data"
    }
   ],
   "source": [
    "import matplotlib.pyplot as plt\n",
    "%matplotlib inline\n",
    "\n",
    "\n",
    "plt.hist(newdata['p_income'], bins=[0, 10000, 20000, 30000, 40000, 50000,60000])\n",
    "# Recast percent_by_ethnicity as a df but didn't correct the errors indicated below\n",
    "#percent_by_ethnicity_df = pd.DataFrame(data = percent_by_ethnicity, index =percent_by_ethnicity.index)\n",
    "\n",
    "plt.xlabel('Victim Income')\n",
    "plt.ylabel('Number of Victims')\n",
    "plt.title(\"A (slightly) Better Looking Graph\")\n"
   ]
  },
  {
   "cell_type": "markdown",
   "metadata": {},
   "source": [
    "Assignment\n",
    "Find the total killings per each state\n",
    "Create a new dataframe and remove any \"-\" from the following columns \"share_white\", \"share_black\" and \"share_hispanic\"\n",
    "Convert the values in those columns to float types\n",
    "Find the mean of 'pop', 'county_income' and those 3 columns for the following subsets\n",
    "lowest_states = [\"CT\", \"PA\", \"IA\", \"NY\", \"MA\", \"NH\", \"ME\", \"IL\", \"OH\", \"WI\"]\n",
    "highest_states = [\"OK\", \"AZ\", \"NE\", \"HI\", \"AK\", \"ID\", \"NM\", \"LA\", \"CO\", \"DE\"]"
   ]
  },
  {
   "cell_type": "code",
   "execution_count": 280,
   "metadata": {
    "collapsed": false
   },
   "outputs": [
    {
     "data": {
      "text/plain": [
       "state\n",
       "AK     2\n",
       "AL     8\n",
       "AR     4\n",
       "AZ    25\n",
       "CA    74\n",
       "CO    12\n",
       "CT     1\n",
       "DC     1\n",
       "DE     2\n",
       "FL    29\n",
       "GA    16\n",
       "HI     4\n",
       "IA     2\n",
       "ID     4\n",
       "IL    11\n",
       "IN     8\n",
       "KS     6\n",
       "KY     7\n",
       "LA    11\n",
       "MA     5\n",
       "MD    10\n",
       "ME     1\n",
       "MI     9\n",
       "MN     6\n",
       "MO    10\n",
       "MS     6\n",
       "MT     2\n",
       "NC    10\n",
       "NE     6\n",
       "NH     1\n",
       "NJ    11\n",
       "NM     5\n",
       "NV     3\n",
       "NY    14\n",
       "OH    10\n",
       "OK    22\n",
       "OR     8\n",
       "PA     7\n",
       "SC     9\n",
       "TN     6\n",
       "TX    46\n",
       "UT     5\n",
       "VA     9\n",
       "WA    11\n",
       "WI     5\n",
       "WV     2\n",
       "WY     1\n",
       "Name: name, dtype: int64"
      ]
     },
     "execution_count": 280,
     "metadata": {},
     "output_type": "execute_result"
    }
   ],
   "source": [
    "state_group= newdata.groupby('state')\n",
    "shootings_by_state_df= state_group.agg(np.size)\n",
    "shootings_by_state_df['name']"
   ]
  },
  {
   "cell_type": "code",
   "execution_count": 5,
   "metadata": {
    "collapsed": false
   },
   "outputs": [
    {
     "name": "stderr",
     "output_type": "stream",
     "text": [
      "/Users/dancardella/anaconda/envs/py3k/lib/python3.5/site-packages/ipykernel/__main__.py:7: SettingWithCopyWarning: \n",
      "A value is trying to be set on a copy of a slice from a DataFrame\n",
      "\n",
      "See the caveats in the documentation: http://pandas.pydata.org/pandas-docs/stable/indexing.html#indexing-view-versus-copy\n",
      "/Users/dancardella/anaconda/envs/py3k/lib/python3.5/site-packages/ipykernel/__main__.py:6: SettingWithCopyWarning: \n",
      "A value is trying to be set on a copy of a slice from a DataFrame\n",
      "\n",
      "See the caveats in the documentation: http://pandas.pydata.org/pandas-docs/stable/indexing.html#indexing-view-versus-copy\n"
     ]
    },
    {
     "data": {
      "text/html": [
       "<div>\n",
       "<table border=\"1\" class=\"dataframe\">\n",
       "  <thead>\n",
       "    <tr style=\"text-align: right;\">\n",
       "      <th></th>\n",
       "      <th>name</th>\n",
       "      <th>age</th>\n",
       "      <th>gender</th>\n",
       "      <th>raceethnicity</th>\n",
       "      <th>month</th>\n",
       "      <th>day</th>\n",
       "      <th>year</th>\n",
       "      <th>streetaddress</th>\n",
       "      <th>city</th>\n",
       "      <th>state</th>\n",
       "      <th>...</th>\n",
       "      <th>share_hispanic</th>\n",
       "      <th>p_income</th>\n",
       "      <th>h_income</th>\n",
       "      <th>county_income</th>\n",
       "      <th>comp_income</th>\n",
       "      <th>county_bucket</th>\n",
       "      <th>nat_bucket</th>\n",
       "      <th>pov</th>\n",
       "      <th>urate</th>\n",
       "      <th>college</th>\n",
       "    </tr>\n",
       "  </thead>\n",
       "  <tbody>\n",
       "    <tr>\n",
       "      <th>0</th>\n",
       "      <td>A'donte Washington</td>\n",
       "      <td>16</td>\n",
       "      <td>Male</td>\n",
       "      <td>Black</td>\n",
       "      <td>February</td>\n",
       "      <td>23</td>\n",
       "      <td>2015</td>\n",
       "      <td>Clearview Ln</td>\n",
       "      <td>Millbrook</td>\n",
       "      <td>AL</td>\n",
       "      <td>...</td>\n",
       "      <td>5.6</td>\n",
       "      <td>28375</td>\n",
       "      <td>51367.0</td>\n",
       "      <td>54766</td>\n",
       "      <td>0.937936</td>\n",
       "      <td>3.0</td>\n",
       "      <td>3.0</td>\n",
       "      <td>14.1</td>\n",
       "      <td>0.097686</td>\n",
       "      <td>0.168510</td>\n",
       "    </tr>\n",
       "    <tr>\n",
       "      <th>1</th>\n",
       "      <td>Aaron Rutledge</td>\n",
       "      <td>27</td>\n",
       "      <td>Male</td>\n",
       "      <td>White</td>\n",
       "      <td>April</td>\n",
       "      <td>2</td>\n",
       "      <td>2015</td>\n",
       "      <td>300 block Iris Park Dr</td>\n",
       "      <td>Pineville</td>\n",
       "      <td>LA</td>\n",
       "      <td>...</td>\n",
       "      <td>0.5</td>\n",
       "      <td>14678</td>\n",
       "      <td>27972.0</td>\n",
       "      <td>40930</td>\n",
       "      <td>0.683411</td>\n",
       "      <td>2.0</td>\n",
       "      <td>1.0</td>\n",
       "      <td>28.8</td>\n",
       "      <td>0.065724</td>\n",
       "      <td>0.111402</td>\n",
       "    </tr>\n",
       "    <tr>\n",
       "      <th>2</th>\n",
       "      <td>Aaron Siler</td>\n",
       "      <td>26</td>\n",
       "      <td>Male</td>\n",
       "      <td>White</td>\n",
       "      <td>March</td>\n",
       "      <td>14</td>\n",
       "      <td>2015</td>\n",
       "      <td>22nd Ave and 56th St</td>\n",
       "      <td>Kenosha</td>\n",
       "      <td>WI</td>\n",
       "      <td>...</td>\n",
       "      <td>16.8</td>\n",
       "      <td>25286</td>\n",
       "      <td>45365.0</td>\n",
       "      <td>54930</td>\n",
       "      <td>0.825869</td>\n",
       "      <td>2.0</td>\n",
       "      <td>3.0</td>\n",
       "      <td>14.6</td>\n",
       "      <td>0.166293</td>\n",
       "      <td>0.147312</td>\n",
       "    </tr>\n",
       "    <tr>\n",
       "      <th>3</th>\n",
       "      <td>Aaron Valdez</td>\n",
       "      <td>25</td>\n",
       "      <td>Male</td>\n",
       "      <td>Hispanic/Latino</td>\n",
       "      <td>March</td>\n",
       "      <td>11</td>\n",
       "      <td>2015</td>\n",
       "      <td>3000 Seminole Ave</td>\n",
       "      <td>South Gate</td>\n",
       "      <td>CA</td>\n",
       "      <td>...</td>\n",
       "      <td>98.8</td>\n",
       "      <td>17194</td>\n",
       "      <td>48295.0</td>\n",
       "      <td>55909</td>\n",
       "      <td>0.863814</td>\n",
       "      <td>3.0</td>\n",
       "      <td>3.0</td>\n",
       "      <td>11.7</td>\n",
       "      <td>0.124827</td>\n",
       "      <td>0.050133</td>\n",
       "    </tr>\n",
       "    <tr>\n",
       "      <th>4</th>\n",
       "      <td>Adam Jovicic</td>\n",
       "      <td>29</td>\n",
       "      <td>Male</td>\n",
       "      <td>White</td>\n",
       "      <td>March</td>\n",
       "      <td>19</td>\n",
       "      <td>2015</td>\n",
       "      <td>364 Hiwood Ave</td>\n",
       "      <td>Munroe Falls</td>\n",
       "      <td>OH</td>\n",
       "      <td>...</td>\n",
       "      <td>1.7</td>\n",
       "      <td>33954</td>\n",
       "      <td>68785.0</td>\n",
       "      <td>49669</td>\n",
       "      <td>1.384868</td>\n",
       "      <td>5.0</td>\n",
       "      <td>4.0</td>\n",
       "      <td>1.9</td>\n",
       "      <td>0.063550</td>\n",
       "      <td>0.403954</td>\n",
       "    </tr>\n",
       "  </tbody>\n",
       "</table>\n",
       "<p>5 rows × 34 columns</p>\n",
       "</div>"
      ],
      "text/plain": [
       "                 name age gender    raceethnicity     month  day  year  \\\n",
       "0  A'donte Washington  16   Male            Black  February   23  2015   \n",
       "1      Aaron Rutledge  27   Male            White     April    2  2015   \n",
       "2         Aaron Siler  26   Male            White     March   14  2015   \n",
       "3        Aaron Valdez  25   Male  Hispanic/Latino     March   11  2015   \n",
       "4        Adam Jovicic  29   Male            White     March   19  2015   \n",
       "\n",
       "            streetaddress          city state    ...     share_hispanic  \\\n",
       "0            Clearview Ln     Millbrook    AL    ...                5.6   \n",
       "1  300 block Iris Park Dr     Pineville    LA    ...                0.5   \n",
       "2    22nd Ave and 56th St       Kenosha    WI    ...               16.8   \n",
       "3       3000 Seminole Ave    South Gate    CA    ...               98.8   \n",
       "4          364 Hiwood Ave  Munroe Falls    OH    ...                1.7   \n",
       "\n",
       "   p_income  h_income  county_income  comp_income  county_bucket  nat_bucket  \\\n",
       "0     28375   51367.0          54766     0.937936            3.0         3.0   \n",
       "1     14678   27972.0          40930     0.683411            2.0         1.0   \n",
       "2     25286   45365.0          54930     0.825869            2.0         3.0   \n",
       "3     17194   48295.0          55909     0.863814            3.0         3.0   \n",
       "4     33954   68785.0          49669     1.384868            5.0         4.0   \n",
       "\n",
       "    pov     urate   college  \n",
       "0  14.1  0.097686  0.168510  \n",
       "1  28.8  0.065724  0.111402  \n",
       "2  14.6  0.166293  0.147312  \n",
       "3  11.7  0.124827  0.050133  \n",
       "4   1.9  0.063550  0.403954  \n",
       "\n",
       "[5 rows x 34 columns]"
      ]
     },
     "execution_count": 5,
     "metadata": {},
     "output_type": "execute_result"
    }
   ],
   "source": [
    "new_df = newdata.copy()\n",
    "def clean_dashes(col):\n",
    "\n",
    "    for i in range(len(new_df[col])):\n",
    "        if new_df[col][i] ==\"-\":\n",
    "            new_df[col][i] = \"Nan\"\n",
    "        new_df[col][i]=float(new_df[col][i])\n",
    "\n",
    "clean_dashes(\"share_white\")\n",
    "clean_dashes(\"share_black\")\n",
    "clean_dashes(\"share_hispanic\")\n",
    "\n",
    "new_df.head()\n"
   ]
  },
  {
   "cell_type": "code",
   "execution_count": 34,
   "metadata": {
    "collapsed": false,
    "scrolled": false
   },
   "outputs": [
    {
     "name": "stdout",
     "output_type": "stream",
     "text": [
      "{'pop': {'NH': 4521.0, 'IA': 4076.0, 'NY': 4865.714285714285, 'ME': 3045.0, 'MA': 4398.4, 'CT': 4066.0, 'OH': 3367.5, 'PA': 4400.285714285715, 'WI': 4748.4, 'IL': 3379.818181818182}}\n",
      "{'county_income': {'NH': 77348.0, 'IA': 50734.5, 'NY': 55594.42857142857, 'ME': 37855.0, 'MA': 69259.0, 'CT': 61996.0, 'OH': 46541.2, 'PA': 54253.71428571428, 'WI': 53356.6, 'IL': 55104.36363636364}}\n",
      "{'share_white': {'NH': 94.0, 'IA': 60.899999999999999, 'NY': 47.571428571428569, 'ME': 97.200000000000003, 'MA': 72.099999999999994, 'CT': 76.799999999999997, 'OH': 67.177777777777777, 'PA': 61.557142857142857, 'WI': 78.079999999999998, 'IL': 50.209090909090904}}\n",
      "{'share_black': {'NH': 1.8, 'IA': 14.050000000000001, 'NY': 25.842857142857145, 'ME': 0.29999999999999999, 'MA': 16.039999999999999, 'CT': 2.1000000000000001, 'OH': 27.322222222222226, 'PA': 16.157142857142855, 'WI': 4.6400000000000006, 'IL': 30.354545454545459}}\n",
      "{'share_hispanic': {'NH': 1.8999999999999999, 'IA': 19.5, 'NY': 18.207142857142859, 'ME': 0.59999999999999998, 'MA': 9.0800000000000018, 'CT': 8.8000000000000007, 'OH': 1.9000000000000001, 'PA': 18.671428571428574, 'WI': 12.0, 'IL': 15.154545454545456}}\n"
     ]
    }
   ],
   "source": [
    "type(new_df['share_white'])\n",
    "\n",
    "# Find the mean of 'pop', 'county_income' and those 3 columns for the following subsets\n",
    "lowest_states = [\"CT\", \"PA\", \"IA\", \"NY\", \"MA\", \"NH\", \"ME\", \"IL\", \"OH\", \"WI\"]\n",
    "highest_states = [\"OK\", \"AZ\", \"NE\", \"HI\", \"AK\", \"ID\", \"NM\", \"LA\", \"CO\", \"DE\"]\n",
    "\n",
    "def mean_calc(col, high_low_states):\n",
    "    temp_dict = {}\n",
    "    temp_dict[col] = {}\n",
    "    for state in high_low_states:\n",
    "        state_subset= new_df[new_df['state'] == state]\n",
    "        col_mean= state_subset[col].mean()\n",
    "        temp_dict[col][state] = col_mean\n",
    "    return(temp_dict)\n",
    "\n",
    "mean_pop = mean_calc('pop', lowest_states)\n",
    "mean_income= mean_calc('county_income', lowest_states)\n",
    "mean_share_white= mean_calc('share_white', lowest_states)\n",
    "mean_share_black= mean_calc('share_black', lowest_states)\n",
    "mean_share_hispanic= mean_calc('share_hispanic', lowest_states)\n",
    "  \n",
    "print(mean_pop)\n",
    "print(mean_income)\n",
    "print(mean_share_white)\n",
    "print(mean_share_black)\n",
    "print(mean_share_hispanic)\n"
   ]
  },
  {
   "cell_type": "code",
   "execution_count": null,
   "metadata": {
    "collapsed": true
   },
   "outputs": [],
   "source": [
    "## Am now thinking that it was more likely that the question intended for a mean calculated over the entire subset\n",
    "## Will Revisit this and try that as well "
   ]
  }
 ],
 "metadata": {
  "kernelspec": {
   "display_name": "Python 3",
   "language": "python",
   "name": "python3"
  },
  "language_info": {
   "codemirror_mode": {
    "name": "ipython",
    "version": 3
   },
   "file_extension": ".py",
   "mimetype": "text/x-python",
   "name": "python",
   "nbconvert_exporter": "python",
   "pygments_lexer": "ipython3",
   "version": "3.5.2"
  }
 },
 "nbformat": 4,
 "nbformat_minor": 0
}
