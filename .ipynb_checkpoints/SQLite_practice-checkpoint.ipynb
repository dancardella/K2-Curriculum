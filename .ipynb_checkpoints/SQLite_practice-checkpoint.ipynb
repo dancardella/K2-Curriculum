{
 "cells": [
  {
   "cell_type": "code",
   "execution_count": 1,
   "metadata": {
    "collapsed": true
   },
   "outputs": [],
   "source": [
    "import sqlite3\n",
    "sqlite_file = 'practice_db_12_28.sqlite'"
   ]
  },
  {
   "cell_type": "code",
   "execution_count": 2,
   "metadata": {
    "collapsed": true
   },
   "outputs": [],
   "source": [
    "conn = sqlite3.connect(sqlite_file)\n",
    "c = conn.cursor()"
   ]
  },
  {
   "cell_type": "code",
   "execution_count": 3,
   "metadata": {
    "collapsed": true
   },
   "outputs": [],
   "source": [
    "table_name1 = 'prices_table'  # name of the table to be created\n",
    "table_name2 = 'volumes_table'  # name of the table to be created\n",
    "new_field = 'HES' # name of the column\n",
    "field_type = 'INTEGER'  # column data type\n",
    "\n",
    "# Connecting to the database file\n",
    "conn = sqlite3.connect(sqlite_file)\n",
    "c = conn.cursor()\n",
    "\n",
    "# Creating a new SQLite table with 1 column\n",
    "c.execute('CREATE TABLE {tn} ({nf} {ft})'\\\n",
    "        .format(tn=table_name1, nf=new_field, ft=field_type))\n",
    "\n",
    "# Creating a second table with 1 column and set it as PRIMARY KEY\n",
    "# note that PRIMARY KEY column must consist of unique values!\n",
    "c.execute('CREATE TABLE {tn} ({nf} {ft} PRIMARY KEY)'\\\n",
    "        .format(tn=table_name2, nf=new_field, ft=field_type))\n",
    "\n",
    "# Committing changes and closing the connection to the database file\n",
    "conn.commit()\n",
    "conn.close()\n"
   ]
  },
  {
   "cell_type": "code",
   "execution_count": 9,
   "metadata": {
    "collapsed": false
   },
   "outputs": [],
   "source": [
    "# TESTING 1 VALUE INPUT\n",
    "conn = sqlite3.connect(sqlite_file)\n",
    "c = conn.cursor()\n",
    "c.execute(\"INSERT OR IGNORE INTO {tn} ({cn}) VALUES (123456)\".\\\n",
    "        format(tn=table_name1, cn=new_field))\n",
    "conn.commit()\n",
    "conn.close()\n",
    "\n",
    "# TUTORIAL CODE\n",
    "#c.execute(\"INSERT OR IGNORE INTO {tn} ({idf}, {cn}) VALUES (123456, 'test')\".\\\n",
    " #       format(tn=table_name, idf=id_column, cn=column_name))\n"
   ]
  },
  {
   "cell_type": "code",
   "execution_count": 13,
   "metadata": {
    "collapsed": false
   },
   "outputs": [],
   "source": [
    "import pandas as pd\n",
    "import numpy as np\n",
    "prices_file = pd.read_csv('Prices_table.csv')"
   ]
  },
  {
   "cell_type": "code",
   "execution_count": 14,
   "metadata": {
    "collapsed": false
   },
   "outputs": [
    {
     "data": {
      "text/html": [
       "<div>\n",
       "<table border=\"1\" class=\"dataframe\">\n",
       "  <thead>\n",
       "    <tr style=\"text-align: right;\">\n",
       "      <th></th>\n",
       "      <th>Date</th>\n",
       "      <th>AKS</th>\n",
       "      <th>AM</th>\n",
       "      <th>COG</th>\n",
       "      <th>CPE</th>\n",
       "      <th>D</th>\n",
       "      <th>DVN</th>\n",
       "      <th>EQT</th>\n",
       "      <th>ESV</th>\n",
       "      <th>FOXF</th>\n",
       "      <th>...</th>\n",
       "      <th>QEP</th>\n",
       "      <th>SABR</th>\n",
       "      <th>SE</th>\n",
       "      <th>SPWH</th>\n",
       "      <th>SRC</th>\n",
       "      <th>SWN</th>\n",
       "      <th>SYRG</th>\n",
       "      <th>WGP</th>\n",
       "      <th>USO</th>\n",
       "      <th>SPY</th>\n",
       "    </tr>\n",
       "  </thead>\n",
       "  <tbody>\n",
       "    <tr>\n",
       "      <th>0</th>\n",
       "      <td>9/21/16</td>\n",
       "      <td>4.72</td>\n",
       "      <td>26.680000</td>\n",
       "      <td>25.240000</td>\n",
       "      <td>14.90</td>\n",
       "      <td>76.750000</td>\n",
       "      <td>42.169998</td>\n",
       "      <td>74.160004</td>\n",
       "      <td>7.09</td>\n",
       "      <td>21.820000</td>\n",
       "      <td>...</td>\n",
       "      <td>18.070000</td>\n",
       "      <td>27.070000</td>\n",
       "      <td>42.669998</td>\n",
       "      <td>9.82</td>\n",
       "      <td>13.38</td>\n",
       "      <td>14.68</td>\n",
       "      <td>6.30</td>\n",
       "      <td>39.630001</td>\n",
       "      <td>10.40</td>\n",
       "      <td>215.820007</td>\n",
       "    </tr>\n",
       "    <tr>\n",
       "      <th>1</th>\n",
       "      <td>9/20/16</td>\n",
       "      <td>4.30</td>\n",
       "      <td>25.570000</td>\n",
       "      <td>24.520000</td>\n",
       "      <td>14.15</td>\n",
       "      <td>75.629997</td>\n",
       "      <td>40.660000</td>\n",
       "      <td>72.760002</td>\n",
       "      <td>6.64</td>\n",
       "      <td>20.450001</td>\n",
       "      <td>...</td>\n",
       "      <td>17.070000</td>\n",
       "      <td>26.709999</td>\n",
       "      <td>42.000000</td>\n",
       "      <td>9.64</td>\n",
       "      <td>13.15</td>\n",
       "      <td>14.25</td>\n",
       "      <td>5.88</td>\n",
       "      <td>38.660000</td>\n",
       "      <td>10.07</td>\n",
       "      <td>213.419998</td>\n",
       "    </tr>\n",
       "    <tr>\n",
       "      <th>2</th>\n",
       "      <td>9/19/16</td>\n",
       "      <td>4.30</td>\n",
       "      <td>25.520000</td>\n",
       "      <td>24.350000</td>\n",
       "      <td>14.37</td>\n",
       "      <td>75.900002</td>\n",
       "      <td>40.849998</td>\n",
       "      <td>71.230003</td>\n",
       "      <td>6.74</td>\n",
       "      <td>20.530001</td>\n",
       "      <td>...</td>\n",
       "      <td>17.090000</td>\n",
       "      <td>26.920000</td>\n",
       "      <td>42.310001</td>\n",
       "      <td>9.78</td>\n",
       "      <td>13.11</td>\n",
       "      <td>13.86</td>\n",
       "      <td>6.08</td>\n",
       "      <td>38.180000</td>\n",
       "      <td>9.98</td>\n",
       "      <td>213.410004</td>\n",
       "    </tr>\n",
       "    <tr>\n",
       "      <th>3</th>\n",
       "      <td>9/16/16</td>\n",
       "      <td>4.11</td>\n",
       "      <td>25.040001</td>\n",
       "      <td>24.299999</td>\n",
       "      <td>14.48</td>\n",
       "      <td>75.059998</td>\n",
       "      <td>40.990002</td>\n",
       "      <td>70.510002</td>\n",
       "      <td>6.87</td>\n",
       "      <td>20.879999</td>\n",
       "      <td>...</td>\n",
       "      <td>17.059999</td>\n",
       "      <td>26.870000</td>\n",
       "      <td>42.459999</td>\n",
       "      <td>9.77</td>\n",
       "      <td>12.96</td>\n",
       "      <td>13.68</td>\n",
       "      <td>6.14</td>\n",
       "      <td>37.549999</td>\n",
       "      <td>10.00</td>\n",
       "      <td>213.369995</td>\n",
       "    </tr>\n",
       "    <tr>\n",
       "      <th>4</th>\n",
       "      <td>9/15/16</td>\n",
       "      <td>4.06</td>\n",
       "      <td>25.160000</td>\n",
       "      <td>25.040001</td>\n",
       "      <td>14.19</td>\n",
       "      <td>74.449997</td>\n",
       "      <td>40.900002</td>\n",
       "      <td>71.440002</td>\n",
       "      <td>6.99</td>\n",
       "      <td>20.840000</td>\n",
       "      <td>...</td>\n",
       "      <td>16.879999</td>\n",
       "      <td>27.437256</td>\n",
       "      <td>42.220001</td>\n",
       "      <td>9.67</td>\n",
       "      <td>13.04</td>\n",
       "      <td>14.08</td>\n",
       "      <td>6.23</td>\n",
       "      <td>37.000000</td>\n",
       "      <td>10.14</td>\n",
       "      <td>214.197992</td>\n",
       "    </tr>\n",
       "  </tbody>\n",
       "</table>\n",
       "<p>5 rows × 26 columns</p>\n",
       "</div>"
      ],
      "text/plain": [
       "      Date   AKS         AM        COG    CPE          D        DVN  \\\n",
       "0  9/21/16  4.72  26.680000  25.240000  14.90  76.750000  42.169998   \n",
       "1  9/20/16  4.30  25.570000  24.520000  14.15  75.629997  40.660000   \n",
       "2  9/19/16  4.30  25.520000  24.350000  14.37  75.900002  40.849998   \n",
       "3  9/16/16  4.11  25.040001  24.299999  14.48  75.059998  40.990002   \n",
       "4  9/15/16  4.06  25.160000  25.040001  14.19  74.449997  40.900002   \n",
       "\n",
       "         EQT   ESV       FOXF     ...            QEP       SABR         SE  \\\n",
       "0  74.160004  7.09  21.820000     ...      18.070000  27.070000  42.669998   \n",
       "1  72.760002  6.64  20.450001     ...      17.070000  26.709999  42.000000   \n",
       "2  71.230003  6.74  20.530001     ...      17.090000  26.920000  42.310001   \n",
       "3  70.510002  6.87  20.879999     ...      17.059999  26.870000  42.459999   \n",
       "4  71.440002  6.99  20.840000     ...      16.879999  27.437256  42.220001   \n",
       "\n",
       "   SPWH    SRC    SWN  SYRG        WGP    USO         SPY  \n",
       "0  9.82  13.38  14.68  6.30  39.630001  10.40  215.820007  \n",
       "1  9.64  13.15  14.25  5.88  38.660000  10.07  213.419998  \n",
       "2  9.78  13.11  13.86  6.08  38.180000   9.98  213.410004  \n",
       "3  9.77  12.96  13.68  6.14  37.549999  10.00  213.369995  \n",
       "4  9.67  13.04  14.08  6.23  37.000000  10.14  214.197992  \n",
       "\n",
       "[5 rows x 26 columns]"
      ]
     },
     "execution_count": 14,
     "metadata": {},
     "output_type": "execute_result"
    }
   ],
   "source": [
    "prices_file.head()"
   ]
  },
  {
   "cell_type": "code",
   "execution_count": 86,
   "metadata": {
    "collapsed": false
   },
   "outputs": [
    {
     "data": {
      "text/plain": [
       "'AKS'"
      ]
     },
     "execution_count": 86,
     "metadata": {},
     "output_type": "execute_result"
    }
   ],
   "source": [
    "temp_ticker= prices_file.columns[1]\n",
    "temp_ticker\n",
    "#temp_prices = prices_file[2]\n",
    "#first_hes_price = hes_prices[0:2]\n",
    "#first_hes_price\n",
    "#prices_file.columns[13:]\n",
    "#temp_prices\n"
   ]
  },
  {
   "cell_type": "code",
   "execution_count": 39,
   "metadata": {
    "collapsed": false
   },
   "outputs": [],
   "source": [
    "conn = sqlite3.connect(sqlite_file)\n",
    "c = conn.cursor()\n",
    "\n",
    "# Workaround for having executed part of script and generated columns then needing to finish latter half of prices_file\n",
    "\n",
    "     c.execute(\"DROP TABLE {tn}\"\\\n",
    "            .format(tn=table_name1))\n",
    "conn.commit()\n",
    "conn.close()"
   ]
  },
  {
   "cell_type": "code",
   "execution_count": 75,
   "metadata": {
    "collapsed": false
   },
   "outputs": [],
   "source": [
    "conn = sqlite3.connect(sqlite_file)\n",
    "c = conn.cursor()\n",
    "\n",
    "# Workaround for having executed part of script and generated columns then needing to finish latter half of prices_file\n",
    "\n",
    "for i in range(len(prices_file.columns)):\n",
    "           c.execute(\"ALTER TABLE {tn} ADD COLUMN '{cn}' {ft}\"\\\n",
    "            .format(tn=table_name1, cn=prices_file.columns[t], ft=field_type))\n",
    "conn.commit()\n",
    "conn.close()"
   ]
  },
  {
   "cell_type": "code",
   "execution_count": null,
   "metadata": {
    "collapsed": true
   },
   "outputs": [],
   "source": [
    "# RAPPING INSERT WITH A LOOP\n",
    "conn = sqlite3.connect(sqlite_file)\n",
    "c = conn.cursor()\n",
    "\n",
    "for i in range(len(temp_ticker[2:]):\n",
    "for i in range(len(hes_prices)):\n",
    "    c.execute(\"INSERT OR IGNORE INTO {tn} ({cn}) VALUES ({an})\".\\\n",
    "        format(tn=table_name1, cn=new_field, an=hes_prices[i]))\n",
    "conn.commit()\n",
    "conn.close()\n"
   ]
  }
 ],
 "metadata": {
  "anaconda-cloud": {},
  "kernelspec": {
   "display_name": "Python [conda root]",
   "language": "python",
   "name": "conda-root-py"
  },
  "language_info": {
   "codemirror_mode": {
    "name": "ipython",
    "version": 3
   },
   "file_extension": ".py",
   "mimetype": "text/x-python",
   "name": "python",
   "nbconvert_exporter": "python",
   "pygments_lexer": "ipython3",
   "version": "3.5.2"
  }
 },
 "nbformat": 4,
 "nbformat_minor": 1
}
