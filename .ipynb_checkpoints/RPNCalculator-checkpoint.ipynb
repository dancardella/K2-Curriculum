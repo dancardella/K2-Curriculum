{
 "cells": [
  {
   "cell_type": "markdown",
   "metadata": {},
   "source": [
    "The infix expression \"5 + ((1 + 2) × 4) − 3\" can be written down like this in RPN:\n",
    "5 1 2 + 4 × + 3 −\n",
    "The expression is evaluated left-to-right, with the inputs interpreted as shown in the following table (the Stack is the list of values the algorithm is \"keeping track of\" after the Operation given in the middle column has taken place):\n",
    "\n",
    "Input\tAction\tStack\tNotes\n",
    "5\tOperand\t5\tPush onto stack.\n",
    "1\tOperand\t1 5\tPush onto stack.\n",
    "2\tOperand\t2 1 5\tPush onto stack.\n",
    "+\tOperator\t3 5\tPop the two operands (1, 2), calculate (1 + 2 = 3) and push onto stack.\n",
    "4\tOperand\t4 3 5\tPush onto stack.\n",
    "×\tOperator\t12 5\tPop the two operands (3, 4), calculate (3 * 4 = 12) and push onto stack.\n",
    "+\tOperator\t17\tPop the two operands (5, 12), calculate (5 + 12 = 17) and push onto stack.\n",
    "3\tOperand\t3 17\tPush onto stack.\n",
    "−\tOperator\t14\tPop the two operands (17, 3), calculate (17 - 3 = 14) and push onto stack.\n",
    "Result\t14\t"
   ]
  },
  {
   "cell_type": "code",
   "execution_count": 4,
   "metadata": {
    "collapsed": false
   },
   "outputs": [
    {
     "name": "stdout",
     "output_type": "stream",
     "text": [
      "Please enter your choice of numbers from 1 to 9 and any combination of the 4 basic operands \n",
      " and '^' each seperated by a space''. For instance: 5 2 + 4 × 3 −  4 5 - 9 8 * 7 2- 3 1\n",
      "1\n",
      "72\n",
      "-5\n",
      "[3, 1]\n"
     ]
    }
   ],
   "source": [
    "## A limited use RPN that utilizes the basic operands. Additional code testing user input would make more robust.\n",
    "import math\n",
    "import operator\n",
    "\n",
    "user_expression = input(\"Please enter your choice of numbers and any combination of the 4 basic operands \\n and '^' each seperated by a space''. For instance: 5 2 + 4 × 3 −  \").split(' ')\n",
    "        \n",
    "def is_number(s):\n",
    "    try:\n",
    "        float(s)\n",
    "        return True\n",
    "    except ValueError:\n",
    "        pass        \n",
    "        \n",
    "def rpn_calculator(user_expression):\n",
    "    ops = {'+':operator.add,\n",
    "       '-':operator.sub,\n",
    "       '*':operator.mul,\n",
    "        'x':operator.mul,\n",
    "       '/':operator.truediv,\n",
    "       '^':operator.pow,\n",
    "       'sin':math.sin,\n",
    "       'tan':math.tan,\n",
    "       'cos':math.cos,\n",
    "       'pi':math.pi}\n",
    "\n",
    "    result = 0        \n",
    "    bucket = []\n",
    "    for i in user_expression:\n",
    "        if is_number(i):\n",
    "            bucket.insert(0, float(i))\n",
    "        else:\n",
    "            if len(bucket) < 2:\n",
    "                print(\"Error: not enough values\")\n",
    "                break\n",
    "            else:\n",
    "                print('bucket: {}'.format(bucket))\n",
    "                if len(i) == 1:\n",
    "                    n1 = bucket.pop(1)\n",
    "                    n2 = bucket.pop(0)\n",
    "                    result = ops[i](n1, n2)\n",
    "                    bucket.insert(0, result)\n",
    "                else:\n",
    "                    n1 = bucket.pop(0)\n",
    "                    result = ops[i](math.radians(n1))\n",
    "                    bucket.insert(0, result)\n",
    "\n",
    "    return result \n",
    "\n",
    "\n",
    "answer = rpn_calculator(user_expression) \n",
    "print(\"Result {}\".format(answer))   "
   ]
  },
  {
   "cell_type": "code",
   "execution_count": null,
   "metadata": {
    "collapsed": true
   },
   "outputs": [],
   "source": []
  }
 ],
 "metadata": {
  "anaconda-cloud": {},
  "kernelspec": {
   "display_name": "Python [default]",
   "language": "python",
   "name": "python3"
  },
  "language_info": {
   "codemirror_mode": {
    "name": "ipython",
    "version": 3
   },
   "file_extension": ".py",
   "mimetype": "text/x-python",
   "name": "python",
   "nbconvert_exporter": "python",
   "pygments_lexer": "ipython3",
   "version": "3.5.2"
  }
 },
 "nbformat": 4,
 "nbformat_minor": 0
}
