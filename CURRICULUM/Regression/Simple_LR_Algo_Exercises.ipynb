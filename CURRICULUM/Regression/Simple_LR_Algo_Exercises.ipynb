{
 "cells": [
  {
   "cell_type": "markdown",
   "metadata": {},
   "source": [
    "# Linear Regression\n",
    "\n",
    "The goal of this assignment is to build a simple linear regression algorithm from scratch. Linear regression is a very useful and simple to understand predicting values, given a set of training data. The outcome of regression is a best fitting line function, which, by definition, is the line that minimizes the sum of the squared errors. When plotted on a 2 dimensional coordinate system, the errors are the distance between the actual Y' and predicted Y' of the line. In machine learning, this line equation Y' = b(x) + A is solved using gradient descent to gradually approach to it. **We will be using the statistical approach here that directly solves this line equation without using an iterative algorithm.**"
   ]
  },
  {
   "cell_type": "markdown",
   "metadata": {},
   "source": [
    "## Exercise 1 - Explore the Data\n",
    "\n",
    "The `Advertising` data set consists of the sales of that product in 200 different\n",
    "markets, along with advertising budgets for the product in each of those\n",
    "markets for three different media: TV, radio, and newspaper. Explore the data and decide on which variable you would like to use to predict `Sales`."
   ]
  },
  {
   "cell_type": "code",
   "execution_count": null,
   "metadata": {
    "collapsed": true
   },
   "outputs": [],
   "source": []
  },
  {
   "cell_type": "markdown",
   "metadata": {},
   "source": [
    "## Exercise 2 - Build a Simple Linear Regression Class\n",
    "\n",
    "The derivation can be [found here on Wikipedia](https://en.wikipedia.org/wiki/Simple_linear_regression).\n",
    "\n",
    "The general steps are:\n",
    "- Calculate mean and variance\n",
    "- Calculate covariance\n",
    "- Estimate coefficients\n",
    "- Make predictions on out-of-sample data\n",
    "\n",
    "The class should do the following:\n",
    "- Fit a set of x,y points\n",
    "- Predict the value a new x values based on the coefficients\n",
    "- Can plot the best fit line on the points\n",
    "- Return the coefficient and intercept\n",
    "- Return the coefficient of determination (R^2)"
   ]
  },
  {
   "cell_type": "code",
   "execution_count": null,
   "metadata": {
    "collapsed": true
   },
   "outputs": [],
   "source": []
  },
  {
   "cell_type": "markdown",
   "metadata": {},
   "source": [
    "## Exercise 3 - Try it out on the Advertising Data Set"
   ]
  },
  {
   "cell_type": "code",
   "execution_count": null,
   "metadata": {
    "collapsed": true
   },
   "outputs": [],
   "source": []
  },
  {
   "cell_type": "markdown",
   "metadata": {},
   "source": [
    " "
   ]
  },
  {
   "cell_type": "markdown",
   "metadata": {},
   "source": [
    "## Exercise 4 - Check via Statsmodels or Scikit-learn"
   ]
  },
  {
   "cell_type": "code",
   "execution_count": null,
   "metadata": {
    "collapsed": true
   },
   "outputs": [],
   "source": []
  },
  {
   "cell_type": "markdown",
   "metadata": {},
   "source": [
    " "
   ]
  },
  {
   "cell_type": "markdown",
   "metadata": {},
   "source": [
    "# Additional Optional Exercises\n",
    "\n",
    "- Train / test split with RMSE calculation\n",
    "- Proper documentation for class methods and attributes\n",
    "- Build with NumPy methods and compare computation time\n",
    "- Multiple Linear Regression (SGD covered in Advanced Regression Unit)"
   ]
  }
 ],
 "metadata": {
  "anaconda-cloud": {},
  "kernelspec": {
   "display_name": "Python [default]",
   "language": "python",
   "name": "python3"
  },
  "language_info": {
   "codemirror_mode": {
    "name": "ipython",
    "version": 3
   },
   "file_extension": ".py",
   "mimetype": "text/x-python",
   "name": "python",
   "nbconvert_exporter": "python",
   "pygments_lexer": "ipython3",
   "version": "3.5.2"
  }
 },
 "nbformat": 4,
 "nbformat_minor": 1
}
