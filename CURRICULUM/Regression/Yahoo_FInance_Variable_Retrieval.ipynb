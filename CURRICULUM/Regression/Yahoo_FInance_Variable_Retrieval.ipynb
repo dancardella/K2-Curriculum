{
 "cells": [
  {
   "cell_type": "code",
   "execution_count": null,
   "metadata": {
    "collapsed": false
   },
   "outputs": [],
   "source": [
    "batch1= ('AKS','AM','COG','CPE','D','DVN','EQT','ESV','FOXF','GIG','PE','PRAH','QEP','SABR','SE','SPWH','SRC','SWN','SYRG','WGP')"
   ]
  },
  {
   "cell_type": "code",
   "execution_count": null,
   "metadata": {
    "collapsed": false
   },
   "outputs": [],
   "source": [
    "from yahoo_finance import Share\n",
    "\n",
    "def grab_me_my_market_cap(batch):\n",
    "    bucket = {}\n",
    "    for i in batch:\n",
    "        temp = Share(i)\n",
    "        bucket[i] = temp.get_market_cap()\n",
    "    return bucket"
   ]
  },
  {
   "cell_type": "code",
   "execution_count": null,
   "metadata": {
    "collapsed": true
   },
   "outputs": [],
   "source": [
    "def grab_me_my_book_value(batch):\n",
    "    bucket = {}\n",
    "    for i in batch:\n",
    "        temp = Share(i)\n",
    "        bucket[i] = temp.get_book_value()\n",
    "    return bucket"
   ]
  },
  {
   "cell_type": "code",
   "execution_count": null,
   "metadata": {
    "collapsed": true
   },
   "outputs": [],
   "source": [
    "def grab_me_my_ebitda(batch):\n",
    "    bucket = {}\n",
    "    for i in batch:\n",
    "        temp = Share(i)\n",
    "        bucket[i] = temp.get_ebitda()\n",
    "    return bucket"
   ]
  },
  {
   "cell_type": "code",
   "execution_count": null,
   "metadata": {
    "collapsed": true
   },
   "outputs": [],
   "source": [
    "def grab_me_my_pe(batch):\n",
    "    bucket = {}\n",
    "    for i in batch:\n",
    "        temp = Share(i)\n",
    "        bucket[i] = temp.get_price_earnings_ratio()\n",
    "    return bucket"
   ]
  },
  {
   "cell_type": "code",
   "execution_count": null,
   "metadata": {
    "collapsed": false
   },
   "outputs": [],
   "source": [
    "bucket1 = grab_me_my_market_cap(batch1)\n",
    "print (bucket1)"
   ]
  },
  {
   "cell_type": "code",
   "execution_count": 23,
   "metadata": {
    "collapsed": true
   },
   "outputs": [],
   "source": [
    "added_names = ('GPOR', 'HES', 'MTDR')"
   ]
  },
  {
   "cell_type": "code",
   "execution_count": 25,
   "metadata": {
    "collapsed": false
   },
   "outputs": [
    {
     "name": "stdout",
     "output_type": "stream",
     "text": [
      "{'MTDR': '2.31B', 'HES': '15.69B', 'GPOR': '2.73B'}\n"
     ]
    }
   ],
   "source": [
    "added_names_market_cap = grab_me_my_market_cap(added_names)\n",
    "print (added_names_market_cap)"
   ]
  },
  {
   "cell_type": "code",
   "execution_count": 26,
   "metadata": {
    "collapsed": false
   },
   "outputs": [
    {
     "name": "stdout",
     "output_type": "stream",
     "text": [
      "{'MTDR': None, 'HES': None, 'GPOR': None}\n"
     ]
    }
   ],
   "source": [
    "added_names_pe= grab_me_my_pe(added_names)\n",
    "print (added_names_pe)"
   ]
  },
  {
   "cell_type": "code",
   "execution_count": 27,
   "metadata": {
    "collapsed": false
   },
   "outputs": [
    {
     "name": "stdout",
     "output_type": "stream",
     "text": [
      "{'MTDR': '104.70M', 'HES': '936.00M', 'GPOR': '94.38M'}\n"
     ]
    }
   ],
   "source": [
    "added_names_ebitda= grab_me_my_ebitda(added_names)\n",
    "print (added_names_ebitda)"
   ]
  },
  {
   "cell_type": "code",
   "execution_count": null,
   "metadata": {
    "collapsed": true
   },
   "outputs": [],
   "source": [
    "bucket1 = {'AKS': '2.20B', 'COG': '10.72B', 'SYRG': '1.63B' 'PE': '7.47B', 'PRAH': '3.85B', 'D': '48.82B', 'EQT': '10.05B', 'WGP': '9.64B', 'DVN': '20.35B', 'SE': None, 'AM': '6.16B', 'GIG': '208.33M', 'SWN': '3.72B', 'SRC': '4.87B', 'FOXF': '1.06B', 'CPE': '2.37B', 'QEP': '2.86B', 'SABR': '5.84B', 'SPWH': '193.49M', 'ESV': '2.53B'}"
   ]
  },
  {
   "cell_type": "code",
   "execution_count": null,
   "metadata": {
    "collapsed": true
   },
   "outputs": [],
   "source": [
    "batch2 = ('CTRE', 'CARA', 'EPZM', 'GNCA', 'BNCN', 'ITCI', 'DBVT', 'ITEK', 'MGNX',\n",
    "       'NDRM', 'NWHM', 'ONCE', 'OTIC', 'PARR', 'QTNT', 'QTWO', 'RAS', 'RLGT',\n",
    "       'RVNC', 'STKL', 'TRVN', 'TTOO', 'TXMD', 'ZGNX')"
   ]
  },
  {
   "cell_type": "code",
   "execution_count": null,
   "metadata": {
    "collapsed": false
   },
   "outputs": [],
   "source": [
    "bucket = grab_me_my_market_cap(batch2)\n",
    "print (bucket)"
   ]
  },
  {
   "cell_type": "code",
   "execution_count": null,
   "metadata": {
    "collapsed": true
   },
   "outputs": [],
   "source": [
    "bucket2 = {'DBVT': '1.60B', 'TRVN': '207.64M', 'NWHM': '216.71M', 'OTIC': '387.28M', 'BNCN': '1.71B', 'QTWO': '1.41B', 'ONCE': '1.64B', 'ZGNX': '263.02M', 'MGNX': '627.08M', 'RAS': '267.22M', 'ITCI': '692.17M', 'ITEK': '48.57M', 'GNCA': '159.57M', 'QTNT': '91.29M', 'TTOO': '160.25M', 'CARA': '457.60M', 'PARR': '731.80M', 'EPZM': '1.01B', 'RVNC': '580.52M', 'NDRM': '559.29M', 'TXMD': '1.34B', 'RLGT': '242.19M', 'CTRE': '1.06B', 'STKL': '578.18M'}"
   ]
  },
  {
   "cell_type": "code",
   "execution_count": null,
   "metadata": {
    "collapsed": false
   },
   "outputs": [],
   "source": [
    "bucket_bv = grab_me_my_book_value(combined_batch)\n",
    "print (bucket_bv)"
   ]
  },
  {
   "cell_type": "code",
   "execution_count": null,
   "metadata": {
    "collapsed": false
   },
   "outputs": [],
   "source": [
    "#cleaned_ebitda = grab_me_my_ ebitda(combined_batch)\n",
    "print (cleaned_ebitda)\n",
    "#cleaned_ebitda.values[cleaned_ebitda.values == 0]"
   ]
  },
  {
   "cell_type": "code",
   "execution_count": null,
   "metadata": {
    "collapsed": false
   },
   "outputs": [],
   "source": [
    "combined_batch_final = combined_batch[30:]\n"
   ]
  },
  {
   "cell_type": "code",
   "execution_count": null,
   "metadata": {
    "collapsed": false
   },
   "outputs": [],
   "source": [
    "bucket_pe = grab_me_my_pe(combined_batch_final)\n",
    "print (bucket_pe)"
   ]
  },
  {
   "cell_type": "code",
   "execution_count": null,
   "metadata": {
    "collapsed": true
   },
   "outputs": [],
   "source": [
    "pe_list = {'AKS': None, 'AM': '26.19', 'GIG': '80.79', 'EQT': None, 'D': '22.682', 'ESV': '2.77', 'FOXF': '30.43', 'CPE': None, 'COG': None, 'DVN': None,\n",
    " 'PE': None, 'WGP': '28.62', 'SWN': None, 'SRC': '48.471', 'SE': None, 'PRAH': '60.58', 'SYRG': None, 'SPWH': '6.29', 'SABR': '24.87', 'QEP': None,\n",
    "'GNCA': None, 'DBVT': None, 'MGNX': None, 'CARA': None, 'ITEK': None, 'EPZM': None, 'CTRE': '30.98', 'BNCN': '24.14', 'ITCI': None, 'NDRM': None,\n",
    "'ZGNX': None, 'TRVN': None, 'RMP': '17.23', 'FLXN': None, 'NWHM': '10.41', 'OTIC': None, 'QTNT': None, 'QTWO': None, 'ONCE': None, 'ASC': '64.52', 'ECR': None, 'RAS': None, 'PRTK': None, 'PARR': None, 'HDP': None, 'OVAS': None, 'TTOO': None, 'ADMS': None, 'EPZM': None, 'RVNC': None, 'AR': None, 'O': '52.12', 'TXMD': None, 'RLGT': '415.83', 'ADPT': '0.30', 'TTI': None, 'STKL': None}             "
   ]
  },
  {
   "cell_type": "code",
   "execution_count": null,
   "metadata": {
    "collapsed": false
   },
   "outputs": [],
   "source": [
    "for i,j in pe_list.items():\n",
    "    if pe_list[i] ==None:\n",
    "        pe_list[i] ='Na'\n",
    "cleaned_pe = pe_list        "
   ]
  },
  {
   "cell_type": "code",
   "execution_count": null,
   "metadata": {
    "collapsed": true
   },
   "outputs": [],
   "source": [
    "batch3 = (\"FLXN\",\n",
    "\"HDP\",\n",
    "\"ECR\",\n",
    "\"TTI\",\n",
    "\"RMP\",\n",
    "\"PRTK\",\n",
    "\"ASC\",\n",
    "\"ADMS\",\n",
    "\"ADPT\",\n",
    "\"AR\",\n",
    "\"EPZM\",\n",
    "\"O\",\n",
    "\"OVAS\")"
   ]
  },
  {
   "cell_type": "code",
   "execution_count": null,
   "metadata": {
    "collapsed": false
   },
   "outputs": [],
   "source": [
    "bucket = grab_me_my_market_cap(batch3)\n",
    "print (bucket)"
   ]
  },
  {
   "cell_type": "code",
   "execution_count": null,
   "metadata": {
    "collapsed": true
   },
   "outputs": [],
   "source": [
    "bucket3 = {'AR': '7.00B', 'RMP': '2.50B', 'FLXN': '884.98M', 'OVAS': '64.84M', 'ADMS': '388.83M', 'EPZM': '998.95M', 'HDP': '392.57M', 'O': '15.37B', 'ASC': '263.56M', 'ECR': '621.51M', 'ADPT': '27.05M', 'TTI': '441.14M', 'PRTK': '429.86M'}"
   ]
  },
  {
   "cell_type": "code",
   "execution_count": null,
   "metadata": {
    "collapsed": true
   },
   "outputs": [],
   "source": [
    "bucket3bv = grab_me_my_book_value(batch3)\n",
    "print (bucket3bv)"
   ]
  },
  {
   "cell_type": "code",
   "execution_count": null,
   "metadata": {
    "collapsed": false
   },
   "outputs": [],
   "source": [
    "#Merging\n",
    "#mcap_bucket={**bucket1, **bucket2, **bucket3}\n",
    "#combined_batch=(batch1 + batch2 +batch3)\n",
    "combined_batch"
   ]
  },
  {
   "cell_type": "code",
   "execution_count": null,
   "metadata": {
    "collapsed": false
   },
   "outputs": [],
   "source": [
    "#mcap_bucket['SE'] = '26.4B'\n",
    "print(mcap_bucket)\n",
    "len(mcap_bucket)"
   ]
  },
  {
   "cell_type": "code",
   "execution_count": null,
   "metadata": {
    "collapsed": false
   },
   "outputs": [],
   "source": [
    "def cleaning_dict(bucket):\n",
    "    for i in bucket:\n",
    "        if (bucket[i][-1:]) == 'M':            \n",
    "            bucket[i]= (float(bucket[i][:-1])/1000)\n",
    "        else :\n",
    "            bucket[i]= float(bucket[i][:-1]) \n",
    "\n",
    "    return(bucket)                             "
   ]
  },
  {
   "cell_type": "code",
   "execution_count": null,
   "metadata": {
    "collapsed": false
   },
   "outputs": [],
   "source": [
    "cleaned_mcap = cleaning_dict(mcap_bucket)"
   ]
  },
  {
   "cell_type": "code",
   "execution_count": null,
   "metadata": {
    "collapsed": false
   },
   "outputs": [],
   "source": [
    "#cleaned_mcap\n",
    "for i in cleaned_ebitda:\n",
    "    cleaned_ebitda[i]= [cleaned_ebitda[i]]\n",
    "cleaned_ebitda       "
   ]
  },
  {
   "cell_type": "code",
   "execution_count": null,
   "metadata": {
    "collapsed": false
   },
   "outputs": [],
   "source": [
    "import pandas as pd\n",
    "from collections import OrderedDict\n",
    "from datetime import date\n",
    "df_editda = pd.DataFrame.from_dict(cleaned_ebitda)"
   ]
  },
  {
   "cell_type": "code",
   "execution_count": null,
   "metadata": {
    "collapsed": false
   },
   "outputs": [],
   "source": [
    "#df_editda= df_editda.T\n",
    "#df['editda'] = df_editda\n",
    "#df.columns\n",
    "df.rename(columns={0:'market_cap'})"
   ]
  },
  {
   "cell_type": "markdown",
   "metadata": {},
   "source": [
    "get_price()\n",
    "get_change()\n",
    "get_percent_change()\n",
    "get_volume()\n",
    "get_prev_close()\n",
    "get_open()\n",
    "get_avg_daily_volume()\n",
    "get_stock_exchange()\n",
    "get_market_cap()\n",
    "get_book_value()\n",
    "get_ebitda()\n",
    "get_dividend_share()\n",
    "get_dividend_yield()\n",
    "get_earnings_share()\n",
    "get_days_high()\n",
    "get_days_low()\n",
    "get_year_high()\n",
    "get_year_low()\n",
    "get_50day_moving_avg()\n",
    "get_200day_moving_avg()\n",
    "get_price_earnings_ratio()\n",
    "get_price_earnings_growth_ratio()\n",
    "get_price_sales()\n",
    "get_price_book()\n",
    "get_short_ratio()\n",
    "get_trade_datetime()\n",
    "get_historical(start_date, end_date)\n",
    "get_info()\n",
    "get_name()\n",
    "refresh()\n",
    "get_percent_change_from_year_high()\n",
    "get_percent_change_from_year_low()\n",
    "get_change_from_year_low()\n",
    "get_change_from_year_high()\n",
    "get_percent_change_from_200_day_moving_average()\n",
    "get_change_from_200_day_moving_average()\n",
    "get_percent_change_from_50_day_moving_average()\n",
    "get_change_from_50_day_moving_average()\n",
    "get_EPS_estimate_next_quarter()\n",
    "get_EPS_estimate_next_year()\n",
    "get_ex_dividend_date()\n",
    "get_EPS_estimate_current_year()\n",
    "get_price_EPS_estimate_next_year()\n",
    "get_price_EPS_estimate_current_year()\n",
    "get_one_yr_target_price()\n",
    "get_change_percent_change()\n",
    "get_dividend_pay_date()\n",
    "get_currency()\n",
    "get_last_trade_with_time()\n",
    "get_days_range()\n",
    "get_year_range()"
   ]
  },
  {
   "cell_type": "code",
   "execution_count": 21,
   "metadata": {
    "collapsed": false
   },
   "outputs": [],
   "source": [
    "import sqlite3\n",
    "db = sqlite3.connect(\"prices_csv.sqlite\")\n",
    "fundamentals.to_sql('Fundamental_Factors', db)"
   ]
  },
  {
   "cell_type": "code",
   "execution_count": null,
   "metadata": {
    "collapsed": false
   },
   "outputs": [],
   "source": [
    "import pyalgotrade.barfeed.yahoofeed as yahoofeed"
   ]
  },
  {
   "cell_type": "code",
   "execution_count": null,
   "metadata": {
    "collapsed": false
   },
   "outputs": [],
   "source": [
    "import pandas as pd\n",
    "fundamentals = pd.read_csv(\"Regression_Project_Fundamental_Factors.csv\")"
   ]
  },
  {
   "cell_type": "code",
   "execution_count": 36,
   "metadata": {
    "collapsed": false
   },
   "outputs": [
    {
     "data": {
      "text/plain": [
       "Company\n",
       "ADMS   -0.06258\n",
       "ADPT    0.03754\n",
       "AKS     0.60280\n",
       "AM      0.37060\n",
       "AR     -0.09816\n",
       "ASC     0.05499\n",
       "BNCN    0.13200\n",
       "CARA   -0.05694\n",
       "COG     0.46353\n",
       "CPE     0.10598\n",
       "CTRE    0.08480\n",
       "D       5.80000\n",
       "DBVT   -0.12319\n",
       "DVN     2.32000\n",
       "ECR    -0.01520\n",
       "EPZM   -0.11024\n",
       "EQT     0.71958\n",
       "ESV     1.35000\n",
       "FLXN   -0.06623\n",
       "FOXF    0.06286\n",
       "GIG     0.00931\n",
       "GNCA   -0.04812\n",
       "HDP    -0.24395\n",
       "ITCI   -0.11806\n",
       "ITEK   -0.04171\n",
       "MGNX   -0.05243\n",
       "NDRM   -0.02801\n",
       "NWHM    0.03068\n",
       "O       0.99764\n",
       "ONCE   -0.11033\n",
       "OTIC   -0.11017\n",
       "OVAS   -0.07307\n",
       "PARR    0.02042\n",
       "PE      0.21589\n",
       "PRAH    0.23528\n",
       "PRTK   -0.10753\n",
       "QEP     0.22960\n",
       "QTNT   -0.06077\n",
       "QTWO   -0.02041\n",
       "RAS     0.02300\n",
       "RLGT    0.02456\n",
       "RMP     0.15387\n",
       "RVNC   -0.07771\n",
       "SABR    0.72636\n",
       "SE      2.35000\n",
       "SPWH    0.07480\n",
       "SRC     0.59361\n",
       "STKL    0.07718\n",
       "SWN     0.30100\n",
       "SYRG    0.00000\n",
       "TRVN   -0.10204\n",
       "TTI     0.08322\n",
       "TTOO   -0.04860\n",
       "TXMD   -0.09012\n",
       "WGP     0.91681\n",
       "ZGNX   -0.06105\n",
       "Name: editda, dtype: float64"
      ]
     },
     "execution_count": 36,
     "metadata": {},
     "output_type": "execute_result"
    }
   ],
   "source": [
    "#fundamentals.index = fundamentals['Company']\n",
    "#del(fundamentals['Company'])\n",
    "ebitda = fundamentals['editda']\n",
    "ebitda"
   ]
  }
 ],
 "metadata": {
  "anaconda-cloud": {},
  "kernelspec": {
   "display_name": "Python [conda root]",
   "language": "python",
   "name": "conda-root-py"
  },
  "language_info": {
   "codemirror_mode": {
    "name": "ipython",
    "version": 3
   },
   "file_extension": ".py",
   "mimetype": "text/x-python",
   "name": "python",
   "nbconvert_exporter": "python",
   "pygments_lexer": "ipython3",
   "version": "3.5.2"
  }
 },
 "nbformat": 4,
 "nbformat_minor": 1
}
