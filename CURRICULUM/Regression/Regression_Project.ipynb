{
 "cells": [
  {
   "cell_type": "code",
   "execution_count": null,
   "metadata": {
    "collapsed": true
   },
   "outputs": [],
   "source": [
    "import sqlite3\n",
    "import pandas as pd\n",
    "import numpy as np"
   ]
  },
  {
   "cell_type": "code",
   "execution_count": null,
   "metadata": {
    "collapsed": false
   },
   "outputs": [],
   "source": [
    "db = sqlite3.connect(\"prices_csv.sqlite\")\n",
    "fundamentals = pd.read_sql_query(\"SELECT * FROM Fundamental_Factors\", db)"
   ]
  },
  {
   "cell_type": "code",
   "execution_count": null,
   "metadata": {
    "collapsed": true
   },
   "outputs": [],
   "source": [
    "db = sqlite3.connect(\"prices_csv.sqlite\")\n",
    "stats1 = pd.read_sql_query(\"SELECT * FROM stats1\", db)"
   ]
  },
  {
   "cell_type": "code",
   "execution_count": null,
   "metadata": {
    "collapsed": false
   },
   "outputs": [],
   "source": [
    "stats1.head()\n",
    "stats1.columns\n",
    "days_diff = stats1['Days_diff']\n",
    "del(stats1['Days_diff'])\n",
    "stats1.rename(columns={'Transaction_Price':'Price', 'Transaction_Volume':'Volume',\n",
    "       'Transaction_$' : 'Amount', 'Comp':'Short'}, inplace = True)"
   ]
  },
  {
   "cell_type": "code",
   "execution_count": null,
   "metadata": {
    "collapsed": true
   },
   "outputs": [],
   "source": [
    "db = sqlite3.connect(\"prices_csv.sqlite\")\n",
    "stats2 = pd.read_sql_query(\"SELECT * FROM stats2\", db)"
   ]
  },
  {
   "cell_type": "code",
   "execution_count": null,
   "metadata": {
    "collapsed": true
   },
   "outputs": [],
   "source": [
    "db = sqlite3.connect(\"prices_csv.sqlite\")\n",
    "stats3 = pd.read_sql_query(\"SELECT * FROM stats3\", db)"
   ]
  },
  {
   "cell_type": "code",
   "execution_count": null,
   "metadata": {
    "collapsed": false
   },
   "outputs": [],
   "source": [
    "stats3.columns\n",
    "stats3_correlation = stats3['Correlation']\n",
    "del stats3['Correlation']\n",
    "stats3.head()"
   ]
  },
  {
   "cell_type": "code",
   "execution_count": null,
   "metadata": {
    "collapsed": false
   },
   "outputs": [],
   "source": [
    "# Re-indexing Stats\n",
    "cum_vol_and_prices = pd.concat([prices_ratio,cum_vol], axis =1)\n",
    "stats_combined = pd.concat([stats1,stats2, stats3])\n",
    "del(stats_combined['Day Prior'])\n",
    "stats_combined = stats_combined.reindex_axis(['Stock', 'Date', 'Price', 'Volume', 'Amount', 'Short', 'Adj_Date',\n",
    "       'Week_day', 'Day_Prior', 'Recent_Date', 'Day_Prior_Deal_Ratio'], axis=1)"
   ]
  },
  {
   "cell_type": "code",
   "execution_count": null,
   "metadata": {
    "collapsed": false
   },
   "outputs": [],
   "source": [
    "# Setting a few values\n",
    "stats_combined.loc['PE', 'Price'] = '21.37'\n",
    "stats_combined.loc['PE', 'Amount']= '438.08'\n",
    "stats_combined.loc['PE','Day_Prior_Deal_Ratio'] = '0.94767184'\n",
    "\n",
    "stats_combined.loc['SRC', 'Price'] = '11.50'\n",
    "stats_combined.loc['SRC', 'Amount']= '34.5'\n",
    "stats_combined.loc['SRC','Day_Prior_Deal_Ratio'] = '1.003'"
   ]
  },
  {
   "cell_type": "code",
   "execution_count": null,
   "metadata": {
    "collapsed": true
   },
   "outputs": [],
   "source": [
    "stats_combined = pd.read_csv(\"combined_stats.csv\")"
   ]
  },
  {
   "cell_type": "code",
   "execution_count": null,
   "metadata": {
    "collapsed": true
   },
   "outputs": [],
   "source": [
    "db = sqlite3.connect(\"prices_csv.sqlite\")\n",
    "stats_combined.to_sql('stats_combined2', db)"
   ]
  },
  {
   "cell_type": "code",
   "execution_count": null,
   "metadata": {
    "collapsed": false
   },
   "outputs": [],
   "source": [
    "stats_combined.index = stats_combined['Stock']\n",
    "del(stats_combined['Stock'])\n",
    "stats_combined"
   ]
  },
  {
   "cell_type": "code",
   "execution_count": null,
   "metadata": {
    "collapsed": false
   },
   "outputs": [],
   "source": [
    "import pandas as pd\n",
    "fundamentals = pd.read_csv(\"Regression_Project_Fundamental_Factors.csv\")\n",
    "\n",
    "fundamentals.index = fundamentals['Company']\n",
    "del(fundamentals['Company'])\n",
    "dpdr = stats_combined['Day_Prior_Deal_Ratio']\n",
    "fundamentals['pricing_ratio'] = dpdr"
   ]
  },
  {
   "cell_type": "code",
   "execution_count": null,
   "metadata": {
    "collapsed": true
   },
   "outputs": [],
   "source": [
    "db = sqlite3.connect(\"prices_csv.sqlite\")\n",
    "fundamentals.to_sql('fundamentals', db)"
   ]
  },
  {
   "cell_type": "code",
   "execution_count": null,
   "metadata": {
    "collapsed": false
   },
   "outputs": [],
   "source": [
    "for i, j in added_mcaps.items():\n",
    "    fundamentals.loc[i, 'market_cap'] = j\n",
    "for i, j in added_ebitdas.items():\n",
    "    fundamentals.loc[i, 'ebitda '] = j    "
   ]
  },
  {
   "cell_type": "code",
   "execution_count": null,
   "metadata": {
    "collapsed": true
   },
   "outputs": [],
   "source": [
    "dpdr=stats_combined['Day_Prior_Deal_Ratio']"
   ]
  },
  {
   "cell_type": "code",
   "execution_count": null,
   "metadata": {
    "collapsed": false
   },
   "outputs": [],
   "source": [
    "fundamentals['pricing_ratio'] = dpdr"
   ]
  },
  {
   "cell_type": "code",
   "execution_count": null,
   "metadata": {
    "collapsed": true
   },
   "outputs": [],
   "source": [
    "db = sqlite3.connect(\"prices_csv.sqlite\")\n",
    "cum_vol_prices1 = pd.read_sql_query(\"SELECT * FROM cum_vol_and_comps1\", db)"
   ]
  },
  {
   "cell_type": "code",
   "execution_count": null,
   "metadata": {
    "collapsed": false
   },
   "outputs": [],
   "source": [
    "db = sqlite3.connect(\"prices_csv.sqlite\")\n",
    "cum_vol_prices2 = pd.read_sql_query(\"SELECT * FROM cum_vol_and_comps2\", db)"
   ]
  },
  {
   "cell_type": "code",
   "execution_count": null,
   "metadata": {
    "collapsed": true
   },
   "outputs": [],
   "source": [
    "db = sqlite3.connect(\"prices_csv.sqlite\")\n",
    "cum_vol_prices3 = pd.read_sql_query(\"SELECT * FROM cum_vol_and_prices3\", db)"
   ]
  },
  {
   "cell_type": "code",
   "execution_count": null,
   "metadata": {
    "collapsed": false
   },
   "outputs": [],
   "source": [
    "cum_vol_prices1.to_csv(\"cum_vol_prices1.csv\")\n",
    "cum_vol_prices2.to_csv(\"cum_vol_prices2.csv\")\n",
    "cum_vol_prices3.to_csv(\"cum_vol_prices3.csv\")"
   ]
  },
  {
   "cell_type": "code",
   "execution_count": 62,
   "metadata": {
    "collapsed": false
   },
   "outputs": [
    {
     "data": {
      "text/html": [
       "<div>\n",
       "<table border=\"1\" class=\"dataframe\">\n",
       "  <thead>\n",
       "    <tr style=\"text-align: right;\">\n",
       "      <th></th>\n",
       "      <th>ADMS</th>\n",
       "      <th>ADPT</th>\n",
       "      <th>AKS</th>\n",
       "      <th>AM</th>\n",
       "      <th>AR</th>\n",
       "      <th>ASC</th>\n",
       "      <th>BNCN</th>\n",
       "      <th>CARA</th>\n",
       "      <th>COG</th>\n",
       "      <th>CPE</th>\n",
       "      <th>...</th>\n",
       "      <th>SRC</th>\n",
       "      <th>STKL</th>\n",
       "      <th>SWN</th>\n",
       "      <th>SYRG</th>\n",
       "      <th>TRVN</th>\n",
       "      <th>TTI</th>\n",
       "      <th>TTOO</th>\n",
       "      <th>TXMD</th>\n",
       "      <th>WGP</th>\n",
       "      <th>ZGNX</th>\n",
       "    </tr>\n",
       "    <tr>\n",
       "      <th>Vol_index</th>\n",
       "      <th></th>\n",
       "      <th></th>\n",
       "      <th></th>\n",
       "      <th></th>\n",
       "      <th></th>\n",
       "      <th></th>\n",
       "      <th></th>\n",
       "      <th></th>\n",
       "      <th></th>\n",
       "      <th></th>\n",
       "      <th></th>\n",
       "      <th></th>\n",
       "      <th></th>\n",
       "      <th></th>\n",
       "      <th></th>\n",
       "      <th></th>\n",
       "      <th></th>\n",
       "      <th></th>\n",
       "      <th></th>\n",
       "      <th></th>\n",
       "      <th></th>\n",
       "    </tr>\n",
       "  </thead>\n",
       "  <tbody>\n",
       "    <tr>\n",
       "      <th>0.0</th>\n",
       "      <td>0.76</td>\n",
       "      <td>0.85</td>\n",
       "      <td>0.90</td>\n",
       "      <td>0.86</td>\n",
       "      <td>0.99</td>\n",
       "      <td>0.87</td>\n",
       "      <td>1</td>\n",
       "      <td>1.03</td>\n",
       "      <td>0.97</td>\n",
       "      <td>1.018</td>\n",
       "      <td>...</td>\n",
       "      <td>0.96</td>\n",
       "      <td>1.05</td>\n",
       "      <td>0.91</td>\n",
       "      <td>1.02</td>\n",
       "      <td>1.13</td>\n",
       "      <td>0.88</td>\n",
       "      <td>1.07</td>\n",
       "      <td>1.06</td>\n",
       "      <td>0.88</td>\n",
       "      <td>1.01</td>\n",
       "    </tr>\n",
       "    <tr>\n",
       "      <th>0.1</th>\n",
       "      <td>0.76</td>\n",
       "      <td>0.85</td>\n",
       "      <td>0.90</td>\n",
       "      <td>0.86</td>\n",
       "      <td>0.99</td>\n",
       "      <td>0.87</td>\n",
       "      <td>1</td>\n",
       "      <td>1.03</td>\n",
       "      <td>0.97</td>\n",
       "      <td>1.018</td>\n",
       "      <td>...</td>\n",
       "      <td>0.96</td>\n",
       "      <td>1.05</td>\n",
       "      <td>0.91</td>\n",
       "      <td>1.02</td>\n",
       "      <td>1.13</td>\n",
       "      <td>0.88</td>\n",
       "      <td>1.07</td>\n",
       "      <td>1.06</td>\n",
       "      <td>0.88</td>\n",
       "      <td>1.01</td>\n",
       "    </tr>\n",
       "    <tr>\n",
       "      <th>0.2</th>\n",
       "      <td>0.76</td>\n",
       "      <td>0.85</td>\n",
       "      <td>0.90</td>\n",
       "      <td>0.86</td>\n",
       "      <td>0.99</td>\n",
       "      <td>0.87</td>\n",
       "      <td>1</td>\n",
       "      <td>1.03</td>\n",
       "      <td>0.97</td>\n",
       "      <td>1.018</td>\n",
       "      <td>...</td>\n",
       "      <td>0.96</td>\n",
       "      <td>1.05</td>\n",
       "      <td>0.91</td>\n",
       "      <td>1.02</td>\n",
       "      <td>1.13</td>\n",
       "      <td>0.88</td>\n",
       "      <td>0.96</td>\n",
       "      <td>1.06</td>\n",
       "      <td>0.88</td>\n",
       "      <td>0.93</td>\n",
       "    </tr>\n",
       "    <tr>\n",
       "      <th>0.3</th>\n",
       "      <td>0.76</td>\n",
       "      <td>0.85</td>\n",
       "      <td>0.90</td>\n",
       "      <td>0.86</td>\n",
       "      <td>0.99</td>\n",
       "      <td>0.87</td>\n",
       "      <td>1</td>\n",
       "      <td>1.03</td>\n",
       "      <td>0.97</td>\n",
       "      <td>1.018</td>\n",
       "      <td>...</td>\n",
       "      <td>0.96</td>\n",
       "      <td>1.06</td>\n",
       "      <td>0.91</td>\n",
       "      <td>1.06</td>\n",
       "      <td>1.13</td>\n",
       "      <td>0.88</td>\n",
       "      <td>0.89</td>\n",
       "      <td>1.06</td>\n",
       "      <td>0.88</td>\n",
       "      <td>0.93</td>\n",
       "    </tr>\n",
       "    <tr>\n",
       "      <th>0.4</th>\n",
       "      <td>0.76</td>\n",
       "      <td>0.85</td>\n",
       "      <td>0.90</td>\n",
       "      <td>0.86</td>\n",
       "      <td>0.99</td>\n",
       "      <td>0.87</td>\n",
       "      <td>1</td>\n",
       "      <td>1.03</td>\n",
       "      <td>0.97</td>\n",
       "      <td>1.018</td>\n",
       "      <td>...</td>\n",
       "      <td>0.96</td>\n",
       "      <td>1.06</td>\n",
       "      <td>0.91</td>\n",
       "      <td>1.06</td>\n",
       "      <td>1.13</td>\n",
       "      <td>0.88</td>\n",
       "      <td>0.89</td>\n",
       "      <td>1.06</td>\n",
       "      <td>0.88</td>\n",
       "      <td>0.93</td>\n",
       "    </tr>\n",
       "  </tbody>\n",
       "</table>\n",
       "<p>5 rows × 56 columns</p>\n",
       "</div>"
      ],
      "text/plain": [
       "           ADMS  ADPT   AKS    AM    AR   ASC BNCN  CARA   COG    CPE  ...   \\\n",
       "Vol_index                                                              ...    \n",
       "0.0        0.76  0.85  0.90  0.86  0.99  0.87    1  1.03  0.97  1.018  ...    \n",
       "0.1        0.76  0.85  0.90  0.86  0.99  0.87    1  1.03  0.97  1.018  ...    \n",
       "0.2        0.76  0.85  0.90  0.86  0.99  0.87    1  1.03  0.97  1.018  ...    \n",
       "0.3        0.76  0.85  0.90  0.86  0.99  0.87    1  1.03  0.97  1.018  ...    \n",
       "0.4        0.76  0.85  0.90  0.86  0.99  0.87    1  1.03  0.97  1.018  ...    \n",
       "\n",
       "            SRC  STKL   SWN  SYRG  TRVN   TTI  TTOO  TXMD   WGP  ZGNX  \n",
       "Vol_index                                                              \n",
       "0.0        0.96  1.05  0.91  1.02  1.13  0.88  1.07  1.06  0.88  1.01  \n",
       "0.1        0.96  1.05  0.91  1.02  1.13  0.88  1.07  1.06  0.88  1.01  \n",
       "0.2        0.96  1.05  0.91  1.02  1.13  0.88  0.96  1.06  0.88  0.93  \n",
       "0.3        0.96  1.06  0.91  1.06  1.13  0.88  0.89  1.06  0.88  0.93  \n",
       "0.4        0.96  1.06  0.91  1.06  1.13  0.88  0.89  1.06  0.88  0.93  \n",
       "\n",
       "[5 rows x 56 columns]"
      ]
     },
     "execution_count": 62,
     "metadata": {},
     "output_type": "execute_result"
    }
   ],
   "source": [
    "spread_ratios = pd.read_csv(\"spread_ratios.csv\")\n",
    "spread_ratios.replace('', np.nan, inplace=True)\n",
    "spread_ratios.replace(' ', np.nan, inplace=True)\n",
    "spread_ratios.index= spread_ratios['Vol_index']\n",
    "del(spread_ratios['Vol_index'])\n",
    "spread_ratios2 = spread_ratios.T.sort_index()\n",
    "spread_ratios= spread_ratios2.T\n",
    "spread_ratios.head()"
   ]
  },
  {
   "cell_type": "code",
   "execution_count": null,
   "metadata": {
    "collapsed": true
   },
   "outputs": [],
   "source": [
    "db = sqlite3.connect(\"prices_csv.sqlite\")\n",
    "spread_ratios.to_sql('spread_ratios', db)"
   ]
  },
  {
   "cell_type": "code",
   "execution_count": null,
   "metadata": {
    "collapsed": false
   },
   "outputs": [],
   "source": [
    "db = sqlite3.connect(\"prices_csv.sqlite\")\n",
    "fundamentals = pd.read_sql_query(\"SELECT * FROM fundamentals\", db)"
   ]
  },
  {
   "cell_type": "code",
   "execution_count": 64,
   "metadata": {
    "collapsed": false
   },
   "outputs": [],
   "source": [
    "for i in spread_ratios.index:\n",
    "    for col in spread_ratios.columns:\n",
    "        try:\n",
    "            tmp = float(spread_ratios.ix[i][col])\n",
    "        except Exception:\n",
    "            print(i, col)"
   ]
  },
  {
   "cell_type": "code",
   "execution_count": 66,
   "metadata": {
    "collapsed": false
   },
   "outputs": [],
   "source": [
    "for col in spread_ratios.columns:\n",
    "    spread_ratios[col]= spread_ratios[col].astype('float')    "
   ]
  },
  {
   "cell_type": "code",
   "execution_count": null,
   "metadata": {
    "collapsed": true
   },
   "outputs": [],
   "source": [
    "spread_ratios.mean(axis=1)"
   ]
  },
  {
   "cell_type": "code",
   "execution_count": 68,
   "metadata": {
    "collapsed": false
   },
   "outputs": [
    {
     "data": {
      "text/plain": [
       "[<matplotlib.lines.Line2D at 0x1176ccb00>]"
      ]
     },
     "execution_count": 68,
     "metadata": {},
     "output_type": "execute_result"
    },
    {
     "data": {
      "image/png": "[encoded data removed]",
      "text/plain": [
       "<matplotlib.figure.Figure at 0x11759ddd8>"
      ]
     },
     "metadata": {},
     "output_type": "display_data"
    }
   ],
   "source": [
    "#  GRAPHING spread_ratios MEAN VALUES \n",
    "import matplotlib.pyplot as plt\n",
    "%matplotlib inline\n",
    "plt.plot(spread_ratios.mean(axis=1))"
   ]
  },
  {
   "cell_type": "code",
   "execution_count": null,
   "metadata": {
    "collapsed": true
   },
   "outputs": [],
   "source": [
    "db = sqlite3.connect(\"prices_csv.sqlite\")\n",
    "prices = pd.read_sql_query(\"SELECT * FROM prices\", db)"
   ]
  },
  {
   "cell_type": "code",
   "execution_count": null,
   "metadata": {
    "collapsed": false
   },
   "outputs": [],
   "source": [
    "prices.head()\n",
    "prices.index=prices['Date']\n",
    "del(prices['index'])"
   ]
  },
  {
   "cell_type": "code",
   "execution_count": null,
   "metadata": {
    "collapsed": true
   },
   "outputs": [],
   "source": [
    "# ADDED A FEW COMPANIES\n",
    "prices_added = pd.read_csv('prices_added.csv')"
   ]
  },
  {
   "cell_type": "code",
   "execution_count": null,
   "metadata": {
    "collapsed": false
   },
   "outputs": [],
   "source": [
    "prices_added = prices_added.T\n",
    "prices_added_no_date = prices_added.T\n",
    "prices_added_t = prices_added_no_date.T              \n",
    "prices_added_t.head()\n",
    "prices_added_t.index = prices.index\n",
    "del prices_added_t['Date']\n",
    "prices_added_t.index"
   ]
  },
  {
   "cell_type": "code",
   "execution_count": null,
   "metadata": {
    "collapsed": false
   },
   "outputs": [],
   "source": [
    "combined = pd.concat([prices,prices_added_t], axis =1)\n",
    "combined= combined[:235]\n",
    "combined.head()"
   ]
  },
  {
   "cell_type": "code",
   "execution_count": null,
   "metadata": {
    "collapsed": false
   },
   "outputs": [],
   "source": [
    "db = sqlite3.connect(\"prices_csv.sqlite\")\n",
    "prices = pd.read_sql_query(\"SELECT * FROM prices3\", db)"
   ]
  },
  {
   "cell_type": "code",
   "execution_count": null,
   "metadata": {
    "collapsed": false
   },
   "outputs": [],
   "source": [
    "db = sqlite3.connect(\"prices_csv.sqlite\")\n",
    "prices3.to_sql('prices3.csv', db)"
   ]
  },
  {
   "cell_type": "code",
   "execution_count": null,
   "metadata": {
    "collapsed": false
   },
   "outputs": [],
   "source": [
    "pricess.to_csv('prices2.csv')\n",
    "prices3.to_csv('prices3.csv')"
   ]
  },
  {
   "cell_type": "code",
   "execution_count": null,
   "metadata": {
    "collapsed": false
   },
   "outputs": [],
   "source": [
    "# Ran Correlations in R (using 'cor' function) and uploading here\n",
    "cor1= pd.read_csv('prices1_correlations.csv')\n",
    "cor2= pd.read_csv('prices2_correlations.csv')\n",
    "cor3= pd.read_csv('prices3_correlations.csv')"
   ]
  },
  {
   "cell_type": "code",
   "execution_count": 38,
   "metadata": {
    "collapsed": false
   },
   "outputs": [
    {
     "data": {
      "text/html": [
       "<div>\n",
       "<table border=\"1\" class=\"dataframe\">\n",
       "  <thead>\n",
       "    <tr style=\"text-align: right;\">\n",
       "      <th></th>\n",
       "      <th>AKS</th>\n",
       "      <th>AM</th>\n",
       "      <th>COG</th>\n",
       "      <th>CPE</th>\n",
       "      <th>D</th>\n",
       "      <th>DVN</th>\n",
       "      <th>EQT</th>\n",
       "      <th>ESV</th>\n",
       "      <th>FOXF</th>\n",
       "      <th>GIG</th>\n",
       "      <th>...</th>\n",
       "      <th>SWN</th>\n",
       "      <th>SYRG</th>\n",
       "      <th>WGP</th>\n",
       "      <th>USO</th>\n",
       "      <th>SPY</th>\n",
       "      <th>TAST</th>\n",
       "      <th>INCR</th>\n",
       "      <th>LSCC</th>\n",
       "      <th>X</th>\n",
       "      <th>AEP</th>\n",
       "    </tr>\n",
       "    <tr>\n",
       "      <th>Unnamed: 0</th>\n",
       "      <th></th>\n",
       "      <th></th>\n",
       "      <th></th>\n",
       "      <th></th>\n",
       "      <th></th>\n",
       "      <th></th>\n",
       "      <th></th>\n",
       "      <th></th>\n",
       "      <th></th>\n",
       "      <th></th>\n",
       "      <th></th>\n",
       "      <th></th>\n",
       "      <th></th>\n",
       "      <th></th>\n",
       "      <th></th>\n",
       "      <th></th>\n",
       "      <th></th>\n",
       "      <th></th>\n",
       "      <th></th>\n",
       "      <th></th>\n",
       "      <th></th>\n",
       "    </tr>\n",
       "  </thead>\n",
       "  <tbody>\n",
       "    <tr>\n",
       "      <th>AKS</th>\n",
       "      <td>1.000000</td>\n",
       "      <td>0.787691</td>\n",
       "      <td>0.819244</td>\n",
       "      <td>0.698459</td>\n",
       "      <td>0.853278</td>\n",
       "      <td>0.299200</td>\n",
       "      <td>0.775514</td>\n",
       "      <td>-0.517375</td>\n",
       "      <td>0.485536</td>\n",
       "      <td>-0.577764</td>\n",
       "      <td>...</td>\n",
       "      <td>0.722270</td>\n",
       "      <td>-0.382024</td>\n",
       "      <td>0.424975</td>\n",
       "      <td>-0.084971</td>\n",
       "      <td>0.770410</td>\n",
       "      <td>0.324015</td>\n",
       "      <td>-0.047979</td>\n",
       "      <td>0.446237</td>\n",
       "      <td>0.973423</td>\n",
       "      <td>0.869076</td>\n",
       "    </tr>\n",
       "    <tr>\n",
       "      <th>AM</th>\n",
       "      <td>0.787691</td>\n",
       "      <td>1.000000</td>\n",
       "      <td>0.846959</td>\n",
       "      <td>0.868504</td>\n",
       "      <td>0.792057</td>\n",
       "      <td>0.605419</td>\n",
       "      <td>0.824469</td>\n",
       "      <td>-0.345404</td>\n",
       "      <td>0.665248</td>\n",
       "      <td>-0.722760</td>\n",
       "      <td>...</td>\n",
       "      <td>0.828030</td>\n",
       "      <td>-0.187433</td>\n",
       "      <td>0.607231</td>\n",
       "      <td>0.228763</td>\n",
       "      <td>0.831865</td>\n",
       "      <td>0.101435</td>\n",
       "      <td>-0.093700</td>\n",
       "      <td>0.409712</td>\n",
       "      <td>0.797006</td>\n",
       "      <td>0.700606</td>\n",
       "    </tr>\n",
       "    <tr>\n",
       "      <th>COG</th>\n",
       "      <td>0.819244</td>\n",
       "      <td>0.846959</td>\n",
       "      <td>1.000000</td>\n",
       "      <td>0.759103</td>\n",
       "      <td>0.832506</td>\n",
       "      <td>0.434487</td>\n",
       "      <td>0.944150</td>\n",
       "      <td>-0.500593</td>\n",
       "      <td>0.436612</td>\n",
       "      <td>-0.639457</td>\n",
       "      <td>...</td>\n",
       "      <td>0.860648</td>\n",
       "      <td>-0.327464</td>\n",
       "      <td>0.508787</td>\n",
       "      <td>0.130247</td>\n",
       "      <td>0.690277</td>\n",
       "      <td>0.363791</td>\n",
       "      <td>-0.235351</td>\n",
       "      <td>0.168409</td>\n",
       "      <td>0.822533</td>\n",
       "      <td>0.796210</td>\n",
       "    </tr>\n",
       "    <tr>\n",
       "      <th>CPE</th>\n",
       "      <td>0.698459</td>\n",
       "      <td>0.868504</td>\n",
       "      <td>0.759103</td>\n",
       "      <td>1.000000</td>\n",
       "      <td>0.673037</td>\n",
       "      <td>0.711448</td>\n",
       "      <td>0.720874</td>\n",
       "      <td>-0.344937</td>\n",
       "      <td>0.801094</td>\n",
       "      <td>-0.611106</td>\n",
       "      <td>...</td>\n",
       "      <td>0.836417</td>\n",
       "      <td>-0.171424</td>\n",
       "      <td>0.634076</td>\n",
       "      <td>0.232936</td>\n",
       "      <td>0.896517</td>\n",
       "      <td>0.087716</td>\n",
       "      <td>0.129012</td>\n",
       "      <td>0.467709</td>\n",
       "      <td>0.741584</td>\n",
       "      <td>0.593327</td>\n",
       "    </tr>\n",
       "    <tr>\n",
       "      <th>D</th>\n",
       "      <td>0.853278</td>\n",
       "      <td>0.792057</td>\n",
       "      <td>0.832506</td>\n",
       "      <td>0.673037</td>\n",
       "      <td>1.000000</td>\n",
       "      <td>0.262977</td>\n",
       "      <td>0.812884</td>\n",
       "      <td>-0.647289</td>\n",
       "      <td>0.418530</td>\n",
       "      <td>-0.650485</td>\n",
       "      <td>...</td>\n",
       "      <td>0.707302</td>\n",
       "      <td>-0.476007</td>\n",
       "      <td>0.270702</td>\n",
       "      <td>-0.153388</td>\n",
       "      <td>0.659782</td>\n",
       "      <td>0.298757</td>\n",
       "      <td>-0.331384</td>\n",
       "      <td>0.279280</td>\n",
       "      <td>0.848918</td>\n",
       "      <td>0.913541</td>\n",
       "    </tr>\n",
       "  </tbody>\n",
       "</table>\n",
       "<p>5 rows × 30 columns</p>\n",
       "</div>"
      ],
      "text/plain": [
       "                 AKS        AM       COG       CPE         D       DVN  \\\n",
       "Unnamed: 0                                                               \n",
       "AKS         1.000000  0.787691  0.819244  0.698459  0.853278  0.299200   \n",
       "AM          0.787691  1.000000  0.846959  0.868504  0.792057  0.605419   \n",
       "COG         0.819244  0.846959  1.000000  0.759103  0.832506  0.434487   \n",
       "CPE         0.698459  0.868504  0.759103  1.000000  0.673037  0.711448   \n",
       "D           0.853278  0.792057  0.832506  0.673037  1.000000  0.262977   \n",
       "\n",
       "                 EQT       ESV      FOXF       GIG    ...          SWN  \\\n",
       "Unnamed: 0                                            ...                \n",
       "AKS         0.775514 -0.517375  0.485536 -0.577764    ...     0.722270   \n",
       "AM          0.824469 -0.345404  0.665248 -0.722760    ...     0.828030   \n",
       "COG         0.944150 -0.500593  0.436612 -0.639457    ...     0.860648   \n",
       "CPE         0.720874 -0.344937  0.801094 -0.611106    ...     0.836417   \n",
       "D           0.812884 -0.647289  0.418530 -0.650485    ...     0.707302   \n",
       "\n",
       "                SYRG       WGP       USO       SPY      TAST      INCR  \\\n",
       "Unnamed: 0                                                               \n",
       "AKS        -0.382024  0.424975 -0.084971  0.770410  0.324015 -0.047979   \n",
       "AM         -0.187433  0.607231  0.228763  0.831865  0.101435 -0.093700   \n",
       "COG        -0.327464  0.508787  0.130247  0.690277  0.363791 -0.235351   \n",
       "CPE        -0.171424  0.634076  0.232936  0.896517  0.087716  0.129012   \n",
       "D          -0.476007  0.270702 -0.153388  0.659782  0.298757 -0.331384   \n",
       "\n",
       "                LSCC         X       AEP  \n",
       "Unnamed: 0                                \n",
       "AKS         0.446237  0.973423  0.869076  \n",
       "AM          0.409712  0.797006  0.700606  \n",
       "COG         0.168409  0.822533  0.796210  \n",
       "CPE         0.467709  0.741584  0.593327  \n",
       "D           0.279280  0.848918  0.913541  \n",
       "\n",
       "[5 rows x 30 columns]"
      ]
     },
     "execution_count": 38,
     "metadata": {},
     "output_type": "execute_result"
    }
   ],
   "source": [
    "cor1.index = cor1['Unnamed: 0']\n",
    "del(cor1['Unnamed: 0'])\n",
    "cor1.head()"
   ]
  },
  {
   "cell_type": "code",
   "execution_count": 22,
   "metadata": {
    "collapsed": true
   },
   "outputs": [],
   "source": [
    "db = sqlite3.connect(\"prices_csv.sqlite\")\n",
    "\n",
    "stats1= pd.read_sql_query(\"SELECT * FROM stats1\", db)\n",
    "stats2 = pd.read_sql_query(\"SELECT * FROM stats2\", db)\n",
    "stats3 = pd.read_sql_query(\"SELECT * FROM stats3\", db)"
   ]
  },
  {
   "cell_type": "code",
   "execution_count": 29,
   "metadata": {
    "collapsed": false
   },
   "outputs": [],
   "source": [
    "stats1.index= stats1['Stock']\n",
    "del (stats1['Stock'])"
   ]
  },
  {
   "cell_type": "code",
   "execution_count": 31,
   "metadata": {
    "collapsed": false
   },
   "outputs": [
    {
     "data": {
      "text/html": [
       "<div>\n",
       "<table border=\"1\" class=\"dataframe\">\n",
       "  <thead>\n",
       "    <tr style=\"text-align: right;\">\n",
       "      <th></th>\n",
       "      <th>Date</th>\n",
       "      <th>Transaction_Price</th>\n",
       "      <th>Transaction_Volume</th>\n",
       "      <th>Transaction_$</th>\n",
       "      <th>Comp</th>\n",
       "      <th>Adj_Date</th>\n",
       "      <th>Week_day</th>\n",
       "      <th>Day_Prior</th>\n",
       "      <th>Recent_Date</th>\n",
       "      <th>Days_diff</th>\n",
       "      <th>Day_Prior_Deal_Ratio</th>\n",
       "    </tr>\n",
       "    <tr>\n",
       "      <th>Stock</th>\n",
       "      <th></th>\n",
       "      <th></th>\n",
       "      <th></th>\n",
       "      <th></th>\n",
       "      <th></th>\n",
       "      <th></th>\n",
       "      <th></th>\n",
       "      <th></th>\n",
       "      <th></th>\n",
       "      <th></th>\n",
       "      <th></th>\n",
       "    </tr>\n",
       "  </thead>\n",
       "  <tbody>\n",
       "    <tr>\n",
       "      <th>AKS</th>\n",
       "      <td>4/29/16</td>\n",
       "      <td>4.40</td>\n",
       "      <td>59.8</td>\n",
       "      <td>263.1</td>\n",
       "      <td>X</td>\n",
       "      <td>2016-04-29 00:00:00</td>\n",
       "      <td>4</td>\n",
       "      <td>2016-04-28 00:00:00</td>\n",
       "      <td>9/21/16</td>\n",
       "      <td>146 days</td>\n",
       "      <td>0.881764</td>\n",
       "    </tr>\n",
       "    <tr>\n",
       "      <th>AM</th>\n",
       "      <td>3/24/16</td>\n",
       "      <td>22.40</td>\n",
       "      <td>8.2</td>\n",
       "      <td>183.7</td>\n",
       "      <td>CPE</td>\n",
       "      <td>2016-03-24 00:00:00</td>\n",
       "      <td>3</td>\n",
       "      <td>2016-03-23 00:00:00</td>\n",
       "      <td>9/21/16</td>\n",
       "      <td>182 days</td>\n",
       "      <td>0.914711</td>\n",
       "    </tr>\n",
       "    <tr>\n",
       "      <th>COG</th>\n",
       "      <td>2/23/16</td>\n",
       "      <td>20.00</td>\n",
       "      <td>50.6</td>\n",
       "      <td>1012.0</td>\n",
       "      <td>EQT</td>\n",
       "      <td>2016-02-23 00:00:00</td>\n",
       "      <td>1</td>\n",
       "      <td>2016-02-22 00:00:00</td>\n",
       "      <td>9/21/16</td>\n",
       "      <td>212 days</td>\n",
       "      <td>0.930021</td>\n",
       "    </tr>\n",
       "    <tr>\n",
       "      <th>CPE</th>\n",
       "      <td>3/4/16</td>\n",
       "      <td>6.52</td>\n",
       "      <td>15.2</td>\n",
       "      <td>99.0</td>\n",
       "      <td>PE</td>\n",
       "      <td>2016-03-04 00:00:00</td>\n",
       "      <td>4</td>\n",
       "      <td>2016-03-03 00:00:00</td>\n",
       "      <td>9/21/16</td>\n",
       "      <td>202 days</td>\n",
       "      <td>0.953216</td>\n",
       "    </tr>\n",
       "    <tr>\n",
       "      <th>D</th>\n",
       "      <td>4/5/16</td>\n",
       "      <td>73.53</td>\n",
       "      <td>10.2</td>\n",
       "      <td>750.0</td>\n",
       "      <td>AEP</td>\n",
       "      <td>2016-04-05 00:00:00</td>\n",
       "      <td>1</td>\n",
       "      <td>2016-04-04 00:00:00</td>\n",
       "      <td>9/21/16</td>\n",
       "      <td>170 days</td>\n",
       "      <td>1.004953</td>\n",
       "    </tr>\n",
       "  </tbody>\n",
       "</table>\n",
       "</div>"
      ],
      "text/plain": [
       "          Date  Transaction_Price  Transaction_Volume  Transaction_$ Comp  \\\n",
       "Stock                                                                       \n",
       "AKS    4/29/16               4.40                59.8          263.1    X   \n",
       "AM     3/24/16              22.40                 8.2          183.7  CPE   \n",
       "COG    2/23/16              20.00                50.6         1012.0  EQT   \n",
       "CPE     3/4/16               6.52                15.2           99.0   PE   \n",
       "D       4/5/16              73.53                10.2          750.0  AEP   \n",
       "\n",
       "                  Adj_Date  Week_day            Day_Prior Recent_Date  \\\n",
       "Stock                                                                   \n",
       "AKS    2016-04-29 00:00:00         4  2016-04-28 00:00:00     9/21/16   \n",
       "AM     2016-03-24 00:00:00         3  2016-03-23 00:00:00     9/21/16   \n",
       "COG    2016-02-23 00:00:00         1  2016-02-22 00:00:00     9/21/16   \n",
       "CPE    2016-03-04 00:00:00         4  2016-03-03 00:00:00     9/21/16   \n",
       "D      2016-04-05 00:00:00         1  2016-04-04 00:00:00     9/21/16   \n",
       "\n",
       "      Days_diff  Day_Prior_Deal_Ratio  \n",
       "Stock                                  \n",
       "AKS    146 days              0.881764  \n",
       "AM     182 days              0.914711  \n",
       "COG    212 days              0.930021  \n",
       "CPE    202 days              0.953216  \n",
       "D      170 days              1.004953  "
      ]
     },
     "execution_count": 31,
     "metadata": {},
     "output_type": "execute_result"
    }
   ],
   "source": [
    "stats1.head()\n",
    "#stats1['Comp']"
   ]
  },
  {
   "cell_type": "code",
   "execution_count": 39,
   "metadata": {
    "collapsed": false
   },
   "outputs": [
    {
     "data": {
      "text/plain": [
       "{'AKS': 0.9734225726513609,\n",
       " 'AM': 0.86850359388190512,\n",
       " 'COG': 0.94415035540026393,\n",
       " 'CPE': 0.94265834219247202,\n",
       " 'D': 0.91354063172689692,\n",
       " 'DVN': 0.87858146224330003,\n",
       " 'EQT': 0.84971530580742705,\n",
       " 'ESV': 0.90311483341570298,\n",
       " 'FOXF': 0.82767895895558596,\n",
       " 'GIG': -0.16293953592112698,\n",
       " 'GPOR': 0.84971530580742705,\n",
       " 'HES': 0.866140019487735,\n",
       " 'MTDR': 0.87858146224330003,\n",
       " 'PE': 0.94265834219247202,\n",
       " 'PRAH': 0.58756389472299297,\n",
       " 'QEP': 0.91400986664058204,\n",
       " 'SABR': 0.56119781783757794,\n",
       " 'SE': 0.92859106939392999,\n",
       " 'SPWH': 0.28148893895591304,\n",
       " 'SRC': 0.92859106939392999,\n",
       " 'SWN': 0.90681194258006004,\n",
       " 'SYRG': 0.90311483341570298,\n",
       " 'WGP': 0.86001865595225702}"
      ]
     },
     "execution_count": 39,
     "metadata": {},
     "output_type": "execute_result"
    }
   ],
   "source": [
    "comp_bucket1 = {}\n",
    "for i in stats1.index:\n",
    "    comp1 = stats1.loc[i,'Comp']   \n",
    "    comp_bucket1[i] = cor1.loc[i, comp1]\n",
    "comp_bucket1"
   ]
  },
  {
   "cell_type": "code",
   "execution_count": 42,
   "metadata": {
    "collapsed": false
   },
   "outputs": [],
   "source": [
    "combined_correlation = {**comp_bucket1, **comp_bucket2, **comp_bucket3}"
   ]
  },
  {
   "cell_type": "code",
   "execution_count": 44,
   "metadata": {
    "collapsed": false
   },
   "outputs": [],
   "source": [
    "comp_df = pd.DataFrame.from_dict(combined_correlation, orient=\"index\")"
   ]
  },
  {
   "cell_type": "code",
   "execution_count": 56,
   "metadata": {
    "collapsed": false
   },
   "outputs": [
    {
     "data": {
      "text/html": [
       "<div>\n",
       "<table border=\"1\" class=\"dataframe\">\n",
       "  <thead>\n",
       "    <tr style=\"text-align: right;\">\n",
       "      <th></th>\n",
       "      <th>ADMS</th>\n",
       "      <th>ADPT</th>\n",
       "      <th>AKS</th>\n",
       "      <th>AM</th>\n",
       "      <th>AR</th>\n",
       "      <th>ASC</th>\n",
       "      <th>BNCN</th>\n",
       "      <th>CARA</th>\n",
       "      <th>COG</th>\n",
       "      <th>CPE</th>\n",
       "      <th>...</th>\n",
       "      <th>SRC</th>\n",
       "      <th>STKL</th>\n",
       "      <th>SWN</th>\n",
       "      <th>SYRG</th>\n",
       "      <th>TRVN</th>\n",
       "      <th>TTI</th>\n",
       "      <th>TTOO</th>\n",
       "      <th>TXMD</th>\n",
       "      <th>WGP</th>\n",
       "      <th>ZGNX</th>\n",
       "    </tr>\n",
       "    <tr>\n",
       "      <th>Vol_index</th>\n",
       "      <th></th>\n",
       "      <th></th>\n",
       "      <th></th>\n",
       "      <th></th>\n",
       "      <th></th>\n",
       "      <th></th>\n",
       "      <th></th>\n",
       "      <th></th>\n",
       "      <th></th>\n",
       "      <th></th>\n",
       "      <th></th>\n",
       "      <th></th>\n",
       "      <th></th>\n",
       "      <th></th>\n",
       "      <th></th>\n",
       "      <th></th>\n",
       "      <th></th>\n",
       "      <th></th>\n",
       "      <th></th>\n",
       "      <th></th>\n",
       "      <th></th>\n",
       "    </tr>\n",
       "  </thead>\n",
       "  <tbody>\n",
       "    <tr>\n",
       "      <th>0.0</th>\n",
       "      <td>0.76</td>\n",
       "      <td>0.85</td>\n",
       "      <td>0.90</td>\n",
       "      <td>0.86</td>\n",
       "      <td>0.99</td>\n",
       "      <td>0.87</td>\n",
       "      <td>1</td>\n",
       "      <td>1.03</td>\n",
       "      <td>0.97</td>\n",
       "      <td>1.018</td>\n",
       "      <td>...</td>\n",
       "      <td>0.96</td>\n",
       "      <td>1.05</td>\n",
       "      <td>0.91</td>\n",
       "      <td>1.02</td>\n",
       "      <td>1.13</td>\n",
       "      <td>0.88</td>\n",
       "      <td>1.07</td>\n",
       "      <td>1.06</td>\n",
       "      <td>0.88</td>\n",
       "      <td>1.01</td>\n",
       "    </tr>\n",
       "    <tr>\n",
       "      <th>0.1</th>\n",
       "      <td>0.76</td>\n",
       "      <td>0.85</td>\n",
       "      <td>0.90</td>\n",
       "      <td>0.86</td>\n",
       "      <td>0.99</td>\n",
       "      <td>0.87</td>\n",
       "      <td>1</td>\n",
       "      <td>1.03</td>\n",
       "      <td>0.97</td>\n",
       "      <td>1.018</td>\n",
       "      <td>...</td>\n",
       "      <td>0.96</td>\n",
       "      <td>1.05</td>\n",
       "      <td>0.91</td>\n",
       "      <td>1.02</td>\n",
       "      <td>1.13</td>\n",
       "      <td>0.88</td>\n",
       "      <td>1.07</td>\n",
       "      <td>1.06</td>\n",
       "      <td>0.88</td>\n",
       "      <td>1.01</td>\n",
       "    </tr>\n",
       "    <tr>\n",
       "      <th>0.2</th>\n",
       "      <td>0.76</td>\n",
       "      <td>0.85</td>\n",
       "      <td>0.90</td>\n",
       "      <td>0.86</td>\n",
       "      <td>0.99</td>\n",
       "      <td>0.87</td>\n",
       "      <td>1</td>\n",
       "      <td>1.03</td>\n",
       "      <td>0.97</td>\n",
       "      <td>1.018</td>\n",
       "      <td>...</td>\n",
       "      <td>0.96</td>\n",
       "      <td>1.05</td>\n",
       "      <td>0.91</td>\n",
       "      <td>1.02</td>\n",
       "      <td>1.13</td>\n",
       "      <td>0.88</td>\n",
       "      <td>0.96</td>\n",
       "      <td>1.06</td>\n",
       "      <td>0.88</td>\n",
       "      <td>0.93</td>\n",
       "    </tr>\n",
       "    <tr>\n",
       "      <th>0.3</th>\n",
       "      <td>0.76</td>\n",
       "      <td>0.85</td>\n",
       "      <td>0.90</td>\n",
       "      <td>0.86</td>\n",
       "      <td>0.99</td>\n",
       "      <td>0.87</td>\n",
       "      <td>1</td>\n",
       "      <td>1.03</td>\n",
       "      <td>0.97</td>\n",
       "      <td>1.018</td>\n",
       "      <td>...</td>\n",
       "      <td>0.96</td>\n",
       "      <td>1.06</td>\n",
       "      <td>0.91</td>\n",
       "      <td>1.06</td>\n",
       "      <td>1.13</td>\n",
       "      <td>0.88</td>\n",
       "      <td>0.89</td>\n",
       "      <td>1.06</td>\n",
       "      <td>0.88</td>\n",
       "      <td>0.93</td>\n",
       "    </tr>\n",
       "    <tr>\n",
       "      <th>0.4</th>\n",
       "      <td>0.76</td>\n",
       "      <td>0.85</td>\n",
       "      <td>0.90</td>\n",
       "      <td>0.86</td>\n",
       "      <td>0.99</td>\n",
       "      <td>0.87</td>\n",
       "      <td>1</td>\n",
       "      <td>1.03</td>\n",
       "      <td>0.97</td>\n",
       "      <td>1.018</td>\n",
       "      <td>...</td>\n",
       "      <td>0.96</td>\n",
       "      <td>1.06</td>\n",
       "      <td>0.91</td>\n",
       "      <td>1.06</td>\n",
       "      <td>1.13</td>\n",
       "      <td>0.88</td>\n",
       "      <td>0.89</td>\n",
       "      <td>1.06</td>\n",
       "      <td>0.88</td>\n",
       "      <td>0.93</td>\n",
       "    </tr>\n",
       "  </tbody>\n",
       "</table>\n",
       "<p>5 rows × 56 columns</p>\n",
       "</div>"
      ],
      "text/plain": [
       "           ADMS  ADPT   AKS    AM    AR   ASC BNCN  CARA   COG    CPE  ...   \\\n",
       "Vol_index                                                              ...    \n",
       "0.0        0.76  0.85  0.90  0.86  0.99  0.87    1  1.03  0.97  1.018  ...    \n",
       "0.1        0.76  0.85  0.90  0.86  0.99  0.87    1  1.03  0.97  1.018  ...    \n",
       "0.2        0.76  0.85  0.90  0.86  0.99  0.87    1  1.03  0.97  1.018  ...    \n",
       "0.3        0.76  0.85  0.90  0.86  0.99  0.87    1  1.03  0.97  1.018  ...    \n",
       "0.4        0.76  0.85  0.90  0.86  0.99  0.87    1  1.03  0.97  1.018  ...    \n",
       "\n",
       "            SRC  STKL   SWN  SYRG  TRVN   TTI  TTOO  TXMD   WGP  ZGNX  \n",
       "Vol_index                                                              \n",
       "0.0        0.96  1.05  0.91  1.02  1.13  0.88  1.07  1.06  0.88  1.01  \n",
       "0.1        0.96  1.05  0.91  1.02  1.13  0.88  1.07  1.06  0.88  1.01  \n",
       "0.2        0.96  1.05  0.91  1.02  1.13  0.88  0.96  1.06  0.88  0.93  \n",
       "0.3        0.96  1.06  0.91  1.06  1.13  0.88  0.89  1.06  0.88  0.93  \n",
       "0.4        0.96  1.06  0.91  1.06  1.13  0.88  0.89  1.06  0.88  0.93  \n",
       "\n",
       "[5 rows x 56 columns]"
      ]
     },
     "execution_count": 56,
     "metadata": {},
     "output_type": "execute_result"
    }
   ],
   "source": [
    "spread_ratios.head()"
   ]
  },
  {
   "cell_type": "code",
   "execution_count": 53,
   "metadata": {
    "collapsed": true
   },
   "outputs": [],
   "source": [
    "fundamentals['Comp_Cor'] = comp_df[0]"
   ]
  },
  {
   "cell_type": "code",
   "execution_count": 286,
   "metadata": {
    "collapsed": false
   },
   "outputs": [
    {
     "data": {
      "text/html": [
       "<div>\n",
       "<table border=\"1\" class=\"dataframe\">\n",
       "  <thead>\n",
       "    <tr style=\"text-align: right;\">\n",
       "      <th></th>\n",
       "      <th>market_cap</th>\n",
       "      <th>editda</th>\n",
       "      <th>day_prior_dr</th>\n",
       "      <th>comp_cor</th>\n",
       "      <th>ror</th>\n",
       "    </tr>\n",
       "    <tr>\n",
       "      <th>Company</th>\n",
       "      <th></th>\n",
       "      <th></th>\n",
       "      <th></th>\n",
       "      <th></th>\n",
       "      <th></th>\n",
       "    </tr>\n",
       "  </thead>\n",
       "  <tbody>\n",
       "    <tr>\n",
       "      <th>ADMS</th>\n",
       "      <td>0.38883</td>\n",
       "      <td>-0.06258</td>\n",
       "      <td>0.889346</td>\n",
       "      <td>0.141616</td>\n",
       "      <td>-13.333333</td>\n",
       "    </tr>\n",
       "    <tr>\n",
       "      <th>ADPT</th>\n",
       "      <td>0.02705</td>\n",
       "      <td>0.03754</td>\n",
       "      <td>0.867133</td>\n",
       "      <td>NaN</td>\n",
       "      <td>1.470588</td>\n",
       "    </tr>\n",
       "    <tr>\n",
       "      <th>AKS</th>\n",
       "      <td>2.20000</td>\n",
       "      <td>0.60280</td>\n",
       "      <td>0.881764</td>\n",
       "      <td>0.973423</td>\n",
       "      <td>-21.568627</td>\n",
       "    </tr>\n",
       "    <tr>\n",
       "      <th>AM</th>\n",
       "      <td>6.16000</td>\n",
       "      <td>0.37060</td>\n",
       "      <td>0.914711</td>\n",
       "      <td>0.868504</td>\n",
       "      <td>-6.410256</td>\n",
       "    </tr>\n",
       "    <tr>\n",
       "      <th>AR</th>\n",
       "      <td>7.00000</td>\n",
       "      <td>-0.09816</td>\n",
       "      <td>0.971029</td>\n",
       "      <td>0.735561</td>\n",
       "      <td>-4.854369</td>\n",
       "    </tr>\n",
       "  </tbody>\n",
       "</table>\n",
       "</div>"
      ],
      "text/plain": [
       "         market_cap   editda  day_prior_dr  comp_cor        ror\n",
       "Company                                                        \n",
       "ADMS        0.38883 -0.06258      0.889346  0.141616 -13.333333\n",
       "ADPT        0.02705  0.03754      0.867133       NaN   1.470588\n",
       "AKS         2.20000  0.60280      0.881764  0.973423 -21.568627\n",
       "AM          6.16000  0.37060      0.914711  0.868504  -6.410256\n",
       "AR          7.00000 -0.09816      0.971029  0.735561  -4.854369"
      ]
     },
     "execution_count": 286,
     "metadata": {},
     "output_type": "execute_result"
    }
   ],
   "source": [
    "db = sqlite3.connect(\"prices_csv.sqlite\")\n",
    "fundamentals.to_sql('fundamentals_', db)\n",
    "fundamentals.head()"
   ]
  },
  {
   "cell_type": "code",
   "execution_count": null,
   "metadata": {
    "collapsed": true
   },
   "outputs": [],
   "source": [
    "db = sqlite3.connect(\"prices_csv.sqlite\")\n",
    "#fundamentals.to_sql('Fundamental_Factors', db)\n",
    "fundamentals = pd.read_sql_query(\"SELECT * FROM fundamentals\", db)"
   ]
  },
  {
   "cell_type": "code",
   "execution_count": null,
   "metadata": {
    "collapsed": false
   },
   "outputs": [],
   "source": [
    "fundamentals.index= fundamentals['Company']\n",
    "del(fundamentals['Company'])"
   ]
  },
  {
   "cell_type": "code",
   "execution_count": null,
   "metadata": {
    "collapsed": false
   },
   "outputs": [],
   "source": [
    "Day_Prio_DR = pd.read_csv('Day_Prio_DR.csv')"
   ]
  },
  {
   "cell_type": "code",
   "execution_count": null,
   "metadata": {
    "collapsed": false
   },
   "outputs": [],
   "source": [
    "Day_Prio_DR.index= Day_Prio_DR['Stock']\n",
    "del (Day_Prio_DR['Stock'])"
   ]
  },
  {
   "cell_type": "code",
   "execution_count": null,
   "metadata": {
    "collapsed": true
   },
   "outputs": [],
   "source": [
    "fundamentals['Company']= Day_Prio_DR"
   ]
  },
  {
   "cell_type": "code",
   "execution_count": 173,
   "metadata": {
    "collapsed": false
   },
   "outputs": [],
   "source": [
    "fundamentals = fundamentals.rename(columns={'Day_Prior_DR': 'day_prior_dr'})\n",
    "fundamentals = fundamentals.rename(columns={'Comp_Cor': 'comp_cor'})"
   ]
  },
  {
   "cell_type": "code",
   "execution_count": 283,
   "metadata": {
    "collapsed": true
   },
   "outputs": [],
   "source": [
    "db = sqlite3.connect(\"prices_csv.sqlite\")\n",
    "spread_ratios.to_sql('spread_ratios', db)"
   ]
  },
  {
   "cell_type": "code",
   "execution_count": 138,
   "metadata": {
    "collapsed": false
   },
   "outputs": [
    {
     "data": {
      "text/html": [
       "<div>\n",
       "<table border=\"1\" class=\"dataframe\">\n",
       "  <thead>\n",
       "    <tr style=\"text-align: right;\">\n",
       "      <th></th>\n",
       "      <th>ADMS</th>\n",
       "      <th>ADPT</th>\n",
       "      <th>AKS</th>\n",
       "      <th>AM</th>\n",
       "      <th>AR</th>\n",
       "      <th>ASC</th>\n",
       "      <th>BNCN</th>\n",
       "      <th>CARA</th>\n",
       "      <th>COG</th>\n",
       "      <th>CPE</th>\n",
       "      <th>...</th>\n",
       "      <th>SRC</th>\n",
       "      <th>STKL</th>\n",
       "      <th>SWN</th>\n",
       "      <th>SYRG</th>\n",
       "      <th>TRVN</th>\n",
       "      <th>TTI</th>\n",
       "      <th>TTOO</th>\n",
       "      <th>TXMD</th>\n",
       "      <th>WGP</th>\n",
       "      <th>ZGNX</th>\n",
       "    </tr>\n",
       "    <tr>\n",
       "      <th>Vol_index</th>\n",
       "      <th></th>\n",
       "      <th></th>\n",
       "      <th></th>\n",
       "      <th></th>\n",
       "      <th></th>\n",
       "      <th></th>\n",
       "      <th></th>\n",
       "      <th></th>\n",
       "      <th></th>\n",
       "      <th></th>\n",
       "      <th></th>\n",
       "      <th></th>\n",
       "      <th></th>\n",
       "      <th></th>\n",
       "      <th></th>\n",
       "      <th></th>\n",
       "      <th></th>\n",
       "      <th></th>\n",
       "      <th></th>\n",
       "      <th></th>\n",
       "      <th></th>\n",
       "    </tr>\n",
       "  </thead>\n",
       "  <tbody>\n",
       "    <tr>\n",
       "      <th>0.0</th>\n",
       "      <td>0.76</td>\n",
       "      <td>0.85</td>\n",
       "      <td>0.9</td>\n",
       "      <td>0.86</td>\n",
       "      <td>0.99</td>\n",
       "      <td>0.87</td>\n",
       "      <td>1.0</td>\n",
       "      <td>1.03</td>\n",
       "      <td>0.97</td>\n",
       "      <td>1.018</td>\n",
       "      <td>...</td>\n",
       "      <td>0.96</td>\n",
       "      <td>1.05</td>\n",
       "      <td>0.91</td>\n",
       "      <td>1.02</td>\n",
       "      <td>1.13</td>\n",
       "      <td>0.88</td>\n",
       "      <td>1.07</td>\n",
       "      <td>1.06</td>\n",
       "      <td>0.88</td>\n",
       "      <td>1.01</td>\n",
       "    </tr>\n",
       "    <tr>\n",
       "      <th>0.1</th>\n",
       "      <td>0.76</td>\n",
       "      <td>0.85</td>\n",
       "      <td>0.9</td>\n",
       "      <td>0.86</td>\n",
       "      <td>0.99</td>\n",
       "      <td>0.87</td>\n",
       "      <td>1.0</td>\n",
       "      <td>1.03</td>\n",
       "      <td>0.97</td>\n",
       "      <td>1.018</td>\n",
       "      <td>...</td>\n",
       "      <td>0.96</td>\n",
       "      <td>1.05</td>\n",
       "      <td>0.91</td>\n",
       "      <td>1.02</td>\n",
       "      <td>1.13</td>\n",
       "      <td>0.88</td>\n",
       "      <td>1.07</td>\n",
       "      <td>1.06</td>\n",
       "      <td>0.88</td>\n",
       "      <td>1.01</td>\n",
       "    </tr>\n",
       "    <tr>\n",
       "      <th>0.2</th>\n",
       "      <td>0.76</td>\n",
       "      <td>0.85</td>\n",
       "      <td>0.9</td>\n",
       "      <td>0.86</td>\n",
       "      <td>0.99</td>\n",
       "      <td>0.87</td>\n",
       "      <td>1.0</td>\n",
       "      <td>1.03</td>\n",
       "      <td>0.97</td>\n",
       "      <td>1.018</td>\n",
       "      <td>...</td>\n",
       "      <td>0.96</td>\n",
       "      <td>1.05</td>\n",
       "      <td>0.91</td>\n",
       "      <td>1.02</td>\n",
       "      <td>1.13</td>\n",
       "      <td>0.88</td>\n",
       "      <td>0.96</td>\n",
       "      <td>1.06</td>\n",
       "      <td>0.88</td>\n",
       "      <td>0.93</td>\n",
       "    </tr>\n",
       "    <tr>\n",
       "      <th>0.3</th>\n",
       "      <td>0.76</td>\n",
       "      <td>0.85</td>\n",
       "      <td>0.9</td>\n",
       "      <td>0.86</td>\n",
       "      <td>0.99</td>\n",
       "      <td>0.87</td>\n",
       "      <td>1.0</td>\n",
       "      <td>1.03</td>\n",
       "      <td>0.97</td>\n",
       "      <td>1.018</td>\n",
       "      <td>...</td>\n",
       "      <td>0.96</td>\n",
       "      <td>1.06</td>\n",
       "      <td>0.91</td>\n",
       "      <td>1.06</td>\n",
       "      <td>1.13</td>\n",
       "      <td>0.88</td>\n",
       "      <td>0.89</td>\n",
       "      <td>1.06</td>\n",
       "      <td>0.88</td>\n",
       "      <td>0.93</td>\n",
       "    </tr>\n",
       "    <tr>\n",
       "      <th>0.4</th>\n",
       "      <td>0.76</td>\n",
       "      <td>0.85</td>\n",
       "      <td>0.9</td>\n",
       "      <td>0.86</td>\n",
       "      <td>0.99</td>\n",
       "      <td>0.87</td>\n",
       "      <td>1.0</td>\n",
       "      <td>1.03</td>\n",
       "      <td>0.97</td>\n",
       "      <td>1.018</td>\n",
       "      <td>...</td>\n",
       "      <td>0.96</td>\n",
       "      <td>1.06</td>\n",
       "      <td>0.91</td>\n",
       "      <td>1.06</td>\n",
       "      <td>1.13</td>\n",
       "      <td>0.88</td>\n",
       "      <td>0.89</td>\n",
       "      <td>1.06</td>\n",
       "      <td>0.88</td>\n",
       "      <td>0.93</td>\n",
       "    </tr>\n",
       "  </tbody>\n",
       "</table>\n",
       "<p>5 rows × 56 columns</p>\n",
       "</div>"
      ],
      "text/plain": [
       "           ADMS  ADPT  AKS    AM    AR   ASC  BNCN  CARA   COG    CPE  ...   \\\n",
       "Vol_index                                                              ...    \n",
       "0.0        0.76  0.85  0.9  0.86  0.99  0.87   1.0  1.03  0.97  1.018  ...    \n",
       "0.1        0.76  0.85  0.9  0.86  0.99  0.87   1.0  1.03  0.97  1.018  ...    \n",
       "0.2        0.76  0.85  0.9  0.86  0.99  0.87   1.0  1.03  0.97  1.018  ...    \n",
       "0.3        0.76  0.85  0.9  0.86  0.99  0.87   1.0  1.03  0.97  1.018  ...    \n",
       "0.4        0.76  0.85  0.9  0.86  0.99  0.87   1.0  1.03  0.97  1.018  ...    \n",
       "\n",
       "            SRC  STKL   SWN  SYRG  TRVN   TTI  TTOO  TXMD   WGP  ZGNX  \n",
       "Vol_index                                                              \n",
       "0.0        0.96  1.05  0.91  1.02  1.13  0.88  1.07  1.06  0.88  1.01  \n",
       "0.1        0.96  1.05  0.91  1.02  1.13  0.88  1.07  1.06  0.88  1.01  \n",
       "0.2        0.96  1.05  0.91  1.02  1.13  0.88  0.96  1.06  0.88  0.93  \n",
       "0.3        0.96  1.06  0.91  1.06  1.13  0.88  0.89  1.06  0.88  0.93  \n",
       "0.4        0.96  1.06  0.91  1.06  1.13  0.88  0.89  1.06  0.88  0.93  \n",
       "\n",
       "[5 rows x 56 columns]"
      ]
     },
     "execution_count": 138,
     "metadata": {},
     "output_type": "execute_result"
    }
   ],
   "source": [
    "spread_ratios.head()"
   ]
  },
  {
   "cell_type": "code",
   "execution_count": 170,
   "metadata": {
    "collapsed": false
   },
   "outputs": [
    {
     "data": {
      "text/plain": [
       "Vol_index\n",
       "3.8    1.451013\n",
       "dtype: float64"
      ]
     },
     "execution_count": 170,
     "metadata": {},
     "output_type": "execute_result"
    }
   ],
   "source": [
    "ror = (spread_ratios.loc[spread_ratios.index == 3.8].divide(spread_ratios.loc[spread_ratios.index == 5.1].values)-1)*100\n",
    "ror.mean(axis=1)"
   ]
  },
  {
   "cell_type": "code",
   "execution_count": 172,
   "metadata": {
    "collapsed": false
   },
   "outputs": [
    {
     "data": {
      "text/html": [
       "<div>\n",
       "<table border=\"1\" class=\"dataframe\">\n",
       "  <thead>\n",
       "    <tr style=\"text-align: right;\">\n",
       "      <th></th>\n",
       "      <th>ADMS</th>\n",
       "      <th>ADPT</th>\n",
       "      <th>AKS</th>\n",
       "      <th>AM</th>\n",
       "      <th>AR</th>\n",
       "      <th>ASC</th>\n",
       "      <th>BNCN</th>\n",
       "      <th>CARA</th>\n",
       "      <th>COG</th>\n",
       "      <th>CPE</th>\n",
       "      <th>...</th>\n",
       "      <th>SRC</th>\n",
       "      <th>STKL</th>\n",
       "      <th>SWN</th>\n",
       "      <th>SYRG</th>\n",
       "      <th>TRVN</th>\n",
       "      <th>TTI</th>\n",
       "      <th>TTOO</th>\n",
       "      <th>TXMD</th>\n",
       "      <th>WGP</th>\n",
       "      <th>ZGNX</th>\n",
       "    </tr>\n",
       "    <tr>\n",
       "      <th>Vol_index</th>\n",
       "      <th></th>\n",
       "      <th></th>\n",
       "      <th></th>\n",
       "      <th></th>\n",
       "      <th></th>\n",
       "      <th></th>\n",
       "      <th></th>\n",
       "      <th></th>\n",
       "      <th></th>\n",
       "      <th></th>\n",
       "      <th></th>\n",
       "      <th></th>\n",
       "      <th></th>\n",
       "      <th></th>\n",
       "      <th></th>\n",
       "      <th></th>\n",
       "      <th></th>\n",
       "      <th></th>\n",
       "      <th></th>\n",
       "      <th></th>\n",
       "      <th></th>\n",
       "    </tr>\n",
       "  </thead>\n",
       "  <tbody>\n",
       "    <tr>\n",
       "      <th>3.8</th>\n",
       "      <td>-13.793103</td>\n",
       "      <td>2.985075</td>\n",
       "      <td>-6.976744</td>\n",
       "      <td>-9.589041</td>\n",
       "      <td>-4.854369</td>\n",
       "      <td>4.081633</td>\n",
       "      <td>6.382979</td>\n",
       "      <td>25.316456</td>\n",
       "      <td>4.040404</td>\n",
       "      <td>3.685742</td>\n",
       "      <td>...</td>\n",
       "      <td>0.0</td>\n",
       "      <td>-44.559585</td>\n",
       "      <td>15.789474</td>\n",
       "      <td>10.227273</td>\n",
       "      <td>15.09434</td>\n",
       "      <td>-0.980392</td>\n",
       "      <td>NaN</td>\n",
       "      <td>-7.092199</td>\n",
       "      <td>NaN</td>\n",
       "      <td>9.708738</td>\n",
       "    </tr>\n",
       "  </tbody>\n",
       "</table>\n",
       "<p>1 rows × 56 columns</p>\n",
       "</div>"
      ],
      "text/plain": [
       "                ADMS      ADPT       AKS        AM        AR       ASC  \\\n",
       "Vol_index                                                                \n",
       "3.8       -13.793103  2.985075 -6.976744 -9.589041 -4.854369  4.081633   \n",
       "\n",
       "               BNCN       CARA       COG       CPE    ...     SRC       STKL  \\\n",
       "Vol_index                                             ...                      \n",
       "3.8        6.382979  25.316456  4.040404  3.685742    ...     0.0 -44.559585   \n",
       "\n",
       "                 SWN       SYRG      TRVN       TTI  TTOO      TXMD  WGP  \\\n",
       "Vol_index                                                                  \n",
       "3.8        15.789474  10.227273  15.09434 -0.980392   NaN -7.092199  NaN   \n",
       "\n",
       "               ZGNX  \n",
       "Vol_index            \n",
       "3.8        9.708738  \n",
       "\n",
       "[1 rows x 56 columns]"
      ]
     },
     "execution_count": 172,
     "metadata": {},
     "output_type": "execute_result"
    }
   ],
   "source": [
    "ror"
   ]
  },
  {
   "cell_type": "code",
   "execution_count": 174,
   "metadata": {
    "collapsed": false
   },
   "outputs": [
    {
     "data": {
      "text/html": [
       "<div>\n",
       "<table border=\"1\" class=\"dataframe\">\n",
       "  <thead>\n",
       "    <tr style=\"text-align: right;\">\n",
       "      <th></th>\n",
       "      <th>market_cap</th>\n",
       "      <th>editda</th>\n",
       "      <th>day_prior_dr</th>\n",
       "      <th>comp_cor</th>\n",
       "      <th>ror</th>\n",
       "    </tr>\n",
       "    <tr>\n",
       "      <th>Company</th>\n",
       "      <th></th>\n",
       "      <th></th>\n",
       "      <th></th>\n",
       "      <th></th>\n",
       "      <th></th>\n",
       "    </tr>\n",
       "  </thead>\n",
       "  <tbody>\n",
       "    <tr>\n",
       "      <th>ADMS</th>\n",
       "      <td>0.38883</td>\n",
       "      <td>-0.06258</td>\n",
       "      <td>0.889346</td>\n",
       "      <td>0.141616</td>\n",
       "      <td>-13.793103</td>\n",
       "    </tr>\n",
       "    <tr>\n",
       "      <th>ADPT</th>\n",
       "      <td>0.02705</td>\n",
       "      <td>0.03754</td>\n",
       "      <td>0.867133</td>\n",
       "      <td>NaN</td>\n",
       "      <td>2.985075</td>\n",
       "    </tr>\n",
       "    <tr>\n",
       "      <th>AKS</th>\n",
       "      <td>2.20000</td>\n",
       "      <td>0.60280</td>\n",
       "      <td>0.881764</td>\n",
       "      <td>0.973423</td>\n",
       "      <td>-6.976744</td>\n",
       "    </tr>\n",
       "    <tr>\n",
       "      <th>AM</th>\n",
       "      <td>6.16000</td>\n",
       "      <td>0.37060</td>\n",
       "      <td>0.914711</td>\n",
       "      <td>0.868504</td>\n",
       "      <td>-9.589041</td>\n",
       "    </tr>\n",
       "    <tr>\n",
       "      <th>AR</th>\n",
       "      <td>7.00000</td>\n",
       "      <td>-0.09816</td>\n",
       "      <td>0.971029</td>\n",
       "      <td>0.735561</td>\n",
       "      <td>-4.854369</td>\n",
       "    </tr>\n",
       "  </tbody>\n",
       "</table>\n",
       "</div>"
      ],
      "text/plain": [
       "         market_cap   editda  day_prior_dr  comp_cor        ror\n",
       "Company                                                        \n",
       "ADMS        0.38883 -0.06258      0.889346  0.141616 -13.793103\n",
       "ADPT        0.02705  0.03754      0.867133       NaN   2.985075\n",
       "AKS         2.20000  0.60280      0.881764  0.973423  -6.976744\n",
       "AM          6.16000  0.37060      0.914711  0.868504  -9.589041\n",
       "AR          7.00000 -0.09816      0.971029  0.735561  -4.854369"
      ]
     },
     "execution_count": 174,
     "metadata": {},
     "output_type": "execute_result"
    }
   ],
   "source": [
    "fundamentals['ror'] = ror.T\n",
    "fundamentals.head()"
   ]
  },
  {
   "cell_type": "code",
   "execution_count": 205,
   "metadata": {
    "collapsed": false
   },
   "outputs": [
    {
     "data": {
      "text/plain": [
       "array([[<matplotlib.axes._subplots.AxesSubplot object at 0x11b1b71d0>,\n",
       "        <matplotlib.axes._subplots.AxesSubplot object at 0x11b306b38>,\n",
       "        <matplotlib.axes._subplots.AxesSubplot object at 0x11b35c278>,\n",
       "        <matplotlib.axes._subplots.AxesSubplot object at 0x11b3a4b70>,\n",
       "        <matplotlib.axes._subplots.AxesSubplot object at 0x11b3dfcc0>],\n",
       "       [<matplotlib.axes._subplots.AxesSubplot object at 0x11b52e5f8>,\n",
       "        <matplotlib.axes._subplots.AxesSubplot object at 0x11b569dd8>,\n",
       "        <matplotlib.axes._subplots.AxesSubplot object at 0x11b5b3d30>,\n",
       "        <matplotlib.axes._subplots.AxesSubplot object at 0x11b5edc18>,\n",
       "        <matplotlib.axes._subplots.AxesSubplot object at 0x11b617898>],\n",
       "       [<matplotlib.axes._subplots.AxesSubplot object at 0x11b662f60>,\n",
       "        <matplotlib.axes._subplots.AxesSubplot object at 0x11b6a2518>,\n",
       "        <matplotlib.axes._subplots.AxesSubplot object at 0x11b6eec18>,\n",
       "        <matplotlib.axes._subplots.AxesSubplot object at 0x11b82f518>,\n",
       "        <matplotlib.axes._subplots.AxesSubplot object at 0x11b87d128>],\n",
       "       [<matplotlib.axes._subplots.AxesSubplot object at 0x11b8ba358>,\n",
       "        <matplotlib.axes._subplots.AxesSubplot object at 0x11b902630>,\n",
       "        <matplotlib.axes._subplots.AxesSubplot object at 0x11b924470>,\n",
       "        <matplotlib.axes._subplots.AxesSubplot object at 0x11b98d3c8>,\n",
       "        <matplotlib.axes._subplots.AxesSubplot object at 0x11b9d68d0>],\n",
       "       [<matplotlib.axes._subplots.AxesSubplot object at 0x11ba11e10>,\n",
       "        <matplotlib.axes._subplots.AxesSubplot object at 0x11ba61550>,\n",
       "        <matplotlib.axes._subplots.AxesSubplot object at 0x11ba9bc18>,\n",
       "        <matplotlib.axes._subplots.AxesSubplot object at 0x11bae5d68>,\n",
       "        <matplotlib.axes._subplots.AxesSubplot object at 0x11bc23a58>]], dtype=object)"
      ]
     },
     "execution_count": 205,
     "metadata": {},
     "output_type": "execute_result"
    },
    {
     "data": {
      "image/png": "[encoded data removed]",
      "text/plain": [
       "<matplotlib.figure.Figure at 0x11b1b2278>"
      ]
     },
     "metadata": {},
     "output_type": "display_data"
    }
   ],
   "source": [
    "from pandas.tools.plotting import scatter_matrix\n",
    "scatter_matrix(fundamentals, figsize=[20,20])"
   ]
  },
  {
   "cell_type": "code",
   "execution_count": 232,
   "metadata": {
    "collapsed": false
   },
   "outputs": [
    {
     "data": {
      "text/plain": [
       "<matplotlib.text.Text at 0x11ee2ac18>"
      ]
     },
     "execution_count": 232,
     "metadata": {},
     "output_type": "execute_result"
    },
    {
     "data": {
      "image/png": "[encoded data removed]",
      "text/plain": [
       "<matplotlib.figure.Figure at 0x11ec9ff98>"
      ]
     },
     "metadata": {},
     "output_type": "display_data"
    }
   ],
   "source": [
    "import seaborn as sns\n",
    "fun_correlation= fundamentals_masked.corr()\n",
    "plt.figure(figsize=(10,10))\n",
    "sns.heatmap(fun_correlation,vmax=1, square =True, annot= True, cmap=\"viridis\")\n",
    "plt.title(\"Correlation\")"
   ]
  },
  {
   "cell_type": "code",
   "execution_count": null,
   "metadata": {
    "collapsed": true
   },
   "outputs": [],
   "source": [
    "spread_ratios_masked= spread_ratios.T.loc[fundamentals_masked.index.tolist(), :]\n",
    "spread_ratios_masked= spread_ratios_masked.T\n",
    "spread_ratios_masked.head()"
   ]
  },
  {
   "cell_type": "code",
   "execution_count": 386,
   "metadata": {
    "collapsed": false
   },
   "outputs": [
    {
     "data": {
      "text/plain": [
       "[<matplotlib.lines.Line2D at 0x11fd395c0>]"
      ]
     },
     "execution_count": 386,
     "metadata": {},
     "output_type": "execute_result"
    },
    {
     "data": {
      "image/png": "[encoded data removed]",
      "text/plain": [
       "<matplotlib.figure.Figure at 0x11efc6a90>"
      ]
     },
     "metadata": {},
     "output_type": "display_data"
    }
   ],
   "source": [
    "plt.plot(spread_ratios.mean(axis=1))"
   ]
  },
  {
   "cell_type": "code",
   "execution_count": 420,
   "metadata": {
    "collapsed": true
   },
   "outputs": [],
   "source": [
    "def vol_window(setup, unwind):\n",
    "    ror_window = (spread_ratios.loc[spread_ratios.index == setup].divide(spread_ratios.loc[spread_ratios.index == unwind].values)-1)*100\n",
    "    return (ror_window)\n",
    "ror_window= vol_window(3.8, 5.6)           "
   ]
  },
  {
   "cell_type": "code",
   "execution_count": 426,
   "metadata": {
    "collapsed": false
   },
   "outputs": [],
   "source": [
    "# SETTING ror_window\n",
    "#fundamentals['ror'] = ror_window.T\n",
    "fundamentals.to_csv('fundamentals.csv')\n",
    "fundamentals_masked.to_csv('fundamentals_masked.csv')"
   ]
  },
  {
   "cell_type": "code",
   "execution_count": 427,
   "metadata": {
    "collapsed": false
   },
   "outputs": [
    {
     "data": {
      "text/html": [
       "<div>\n",
       "<table border=\"1\" class=\"dataframe\">\n",
       "  <thead>\n",
       "    <tr style=\"text-align: right;\">\n",
       "      <th></th>\n",
       "      <th>market_cap</th>\n",
       "      <th>editda</th>\n",
       "      <th>day_prior_dr</th>\n",
       "      <th>comp_cor</th>\n",
       "      <th>ror</th>\n",
       "    </tr>\n",
       "    <tr>\n",
       "      <th>Company</th>\n",
       "      <th></th>\n",
       "      <th></th>\n",
       "      <th></th>\n",
       "      <th></th>\n",
       "      <th></th>\n",
       "    </tr>\n",
       "  </thead>\n",
       "  <tbody>\n",
       "    <tr>\n",
       "      <th>AKS</th>\n",
       "      <td>2.20000</td>\n",
       "      <td>0.60280</td>\n",
       "      <td>0.881764</td>\n",
       "      <td>0.973423</td>\n",
       "      <td>-14.893617</td>\n",
       "    </tr>\n",
       "    <tr>\n",
       "      <th>AM</th>\n",
       "      <td>6.16000</td>\n",
       "      <td>0.37060</td>\n",
       "      <td>0.914711</td>\n",
       "      <td>0.868504</td>\n",
       "      <td>-15.384615</td>\n",
       "    </tr>\n",
       "    <tr>\n",
       "      <th>AR</th>\n",
       "      <td>7.00000</td>\n",
       "      <td>-0.09816</td>\n",
       "      <td>0.971029</td>\n",
       "      <td>0.735561</td>\n",
       "      <td>-4.854369</td>\n",
       "    </tr>\n",
       "    <tr>\n",
       "      <th>COG</th>\n",
       "      <td>10.72000</td>\n",
       "      <td>0.46353</td>\n",
       "      <td>0.930021</td>\n",
       "      <td>0.944150</td>\n",
       "      <td>8.421053</td>\n",
       "    </tr>\n",
       "    <tr>\n",
       "      <th>CPE</th>\n",
       "      <td>2.37000</td>\n",
       "      <td>0.10598</td>\n",
       "      <td>0.953216</td>\n",
       "      <td>0.942658</td>\n",
       "      <td>0.754006</td>\n",
       "    </tr>\n",
       "    <tr>\n",
       "      <th>DVN</th>\n",
       "      <td>20.35000</td>\n",
       "      <td>2.32000</td>\n",
       "      <td>0.935130</td>\n",
       "      <td>0.878581</td>\n",
       "      <td>-15.238095</td>\n",
       "    </tr>\n",
       "    <tr>\n",
       "      <th>EQT</th>\n",
       "      <td>10.05000</td>\n",
       "      <td>0.71958</td>\n",
       "      <td>0.961099</td>\n",
       "      <td>0.849715</td>\n",
       "      <td>4.040404</td>\n",
       "    </tr>\n",
       "    <tr>\n",
       "      <th>ESV</th>\n",
       "      <td>2.53000</td>\n",
       "      <td>1.35000</td>\n",
       "      <td>0.875504</td>\n",
       "      <td>0.903115</td>\n",
       "      <td>NaN</td>\n",
       "    </tr>\n",
       "    <tr>\n",
       "      <th>FLXN</th>\n",
       "      <td>0.88498</td>\n",
       "      <td>-0.06623</td>\n",
       "      <td>0.870106</td>\n",
       "      <td>0.793663</td>\n",
       "      <td>50.704225</td>\n",
       "    </tr>\n",
       "    <tr>\n",
       "      <th>FOXF</th>\n",
       "      <td>1.06000</td>\n",
       "      <td>0.06286</td>\n",
       "      <td>0.915371</td>\n",
       "      <td>0.827679</td>\n",
       "      <td>-3.191489</td>\n",
       "    </tr>\n",
       "    <tr>\n",
       "      <th>GPOR</th>\n",
       "      <td>2.73000</td>\n",
       "      <td>0.09400</td>\n",
       "      <td>0.953910</td>\n",
       "      <td>0.849715</td>\n",
       "      <td>-2.083333</td>\n",
       "    </tr>\n",
       "    <tr>\n",
       "      <th>HES</th>\n",
       "      <td>15.69000</td>\n",
       "      <td>0.93600</td>\n",
       "      <td>0.910451</td>\n",
       "      <td>0.866140</td>\n",
       "      <td>5.376344</td>\n",
       "    </tr>\n",
       "    <tr>\n",
       "      <th>MTDR</th>\n",
       "      <td>2.31000</td>\n",
       "      <td>0.10470</td>\n",
       "      <td>0.955096</td>\n",
       "      <td>0.878581</td>\n",
       "      <td>1.176471</td>\n",
       "    </tr>\n",
       "    <tr>\n",
       "      <th>NDRM</th>\n",
       "      <td>0.55929</td>\n",
       "      <td>-0.02801</td>\n",
       "      <td>0.912507</td>\n",
       "      <td>0.647433</td>\n",
       "      <td>41.176471</td>\n",
       "    </tr>\n",
       "    <tr>\n",
       "      <th>QEP</th>\n",
       "      <td>2.86000</td>\n",
       "      <td>0.22960</td>\n",
       "      <td>0.929368</td>\n",
       "      <td>0.914010</td>\n",
       "      <td>-3.370787</td>\n",
       "    </tr>\n",
       "    <tr>\n",
       "      <th>QTWO</th>\n",
       "      <td>1.41000</td>\n",
       "      <td>-0.02041</td>\n",
       "      <td>0.981524</td>\n",
       "      <td>0.810585</td>\n",
       "      <td>-21.705426</td>\n",
       "    </tr>\n",
       "    <tr>\n",
       "      <th>SWN</th>\n",
       "      <td>3.72000</td>\n",
       "      <td>0.30100</td>\n",
       "      <td>0.920806</td>\n",
       "      <td>0.906812</td>\n",
       "      <td>19.565217</td>\n",
       "    </tr>\n",
       "    <tr>\n",
       "      <th>WGP</th>\n",
       "      <td>9.64000</td>\n",
       "      <td>0.91681</td>\n",
       "      <td>0.932492</td>\n",
       "      <td>0.860019</td>\n",
       "      <td>NaN</td>\n",
       "    </tr>\n",
       "  </tbody>\n",
       "</table>\n",
       "</div>"
      ],
      "text/plain": [
       "         market_cap   editda  day_prior_dr  comp_cor        ror\n",
       "Company                                                        \n",
       "AKS         2.20000  0.60280      0.881764  0.973423 -14.893617\n",
       "AM          6.16000  0.37060      0.914711  0.868504 -15.384615\n",
       "AR          7.00000 -0.09816      0.971029  0.735561  -4.854369\n",
       "COG        10.72000  0.46353      0.930021  0.944150   8.421053\n",
       "CPE         2.37000  0.10598      0.953216  0.942658   0.754006\n",
       "DVN        20.35000  2.32000      0.935130  0.878581 -15.238095\n",
       "EQT        10.05000  0.71958      0.961099  0.849715   4.040404\n",
       "ESV         2.53000  1.35000      0.875504  0.903115        NaN\n",
       "FLXN        0.88498 -0.06623      0.870106  0.793663  50.704225\n",
       "FOXF        1.06000  0.06286      0.915371  0.827679  -3.191489\n",
       "GPOR        2.73000  0.09400      0.953910  0.849715  -2.083333\n",
       "HES        15.69000  0.93600      0.910451  0.866140   5.376344\n",
       "MTDR        2.31000  0.10470      0.955096  0.878581   1.176471\n",
       "NDRM        0.55929 -0.02801      0.912507  0.647433  41.176471\n",
       "QEP         2.86000  0.22960      0.929368  0.914010  -3.370787\n",
       "QTWO        1.41000 -0.02041      0.981524  0.810585 -21.705426\n",
       "SWN         3.72000  0.30100      0.920806  0.906812  19.565217\n",
       "WGP         9.64000  0.91681      0.932492  0.860019        NaN"
      ]
     },
     "execution_count": 427,
     "metadata": {},
     "output_type": "execute_result"
    }
   ],
   "source": [
    "fundamentals_masked"
   ]
  },
  {
   "cell_type": "code",
   "execution_count": 423,
   "metadata": {
    "collapsed": true
   },
   "outputs": [],
   "source": [
    "def fun_masking(market_cap,editda,day_prior_dr,comp_cor): \n",
    "    fundamentals_masked = fundamentals[fundamentals['comp_cor']>comp_cor]\n",
    "    fundamentals_masked = fundamentals_masked[fundamentals_masked['ror'] !=0]\n",
    "    fundamentals_masked = fundamentals_masked[fundamentals_masked['market_cap'] >market_cap]\n",
    "    fundamentals_masked = fundamentals_masked[fundamentals_masked['editda'] >editda]\n",
    "    fundamentals_masked = fundamentals_masked[fundamentals_masked['day_prior_dr'] <day_prior_dr]    \n",
    "    return (fundamentals_masked)\n",
    "fundamentals_masked= fun_masking(market_cap=.5,editda=-1,day_prior_dr=1,comp_cor=.6)"
   ]
  },
  {
   "cell_type": "code",
   "execution_count": 424,
   "metadata": {
    "collapsed": false
   },
   "outputs": [],
   "source": [
    "import statsmodels.api as sm\n",
    "lm = sm.OLS.from_formula('ror ~ market_cap+editda+day_prior_dr+comp_cor', fundamentals_masked)\n",
    "result = lm.fit()"
   ]
  },
  {
   "cell_type": "code",
   "execution_count": 425,
   "metadata": {
    "collapsed": false
   },
   "outputs": [
    {
     "name": "stdout",
     "output_type": "stream",
     "text": [
      "                            OLS Regression Results                            \n",
      "==============================================================================\n",
      "Dep. Variable:                    ror   R-squared:                       0.535\n",
      "Model:                            OLS   Adj. R-squared:                  0.366\n",
      "Method:                 Least Squares   F-statistic:                     3.164\n",
      "Date:                Sun, 16 Apr 2017   Prob (F-statistic):             0.0585\n",
      "Time:                        15:37:18   Log-Likelihood:                -63.748\n",
      "No. Observations:                  16   AIC:                             137.5\n",
      "Df Residuals:                      11   BIC:                             141.4\n",
      "Df Model:                           4                                         \n",
      "Covariance Type:            nonrobust                                         \n",
      "================================================================================\n",
      "                   coef    std err          t      P>|t|      [95.0% Conf. Int.]\n",
      "--------------------------------------------------------------------------------\n",
      "Intercept      433.8981    137.511      3.155      0.009       131.238   736.558\n",
      "market_cap       1.0384      1.506      0.689      0.505        -2.277     4.354\n",
      "editda         -16.5770     15.090     -1.099      0.295       -49.789    16.635\n",
      "day_prior_dr  -375.4667    139.598     -2.690      0.021      -682.720   -68.213\n",
      "comp_cor       -94.3460     53.054     -1.778      0.103      -211.116    22.424\n",
      "==============================================================================\n",
      "Omnibus:                        2.521   Durbin-Watson:                   1.340\n",
      "Prob(Omnibus):                  0.284   Jarque-Bera (JB):                1.262\n",
      "Skew:                          -0.327   Prob(JB):                        0.532\n",
      "Kurtosis:                       1.790   Cond. No.                         398.\n",
      "==============================================================================\n",
      "\n",
      "Warnings:\n",
      "[1] Standard Errors assume that the covariance matrix of the errors is correctly specified.\n"
     ]
    },
    {
     "name": "stderr",
     "output_type": "stream",
     "text": [
      "/Users/anaconda/lib/python3.5/site-packages/scipy/stats/stats.py:1327: UserWarning: kurtosistest only valid for n>=20 ... continuing anyway, n=16\n",
      "  \"anyway, n=%i\" % int(n))\n"
     ]
    }
   ],
   "source": [
    "# Not the best R^2 but about as expected...only day_prior_dr coeeficient statistically significant. \n",
    "# Conclusion: Try another model\n",
    "print (result.summary())"
   ]
  },
  {
   "cell_type": "code",
   "execution_count": 409,
   "metadata": {
    "collapsed": false
   },
   "outputs": [
    {
     "data": {
      "text/plain": [
       "<matplotlib.axes._subplots.AxesSubplot at 0x1202a4d68>"
      ]
     },
     "execution_count": 409,
     "metadata": {},
     "output_type": "execute_result"
    },
    {
     "data": {
      "image/png": "[encoded data removed]",
      "text/plain": [
       "<matplotlib.figure.Figure at 0x11ba39c50>"
      ]
     },
     "metadata": {},
     "output_type": "display_data"
    }
   ],
   "source": [
    "# Possibly a bit of concern here with this general negative trend but otherwise ok\n",
    "fitted_values = pd.Series(result.fittedvalues, name=\"Fitted Values\")\n",
    "residuals = pd.Series(result.resid, name=\"Residuals\")\n",
    "sns.regplot(fitted_values, residuals, fit_reg=False)"
   ]
  },
  {
   "cell_type": "code",
   "execution_count": 402,
   "metadata": {
    "collapsed": false
   },
   "outputs": [
    {
     "data": {
      "text/plain": [
       "<matplotlib.axes._subplots.AxesSubplot at 0x11ef6f940>"
      ]
     },
     "execution_count": 402,
     "metadata": {},
     "output_type": "execute_result"
    },
    {
     "data": {
      "image/png": "[encoded data removed]",
      "text/plain": [
       "<matplotlib.figure.Figure at 0x11fd7e160>"
      ]
     },
     "metadata": {},
     "output_type": "display_data"
    }
   ],
   "source": [
    "# At least one leverage point\n",
    "from statsmodels.stats.outliers_influence import OLSInfluence\n",
    "leverage = pd.Series(OLSInfluence(result).influence, name = \"Leverage\")\n",
    "sns.regplot(leverage, residuals,  fit_reg=False)"
   ]
  }
 ],
 "metadata": {
  "anaconda-cloud": {},
  "kernelspec": {
   "display_name": "Python [conda root]",
   "language": "python",
   "name": "conda-root-py"
  },
  "language_info": {
   "codemirror_mode": {
    "name": "ipython",
    "version": 3
   },
   "file_extension": ".py",
   "mimetype": "text/x-python",
   "name": "python",
   "nbconvert_exporter": "python",
   "pygments_lexer": "ipython3",
   "version": "3.5.2"
  }
 },
 "nbformat": 4,
 "nbformat_minor": 1
}
