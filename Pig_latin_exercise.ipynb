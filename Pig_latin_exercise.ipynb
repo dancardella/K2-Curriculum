{
 "cells": [
  {
   "cell_type": "code",
   "execution_count": null,
   "metadata": {
    "collapsed": true
   },
   "outputs": [],
   "source": [
    "#Problem 1. Foundations_python_pig_latin-exercise\n",
    "\n",
    "In \"Pig Latin\", English words are transformed according to the following rules:\n",
    "\n",
    "* If the word begins with one or more consonants, those consonants are moved to the end of the word, followed by \"ay\":\n",
    "\n",
    "  * pig -> igpay\n",
    "  * Latin -> Atinlay\n",
    "  * trash -> ashtray\n",
    "\n",
    "* If the word begins with a vowel, it is followed by \"yay\":\n",
    "\n",
    "  * apple -> appleyay\n",
    "  * out -> outyay.\n",
    "  \n",
    "Here's a little Pig Latin Fun that follows the directions above."
   ]
  },
  {
   "cell_type": "code",
   "execution_count": 2,
   "metadata": {
    "collapsed": false
   },
   "outputs": [
    {
     "name": "stdout",
     "output_type": "stream",
     "text": [
      "Please enter your Pig Latin Word !trash\n",
      "ashtray\n"
     ]
    }
   ],
   "source": [
    "# Dan Cardella\n",
    "punctuation = (\"!\", \",\", \"\\\"\", \".\", \" \",\"?\")\n",
    "vowels = (\"a\", \"e\", \"i\", \"o\", \"u\")\n",
    "\n",
    "user_enter = raw_input(\"Please enter your Pig Latin Word !\")\n",
    "\n",
    "punc= \"!\"\n",
    "while punc in user_enter and len(punctuation) != 0:\n",
    "    for punc in punctuation:\n",
    "    #while punc in user_enter:\n",
    "            user_enter = raw_input(\"I'm sorry however no punctuation and only 1 word allowed !\")        \n",
    "            \n",
    "if user_enter[0] in vowels:\n",
    "    print user_enter + \"yay\"\n",
    "else:\n",
    "    print user_enter[2:] + user_enter[0:2] + \"ay\""
   ]
  }
 ],
 "metadata": {
  "kernelspec": {
   "display_name": "Python 2",
   "language": "python",
   "name": "python2"
  },
  "language_info": {
   "codemirror_mode": {
    "name": "ipython",
    "version": 2
   },
   "file_extension": ".py",
   "mimetype": "text/x-python",
   "name": "python",
   "nbconvert_exporter": "python",
   "pygments_lexer": "ipython2",
   "version": "2.7.10"
  }
 },
 "nbformat": 4,
 "nbformat_minor": 0
}
