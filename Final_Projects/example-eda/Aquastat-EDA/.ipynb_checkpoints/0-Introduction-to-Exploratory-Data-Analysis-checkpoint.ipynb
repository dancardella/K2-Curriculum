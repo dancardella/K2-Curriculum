{
 "cells": [
  {
   "cell_type": "markdown",
   "metadata": {
    "toc": "true"
   },
   "source": [
    "# Table of Contents\n",
    " <p><div class=\"lev1\"><a href=\"#What-is-exploratory-data-analysis?\"><span class=\"toc-item-num\">1&nbsp;&nbsp;</span>What is exploratory data analysis?</a></div><div class=\"lev1\"><a href=\"#Why-we-EDA\"><span class=\"toc-item-num\">2&nbsp;&nbsp;</span>Why we EDA</a></div><div class=\"lev1\"><a href=\"#Things-to-keep-in-mind\"><span class=\"toc-item-num\">3&nbsp;&nbsp;</span>Things to keep in mind</a></div><div class=\"lev1\"><a href=\"#The-game-plan\"><span class=\"toc-item-num\">4&nbsp;&nbsp;</span>The game plan</a></div><div class=\"lev2\"><a href=\"#1.-Brainstorm-areas-of-investigation\"><span class=\"toc-item-num\">4.1&nbsp;&nbsp;</span>1. Brainstorm areas of investigation</a></div><div class=\"lev2\"><a href=\"#2.-Wrangle-the-data\"><span class=\"toc-item-num\">4.2&nbsp;&nbsp;</span>2. Wrangle the data</a></div><div class=\"lev2\"><a href=\"#3.-Assess-data-quality-and-profile\"><span class=\"toc-item-num\">4.3&nbsp;&nbsp;</span>3. Assess data quality and profile</a></div><div class=\"lev2\"><a href=\"#4.-Explore-each-individual-variable-in-the-dataset\"><span class=\"toc-item-num\">4.4&nbsp;&nbsp;</span>4. Explore each individual variable in the dataset</a></div><div class=\"lev2\"><a href=\"#5.-Assess-the-relationship-between-each-variable-and-the-target\"><span class=\"toc-item-num\">4.5&nbsp;&nbsp;</span>5. Assess the relationship between each variable and the target</a></div><div class=\"lev2\"><a href=\"#6.-Assess-interactions-between-the-variables\"><span class=\"toc-item-num\">4.6&nbsp;&nbsp;</span>6. Assess interactions between the variables</a></div><div class=\"lev2\"><a href=\"#7.-Explore-data-across-many-dimensions\"><span class=\"toc-item-num\">4.7&nbsp;&nbsp;</span>7. Explore data across many dimensions</a></div><div class=\"lev1\"><a href=\"#Our-objectives-for-this-tutorial\"><span class=\"toc-item-num\">5&nbsp;&nbsp;</span>Our objectives for this tutorial</a></div>"
   ]
  },
  {
   "cell_type": "markdown",
   "metadata": {},
   "source": [
    "# What is exploratory data analysis? "
   ]
  },
  {
   "cell_type": "markdown",
   "metadata": {},
   "source": [
    "![crisp](./figures/crisp.png)"
   ]
  },
  {
   "cell_type": "markdown",
   "metadata": {},
   "source": [
    "# Why we EDA\n",
    "Sometimes the consumer of your analysis won't understand why you need the time for EDA and will want results NOW! Here are some of the reasons you can give to convince them it's a good use of time for everyone involved. \n",
    "\n",
    "**Reasons for the analyst**\n",
    "* Identify patterns and develop hypotheses.\n",
    "* Test technical assumptions.\n",
    "* Inform model selection and feature engineering.\n",
    "* Build an intuition for the data.\n",
    "\n",
    "**Reasons for consumer of analysis**\n",
    "* Ensures delivery of technically-sound results.\n",
    "* Ensures right question is being asked.\n",
    "* Tests business assumptions.\n",
    "* Provides context necessary for maximum applicability and value of results.\n",
    "* Leads to insights that would otherwise not be found.\n",
    "\n",
    "# Things to keep in mind \n",
    "* You're never done with EDA. With every analytical result, you want to return to EDA, make sure the result makes sense, test other questions that come up because of it.  \n",
    "* Stay open-minded. You're supposed to be challenging your assumptions and those of the stakeholder who you're performing the analysis for. \n",
    "* Repeat EDA for every new problem. Just because you've done EDA on a dataset before doesn't mean you shouldn't do it again for the next problem. You need to look at the data through the lense of the problem at hand and you will likely have different areas of investigation.\n"
   ]
  },
  {
   "cell_type": "markdown",
   "metadata": {},
   "source": [
    "# The game plan\n",
    "\n",
    "![crisp](./figures/crisp.png)\n",
    "\n",
    "Exploratory data analysis consists of the following major tasks, which we present linearly here because each task doesn't make much sense to do without the ones prior to it. However, in reality, you are going to constantly jump around from step to step.  You may want to do all the steps for a subset of the variables first. Or often, an observation will bring up a question you want to investigate and you'll branch off and explore to answer that question before returning down the main path of exhaustive EDA.\n",
    " \n",
    "2. Form hypotheses/develop investigation themes to explore \n",
    "3. Wrangle data \n",
    "3. Assess data quality and profile \n",
    "5. Explore each individual variable in the dataset \n",
    "6. Assess the relationship between each variable and the target \n",
    "7. Assess interactions between variables \n",
    "8. Explore data across many dimensions \n",
    "\n",
    "Throughout the entire analysis you want to:\n",
    "* Capture a list of hypotheses and questions that come up for further exploration.\n",
    "* Record things to watch out for/ be aware of in future analyses. \n",
    "* Show intermediate results to colleagues to get a fresh perspective, feedback, domain knowledge. Don't do EDA in a bubble! Get feedback throughout especially from people removed from the problem and/or with relevant domain knowledge. \n",
    "* Position visuals and results together. EDA relies on your natural pattern recognition abilities so maximize what you'll find by putting visualizations and results in close proximity. \n"
   ]
  },
  {
   "cell_type": "markdown",
   "metadata": {},
   "source": [
    "## 1. Brainstorm areas of investigation\n",
    "Yes, you're exploring, but that doesn't mean it's a free for all.\n",
    "\n",
    "* What do you need to understand the question you're trying to answer? \n",
    "* List before diving in and update throughout the analysis"
   ]
  },
  {
   "cell_type": "markdown",
   "metadata": {},
   "source": [
    "## 2. Wrangle the data\n",
    "\n",
    "* Make your data [tidy](https://tomaugspurger.github.io/modern-5-tidy.html).\n",
    "    1. Each variable forms a column\n",
    "    2. Each observation forms a row\n",
    "    3. Each type of observational unit forms a table\n",
    "* Transform data\n",
    "    * Log \n",
    "    * Binning\n",
    "    * Aggegration into higher level categories "
   ]
  },
  {
   "cell_type": "markdown",
   "metadata": {},
   "source": [
    "## 3. Assess data quality and profile\n",
    "* What data isnât there? \n",
    "* Is the data that is there right? \n",
    "* Is the data being generated in the way you think?"
   ]
  },
  {
   "cell_type": "markdown",
   "metadata": {},
   "source": [
    "## 4. Explore each individual variable in the dataset \n",
    "* What does each field in the data look like? \n",
    "* How can each variable be described by a few key values? \n",
    "* Are the assumptions often made in modeling valid? "
   ]
  },
  {
   "cell_type": "markdown",
   "metadata": {},
   "source": [
    "## 5. Assess the relationship between each variable and the target \n",
    "\n",
    "How does each variable interact with the target variable? \n",
    "\n",
    "Assess each relationshipâs:\n",
    "* Linearity \n",
    "* Direction \n",
    "* Rough size \n",
    "* Strength"
   ]
  },
  {
   "cell_type": "markdown",
   "metadata": {},
   "source": [
    "## 6. Assess interactions between the variables\n",
    "* How do the variables interact with each other? \n",
    "* What is the linearity, direction, rough size, and strength of the relationships between pairs of variables? "
   ]
  },
  {
   "cell_type": "markdown",
   "metadata": {},
   "source": [
    "## 7. Explore data across many dimensions\n",
    "Are there patterns across many of the variables?"
   ]
  },
  {
   "cell_type": "markdown",
   "metadata": {},
   "source": [
    "# Our objectives for this tutorial\n",
    "\n",
    "Our objectives for this tutorial are to help you: \n",
    "* Develop the EDA mindset \n",
    "    * Questions to consider while exploring \n",
    "    * Things to look out for \n",
    "* Learn basic methods for effective EDA \n",
    "    * Slicing and dicing \n",
    "    * Calculating summary statistics\n",
    "    * Basic plotting \n",
    "    * Basic mapping \n",
    "    * Using widgets for interactive exploration\n",
    "\n",
    "The actual exploration you do in this tutorial is *yours*. We have no answers or set of conclusions we think you should come to about the datasets. Our goal is simply to aid in making your exploration as effective as possible. \n"
   ]
  }
 ],
 "metadata": {
  "anaconda-cloud": {},
  "kernelspec": {
   "display_name": "Python [default]",
   "language": "python",
   "name": "python3"
  },
  "language_info": {
   "codemirror_mode": {
    "name": "ipython",
    "version": 3
   },
   "file_extension": ".py",
   "mimetype": "text/x-python",
   "name": "python",
   "nbconvert_exporter": "python",
   "pygments_lexer": "ipython3",
   "version": "3.5.2"
  },
  "nav_menu": {},
  "toc": {
   "navigate_menu": true,
   "number_sections": false,
   "sideBar": true,
   "threshold": 6,
   "toc_cell": true,
   "toc_section_display": "block",
   "toc_window_display": false
  }
 },
 "nbformat": 4,
 "nbformat_minor": 2
}
