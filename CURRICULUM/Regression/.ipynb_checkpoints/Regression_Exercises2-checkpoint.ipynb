{
 "cells": [
  {
   "cell_type": "markdown",
   "metadata": {},
   "source": [
    "# Regression"
   ]
  },
  {
   "cell_type": "markdown",
   "metadata": {},
   "source": [
    "-----------------"
   ]
  },
  {
   "cell_type": "markdown",
   "metadata": {},
   "source": [
    "## Exercise - Use simple linear regression on the `Auto` data set.\n",
    "\n",
    "1. Use `statsmodels` or `scikit-learn` to perform a simple linear regression with\n",
    "`mpg` as the response and `horsepower` as the predictor. Print the results. Comment on the output.\n",
    "For example:\n",
    "    - Is there a relationship between the predictor and the response?\n",
    "    - How strong is the relationship between the predictor and the response?\n",
    "    - Is the relationship between the predictor and the response positive or negative?\n",
    "    - What is the predicted `mpg` associated with a `horsepower` of 98? *Optional: What are the associated 95% confidence and prediction intervals?*\n",
    "\n",
    "2. Plot the response and the predictor. Plot the least squares regression line.\n",
    "\n",
    "3. Produce [diagnostic plots](http://data.library.virginia.edu/diagnostic-plots/) of the least squares regression fit. Comment on any problems you see with the fit."
   ]
  },
  {
   "cell_type": "code",
   "execution_count": null,
   "metadata": {
    "collapsed": true
   },
   "outputs": [],
   "source": []
  },
  {
   "cell_type": "markdown",
   "metadata": {},
   "source": [
    "1) Use statsmodels or scikit-learn to perform a simple linear regression with mpg as the response and horsepower as the predictor. Print the results. Comment on the output. For example:"
   ]
  },
  {
   "cell_type": "code",
   "execution_count": null,
   "metadata": {
    "collapsed": true
   },
   "outputs": [],
   "source": []
  },
  {
   "cell_type": "markdown",
   "metadata": {},
   "source": [
    "2) Plot the response and the predictor. Plot the least squares regression line."
   ]
  },
  {
   "cell_type": "code",
   "execution_count": null,
   "metadata": {
    "collapsed": true
   },
   "outputs": [],
   "source": []
  },
  {
   "cell_type": "markdown",
   "metadata": {},
   "source": [
    "3) Produce diagnostic plots of the least squares regression fit. Comment on any problems you see with the fit."
   ]
  },
  {
   "cell_type": "code",
   "execution_count": null,
   "metadata": {
    "collapsed": true
   },
   "outputs": [],
   "source": []
  },
  {
   "cell_type": "markdown",
   "metadata": {},
   "source": [
    "## Exercise - Use multiple linear regression on the `Auto` data set.\n",
    "\n",
    "1. Produce a scatterplot matrix which includes all of the variables\n",
    "in the data set.\n",
    "\n",
    "2. Compute the matrix of correlations between the variables using\n",
    "the function corr(). Plot a matrix correlation heatmap as well.\n",
    "\n",
    "3. Perform a multiple linear regression with `mpg` as the response and all other variables except `name` as the predictors. Print the results. Comment on the output. For instance:\n",
    "    - Is there a relationship between the predictors and the response?\n",
    "    - Which predictors appear to have a statistically significant relationship to the response?\n",
    "    - What does the coefficient for the year variable suggest?\n",
    "4. Produce diagnostic plots of the linear\n",
    "regression fit. Comment on any problems you see with the fit.\n",
    "Do the residual plots suggest any unusually large outliers? Does\n",
    "the leverage plot identify any observations with unusually high\n",
    "leverage?\n",
    "\n",
    "5. Use the - and + symbols to fit linear regression models with\n",
    "interaction effects. Do any interactions appear to be statistically\n",
    "significant?\n",
    "\n",
    "6. Try a few different transformations of the variables, such as\n",
    "$log(X)$, $\\sqrt{X}$, $X^2$. Comment on your findings."
   ]
  },
  {
   "cell_type": "code",
   "execution_count": null,
   "metadata": {
    "collapsed": true
   },
   "outputs": [],
   "source": []
  },
  {
   "cell_type": "markdown",
   "metadata": {},
   "source": [
    "1) Produce a scatterplot matrix which includes all of the variables in the data set."
   ]
  },
  {
   "cell_type": "code",
   "execution_count": null,
   "metadata": {
    "collapsed": true
   },
   "outputs": [],
   "source": []
  },
  {
   "cell_type": "markdown",
   "metadata": {},
   "source": [
    "2) Compute the matrix of correlations between the variables using the function corr(). Plot a matrix correlation heatmap as well."
   ]
  },
  {
   "cell_type": "code",
   "execution_count": null,
   "metadata": {
    "collapsed": true
   },
   "outputs": [],
   "source": []
  },
  {
   "cell_type": "markdown",
   "metadata": {},
   "source": [
    "3) Perform a multiple linear regression with mpg as the response and all other variables except name as the predictors. Print the results. Comment on the output."
   ]
  },
  {
   "cell_type": "code",
   "execution_count": null,
   "metadata": {
    "collapsed": true
   },
   "outputs": [],
   "source": []
  },
  {
   "cell_type": "markdown",
   "metadata": {},
   "source": [
    "4) Produce diagnostic plots of the linear regression fit. Comment on any problems you see with the fit. Do the residual plots suggest any unusually large outliers? Does the leverage plot identify any observations with unusually high leverage?"
   ]
  },
  {
   "cell_type": "code",
   "execution_count": null,
   "metadata": {
    "collapsed": true
   },
   "outputs": [],
   "source": []
  },
  {
   "cell_type": "markdown",
   "metadata": {
    "collapsed": true
   },
   "source": [
    "5) Use the - and + symbols to fit linear regression models with interaction effects. Do any interactions appear to be statistically significant?"
   ]
  },
  {
   "cell_type": "code",
   "execution_count": null,
   "metadata": {
    "collapsed": true
   },
   "outputs": [],
   "source": []
  },
  {
   "cell_type": "markdown",
   "metadata": {
    "collapsed": true
   },
   "source": [
    "6) Try a few different transformations of the variables, such as $log(X)$, $\\sqrt{X}$, $X^2$. Comment on your findings."
   ]
  },
  {
   "cell_type": "code",
   "execution_count": null,
   "metadata": {
    "collapsed": true
   },
   "outputs": [],
   "source": []
  },
  {
   "cell_type": "markdown",
   "metadata": {},
   "source": [
    "## Exercise - Use multiple regression using the `Carseats` data set.\n",
    "\n",
    "1. Fit a multiple regression model to predict `Sales` using `Price`,\n",
    "`Urban`, and `US`.\n",
    "\n",
    "2. Provide an interpretation of each coefficient in the model. Be\n",
    "careful—some of the variables in the model are qualitative!\n",
    "\n",
    "3. Write out the model in equation form, being careful to handle\n",
    "the qualitative variables properly.\n",
    "\n",
    "4. For which of the predictors can you reject the null hypothesis\n",
    "H: β = 0?\n",
    "\n",
    "5. On the basis of your response to the previous question, fit a\n",
    "smaller model that only uses the predictors for which there is\n",
    "evidence of association with the outcome.\n",
    "\n",
    "6. How well do the models in (1) and (5) fit the data?\n",
    "\n",
    "7. Using the model from (5), obtain 95% confidence intervals for\n",
    "the coefficient(s).\n",
    "\n",
    "8. Is there evidence of outliers or high leverage observations in the\n",
    "model from (5)?"
   ]
  },
  {
   "cell_type": "code",
   "execution_count": null,
   "metadata": {
    "collapsed": true
   },
   "outputs": [],
   "source": []
  },
  {
   "cell_type": "markdown",
   "metadata": {},
   "source": [
    "1) Fit a multiple regression model to predict Sales using Price, Urban, and US."
   ]
  },
  {
   "cell_type": "code",
   "execution_count": null,
   "metadata": {
    "collapsed": true
   },
   "outputs": [],
   "source": []
  },
  {
   "cell_type": "markdown",
   "metadata": {
    "collapsed": true
   },
   "source": [
    "2) Provide an interpretation of each coefficient in the model. Be careful—some of the variables in the model are qualitative!"
   ]
  },
  {
   "cell_type": "code",
   "execution_count": null,
   "metadata": {
    "collapsed": true
   },
   "outputs": [],
   "source": []
  },
  {
   "cell_type": "markdown",
   "metadata": {
    "collapsed": true
   },
   "source": [
    "3) Write out the model in equation form, being careful to handle the qualitative variables properly."
   ]
  },
  {
   "cell_type": "code",
   "execution_count": null,
   "metadata": {
    "collapsed": true
   },
   "outputs": [],
   "source": []
  },
  {
   "cell_type": "markdown",
   "metadata": {
    "collapsed": true
   },
   "source": [
    "4) For which of the predictors can you reject the null hypothesis H: β = 0?"
   ]
  },
  {
   "cell_type": "code",
   "execution_count": null,
   "metadata": {
    "collapsed": true
   },
   "outputs": [],
   "source": []
  },
  {
   "cell_type": "markdown",
   "metadata": {},
   "source": [
    "5) On the basis of your response to the previous question, fit a smaller model that only uses the predictors for which there is evidence of association with the outcome."
   ]
  },
  {
   "cell_type": "code",
   "execution_count": null,
   "metadata": {
    "collapsed": true
   },
   "outputs": [],
   "source": []
  },
  {
   "cell_type": "markdown",
   "metadata": {
    "collapsed": true
   },
   "source": [
    "6) How well do the models in (1) and (4) fit the data ?"
   ]
  },
  {
   "cell_type": "code",
   "execution_count": null,
   "metadata": {
    "collapsed": true
   },
   "outputs": [],
   "source": []
  },
  {
   "cell_type": "markdown",
   "metadata": {},
   "source": [
    "7) Using the model from (e), obtain 95% confidence intervals for the coefficient(s)."
   ]
  },
  {
   "cell_type": "code",
   "execution_count": null,
   "metadata": {
    "collapsed": true
   },
   "outputs": [],
   "source": []
  },
  {
   "cell_type": "markdown",
   "metadata": {
    "collapsed": true
   },
   "source": [
    "8) Is there evidence of outliers or high leverage observations in the model from (5) ?"
   ]
  },
  {
   "cell_type": "code",
   "execution_count": null,
   "metadata": {
    "collapsed": true
   },
   "outputs": [],
   "source": []
  },
  {
   "cell_type": "markdown",
   "metadata": {},
   "source": [
    "## Exercise - Investigate the t-statistic for the null hypothesis. \n",
    "\n",
    "In this problem we will investigate the t-statistic for the null hypothesis\n",
    "H: β = 0 in simple linear regression without an intercept. To\n",
    "begin, we generate a predictor x and a response y as follows.\n",
    "\n",
    "    import numpy as np\n",
    "    np.random.seed(1)\n",
    "    x = np.random.randn(100)\n",
    "    y = 2 * x + np.random.randn(100)\n",
    "\n",
    "1. Perform a simple linear regression of y onto x, without an intercept.\n",
    "Report the coefficient estimate β, the standard error of\n",
    "this coefficient estimate, and the t-statistic and p-value associated\n",
    "with the null hypothesis H: β = 0. Comment on these\n",
    "results. (You can perform regression without an intercept)\n",
    "\n",
    "2. Now perform a simple linear regression of x onto y without an\n",
    "intercept, and report the coefficient estimate, its standard error,\n",
    "and the corresponding t-statistic and p-values associated with\n",
    "the null hypothesis H: β = 0. Comment on these results.\n",
    "\n",
    "3. What is the relationship between the results obtained in (1) and\n",
    "(2)?\n",
    "\n",
    "4. For the regrssion of Y onto X without an intercept, the t-statistic for H0:β=0 takes the form β^/SE(β^), where β^ is given by (3.38), and where\n",
    "\n",
    "\n",
    "$$SE(\\hat{\\beta}) = \\sqrt{\\frac{\\sum_{i=1}^n(y_i - x_i\\hat{\\beta})^2}{(n - 1)\\sum_{i=1}^nx_i^2}}$$\n",
    "\n",
    "*Confirm numerically in Python, that the t-statistic can be written as*\n",
    "\n",
    "$$\\frac{\\sqrt{n - 1}\\sum_{i=1}^nx_iy_i}{\\sqrt{(\\sum_{i=1}^nx_i^2)(\\sum_{i=1}^ny_i^2) - (\\sum_{i=1}^nx_iy_i)}}$$\n",
    "\n",
    "'5. Using the results from (4), argue that the t-statistic for the regression of y onto x is the same t-statistic for the regression of x onto y.\n",
    "\n",
    "'6. In Python, show that when regression is performed with an intercept, the t-statistic for H0:β1=0 is the same for the regression of y onto x as it is the regression of x onto y."
   ]
  },
  {
   "cell_type": "code",
   "execution_count": 2,
   "metadata": {
    "collapsed": false
   },
   "outputs": [],
   "source": [
    "import numpy as np\n",
    "np.random.seed(1)\n",
    "x = np.random.randn(100)\n",
    "y = 2 * x + np.random.randn(100)"
   ]
  },
  {
   "cell_type": "markdown",
   "metadata": {},
   "source": [
    "1) Perform a simple linear regression of y onto x, without an intercept. Report the coefficient estimate β^, the standard error of this coefficient estimate, and the t-statistic and p-value associated with the null hypothesis H0. Comment on these results."
   ]
  },
  {
   "cell_type": "code",
   "execution_count": null,
   "metadata": {
    "collapsed": true
   },
   "outputs": [],
   "source": []
  },
  {
   "cell_type": "markdown",
   "metadata": {},
   "source": [
    "2) Now perform a simple linear regression of x onto y, without an intercept. Report the coefficient estimate β^, the standard error of this coefficient estimate, and the t-statistic and p-value associated with the null hypothesis H0. Comment on these results."
   ]
  },
  {
   "cell_type": "code",
   "execution_count": null,
   "metadata": {
    "collapsed": true
   },
   "outputs": [],
   "source": []
  },
  {
   "cell_type": "markdown",
   "metadata": {
    "collapsed": true
   },
   "source": [
    "3) What is the relationship between the results obtained in (1) and (2)?"
   ]
  },
  {
   "cell_type": "code",
   "execution_count": null,
   "metadata": {
    "collapsed": true
   },
   "outputs": [],
   "source": []
  },
  {
   "cell_type": "markdown",
   "metadata": {},
   "source": [
    "4) For the regrssion of Y onto X without an intercept, the t-statistic for H0:β=0 takes the form β^/SE(β^), where β^ is given by (3.38), and where\n",
    "\n",
    "$$SE(\\hat{\\beta}) = \\sqrt{\\frac{\\sum_{i=1}^n(y_i - x_i\\hat{\\beta})^2}{(n - 1)\\sum_{i=1}^nx_i^2}}$$\n",
    "\n",
    "Show algebraically, and confirm numerically in Python, that the t-statistic can be written as \n",
    "\n",
    "$$\\frac{\\sqrt{n - 1}\\sum_{i=1}^nx_iy_i}{\\sqrt{(\\sum_{i=1}^nx_i^2)(\\sum_{i=1}^ny_i^2) - (\\sum_{i=1}^nx_iy_i)}}$$"
   ]
  },
  {
   "cell_type": "markdown",
   "metadata": {},
   "source": [
    "We have\n",
    "\n",
    "$$t = \\frac{\\sum_ix_iy_y/\\sum_jx_j^2}{\\sqrt{\\sum_i(y_i - x_i\\hat{\\beta})^2/(n - 1)\\sum_jx_j^2}} = \\frac{\\sqrt{n - 1}\\sum_ix_iy_i}{\\sqrt{\\sum_jx_j^2\\sum_i(y_i - x_i\\sum_jx_jy_j/\\sum_jx_j^2)^2}} = \\frac{\\sqrt{n - 1}\\sum_ix_iy_i}{\\sqrt{(\\sum_jx_j^2)(\\sum_jy_j^2) - (\\sum_jx_jy_j)}}$$"
   ]
  },
  {
   "cell_type": "markdown",
   "metadata": {},
   "source": [
    "Now let’s verify this result numerically."
   ]
  },
  {
   "cell_type": "code",
   "execution_count": null,
   "metadata": {
    "collapsed": true
   },
   "outputs": [],
   "source": []
  },
  {
   "cell_type": "markdown",
   "metadata": {},
   "source": [
    "5) Using the results from (4), argue that the t-statistic for the regression of y onto x is the same t-statistic for the regression of x onto y."
   ]
  },
  {
   "cell_type": "code",
   "execution_count": null,
   "metadata": {
    "collapsed": true
   },
   "outputs": [],
   "source": []
  },
  {
   "cell_type": "markdown",
   "metadata": {},
   "source": [
    "6) In Python, show that when regression is performed with an intercept, the t-statistic for H0:β1=0 is the same for the regression of y onto x as it is the regression of x onto y."
   ]
  },
  {
   "cell_type": "code",
   "execution_count": null,
   "metadata": {
    "collapsed": true
   },
   "outputs": [],
   "source": []
  },
  {
   "cell_type": "markdown",
   "metadata": {},
   "source": [
    "## Exercise - Explore linear regression without an intercept. \n",
    "\n",
    "1. Recall that the coefficient estimate β^ for the linear regression of Y onto X witout an intercept is given by (3.38). Under what circumstance is the coefficient estimate for the regression of X onto Y the same as the coefficient estimate for the regression of Y onto X ?\n",
    "\n",
    "1. Generate an example in Python with n = 100 observations in which\n",
    "the coefficient estimate for the regression of X onto Y is different\n",
    "from the coefficient estimate for the regression of Y onto X.\n",
    "\n",
    "1. Generate an example in Python with n = 100 observations in which\n",
    "the coefficient estimate for the regression of X onto Y is the\n",
    "same as the coefficient estimate for the regression of Y onto X."
   ]
  },
  {
   "cell_type": "markdown",
   "metadata": {},
   "source": [
    "1) Recall that the coefficient estimate β^ for the linear regression of Y onto X witout an intercept is given by (3.38). Under what circumstance is the coefficient estimate for the regression of X onto Y the same as the coefficient estimate for the regression of Y onto X?\n",
    "\n",
    "The coefficient estimate for the regression of Y onto X is\n",
    "\n",
    "$$\\hat{\\beta} = \\frac{\\sum_ix_iy_i}{\\sum_jx_j^2}$$\n",
    "\n",
    "The coefficient estimate for the regression of X onto Y is\n",
    "\n",
    "$$\\hat{\\beta}' = \\frac{\\sum_ix_iy_i}{\\sum_jy_j^2}$$\n",
    "\n",
    "The coefficients are the same iff $\\sum_jx_j^2 = \\sum_jy_j^2$"
   ]
  },
  {
   "cell_type": "markdown",
   "metadata": {},
   "source": [
    "2) Generate an example in Python with n = 100 observations in which the coefficient estimate for the regression of X onto Y is different from the coefficient estimate for the regression of Y onto X."
   ]
  },
  {
   "cell_type": "code",
   "execution_count": null,
   "metadata": {
    "collapsed": true
   },
   "outputs": [],
   "source": []
  },
  {
   "cell_type": "markdown",
   "metadata": {},
   "source": [
    "3) Generate an example in Python with n = 100 observations in which the coefficient estimate for the regression of X onto Y is the same as the coefficient estimate for the regression of Y onto X."
   ]
  },
  {
   "cell_type": "code",
   "execution_count": null,
   "metadata": {
    "collapsed": true
   },
   "outputs": [],
   "source": []
  },
  {
   "cell_type": "markdown",
   "metadata": {},
   "source": [
    "## Exercise - Explore linear regression with simulated data.\n",
    "\n",
    "In this exercise you will create some simulated data and will fit simple\n",
    "linear regression models to it. Make sure to set the seed prior to\n",
    "starting part (1) to ensure consistent results.\n",
    "\n",
    "1. Create a vector, x, containing 100 observations drawn from a N(0, 1) distribution. This represents a feature, X. \n",
    "\n",
    "2. Create a vector, eps, containing 100 observations drawn from a N(0, 0.25) distribution i.e. a normal distribution with mean zero and variance 0.25.\n",
    "\n",
    "3. Using x and eps, generate a vector y according to the model \n",
    "\n",
    "> Y = −1 + 0.5X + e\n",
    "\n",
    "What is the length of the vector `y`? What are the values of β0 and β1 in this linear model?\n",
    "\n",
    "4. Create a scatterplot displaying the relationship between x and\n",
    "y. Comment on what you observe.\n",
    "\n",
    "5. Fit a least squares linear model to predict y using `x`. Comment\n",
    "on the model obtained. How do β0 and β1 compare to β0 and\n",
    "β1?\n",
    "\n",
    "6. Display the least squares line on the scatterplot obtained in (4).\n",
    "Draw the population regression line on the plot, in a different\n",
    "color. Create an appropriate legend.\n",
    "\n",
    "7. Now fit a polynomial regression model that predicts `y` using `x`\n",
    "and `x^2`. Is there evidence that the quadratic term improves the\n",
    "model fit? Explain your answer.\n",
    "\n",
    "8. Repeat (1)–(6) after modifying the data generation process in\n",
    "such a way that there is less noise in the data. The model (3.39)\n",
    "should remain the same. You can do this by decreasing the variance\n",
    "of the normal distribution used to generate the error term\n",
    "`e` in (2). Describe your results.\n",
    "\n",
    "9. Repeat (1)–(6) after modifying the data generation process in\n",
    "such a way that there is more noise in the data. The model\n",
    "(3.39) should remain the same. You can do this by increasing\n",
    "the variance of the normal distribution used to generate the\n",
    "error term \u0003 in (b). Describe your results.\n",
    "\n",
    "10. What are the confidence intervals for β0 and β1 based on the\n",
    "original data set, the noisier data set, and the less noisy data\n",
    "set? Comment on your results."
   ]
  },
  {
   "cell_type": "code",
   "execution_count": null,
   "metadata": {
    "collapsed": true
   },
   "outputs": [],
   "source": []
  },
  {
   "cell_type": "markdown",
   "metadata": {},
   "source": [
    "1) Create a vector, x, containing 100 observations drawn from a N(0, 1) distribution. This represents a feature, X. "
   ]
  },
  {
   "cell_type": "code",
   "execution_count": null,
   "metadata": {
    "collapsed": true
   },
   "outputs": [],
   "source": []
  },
  {
   "cell_type": "markdown",
   "metadata": {},
   "source": [
    "2) Create a vector, eps, containing 100 observations drawn from a N(0, 0.25) distribution i.e. a normal distribution with mean zero and variance 0.25."
   ]
  },
  {
   "cell_type": "code",
   "execution_count": 1,
   "metadata": {
    "collapsed": false
   },
   "outputs": [
    {
     "ename": "NameError",
     "evalue": "name 'np' is not defined",
     "output_type": "error",
     "traceback": [
      "\u001b[0;31m---------------------------------------------------------------------------\u001b[0m",
      "\u001b[0;31mNameError\u001b[0m                                 Traceback (most recent call last)",
      "\u001b[0;32m<ipython-input-1-02ba24355ef1>\u001b[0m in \u001b[0;36m<module>\u001b[0;34m()\u001b[0m\n\u001b[0;32m----> 1\u001b[0;31m \u001b[0ma\u001b[0m \u001b[0;34m=\u001b[0m\u001b[0mnp\u001b[0m\u001b[0;34m.\u001b[0m\u001b[0mones\u001b[0m\u001b[0;34m(\u001b[0m\u001b[0;36m12\u001b[0m\u001b[0;34m)\u001b[0m\u001b[0;34m\u001b[0m\u001b[0m\n\u001b[0m",
      "\u001b[0;31mNameError\u001b[0m: name 'np' is not defined"
     ]
    }
   ],
   "source": [
    "\n",
    "a =np.ones(12)"
   ]
  },
  {
   "cell_type": "markdown",
   "metadata": {},
   "source": [
    "3) Using x and eps, generate a vector y according to the model\n",
    "\n",
    "    Y = −1 + 0.5X + \u0003. (3.39)\n",
    "\n",
    "What is the length of the vector y? What are the values of β0 and β1 in this linear model?"
   ]
  },
  {
   "cell_type": "code",
   "execution_count": null,
   "metadata": {
    "collapsed": true
   },
   "outputs": [],
   "source": []
  },
  {
   "cell_type": "markdown",
   "metadata": {},
   "source": [
    "4) Create a scatterplot displaying the relationship between x and y. Comment on what you observe."
   ]
  },
  {
   "cell_type": "code",
   "execution_count": null,
   "metadata": {
    "collapsed": true
   },
   "outputs": [],
   "source": []
  },
  {
   "cell_type": "markdown",
   "metadata": {},
   "source": [
    "5) Fit a least squares linear model to predict `y` using `x`. Comment on the model obtained. How do β^0 and β^1 compare to β0 and β1?"
   ]
  },
  {
   "cell_type": "code",
   "execution_count": null,
   "metadata": {
    "collapsed": true
   },
   "outputs": [],
   "source": []
  },
  {
   "cell_type": "markdown",
   "metadata": {},
   "source": [
    "6) Display the least squares line on the scatterplot obtained in (4). Draw the population regression line on the plot, in a different color. Use the legend() function to create an appropriate legend."
   ]
  },
  {
   "cell_type": "code",
   "execution_count": null,
   "metadata": {
    "collapsed": true
   },
   "outputs": [],
   "source": []
  },
  {
   "cell_type": "markdown",
   "metadata": {},
   "source": [
    "7) Now fit a polynomial regression model that predicts y using x and $x^2$. Is there evidence that the quadratic term improves the model fit ? Explain your answer."
   ]
  },
  {
   "cell_type": "code",
   "execution_count": null,
   "metadata": {
    "collapsed": true
   },
   "outputs": [],
   "source": []
  },
  {
   "cell_type": "markdown",
   "metadata": {},
   "source": [
    "8) Repeat (1)-(6) after modifying the data generation process in such a way that there is less noise in the data. The initial model should remain the same. Describe your results."
   ]
  },
  {
   "cell_type": "code",
   "execution_count": null,
   "metadata": {
    "collapsed": true
   },
   "outputs": [],
   "source": []
  },
  {
   "cell_type": "markdown",
   "metadata": {},
   "source": [
    "9) Repeat (1)-(6) after modifying the data generation process in such a way that there is more noise in the data. The initial model should remain the same. Describe your results."
   ]
  },
  {
   "cell_type": "code",
   "execution_count": null,
   "metadata": {
    "collapsed": true
   },
   "outputs": [],
   "source": []
  },
  {
   "cell_type": "markdown",
   "metadata": {},
   "source": [
    "10) What are the confidence intervals for β0 and β1 based on the original data set, the noisier data set, and the less noisy data set ? Comment on your results."
   ]
  },
  {
   "cell_type": "code",
   "execution_count": null,
   "metadata": {
    "collapsed": true
   },
   "outputs": [],
   "source": []
  },
  {
   "cell_type": "markdown",
   "metadata": {},
   "source": [
    "## Exercise - Explore the problem of collinearity.\n",
    "\n",
    "Perform the following commands:\n",
    "\n",
    "> np.random.seed(8)\n",
    "\n",
    "> x1 = np.random.rand(100)\n",
    "\n",
    "> x2 = .5 * x1 + np.random.rand(100) / 10\n",
    "\n",
    "> y = 2 + 2 * x1 + .3 * x2 + np.random.randn(100)\n",
    "\n",
    "1. The last line corresponds to creating a linear model in which y is\n",
    "a function of x1 and x2. Write out the form of the linear model.\n",
    "What are the regression coefficients?\n",
    "\n",
    "2. What is the correlation between x1 and x2? Create a scatterplot\n",
    "displaying the relationship between the variables.\n",
    "\n",
    "3. Using this data, fit a least squares regression to predict y using\n",
    "x1 and x2. Describe the results obtained. What are β0, β1, and β2? How do these relate to the true β0, β1, and β2? Can you reject the null hypothesis Ho:β1 = 0? How about the null\n",
    "hypothesis Ho:β2 = 0?\n",
    "\n",
    "4. Now fit a least squares regression to predict y using only x1.\n",
    "Comment on your results. Can you reject the null hypothesis\n",
    "Ho: β1 = 0?\n",
    "\n",
    "5. Now fit a least squares regression to predict y using only x2.\n",
    "Comment on your results. Can you reject the null hypothesis\n",
    "Ho: β1 = 0?\n",
    "\n",
    "6. Do the results obtained in (3)–(5) contradict each other? Explain\n",
    "your answer.\n",
    "\n",
    "7. Now suppose we obtain one additional observation, which was unfortunately mismeasured.\n",
    "\n",
    "> x1=c(x1 , 0.1)\n",
    "\n",
    "> x2=c(x2 , 0.8)\n",
    "\n",
    "> y=c(y,6)\n",
    "\n",
    "Re-fit the linear models from (3) to (5) using this new data. What\n",
    "effect does this new observation have on the each of the models?\n",
    "In each model, is this observation an outlier? A high-leverage\n",
    "point? Both? Explain your answers."
   ]
  },
  {
   "cell_type": "code",
   "execution_count": null,
   "metadata": {
    "collapsed": true
   },
   "outputs": [],
   "source": []
  },
  {
   "cell_type": "markdown",
   "metadata": {},
   "source": [
    "1) The last line corresponds to creating a linear model in which y is a function of x1 and x2. Write out the form of the linear model. What are the regression coefficients?"
   ]
  },
  {
   "cell_type": "code",
   "execution_count": null,
   "metadata": {
    "collapsed": true
   },
   "outputs": [],
   "source": []
  },
  {
   "cell_type": "markdown",
   "metadata": {},
   "source": [
    "2) What is the correlation between x1 and x2? Create a scatterplot displaying the relationship between the variables."
   ]
  },
  {
   "cell_type": "code",
   "execution_count": null,
   "metadata": {
    "collapsed": true
   },
   "outputs": [],
   "source": []
  },
  {
   "cell_type": "markdown",
   "metadata": {},
   "source": [
    "3) Using this data, fit a least squares regression to predict y using x1 and x2. Describe the results obtained. What are β0, β1, and β2? How do these relate to the true β0, β1, and β2? Can you reject the null hypothesis Ho:β1 = 0? How about the null hypothesis Ho:β2 = 0?"
   ]
  },
  {
   "cell_type": "code",
   "execution_count": null,
   "metadata": {
    "collapsed": true
   },
   "outputs": [],
   "source": []
  },
  {
   "cell_type": "markdown",
   "metadata": {
    "collapsed": true
   },
   "source": [
    "4) Now fit a least squares regression to predict `y` using only `x1`. Comment on your results. Can you reject the null hypothesis H0:β1=0 ?"
   ]
  },
  {
   "cell_type": "code",
   "execution_count": null,
   "metadata": {
    "collapsed": true
   },
   "outputs": [],
   "source": []
  },
  {
   "cell_type": "markdown",
   "metadata": {
    "collapsed": true
   },
   "source": [
    "5) Now fit a least squares regression to predict y using only x2. Comment on your results. Can you reject the null hypothesis Ho: β1 = 0?"
   ]
  },
  {
   "cell_type": "code",
   "execution_count": null,
   "metadata": {
    "collapsed": true
   },
   "outputs": [],
   "source": []
  },
  {
   "cell_type": "markdown",
   "metadata": {
    "collapsed": true
   },
   "source": [
    "6) Do the results obtained in (3)–(5) contradict each other? Explain your answer."
   ]
  },
  {
   "cell_type": "code",
   "execution_count": null,
   "metadata": {
    "collapsed": true
   },
   "outputs": [],
   "source": []
  },
  {
   "cell_type": "markdown",
   "metadata": {},
   "source": [
    "## Exercise - Predict per capita crime rate. \n",
    "\n",
    "This problem involves the `Boston` data set. We will now try to predict per capita crime rate\n",
    "using the other variables in this data set. In other words, per capita\n",
    "crime rate is the response, and the other variables are the predictors.\n",
    "\n",
    "1. For each predictor, fit a simple linear regression model to predict\n",
    "the response. Describe your results. In which of the models is\n",
    "there a statistically significant association between the predictor\n",
    "and the response? Create some plots to back up your assertions.\n",
    "\n",
    "2. Fit a multiple regression model to predict the response using\n",
    "all of the predictors. Describe your results. For which predictors\n",
    "can we reject the null hypothesis H: β = 0?\n",
    "\n",
    "2. How do your results from (1) compare to your results from (2)?\n",
    "Create a plot displaying the univariate regression coefficients\n",
    "from (1) on the x-axis, and the multiple regression coefficients\n",
    "from (2) on the y-axis. That is, each predictor is displayed as a\n",
    "single point in the plot. Its coefficient in a simple linear regression\n",
    "model is shown on the x-axis, and its coefficient estimate\n",
    "in the multiple linear regression model is shown on the y-axis.\n",
    "\n",
    "3. Is there evidence of non-linear association between any of the\n",
    "predictors and the response? To answer this question, for each\n",
    "predictor X, fit a model of the form\n",
    "Y = β0 + β1X + β2X^2 + β3X^3 + E."
   ]
  },
  {
   "cell_type": "code",
   "execution_count": null,
   "metadata": {
    "collapsed": true
   },
   "outputs": [],
   "source": []
  },
  {
   "cell_type": "markdown",
   "metadata": {},
   "source": [
    "1) For each predictor, fit a simple linear regression model to predict the response. Describe your results. In which of the models is there a statistically significant association between the predictor and the response? Create some plots to back up your assertions."
   ]
  },
  {
   "cell_type": "code",
   "execution_count": null,
   "metadata": {
    "collapsed": true
   },
   "outputs": [],
   "source": []
  },
  {
   "cell_type": "markdown",
   "metadata": {},
   "source": [
    "2) Fit a multiple regression model to predict the response using all of the predictors. Describe your results. For which predictors can we reject the null hypothesis H: β = 0?"
   ]
  },
  {
   "cell_type": "code",
   "execution_count": null,
   "metadata": {
    "collapsed": true
   },
   "outputs": [],
   "source": []
  },
  {
   "cell_type": "markdown",
   "metadata": {},
   "source": [
    "3) How do your results from (1) compare to your results from (2)? Create a plot displaying the univariate regression coefficients from (1) on the x-axis, and the multiple regression coefficients from (2) on the y-axis. That is, each predictor is displayed as a single point in the plot. Its coefficient in a simple linear regression model is shown on the x-axis, and its coefficient estimate in the multiple linear regression model is shown on the y-axis."
   ]
  },
  {
   "cell_type": "code",
   "execution_count": null,
   "metadata": {
    "collapsed": true
   },
   "outputs": [],
   "source": []
  },
  {
   "cell_type": "markdown",
   "metadata": {},
   "source": [
    "3) Is there evidence of non-linear association between any of the predictors and the response? To answer this question, for each predictor X, fit a model of the form $Y = β0 + β1X + β2X^2 + β3X^3 + E$."
   ]
  },
  {
   "cell_type": "code",
   "execution_count": null,
   "metadata": {
    "collapsed": true
   },
   "outputs": [],
   "source": []
  }
 ],
 "metadata": {
  "anaconda-cloud": {},
  "kernelspec": {
   "display_name": "Python [default]",
   "language": "python",
   "name": "python3"
  },
  "language_info": {
   "codemirror_mode": {
    "name": "ipython",
    "version": 3
   },
   "file_extension": ".py",
   "mimetype": "text/x-python",
   "name": "python",
   "nbconvert_exporter": "python",
   "pygments_lexer": "ipython3",
   "version": "3.5.2"
  }
 },
 "nbformat": 4,
 "nbformat_minor": 1
}
